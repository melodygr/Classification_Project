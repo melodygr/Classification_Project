{
 "cells": [
  {
   "cell_type": "markdown",
   "metadata": {},
   "source": [
    "# Classification Project - A study of Terry Stops in Seattle, WA"
   ]
  },
  {
   "cell_type": "markdown",
   "metadata": {
    "heading_collapsed": true
   },
   "source": [
    "## Facts of the case of Terry vs Ohio"
   ]
  },
  {
   "cell_type": "markdown",
   "metadata": {
    "hidden": true
   },
   "source": [
    ">The Fourth Amendment of the U.S. Constitution provides that \n",
    ">>[t]he right of the people to be secure in their persons, houses, papers, and effects, against unreasonable searches and seizures, shall not be violated, and no Warrants shall issue, but upon probable cause, supported by Oath or affirmation, and particularly describing the place to be searched, and the persons or things to be seized.\n",
    ">  \n",
    ">The ultimate goal of this provision is to protect people’s right to privacy and freedom from unreasonable intrusions by the government. However, the Fourth Amendment does not guarantee protection from all searches and seizures, but only those done by the government and deemed unreasonable under the law.\n",
    "\n",
    "[law.cornell.edu](https://www.law.cornell.edu/wex/fourth_amendment \"Cornell Law)  \n",
    "\n",
    "***\n",
    "\n",
    ">In the case of Terry vs Ohio, decided on June 10, 1968, by the United States Supreme Court, Terry and two other men were observed by a plain clothes policeman in what the officer believed to be \"casing a job, a stick-up.\" The officer stopped and frisked the three men, and found weapons on two of them. Terry was convicted of carrying a concealed weapon and sentenced to three years in jail.\n",
    ">  \n",
    ">In an 8-to-1 decision, the Court held that the search undertaken by the officer was reasonable under the Fourth Amendment and that the weapons seized could be introduced into evidence against Terry. Attempting to focus narrowly on the facts of this particular case, the Court found that the officer acted on more than a \"hunch\" and that \"a reasonably prudent man would have been warranted in believing [Terry] was armed and thus presented a threat to the officer's safety while he was investigating his suspicious behavior.\" The Court found that the searches undertaken were limited in scope and designed to protect the officer's safety incident to the investigation.\n",
    "\n",
    "[Oyez.org](https://www.oyez.org/cases/1967/67 \"Oyez.org\")  \n",
    "\n",
    "***\n",
    "\n",
    ">A Terry stop in the United States allows the police to briefly detain a person based on reasonable suspicion of involvement in criminal activity. Reasonable suspicion is a lower standard than probable cause which is needed for arrest. When police stop and search a pedestrian, this is commonly known as a stop and frisk. When police stop an automobile, this is known as a traffic stop. If the police stop a motor vehicle on minor infringements in order to investigate other suspected criminal activity, this is known as a pretextual stop.\n",
    "  \n",
    "[Wikipedia](https://en.wikipedia.org/wiki/Terry_stop#:~:text=A%20Terry%20stop%20in%20the,as%20a%20stop%20and%20frisk \"Wikipedia Terry Stop\")  \n",
    "\n",
    "***\n",
    ">A terry stop is another name for stop and frisk; the name was generated from the U.S Supreme Court case Terry v. Ohio. When a police officer has a reasonable suspicion that an individual is armed, engaged, or about to be engaged, in criminal conduct, the officer may briefly stop and detain an individual for a pat-down search of outer clothing. A Terry stop is a seizure within the meaning of Fourth Amendment.\n",
    ">  \n",
    ">In a traffic stop setting, the Terry condition of a lawful investigatory stop is met whenever it is lawful for the police to detain an automobile and its occupants pending inquiry into a vehicular violation. The police do not need to believe that any occupant of the vehicle is involved in criminal activity.\n",
    ">  \n",
    ">In a recent case, Floyd v. City of New York 813 F. Supp.2d 417 (2011), the court held the New York stop-and-frisk policy violated the Fourth Amendment because it rendered stop and frisks more frequent for blacks and Hispanics.\n",
    "\n",
    "[Legal Information Institute](https://www.law.cornell.edu/wex/terry_stop/stop_and_frisk \"Legal Information Institute\")  \n",
    "\n",
    "***\n",
    "\n"
   ]
  },
  {
   "cell_type": "markdown",
   "metadata": {
    "heading_collapsed": true
   },
   "source": [
    "## Dataset information"
   ]
  },
  {
   "cell_type": "markdown",
   "metadata": {
    "hidden": true
   },
   "source": [
    "This data represents records of police reported stops under Terry v. Ohio, 392 U.S. 1 (1968). The dataset was created on 04/12/2017 and first published on 05/22/2018 and is provided by the city of Seattle, WA.\n",
    "\n",
    "Each row represents a unique stop. Each record contains perceived demographics of the subject, as reported by the officer making the stop and officer demographics as reported to the Seattle Police Department, for employment purposes.\n",
    "\n",
    "Where available, data elements from the associated Computer Aided Dispatch (CAD) event (e.g. Call Type, Initial Call Type, Final Call Type) are included.\n",
    "\n",
    "There are 45,317 rows and 23 variables:\n",
    "\n",
    "- **_Subject Age Group_**: 10 year increments, as reported by the officer\n",
    "- **_Subject ID_**: Key, generated daily, identifying unique subjects in the dataset using a character to character match of first name and last name. \"Null\" values indicate an \"anonymous\" or \"unidentified\" subject.  Subjects of a Terry Stop are not required to present identification.\n",
    "- **_GO / SC Num_**: General Offense or Street Check number, relating the Terry Stop to the parent report.  This field may have a one to many relationship in the data.\n",
    "- **_Terry Stop ID_**: Key identifying unique Terry Stop reports\n",
    "- **_Stop Resolution_**: Resolution of the stop as reported by the officer\n",
    "- **_Weapon Type_**: Type of weapon, if any, identified during a search or frisk of the subject.  Indicates \"none\" if no weapons were found.\n",
    "- **_Officer ID_**: Key identifying unique officers in the dataset\n",
    "- **_Officer YOB_**: Year of birth, as reported by the officer\n",
    "- **_Officer Gender_**: Gender of the officer, as reported by the officer\n",
    "- **_Officer Race_**: Race of the officer, as reported by the officer\n",
    "- **_Subject Perceived Race_**: Perceived race of the subject, as reported by the officer\n",
    "- **_Subject Perceived Gender_**: Perceived gender of the subject, as perceived by the officer\n",
    "- **_Reported Date_**: Date the report was filed in the Records Management System (RMS). Not necessarily the date the stop occurred but generally within 1 day.\n",
    "- **_Reported Time_**: Time the stop was reported in the Records Management System (RMS). Not the time the stop occurred but generally within 10 hours.\n",
    "- **_Initial Call Type_**: Initial classification of the call as assigned by 911.\n",
    "- **_Final Call Type_**: Final classification of the call as assigned by the primary officer closing the event.\n",
    "- **_Call Type_**: How the call was received by the communication center\n",
    "- **_Officer Squad_**: Functional squad assignment (not budget) of the officer as reported by the Data Analytics Platform (DAP).\n",
    "- **_Arrest Flag_**: Indicator of whether a \"physical arrest\" was made, of the subject, during the Terry Stop.  Does not necessarily reflect a report of an arrest in the Records Management System(RMS).\n",
    "- **_Frisk Flag_**: Indicator of whether a \"frisk\" was conducted, by the officer, of the subject, during the Terry Stop.\n",
    "- **_Precinct_**: Precinct of the address associated with the underlying Computer Aided Dispatch (CAD) event. Not necessarily where the Terry Stop occurred.\n",
    "- **_Sector_**: Sector of the address associated with the underlying Computer Aided Dispatch (CAD) event. Not necessarily where the Terry Stop occurred.\n",
    "- **_Beat_**: Beat of the address associated with the underlying Computer Aided Dispatch (CAD) event. Not necessarily where the Terry Stop occurred.\n",
    "\n",
    "Some ideas for exploration:\n",
    "\n",
    "1. How does the probability of arrest vary by categories of different demographic variables?\n",
    "2. Which variables are the strongest predictors of arrest for this dataset?\n",
    "3. NOTE - these models cannot be used to predict arrest outside of the actual data recorded, as the model would build in and perpetuate any inherent bias of the officers"
   ]
  },
  {
   "cell_type": "markdown",
   "metadata": {},
   "source": [
    "## Data cleaning and EDA"
   ]
  },
  {
   "cell_type": "markdown",
   "metadata": {
    "heading_collapsed": true
   },
   "source": [
    "### Import and basic info\n",
    "\n",
    "**Output** - terry"
   ]
  },
  {
   "cell_type": "code",
   "execution_count": 1,
   "metadata": {
    "hidden": true
   },
   "outputs": [],
   "source": [
    "import pandas as pd\n",
    "import numpy as np\n",
    "import matplotlib.pyplot as plt\n",
    "import seaborn as sns\n",
    "import time\n",
    "from datetime import datetime\n",
    "from sklearn.neighbors import KNeighborsClassifier\n",
    "from sklearn.linear_model import LinearRegression, Ridge, Lasso, LassoCV, LassoLarsCV, LassoLarsIC, LogisticRegression\n",
    "from sklearn.metrics import r2_score, mean_squared_error, mean_squared_log_error, plot_confusion_matrix, confusion_matrix, precision_score, recall_score, accuracy_score, f1_score, classification_report, roc_curve, auc, roc_auc_score\n",
    "from sklearn.model_selection import train_test_split, cross_val_score, KFold, GridSearchCV\n",
    "from statsmodels.stats.outliers_influence import variance_inflation_factor\n",
    "from sklearn.preprocessing import PolynomialFeatures, MinMaxScaler, OneHotEncoder, StandardScaler, scale\n",
    "from sklearn import metrics\n",
    "from sklearn.feature_selection import VarianceThreshold, f_regression, mutual_info_regression, SelectKBest, RFE, RFECV\n",
    "from imblearn.over_sampling import SMOTE, ADASYN\n",
    "from sklearn.neighbors import KNeighborsClassifier\n",
    "from collections import defaultdict\n",
    "from sklearn.naive_bayes import GaussianNB, ComplementNB, MultinomialNB, BernoulliNB, CategoricalNB\n",
    "from sklearn import tree\n",
    "from sklearn.tree import DecisionTreeClassifier\n",
    "from sklearn.ensemble import BaggingClassifier, RandomForestClassifier, AdaBoostClassifier, GradientBoostingClassifier\n",
    "from xgboost import XGBClassifier\n"
   ]
  },
  {
   "cell_type": "code",
   "execution_count": 2,
   "metadata": {
    "hidden": true
   },
   "outputs": [],
   "source": [
    "CB91_Blue = '#2CBDFE'\n",
    "CB91_Green = '#47DBCD'\n",
    "CB91_Pink = '#F3A0F2'\n",
    "CB91_Purple = '#9D2EC5'\n",
    "CB91_Violet = '#661D98'\n",
    "CB91_Amber = '#F5B14C'\n",
    "color_list = [CB91_Blue, CB91_Pink, CB91_Green, CB91_Amber, CB91_Purple, CB91_Violet]\n",
    "plt.rcParams['axes.prop_cycle'] = plt.cycler(color=color_list)\n",
    "sns.set_context(\"notebook\", rc={\"font.size\":16, \"axes.titlesize\":20, \"axes.labelsize\":18})\n",
    "sns.set(font='Franklin Gothic Book',\n",
    "rc={'axes.axisbelow': False,\n",
    "'axes.edgecolor': 'lightgrey',\n",
    "'axes.facecolor': 'None',\n",
    "'axes.grid': False,\n",
    "'axes.labelcolor': 'dimgrey',\n",
    "'axes.spines.right': False,\n",
    "'axes.spines.top': False,\n",
    "'axes.prop_cycle': plt.cycler(color=color_list),\n",
    "'figure.facecolor': 'white',\n",
    "'lines.solid_capstyle': 'round',\n",
    "'patch.edgecolor': 'w',\n",
    "'patch.force_edgecolor': True,\n",
    "'text.color': 'dimgrey',\n",
    "'xtick.bottom': False,\n",
    "'xtick.color': 'dimgrey',\n",
    "'xtick.direction': 'out',\n",
    "'xtick.top': False,\n",
    "'ytick.color': 'dimgrey',\n",
    "'ytick.direction': 'out',\n",
    "'ytick.left': False,\n",
    "'ytick.right': False})\n",
    "%matplotlib inline"
   ]
  },
  {
   "cell_type": "code",
   "execution_count": 3,
   "metadata": {
    "hidden": true,
    "scrolled": true
   },
   "outputs": [
    {
     "name": "stdout",
     "output_type": "stream",
     "text": [
      "<class 'pandas.core.frame.DataFrame'>\n",
      "RangeIndex: 45317 entries, 0 to 45316\n",
      "Data columns (total 23 columns):\n",
      " #   Column                    Non-Null Count  Dtype \n",
      "---  ------                    --------------  ----- \n",
      " 0   Subject Age Group         45317 non-null  object\n",
      " 1   Subject ID                45317 non-null  int64 \n",
      " 2   GO / SC Num               45317 non-null  int64 \n",
      " 3   Terry Stop ID             45317 non-null  int64 \n",
      " 4   Stop Resolution           45317 non-null  object\n",
      " 5   Weapon Type               45317 non-null  object\n",
      " 6   Officer ID                45317 non-null  object\n",
      " 7   Officer YOB               45317 non-null  int64 \n",
      " 8   Officer Gender            45317 non-null  object\n",
      " 9   Officer Race              45317 non-null  object\n",
      " 10  Subject Perceived Race    45317 non-null  object\n",
      " 11  Subject Perceived Gender  45317 non-null  object\n",
      " 12  Reported Date             45317 non-null  object\n",
      " 13  Reported Time             45317 non-null  object\n",
      " 14  Initial Call Type         45317 non-null  object\n",
      " 15  Final Call Type           45317 non-null  object\n",
      " 16  Call Type                 45317 non-null  object\n",
      " 17  Officer Squad             44714 non-null  object\n",
      " 18  Arrest Flag               45317 non-null  object\n",
      " 19  Frisk Flag                45317 non-null  object\n",
      " 20  Precinct                  45317 non-null  object\n",
      " 21  Sector                    45317 non-null  object\n",
      " 22  Beat                      45317 non-null  object\n",
      "dtypes: int64(4), object(19)\n",
      "memory usage: 8.0+ MB\n"
     ]
    }
   ],
   "source": [
    "# No null entries, 45317 records\n",
    "terry = pd.read_csv('Terry_Stops.csv')\n",
    "terry.info()"
   ]
  },
  {
   "cell_type": "code",
   "execution_count": 4,
   "metadata": {
    "hidden": true
   },
   "outputs": [
    {
     "data": {
      "text/html": [
       "<div>\n",
       "<style scoped>\n",
       "    .dataframe tbody tr th:only-of-type {\n",
       "        vertical-align: middle;\n",
       "    }\n",
       "\n",
       "    .dataframe tbody tr th {\n",
       "        vertical-align: top;\n",
       "    }\n",
       "\n",
       "    .dataframe thead th {\n",
       "        text-align: right;\n",
       "    }\n",
       "</style>\n",
       "<table border=\"1\" class=\"dataframe\">\n",
       "  <thead>\n",
       "    <tr style=\"text-align: right;\">\n",
       "      <th></th>\n",
       "      <th>Subject Age Group</th>\n",
       "      <th>Subject ID</th>\n",
       "      <th>GO / SC Num</th>\n",
       "      <th>Terry Stop ID</th>\n",
       "      <th>Stop Resolution</th>\n",
       "      <th>Weapon Type</th>\n",
       "      <th>Officer ID</th>\n",
       "      <th>Officer YOB</th>\n",
       "      <th>Officer Gender</th>\n",
       "      <th>Officer Race</th>\n",
       "      <th>...</th>\n",
       "      <th>Reported Time</th>\n",
       "      <th>Initial Call Type</th>\n",
       "      <th>Final Call Type</th>\n",
       "      <th>Call Type</th>\n",
       "      <th>Officer Squad</th>\n",
       "      <th>Arrest Flag</th>\n",
       "      <th>Frisk Flag</th>\n",
       "      <th>Precinct</th>\n",
       "      <th>Sector</th>\n",
       "      <th>Beat</th>\n",
       "    </tr>\n",
       "  </thead>\n",
       "  <tbody>\n",
       "    <tr>\n",
       "      <th>45307</th>\n",
       "      <td>56 and Above</td>\n",
       "      <td>16366865981</td>\n",
       "      <td>20200000304239</td>\n",
       "      <td>16366787296</td>\n",
       "      <td>Field Contact</td>\n",
       "      <td>-</td>\n",
       "      <td>8758</td>\n",
       "      <td>1995</td>\n",
       "      <td>M</td>\n",
       "      <td>White</td>\n",
       "      <td>...</td>\n",
       "      <td>23:56:42</td>\n",
       "      <td>SUSPICIOUS STOP - OFFICER INITIATED ONVIEW</td>\n",
       "      <td>--PROWLER - TRESPASS</td>\n",
       "      <td>ONVIEW</td>\n",
       "      <td>TRAINING - FIELD TRAINING SQUAD</td>\n",
       "      <td>N</td>\n",
       "      <td>N</td>\n",
       "      <td>West</td>\n",
       "      <td>Q</td>\n",
       "      <td>Q3</td>\n",
       "    </tr>\n",
       "    <tr>\n",
       "      <th>45308</th>\n",
       "      <td>56 and Above</td>\n",
       "      <td>16689873637</td>\n",
       "      <td>20200000306763</td>\n",
       "      <td>16688826004</td>\n",
       "      <td>Field Contact</td>\n",
       "      <td>-</td>\n",
       "      <td>8308</td>\n",
       "      <td>1987</td>\n",
       "      <td>M</td>\n",
       "      <td>Hispanic or Latino</td>\n",
       "      <td>...</td>\n",
       "      <td>20:19:52</td>\n",
       "      <td>SUSPICIOUS PERSON, VEHICLE OR INCIDENT</td>\n",
       "      <td>--SUSPICIOUS CIRCUM. - SUSPICIOUS PERSON</td>\n",
       "      <td>911</td>\n",
       "      <td>WEST PCT 3RD W - QUEEN</td>\n",
       "      <td>N</td>\n",
       "      <td>N</td>\n",
       "      <td>West</td>\n",
       "      <td>Q</td>\n",
       "      <td>Q1</td>\n",
       "    </tr>\n",
       "    <tr>\n",
       "      <th>45309</th>\n",
       "      <td>56 and Above</td>\n",
       "      <td>16700206747</td>\n",
       "      <td>20200000329461</td>\n",
       "      <td>18068162403</td>\n",
       "      <td>Field Contact</td>\n",
       "      <td>-</td>\n",
       "      <td>8704</td>\n",
       "      <td>1988</td>\n",
       "      <td>M</td>\n",
       "      <td>White</td>\n",
       "      <td>...</td>\n",
       "      <td>23:59:23</td>\n",
       "      <td>DIST - IP/JO - DV DIST - NO ASLT</td>\n",
       "      <td>--DISTURBANCE - OTHER</td>\n",
       "      <td>911</td>\n",
       "      <td>NORTH PCT 3RD W - UNION</td>\n",
       "      <td>N</td>\n",
       "      <td>Y</td>\n",
       "      <td>North</td>\n",
       "      <td>U</td>\n",
       "      <td>U3</td>\n",
       "    </tr>\n",
       "    <tr>\n",
       "      <th>45310</th>\n",
       "      <td>56 and Above</td>\n",
       "      <td>16834950496</td>\n",
       "      <td>20200000307517</td>\n",
       "      <td>16833080841</td>\n",
       "      <td>Field Contact</td>\n",
       "      <td>-</td>\n",
       "      <td>7723</td>\n",
       "      <td>1987</td>\n",
       "      <td>M</td>\n",
       "      <td>White</td>\n",
       "      <td>...</td>\n",
       "      <td>17:07:59</td>\n",
       "      <td>DUI - DRIVING UNDER INFLUENCE</td>\n",
       "      <td>--SUSPICIOUS CIRCUM. - SUSPICIOUS VEHICLE</td>\n",
       "      <td>911</td>\n",
       "      <td>EAST PCT 2ND W - EDWARD</td>\n",
       "      <td>N</td>\n",
       "      <td>N</td>\n",
       "      <td>East</td>\n",
       "      <td>E</td>\n",
       "      <td>E3</td>\n",
       "    </tr>\n",
       "    <tr>\n",
       "      <th>45311</th>\n",
       "      <td>56 and Above</td>\n",
       "      <td>17560315357</td>\n",
       "      <td>20200000316857</td>\n",
       "      <td>17560309580</td>\n",
       "      <td>Field Contact</td>\n",
       "      <td>-</td>\n",
       "      <td>8646</td>\n",
       "      <td>1996</td>\n",
       "      <td>M</td>\n",
       "      <td>White</td>\n",
       "      <td>...</td>\n",
       "      <td>02:22:45</td>\n",
       "      <td>SUSPICIOUS STOP - OFFICER INITIATED ONVIEW</td>\n",
       "      <td>--SUSPICIOUS CIRCUM. - SUSPICIOUS PERSON</td>\n",
       "      <td>ONVIEW</td>\n",
       "      <td>WEST PCT 3RD W - D/M RELIEF</td>\n",
       "      <td>N</td>\n",
       "      <td>N</td>\n",
       "      <td>West</td>\n",
       "      <td>M</td>\n",
       "      <td>M1</td>\n",
       "    </tr>\n",
       "    <tr>\n",
       "      <th>45312</th>\n",
       "      <td>56 and Above</td>\n",
       "      <td>17705067875</td>\n",
       "      <td>20200000321463</td>\n",
       "      <td>17722624502</td>\n",
       "      <td>Arrest</td>\n",
       "      <td>-</td>\n",
       "      <td>8486</td>\n",
       "      <td>1992</td>\n",
       "      <td>M</td>\n",
       "      <td>Asian</td>\n",
       "      <td>...</td>\n",
       "      <td>18:52:12</td>\n",
       "      <td>ASLT - IP/JO - DV</td>\n",
       "      <td>--DV - DOMESTIC VIOL/ASLT (ARREST MANDATORY)</td>\n",
       "      <td>911</td>\n",
       "      <td>SOUTHWEST PCT 2ND W - FRANK</td>\n",
       "      <td>Y</td>\n",
       "      <td>N</td>\n",
       "      <td>SouthWest</td>\n",
       "      <td>F</td>\n",
       "      <td>F3</td>\n",
       "    </tr>\n",
       "    <tr>\n",
       "      <th>45313</th>\n",
       "      <td>56 and Above</td>\n",
       "      <td>18018113199</td>\n",
       "      <td>20200000327585</td>\n",
       "      <td>18018069307</td>\n",
       "      <td>Field Contact</td>\n",
       "      <td>-</td>\n",
       "      <td>8668</td>\n",
       "      <td>1990</td>\n",
       "      <td>F</td>\n",
       "      <td>White</td>\n",
       "      <td>...</td>\n",
       "      <td>16:38:00</td>\n",
       "      <td>TRESPASS</td>\n",
       "      <td>--PROWLER - TRESPASS</td>\n",
       "      <td>TELEPHONE OTHER, NOT 911</td>\n",
       "      <td>SOUTH PCT 2ND W - ROBERT</td>\n",
       "      <td>N</td>\n",
       "      <td>N</td>\n",
       "      <td>South</td>\n",
       "      <td>R</td>\n",
       "      <td>R3</td>\n",
       "    </tr>\n",
       "    <tr>\n",
       "      <th>45314</th>\n",
       "      <td>56 and Above</td>\n",
       "      <td>18036883066</td>\n",
       "      <td>20200000328353</td>\n",
       "      <td>18036796582</td>\n",
       "      <td>Field Contact</td>\n",
       "      <td>-</td>\n",
       "      <td>8747</td>\n",
       "      <td>1991</td>\n",
       "      <td>M</td>\n",
       "      <td>White</td>\n",
       "      <td>...</td>\n",
       "      <td>11:16:36</td>\n",
       "      <td>FIGHT - IP - PHYSICAL (NO WEAPONS)</td>\n",
       "      <td>--DISTURBANCE - FIGHT</td>\n",
       "      <td>911</td>\n",
       "      <td>TRAINING - FIELD TRAINING SQUAD</td>\n",
       "      <td>N</td>\n",
       "      <td>N</td>\n",
       "      <td>West</td>\n",
       "      <td>K</td>\n",
       "      <td>K3</td>\n",
       "    </tr>\n",
       "    <tr>\n",
       "      <th>45315</th>\n",
       "      <td>56 and Above</td>\n",
       "      <td>18763121119</td>\n",
       "      <td>20200000334915</td>\n",
       "      <td>18760675122</td>\n",
       "      <td>Field Contact</td>\n",
       "      <td>-</td>\n",
       "      <td>7456</td>\n",
       "      <td>1979</td>\n",
       "      <td>M</td>\n",
       "      <td>White</td>\n",
       "      <td>...</td>\n",
       "      <td>18:25:31</td>\n",
       "      <td>ASSIST OTHER AGENCY - ROUTINE SERVICE</td>\n",
       "      <td>--ASSIST OTHER AGENCY - STATE AGENCY</td>\n",
       "      <td>ONVIEW</td>\n",
       "      <td>NORTH PCT 2ND W - JOHN RELIEF</td>\n",
       "      <td>N</td>\n",
       "      <td>N</td>\n",
       "      <td>North</td>\n",
       "      <td>N</td>\n",
       "      <td>N2</td>\n",
       "    </tr>\n",
       "    <tr>\n",
       "      <th>45316</th>\n",
       "      <td>56 and Above</td>\n",
       "      <td>19145427342</td>\n",
       "      <td>20200000345283</td>\n",
       "      <td>19145423883</td>\n",
       "      <td>Field Contact</td>\n",
       "      <td>Knife/Cutting/Stabbing Instrument</td>\n",
       "      <td>8646</td>\n",
       "      <td>1996</td>\n",
       "      <td>M</td>\n",
       "      <td>White</td>\n",
       "      <td>...</td>\n",
       "      <td>23:02:58</td>\n",
       "      <td>SUSPICIOUS STOP - OFFICER INITIATED ONVIEW</td>\n",
       "      <td>SUSPICIOUS STOP - OFFICER INITIATED ONVIEW</td>\n",
       "      <td>ONVIEW</td>\n",
       "      <td>WEST PCT 3RD W - D/M RELIEF</td>\n",
       "      <td>N</td>\n",
       "      <td>Y</td>\n",
       "      <td>West</td>\n",
       "      <td>Q</td>\n",
       "      <td>Q3</td>\n",
       "    </tr>\n",
       "  </tbody>\n",
       "</table>\n",
       "<p>10 rows × 23 columns</p>\n",
       "</div>"
      ],
      "text/plain": [
       "      Subject Age Group   Subject ID     GO / SC Num  Terry Stop ID  \\\n",
       "45307      56 and Above  16366865981  20200000304239    16366787296   \n",
       "45308      56 and Above  16689873637  20200000306763    16688826004   \n",
       "45309      56 and Above  16700206747  20200000329461    18068162403   \n",
       "45310      56 and Above  16834950496  20200000307517    16833080841   \n",
       "45311      56 and Above  17560315357  20200000316857    17560309580   \n",
       "45312      56 and Above  17705067875  20200000321463    17722624502   \n",
       "45313      56 and Above  18018113199  20200000327585    18018069307   \n",
       "45314      56 and Above  18036883066  20200000328353    18036796582   \n",
       "45315      56 and Above  18763121119  20200000334915    18760675122   \n",
       "45316      56 and Above  19145427342  20200000345283    19145423883   \n",
       "\n",
       "      Stop Resolution                        Weapon Type Officer ID  \\\n",
       "45307   Field Contact                                  -     8758     \n",
       "45308   Field Contact                                  -     8308     \n",
       "45309   Field Contact                                  -     8704     \n",
       "45310   Field Contact                                  -     7723     \n",
       "45311   Field Contact                                  -     8646     \n",
       "45312          Arrest                                  -     8486     \n",
       "45313   Field Contact                                  -     8668     \n",
       "45314   Field Contact                                  -     8747     \n",
       "45315   Field Contact                                  -     7456     \n",
       "45316   Field Contact  Knife/Cutting/Stabbing Instrument     8646     \n",
       "\n",
       "       Officer YOB Officer Gender        Officer Race  ... Reported Time  \\\n",
       "45307         1995              M               White  ...      23:56:42   \n",
       "45308         1987              M  Hispanic or Latino  ...      20:19:52   \n",
       "45309         1988              M               White  ...      23:59:23   \n",
       "45310         1987              M               White  ...      17:07:59   \n",
       "45311         1996              M               White  ...      02:22:45   \n",
       "45312         1992              M               Asian  ...      18:52:12   \n",
       "45313         1990              F               White  ...      16:38:00   \n",
       "45314         1991              M               White  ...      11:16:36   \n",
       "45315         1979              M               White  ...      18:25:31   \n",
       "45316         1996              M               White  ...      23:02:58   \n",
       "\n",
       "                                Initial Call Type  \\\n",
       "45307  SUSPICIOUS STOP - OFFICER INITIATED ONVIEW   \n",
       "45308      SUSPICIOUS PERSON, VEHICLE OR INCIDENT   \n",
       "45309            DIST - IP/JO - DV DIST - NO ASLT   \n",
       "45310               DUI - DRIVING UNDER INFLUENCE   \n",
       "45311  SUSPICIOUS STOP - OFFICER INITIATED ONVIEW   \n",
       "45312                           ASLT - IP/JO - DV   \n",
       "45313                                    TRESPASS   \n",
       "45314          FIGHT - IP - PHYSICAL (NO WEAPONS)   \n",
       "45315       ASSIST OTHER AGENCY - ROUTINE SERVICE   \n",
       "45316  SUSPICIOUS STOP - OFFICER INITIATED ONVIEW   \n",
       "\n",
       "                                    Final Call Type                 Call Type  \\\n",
       "45307                          --PROWLER - TRESPASS                    ONVIEW   \n",
       "45308      --SUSPICIOUS CIRCUM. - SUSPICIOUS PERSON                       911   \n",
       "45309                         --DISTURBANCE - OTHER                       911   \n",
       "45310     --SUSPICIOUS CIRCUM. - SUSPICIOUS VEHICLE                       911   \n",
       "45311      --SUSPICIOUS CIRCUM. - SUSPICIOUS PERSON                    ONVIEW   \n",
       "45312  --DV - DOMESTIC VIOL/ASLT (ARREST MANDATORY)                       911   \n",
       "45313                          --PROWLER - TRESPASS  TELEPHONE OTHER, NOT 911   \n",
       "45314                         --DISTURBANCE - FIGHT                       911   \n",
       "45315          --ASSIST OTHER AGENCY - STATE AGENCY                    ONVIEW   \n",
       "45316    SUSPICIOUS STOP - OFFICER INITIATED ONVIEW                    ONVIEW   \n",
       "\n",
       "                         Officer Squad Arrest Flag Frisk Flag   Precinct  \\\n",
       "45307  TRAINING - FIELD TRAINING SQUAD           N          N       West   \n",
       "45308           WEST PCT 3RD W - QUEEN           N          N       West   \n",
       "45309          NORTH PCT 3RD W - UNION           N          Y      North   \n",
       "45310          EAST PCT 2ND W - EDWARD           N          N       East   \n",
       "45311      WEST PCT 3RD W - D/M RELIEF           N          N       West   \n",
       "45312      SOUTHWEST PCT 2ND W - FRANK           Y          N  SouthWest   \n",
       "45313         SOUTH PCT 2ND W - ROBERT           N          N      South   \n",
       "45314  TRAINING - FIELD TRAINING SQUAD           N          N       West   \n",
       "45315    NORTH PCT 2ND W - JOHN RELIEF           N          N      North   \n",
       "45316      WEST PCT 3RD W - D/M RELIEF           N          Y       West   \n",
       "\n",
       "      Sector Beat  \n",
       "45307      Q   Q3  \n",
       "45308      Q   Q1  \n",
       "45309      U   U3  \n",
       "45310      E   E3  \n",
       "45311      M   M1  \n",
       "45312      F   F3  \n",
       "45313      R   R3  \n",
       "45314      K   K3  \n",
       "45315      N   N2  \n",
       "45316      Q   Q3  \n",
       "\n",
       "[10 rows x 23 columns]"
      ]
     },
     "execution_count": 4,
     "metadata": {},
     "output_type": "execute_result"
    }
   ],
   "source": [
    "# Import the data, data appears to be sorted by GO/SC Number, in which the 1st four numbers are the year\n",
    "# Or possibly Terry Stop ID but I do see some out of order toward the end\n",
    "# Perhaps it is sorted on Reported Date which I cannot see, or not really sorted\n",
    "terry.tail(10)"
   ]
  },
  {
   "cell_type": "code",
   "execution_count": 5,
   "metadata": {
    "hidden": true
   },
   "outputs": [
    {
     "data": {
      "text/plain": [
       "45300    2020-10-08T00:00:00\n",
       "45301    2020-10-15T00:00:00\n",
       "45302    2020-10-18T00:00:00\n",
       "45303    2020-10-19T00:00:00\n",
       "45304    2020-10-19T00:00:00\n",
       "45305    2020-10-19T00:00:00\n",
       "45306    2020-10-28T00:00:00\n",
       "45307    2020-10-26T00:00:00\n",
       "45308    2020-10-29T00:00:00\n",
       "45309    2020-11-26T00:00:00\n",
       "45310    2020-10-30T00:00:00\n",
       "45311    2020-11-11T00:00:00\n",
       "45312    2020-11-17T00:00:00\n",
       "45313    2020-11-24T00:00:00\n",
       "45314    2020-11-25T00:00:00\n",
       "45315    2020-12-03T00:00:00\n",
       "45316    2020-12-15T00:00:00\n",
       "Name: Reported Date, dtype: object"
      ]
     },
     "execution_count": 5,
     "metadata": {},
     "output_type": "execute_result"
    }
   ],
   "source": [
    "# Only mostly sorted on Date, some out of order\n",
    "terry['Reported Date'][45300:45318]"
   ]
  },
  {
   "cell_type": "code",
   "execution_count": 6,
   "metadata": {
    "hidden": true
   },
   "outputs": [
    {
     "data": {
      "text/plain": [
       "Subject Age Group             0\n",
       "Subject ID                    0\n",
       "GO / SC Num                   0\n",
       "Terry Stop ID                 0\n",
       "Stop Resolution               0\n",
       "Weapon Type                   0\n",
       "Officer ID                    0\n",
       "Officer YOB                   0\n",
       "Officer Gender                0\n",
       "Officer Race                  0\n",
       "Subject Perceived Race        0\n",
       "Subject Perceived Gender      0\n",
       "Reported Date                 0\n",
       "Reported Time                 0\n",
       "Initial Call Type             0\n",
       "Final Call Type               0\n",
       "Call Type                     0\n",
       "Officer Squad               603\n",
       "Arrest Flag                   0\n",
       "Frisk Flag                    0\n",
       "Precinct                      0\n",
       "Sector                        0\n",
       "Beat                          0\n",
       "dtype: int64"
      ]
     },
     "execution_count": 6,
     "metadata": {},
     "output_type": "execute_result"
    }
   ],
   "source": [
    "terry.isna().sum()"
   ]
  },
  {
   "cell_type": "markdown",
   "metadata": {
    "heading_collapsed": true
   },
   "source": [
    "### Analyze 'Subject Age Group'\n",
    "\n",
    "Changed age group of '-' to 'Unknown'.  \n",
    "All of these values occur at the beginning of the dataset, so they may have more to do with WHEN they were recorded."
   ]
  },
  {
   "cell_type": "code",
   "execution_count": 7,
   "metadata": {
    "hidden": true,
    "scrolled": true
   },
   "outputs": [
    {
     "data": {
      "text/plain": [
       "26 - 35         15054\n",
       "36 - 45          9557\n",
       "18 - 25          9169\n",
       "46 - 55          5852\n",
       "56 and Above     2301\n",
       "1 - 17           1935\n",
       "-                1449\n",
       "Name: Subject Age Group, dtype: int64"
      ]
     },
     "execution_count": 7,
     "metadata": {},
     "output_type": "execute_result"
    }
   ],
   "source": [
    "# Starting analysis of first variable, Subject Age Group\n",
    "# Information is nicely binned into groups, presumably this is perceived age unless the subject provided identification.\n",
    "# Will change '-' values to unknown\n",
    "terry['Subject Age Group'].value_counts()"
   ]
  },
  {
   "cell_type": "code",
   "execution_count": 8,
   "metadata": {
    "hidden": true
   },
   "outputs": [
    {
     "data": {
      "text/html": [
       "<div>\n",
       "<style scoped>\n",
       "    .dataframe tbody tr th:only-of-type {\n",
       "        vertical-align: middle;\n",
       "    }\n",
       "\n",
       "    .dataframe tbody tr th {\n",
       "        vertical-align: top;\n",
       "    }\n",
       "\n",
       "    .dataframe thead th {\n",
       "        text-align: right;\n",
       "    }\n",
       "</style>\n",
       "<table border=\"1\" class=\"dataframe\">\n",
       "  <thead>\n",
       "    <tr style=\"text-align: right;\">\n",
       "      <th></th>\n",
       "      <th>Subject Age Group</th>\n",
       "      <th>Subject ID</th>\n",
       "      <th>GO / SC Num</th>\n",
       "      <th>Terry Stop ID</th>\n",
       "      <th>Stop Resolution</th>\n",
       "      <th>Weapon Type</th>\n",
       "      <th>Officer ID</th>\n",
       "      <th>Officer YOB</th>\n",
       "      <th>Officer Gender</th>\n",
       "      <th>Officer Race</th>\n",
       "      <th>...</th>\n",
       "      <th>Reported Time</th>\n",
       "      <th>Initial Call Type</th>\n",
       "      <th>Final Call Type</th>\n",
       "      <th>Call Type</th>\n",
       "      <th>Officer Squad</th>\n",
       "      <th>Arrest Flag</th>\n",
       "      <th>Frisk Flag</th>\n",
       "      <th>Precinct</th>\n",
       "      <th>Sector</th>\n",
       "      <th>Beat</th>\n",
       "    </tr>\n",
       "  </thead>\n",
       "  <tbody>\n",
       "    <tr>\n",
       "      <th>214</th>\n",
       "      <td>36 - 45</td>\n",
       "      <td>-1</td>\n",
       "      <td>20150000001902</td>\n",
       "      <td>35955</td>\n",
       "      <td>Field Contact</td>\n",
       "      <td>None</td>\n",
       "      <td>7595</td>\n",
       "      <td>1978</td>\n",
       "      <td>M</td>\n",
       "      <td>White</td>\n",
       "      <td>...</td>\n",
       "      <td>04:59:00</td>\n",
       "      <td>-</td>\n",
       "      <td>-</td>\n",
       "      <td>-</td>\n",
       "      <td>NaN</td>\n",
       "      <td>N</td>\n",
       "      <td>N</td>\n",
       "      <td>-</td>\n",
       "      <td>-</td>\n",
       "      <td>-</td>\n",
       "    </tr>\n",
       "    <tr>\n",
       "      <th>334</th>\n",
       "      <td>36 - 45</td>\n",
       "      <td>-1</td>\n",
       "      <td>20150000001920</td>\n",
       "      <td>36225</td>\n",
       "      <td>Field Contact</td>\n",
       "      <td>None</td>\n",
       "      <td>7595</td>\n",
       "      <td>1978</td>\n",
       "      <td>M</td>\n",
       "      <td>White</td>\n",
       "      <td>...</td>\n",
       "      <td>05:20:00</td>\n",
       "      <td>-</td>\n",
       "      <td>-</td>\n",
       "      <td>-</td>\n",
       "      <td>NaN</td>\n",
       "      <td>N</td>\n",
       "      <td>N</td>\n",
       "      <td>-</td>\n",
       "      <td>-</td>\n",
       "      <td>-</td>\n",
       "    </tr>\n",
       "    <tr>\n",
       "      <th>1067</th>\n",
       "      <td>1 - 17</td>\n",
       "      <td>-1</td>\n",
       "      <td>20150000002531</td>\n",
       "      <td>47538</td>\n",
       "      <td>Field Contact</td>\n",
       "      <td>None</td>\n",
       "      <td>7415</td>\n",
       "      <td>1978</td>\n",
       "      <td>M</td>\n",
       "      <td>White</td>\n",
       "      <td>...</td>\n",
       "      <td>01:25:00</td>\n",
       "      <td>-</td>\n",
       "      <td>-</td>\n",
       "      <td>-</td>\n",
       "      <td>NORTH PCT 3RD W - JOHN RELIEF</td>\n",
       "      <td>N</td>\n",
       "      <td>N</td>\n",
       "      <td>-</td>\n",
       "      <td>-</td>\n",
       "      <td>-</td>\n",
       "    </tr>\n",
       "    <tr>\n",
       "      <th>1095</th>\n",
       "      <td>1 - 17</td>\n",
       "      <td>-1</td>\n",
       "      <td>20150000002613</td>\n",
       "      <td>49001</td>\n",
       "      <td>Field Contact</td>\n",
       "      <td>None</td>\n",
       "      <td>7673</td>\n",
       "      <td>1985</td>\n",
       "      <td>M</td>\n",
       "      <td>White</td>\n",
       "      <td>...</td>\n",
       "      <td>23:19:00</td>\n",
       "      <td>-</td>\n",
       "      <td>-</td>\n",
       "      <td>-</td>\n",
       "      <td>WEST PCT 2ND W - KING</td>\n",
       "      <td>N</td>\n",
       "      <td>N</td>\n",
       "      <td>-</td>\n",
       "      <td>-</td>\n",
       "      <td>-</td>\n",
       "    </tr>\n",
       "    <tr>\n",
       "      <th>1151</th>\n",
       "      <td>1 - 17</td>\n",
       "      <td>-1</td>\n",
       "      <td>20150000002531</td>\n",
       "      <td>47539</td>\n",
       "      <td>Field Contact</td>\n",
       "      <td>None</td>\n",
       "      <td>7415</td>\n",
       "      <td>1978</td>\n",
       "      <td>M</td>\n",
       "      <td>White</td>\n",
       "      <td>...</td>\n",
       "      <td>01:58:00</td>\n",
       "      <td>-</td>\n",
       "      <td>-</td>\n",
       "      <td>-</td>\n",
       "      <td>NORTH PCT 3RD W - JOHN RELIEF</td>\n",
       "      <td>N</td>\n",
       "      <td>N</td>\n",
       "      <td>-</td>\n",
       "      <td>-</td>\n",
       "      <td>-</td>\n",
       "    </tr>\n",
       "    <tr>\n",
       "      <th>1235</th>\n",
       "      <td>1 - 17</td>\n",
       "      <td>-1</td>\n",
       "      <td>20150000002531</td>\n",
       "      <td>47540</td>\n",
       "      <td>Field Contact</td>\n",
       "      <td>None</td>\n",
       "      <td>7415</td>\n",
       "      <td>1978</td>\n",
       "      <td>M</td>\n",
       "      <td>White</td>\n",
       "      <td>...</td>\n",
       "      <td>01:59:00</td>\n",
       "      <td>-</td>\n",
       "      <td>-</td>\n",
       "      <td>-</td>\n",
       "      <td>NORTH PCT 3RD W - JOHN RELIEF</td>\n",
       "      <td>N</td>\n",
       "      <td>N</td>\n",
       "      <td>-</td>\n",
       "      <td>-</td>\n",
       "      <td>-</td>\n",
       "    </tr>\n",
       "    <tr>\n",
       "      <th>1288</th>\n",
       "      <td>1 - 17</td>\n",
       "      <td>-1</td>\n",
       "      <td>20150000002531</td>\n",
       "      <td>47541</td>\n",
       "      <td>Field Contact</td>\n",
       "      <td>None</td>\n",
       "      <td>7415</td>\n",
       "      <td>1978</td>\n",
       "      <td>M</td>\n",
       "      <td>White</td>\n",
       "      <td>...</td>\n",
       "      <td>02:01:00</td>\n",
       "      <td>-</td>\n",
       "      <td>-</td>\n",
       "      <td>-</td>\n",
       "      <td>NORTH PCT 3RD W - JOHN RELIEF</td>\n",
       "      <td>N</td>\n",
       "      <td>N</td>\n",
       "      <td>-</td>\n",
       "      <td>-</td>\n",
       "      <td>-</td>\n",
       "    </tr>\n",
       "    <tr>\n",
       "      <th>1369</th>\n",
       "      <td>1 - 17</td>\n",
       "      <td>-1</td>\n",
       "      <td>20150000002611</td>\n",
       "      <td>48895</td>\n",
       "      <td>Field Contact</td>\n",
       "      <td>None</td>\n",
       "      <td>7726</td>\n",
       "      <td>1990</td>\n",
       "      <td>M</td>\n",
       "      <td>White</td>\n",
       "      <td>...</td>\n",
       "      <td>17:17:00</td>\n",
       "      <td>-</td>\n",
       "      <td>-</td>\n",
       "      <td>-</td>\n",
       "      <td>WEST PCT 2ND W - MARY</td>\n",
       "      <td>N</td>\n",
       "      <td>N</td>\n",
       "      <td>-</td>\n",
       "      <td>-</td>\n",
       "      <td>-</td>\n",
       "    </tr>\n",
       "    <tr>\n",
       "      <th>1422</th>\n",
       "      <td>1 - 17</td>\n",
       "      <td>-1</td>\n",
       "      <td>20150000002613</td>\n",
       "      <td>48899</td>\n",
       "      <td>Field Contact</td>\n",
       "      <td>None</td>\n",
       "      <td>7673</td>\n",
       "      <td>1985</td>\n",
       "      <td>M</td>\n",
       "      <td>White</td>\n",
       "      <td>...</td>\n",
       "      <td>23:13:00</td>\n",
       "      <td>-</td>\n",
       "      <td>-</td>\n",
       "      <td>-</td>\n",
       "      <td>WEST PCT 2ND W - KING</td>\n",
       "      <td>N</td>\n",
       "      <td>N</td>\n",
       "      <td>-</td>\n",
       "      <td>-</td>\n",
       "      <td>-</td>\n",
       "    </tr>\n",
       "    <tr>\n",
       "      <th>1448</th>\n",
       "      <td>1 - 17</td>\n",
       "      <td>-1</td>\n",
       "      <td>20150000002613</td>\n",
       "      <td>48900</td>\n",
       "      <td>Field Contact</td>\n",
       "      <td>None</td>\n",
       "      <td>7673</td>\n",
       "      <td>1985</td>\n",
       "      <td>M</td>\n",
       "      <td>White</td>\n",
       "      <td>...</td>\n",
       "      <td>23:18:00</td>\n",
       "      <td>-</td>\n",
       "      <td>-</td>\n",
       "      <td>-</td>\n",
       "      <td>WEST PCT 2ND W - KING</td>\n",
       "      <td>N</td>\n",
       "      <td>N</td>\n",
       "      <td>-</td>\n",
       "      <td>-</td>\n",
       "      <td>-</td>\n",
       "    </tr>\n",
       "  </tbody>\n",
       "</table>\n",
       "<p>10 rows × 23 columns</p>\n",
       "</div>"
      ],
      "text/plain": [
       "     Subject Age Group  Subject ID     GO / SC Num  Terry Stop ID  \\\n",
       "214            36 - 45          -1  20150000001902          35955   \n",
       "334            36 - 45          -1  20150000001920          36225   \n",
       "1067            1 - 17          -1  20150000002531          47538   \n",
       "1095            1 - 17          -1  20150000002613          49001   \n",
       "1151            1 - 17          -1  20150000002531          47539   \n",
       "1235            1 - 17          -1  20150000002531          47540   \n",
       "1288            1 - 17          -1  20150000002531          47541   \n",
       "1369            1 - 17          -1  20150000002611          48895   \n",
       "1422            1 - 17          -1  20150000002613          48899   \n",
       "1448            1 - 17          -1  20150000002613          48900   \n",
       "\n",
       "     Stop Resolution Weapon Type Officer ID  Officer YOB Officer Gender  \\\n",
       "214    Field Contact        None     7595           1978              M   \n",
       "334    Field Contact        None     7595           1978              M   \n",
       "1067   Field Contact        None     7415           1978              M   \n",
       "1095   Field Contact        None     7673           1985              M   \n",
       "1151   Field Contact        None     7415           1978              M   \n",
       "1235   Field Contact        None     7415           1978              M   \n",
       "1288   Field Contact        None     7415           1978              M   \n",
       "1369   Field Contact        None     7726           1990              M   \n",
       "1422   Field Contact        None     7673           1985              M   \n",
       "1448   Field Contact        None     7673           1985              M   \n",
       "\n",
       "     Officer Race  ... Reported Time Initial Call Type Final Call Type  \\\n",
       "214         White  ...      04:59:00                 -               -   \n",
       "334         White  ...      05:20:00                 -               -   \n",
       "1067        White  ...      01:25:00                 -               -   \n",
       "1095        White  ...      23:19:00                 -               -   \n",
       "1151        White  ...      01:58:00                 -               -   \n",
       "1235        White  ...      01:59:00                 -               -   \n",
       "1288        White  ...      02:01:00                 -               -   \n",
       "1369        White  ...      17:17:00                 -               -   \n",
       "1422        White  ...      23:13:00                 -               -   \n",
       "1448        White  ...      23:18:00                 -               -   \n",
       "\n",
       "     Call Type                  Officer Squad Arrest Flag Frisk Flag Precinct  \\\n",
       "214          -                            NaN           N          N        -   \n",
       "334          -                            NaN           N          N        -   \n",
       "1067         -  NORTH PCT 3RD W - JOHN RELIEF           N          N        -   \n",
       "1095         -          WEST PCT 2ND W - KING           N          N        -   \n",
       "1151         -  NORTH PCT 3RD W - JOHN RELIEF           N          N        -   \n",
       "1235         -  NORTH PCT 3RD W - JOHN RELIEF           N          N        -   \n",
       "1288         -  NORTH PCT 3RD W - JOHN RELIEF           N          N        -   \n",
       "1369         -          WEST PCT 2ND W - MARY           N          N        -   \n",
       "1422         -          WEST PCT 2ND W - KING           N          N        -   \n",
       "1448         -          WEST PCT 2ND W - KING           N          N        -   \n",
       "\n",
       "     Sector Beat  \n",
       "214       -    -  \n",
       "334       -    -  \n",
       "1067      -    -  \n",
       "1095      -    -  \n",
       "1151      -    -  \n",
       "1235      -    -  \n",
       "1288      -    -  \n",
       "1369      -    -  \n",
       "1422      -    -  \n",
       "1448      -    -  \n",
       "\n",
       "[10 rows x 23 columns]"
      ]
     },
     "execution_count": 8,
     "metadata": {},
     "output_type": "execute_result"
    }
   ],
   "source": [
    "# Is this a coincidence?  The unknown age records are 1449 of the first 1459 records.\n",
    "# Probably they didn't start keeping track of Subject Age right away\n",
    "# If the unknown ages appear relevent, it may have more to do with the date than the actual subject's age\n",
    "init_terry=terry[:1459]\n",
    "init_terry[init_terry['Subject Age Group'] != '-']\n",
    "# Some of these early records with ages belong to the same GO/SC Num\n",
    "# Seems like they just transitioned to start recording age group at this point"
   ]
  },
  {
   "cell_type": "code",
   "execution_count": 9,
   "metadata": {
    "hidden": true
   },
   "outputs": [
    {
     "data": {
      "text/plain": [
       "26 - 35         15054\n",
       "36 - 45          9557\n",
       "18 - 25          9169\n",
       "46 - 55          5852\n",
       "56 and Above     2301\n",
       "1 - 17           1935\n",
       "Unknown          1449\n",
       "Name: Subject Age Group, dtype: int64"
      ]
     },
     "execution_count": 9,
     "metadata": {},
     "output_type": "execute_result"
    }
   ],
   "source": [
    "# Think I am ok to replace '-' with 'unknown'\n",
    "terry['Subject Age Group'] = terry['Subject Age Group'].replace(to_replace='-',value='Unknown')\n",
    "terry['Subject Age Group'].value_counts()"
   ]
  },
  {
   "cell_type": "code",
   "execution_count": 10,
   "metadata": {
    "hidden": true
   },
   "outputs": [
    {
     "data": {
      "image/png": "[encoded data removed]",
      "text/plain": [
       "<Figure size 422.425x360 with 1 Axes>"
      ]
     },
     "metadata": {
      "needs_background": "light"
     },
     "output_type": "display_data"
    }
   ],
   "source": [
    "sns.displot(terry, x='Subject Age Group', hue_order=('Y','N'), hue='Arrest Flag', multiple='stack');"
   ]
  },
  {
   "cell_type": "markdown",
   "metadata": {},
   "source": [
    "### Analyze 'Subject ID'\n",
    "\n",
    "**Output** - terry_sort\n",
    "\n",
    "Binned Subject ID into a new column Subject Known with values of Unidentified, First, Repeat, then deleted Subject ID column"
   ]
  },
  {
   "cell_type": "code",
   "execution_count": 11,
   "metadata": {
    "scrolled": true
   },
   "outputs": [
    {
     "data": {
      "text/plain": [
       "-1              34718\n",
       " 7726859935        19\n",
       " 7753260438        13\n",
       " 7727117712        12\n",
       " 7726559999         9\n",
       "                ...  \n",
       " 7725797630         1\n",
       " 16168302851        1\n",
       " 7704469768         1\n",
       " 7733768490         1\n",
       " 16219707395        1\n",
       "Name: Subject ID, Length: 8249, dtype: int64"
      ]
     },
     "execution_count": 11,
     "metadata": {},
     "output_type": "execute_result"
    }
   ],
   "source": [
    "# Now look at duplicate Subject ID\n",
    "terry['Subject ID'].value_counts() # 8249 unique values"
   ]
  },
  {
   "cell_type": "code",
   "execution_count": 12,
   "metadata": {},
   "outputs": [
    {
     "data": {
      "text/plain": [
       "Unidentified    34718\n",
       "7726859935         19\n",
       "7753260438         13\n",
       "7727117712         12\n",
       "7726559999          9\n",
       "                ...  \n",
       "7743484278          1\n",
       "9641131779          1\n",
       "12831978739         1\n",
       "7727212733          1\n",
       "7731079108          1\n",
       "Name: Subject ID, Length: 8249, dtype: int64"
      ]
     },
     "execution_count": 12,
     "metadata": {},
     "output_type": "execute_result"
    }
   ],
   "source": [
    "# There are 8249 different \"subject IDs\" even though most of the are -1, which I assume is their version of unknown.\n",
    "# Many seem to be duplicated several times.  Does this indicate multiple times the same person was stopped?  \n",
    "# Can I somehow look at people who were stopped multiple times?\n",
    "# Let's first change the -1 to unidentified so I don't think they are duplicates\n",
    "terry['Subject ID'] = terry['Subject ID'].astype(str)\n",
    "terry['Subject ID'] = terry['Subject ID'].replace(to_replace='-1',value='Unidentified')\n",
    "terry['Subject ID'].value_counts()"
   ]
  },
  {
   "cell_type": "markdown",
   "metadata": {},
   "source": [
    "My initial reaction was that Subject ID doesn't matter and can be removed.  There are 8249 unique values and I certainly don't want that many dummy variables.  But I wonder if it is possible that by a subject NOT identifying themselves (i.e. Subject ID = -1), they could be more or less likely to be arrested.  Same concern about Subject IDs that have many repeat encounters... maybe they are more or less likely to be arrested.  I'm considering binning the info somehow... into 'unidentified', 'first encounter', 'repeat encounter'. Does the officer know it is a repeat encounter if it happened with a different officer?"
   ]
  },
  {
   "cell_type": "code",
   "execution_count": 13,
   "metadata": {},
   "outputs": [
    {
     "data": {
      "text/plain": [
       "7726859935    19\n",
       "7753260438    13\n",
       "7727117712    12\n",
       "7726559999     9\n",
       "7727600619     9\n",
       "              ..\n",
       "7726642372     2\n",
       "7728114931     2\n",
       "7726686879     2\n",
       "7729567601     2\n",
       "7726953016     2\n",
       "Name: Subject ID, Length: 1438, dtype: int64"
      ]
     },
     "execution_count": 13,
     "metadata": {},
     "output_type": "execute_result"
    }
   ],
   "source": [
    "# This value is interesting to see who has been stopped more than once\n",
    "# Several people appear to be repeatedly stopped\n",
    "# The question is: Do I want to consider Subject ID in this analysis?\n",
    "# If I encode it I will have 8249 more variables\n",
    "subject_known = terry[terry['Subject ID'] != 'Unidentified']\n",
    "subject_known[subject_known.duplicated(subset=['Subject ID'], keep=False)]['Subject ID'].value_counts()"
   ]
  },
  {
   "cell_type": "code",
   "execution_count": 14,
   "metadata": {},
   "outputs": [],
   "source": [
    "# There are 1438 unique subject IDs that are repeated at least once. Can I map the Subject ID to a new column?\n",
    "terry_sort = terry.sort_values(['Reported Date', 'Reported Time']) #sort by date and time first\n",
    "Subject_First = []\n",
    "Subjects = []\n",
    "for subject in range(0,len(terry_sort)):\n",
    "    if terry_sort['Subject ID'][subject] == \"Unidentified\":\n",
    "        Subjects.append('Unidentified')\n",
    "    elif terry_sort['Subject ID'][subject] in Subject_First:\n",
    "        Subjects.append('Repeat')\n",
    "    else:\n",
    "        Subjects.append('First')\n",
    "        Subject_First.append(terry_sort['Subject ID'][subject])"
   ]
  },
  {
   "cell_type": "code",
   "execution_count": 15,
   "metadata": {},
   "outputs": [],
   "source": [
    "terry_sort['Subject Known'] = pd.Series(Subjects, index = terry.index)"
   ]
  },
  {
   "cell_type": "code",
   "execution_count": 16,
   "metadata": {},
   "outputs": [
    {
     "data": {
      "text/plain": [
       "Unidentified    34718\n",
       "First            8248\n",
       "Repeat           2351\n",
       "Name: Subject Known, dtype: int64"
      ]
     },
     "execution_count": 16,
     "metadata": {},
     "output_type": "execute_result"
    }
   ],
   "source": [
    "terry_sort['Subject Known'].value_counts()"
   ]
  },
  {
   "cell_type": "code",
   "execution_count": 17,
   "metadata": {
    "scrolled": true
   },
   "outputs": [
    {
     "data": {
      "text/html": [
       "<div>\n",
       "<style scoped>\n",
       "    .dataframe tbody tr th:only-of-type {\n",
       "        vertical-align: middle;\n",
       "    }\n",
       "\n",
       "    .dataframe tbody tr th {\n",
       "        vertical-align: top;\n",
       "    }\n",
       "\n",
       "    .dataframe thead th {\n",
       "        text-align: right;\n",
       "    }\n",
       "</style>\n",
       "<table border=\"1\" class=\"dataframe\">\n",
       "  <thead>\n",
       "    <tr style=\"text-align: right;\">\n",
       "      <th></th>\n",
       "      <th>Subject Age Group</th>\n",
       "      <th>Subject ID</th>\n",
       "      <th>GO / SC Num</th>\n",
       "      <th>Terry Stop ID</th>\n",
       "      <th>Stop Resolution</th>\n",
       "      <th>Weapon Type</th>\n",
       "      <th>Officer ID</th>\n",
       "      <th>Officer YOB</th>\n",
       "      <th>Officer Gender</th>\n",
       "      <th>Officer Race</th>\n",
       "      <th>...</th>\n",
       "      <th>Initial Call Type</th>\n",
       "      <th>Final Call Type</th>\n",
       "      <th>Call Type</th>\n",
       "      <th>Officer Squad</th>\n",
       "      <th>Arrest Flag</th>\n",
       "      <th>Frisk Flag</th>\n",
       "      <th>Precinct</th>\n",
       "      <th>Sector</th>\n",
       "      <th>Beat</th>\n",
       "      <th>Subject Known</th>\n",
       "    </tr>\n",
       "  </thead>\n",
       "  <tbody>\n",
       "    <tr>\n",
       "      <th>12009</th>\n",
       "      <td>18 - 25</td>\n",
       "      <td>10042368279</td>\n",
       "      <td>20200000095287</td>\n",
       "      <td>12775150617</td>\n",
       "      <td>Arrest</td>\n",
       "      <td>-</td>\n",
       "      <td>8394</td>\n",
       "      <td>1991</td>\n",
       "      <td>M</td>\n",
       "      <td>White</td>\n",
       "      <td>...</td>\n",
       "      <td>SHOPLIFT - THEFT</td>\n",
       "      <td>--BURGLARY - NON RESIDENTIAL/COMMERCIAL</td>\n",
       "      <td>911</td>\n",
       "      <td>NORTH PCT 3RD W - UNION</td>\n",
       "      <td>Y</td>\n",
       "      <td>Y</td>\n",
       "      <td>North</td>\n",
       "      <td>U</td>\n",
       "      <td>U2</td>\n",
       "      <td>First</td>\n",
       "    </tr>\n",
       "    <tr>\n",
       "      <th>12010</th>\n",
       "      <td>18 - 25</td>\n",
       "      <td>10042368279</td>\n",
       "      <td>20200000182733</td>\n",
       "      <td>13357757706</td>\n",
       "      <td>Field Contact</td>\n",
       "      <td>Knife/Cutting/Stabbing Instrument</td>\n",
       "      <td>6334</td>\n",
       "      <td>1974</td>\n",
       "      <td>M</td>\n",
       "      <td>White</td>\n",
       "      <td>...</td>\n",
       "      <td>DISTURBANCE, MISCELLANEOUS/OTHER</td>\n",
       "      <td>--CRISIS COMPLAINT - GENERAL</td>\n",
       "      <td>911</td>\n",
       "      <td>NORTH PCT 1ST W - UNION</td>\n",
       "      <td>N</td>\n",
       "      <td>Y</td>\n",
       "      <td>North</td>\n",
       "      <td>U</td>\n",
       "      <td>U1</td>\n",
       "      <td>Repeat</td>\n",
       "    </tr>\n",
       "    <tr>\n",
       "      <th>36633</th>\n",
       "      <td>36 - 45</td>\n",
       "      <td>10045452578</td>\n",
       "      <td>20190000326602</td>\n",
       "      <td>10045469204</td>\n",
       "      <td>Arrest</td>\n",
       "      <td>-</td>\n",
       "      <td>8632</td>\n",
       "      <td>1997</td>\n",
       "      <td>M</td>\n",
       "      <td>White</td>\n",
       "      <td>...</td>\n",
       "      <td>NARCOTICS - VIOLATIONS (LOITER, USE, SELL, NARS)</td>\n",
       "      <td>--WARRANT SERVICES - MISDEMEANOR</td>\n",
       "      <td>911</td>\n",
       "      <td>WEST PCT 2ND W - DAVID</td>\n",
       "      <td>Y</td>\n",
       "      <td>N</td>\n",
       "      <td>West</td>\n",
       "      <td>D</td>\n",
       "      <td>D1</td>\n",
       "      <td>First</td>\n",
       "    </tr>\n",
       "    <tr>\n",
       "      <th>36634</th>\n",
       "      <td>36 - 45</td>\n",
       "      <td>10045452578</td>\n",
       "      <td>20200000202621</td>\n",
       "      <td>13806256374</td>\n",
       "      <td>Arrest</td>\n",
       "      <td>-</td>\n",
       "      <td>7690</td>\n",
       "      <td>1977</td>\n",
       "      <td>M</td>\n",
       "      <td>White</td>\n",
       "      <td>...</td>\n",
       "      <td>ORDER - VIOLATION OF COURT ORDER (NON DV)</td>\n",
       "      <td>--ASSAULTS - HARASSMENT, THREATS</td>\n",
       "      <td>911</td>\n",
       "      <td>WEST PCT 1ST W - DAVID/MARY</td>\n",
       "      <td>Y</td>\n",
       "      <td>N</td>\n",
       "      <td>West</td>\n",
       "      <td>D</td>\n",
       "      <td>D2</td>\n",
       "      <td>Repeat</td>\n",
       "    </tr>\n",
       "    <tr>\n",
       "      <th>36637</th>\n",
       "      <td>36 - 45</td>\n",
       "      <td>10045502278</td>\n",
       "      <td>20200000111289</td>\n",
       "      <td>12802772614</td>\n",
       "      <td>Field Contact</td>\n",
       "      <td>-</td>\n",
       "      <td>8696</td>\n",
       "      <td>1996</td>\n",
       "      <td>M</td>\n",
       "      <td>White</td>\n",
       "      <td>...</td>\n",
       "      <td>SUSPICIOUS STOP - OFFICER INITIATED ONVIEW</td>\n",
       "      <td>--SUSPICIOUS CIRCUM. - SUSPICIOUS PERSON</td>\n",
       "      <td>ONVIEW</td>\n",
       "      <td>TRAINING - FIELD TRAINING SQUAD</td>\n",
       "      <td>N</td>\n",
       "      <td>N</td>\n",
       "      <td>West</td>\n",
       "      <td>M</td>\n",
       "      <td>M1</td>\n",
       "      <td>Repeat</td>\n",
       "    </tr>\n",
       "    <tr>\n",
       "      <th>...</th>\n",
       "      <td>...</td>\n",
       "      <td>...</td>\n",
       "      <td>...</td>\n",
       "      <td>...</td>\n",
       "      <td>...</td>\n",
       "      <td>...</td>\n",
       "      <td>...</td>\n",
       "      <td>...</td>\n",
       "      <td>...</td>\n",
       "      <td>...</td>\n",
       "      <td>...</td>\n",
       "      <td>...</td>\n",
       "      <td>...</td>\n",
       "      <td>...</td>\n",
       "      <td>...</td>\n",
       "      <td>...</td>\n",
       "      <td>...</td>\n",
       "      <td>...</td>\n",
       "      <td>...</td>\n",
       "      <td>...</td>\n",
       "      <td>...</td>\n",
       "    </tr>\n",
       "    <tr>\n",
       "      <th>42731</th>\n",
       "      <td>46 - 55</td>\n",
       "      <td>9879252608</td>\n",
       "      <td>20200000171525</td>\n",
       "      <td>13254286419</td>\n",
       "      <td>Field Contact</td>\n",
       "      <td>-</td>\n",
       "      <td>8459</td>\n",
       "      <td>1990</td>\n",
       "      <td>M</td>\n",
       "      <td>Hispanic or Latino</td>\n",
       "      <td>...</td>\n",
       "      <td>PROPERTY - DAMAGE</td>\n",
       "      <td>--PROPERTY DEST (DAMG)</td>\n",
       "      <td>ONVIEW</td>\n",
       "      <td>WEST PCT 2ND W - D/M RELIEF</td>\n",
       "      <td>N</td>\n",
       "      <td>N</td>\n",
       "      <td>West</td>\n",
       "      <td>M</td>\n",
       "      <td>M2</td>\n",
       "      <td>Repeat</td>\n",
       "    </tr>\n",
       "    <tr>\n",
       "      <th>26737</th>\n",
       "      <td>26 - 35</td>\n",
       "      <td>9928085824</td>\n",
       "      <td>20190000322078</td>\n",
       "      <td>9928079386</td>\n",
       "      <td>Field Contact</td>\n",
       "      <td>-</td>\n",
       "      <td>8656</td>\n",
       "      <td>1988</td>\n",
       "      <td>M</td>\n",
       "      <td>White</td>\n",
       "      <td>...</td>\n",
       "      <td>ASLT - IP/JO - WITH OR W/O WPNS (NO SHOOTINGS)</td>\n",
       "      <td>--ASSAULTS, OTHER</td>\n",
       "      <td>911</td>\n",
       "      <td>TRAINING - FIELD TRAINING SQUAD</td>\n",
       "      <td>N</td>\n",
       "      <td>N</td>\n",
       "      <td>North</td>\n",
       "      <td>N</td>\n",
       "      <td>N3</td>\n",
       "      <td>First</td>\n",
       "    </tr>\n",
       "    <tr>\n",
       "      <th>26738</th>\n",
       "      <td>26 - 35</td>\n",
       "      <td>9928085824</td>\n",
       "      <td>20200000096497</td>\n",
       "      <td>12778521884</td>\n",
       "      <td>Field Contact</td>\n",
       "      <td>Knife/Cutting/Stabbing Instrument</td>\n",
       "      <td>6800</td>\n",
       "      <td>1972</td>\n",
       "      <td>M</td>\n",
       "      <td>White</td>\n",
       "      <td>...</td>\n",
       "      <td>WEAPN-IP/JO-GUN,DEADLY WPN (NO THRT/ASLT/DIST)</td>\n",
       "      <td>--WEAPON,PERSON WITH - OTHER WEAPON</td>\n",
       "      <td>911</td>\n",
       "      <td>NORTH PCT 1ST W - B/N RELIEF (JOHN)</td>\n",
       "      <td>N</td>\n",
       "      <td>Y</td>\n",
       "      <td>North</td>\n",
       "      <td>N</td>\n",
       "      <td>N3</td>\n",
       "      <td>Repeat</td>\n",
       "    </tr>\n",
       "    <tr>\n",
       "      <th>26740</th>\n",
       "      <td>26 - 35</td>\n",
       "      <td>9972151245</td>\n",
       "      <td>20190000444352</td>\n",
       "      <td>11910224956</td>\n",
       "      <td>Field Contact</td>\n",
       "      <td>-</td>\n",
       "      <td>7773</td>\n",
       "      <td>1978</td>\n",
       "      <td>M</td>\n",
       "      <td>White</td>\n",
       "      <td>...</td>\n",
       "      <td>WEAPN-IP/JO-GUN,DEADLY WPN (NO THRT/ASLT/DIST)</td>\n",
       "      <td>--WEAPON,PERSON WITH - OTHER WEAPON</td>\n",
       "      <td>911</td>\n",
       "      <td>NORTH PCT 3RD W - B/N RELIEF</td>\n",
       "      <td>N</td>\n",
       "      <td>Y</td>\n",
       "      <td>North</td>\n",
       "      <td>J</td>\n",
       "      <td>J3</td>\n",
       "      <td>Repeat</td>\n",
       "    </tr>\n",
       "    <tr>\n",
       "      <th>26739</th>\n",
       "      <td>26 - 35</td>\n",
       "      <td>9972151245</td>\n",
       "      <td>20190000323932</td>\n",
       "      <td>9969555078</td>\n",
       "      <td>Offense Report</td>\n",
       "      <td>-</td>\n",
       "      <td>8418</td>\n",
       "      <td>1984</td>\n",
       "      <td>M</td>\n",
       "      <td>White</td>\n",
       "      <td>...</td>\n",
       "      <td>ASLT - IP/JO - WITH OR W/O WPNS (NO SHOOTINGS)</td>\n",
       "      <td>--CRISIS COMPLAINT - GENERAL</td>\n",
       "      <td>911</td>\n",
       "      <td>WEST PCT 2ND W - D/M RELIEF</td>\n",
       "      <td>N</td>\n",
       "      <td>N</td>\n",
       "      <td>West</td>\n",
       "      <td>M</td>\n",
       "      <td>M1</td>\n",
       "      <td>First</td>\n",
       "    </tr>\n",
       "  </tbody>\n",
       "</table>\n",
       "<p>3789 rows × 24 columns</p>\n",
       "</div>"
      ],
      "text/plain": [
       "      Subject Age Group   Subject ID     GO / SC Num  Terry Stop ID  \\\n",
       "12009           18 - 25  10042368279  20200000095287    12775150617   \n",
       "12010           18 - 25  10042368279  20200000182733    13357757706   \n",
       "36633           36 - 45  10045452578  20190000326602    10045469204   \n",
       "36634           36 - 45  10045452578  20200000202621    13806256374   \n",
       "36637           36 - 45  10045502278  20200000111289    12802772614   \n",
       "...                 ...          ...             ...            ...   \n",
       "42731           46 - 55   9879252608  20200000171525    13254286419   \n",
       "26737           26 - 35   9928085824  20190000322078     9928079386   \n",
       "26738           26 - 35   9928085824  20200000096497    12778521884   \n",
       "26740           26 - 35   9972151245  20190000444352    11910224956   \n",
       "26739           26 - 35   9972151245  20190000323932     9969555078   \n",
       "\n",
       "      Stop Resolution                        Weapon Type Officer ID  \\\n",
       "12009          Arrest                                  -     8394     \n",
       "12010   Field Contact  Knife/Cutting/Stabbing Instrument     6334     \n",
       "36633          Arrest                                  -     8632     \n",
       "36634          Arrest                                  -     7690     \n",
       "36637   Field Contact                                  -     8696     \n",
       "...               ...                                ...        ...   \n",
       "42731   Field Contact                                  -     8459     \n",
       "26737   Field Contact                                  -     8656     \n",
       "26738   Field Contact  Knife/Cutting/Stabbing Instrument     6800     \n",
       "26740   Field Contact                                  -     7773     \n",
       "26739  Offense Report                                  -     8418     \n",
       "\n",
       "       Officer YOB Officer Gender        Officer Race  ...  \\\n",
       "12009         1991              M               White  ...   \n",
       "12010         1974              M               White  ...   \n",
       "36633         1997              M               White  ...   \n",
       "36634         1977              M               White  ...   \n",
       "36637         1996              M               White  ...   \n",
       "...            ...            ...                 ...  ...   \n",
       "42731         1990              M  Hispanic or Latino  ...   \n",
       "26737         1988              M               White  ...   \n",
       "26738         1972              M               White  ...   \n",
       "26740         1978              M               White  ...   \n",
       "26739         1984              M               White  ...   \n",
       "\n",
       "                                      Initial Call Type  \\\n",
       "12009                                  SHOPLIFT - THEFT   \n",
       "12010                  DISTURBANCE, MISCELLANEOUS/OTHER   \n",
       "36633  NARCOTICS - VIOLATIONS (LOITER, USE, SELL, NARS)   \n",
       "36634         ORDER - VIOLATION OF COURT ORDER (NON DV)   \n",
       "36637        SUSPICIOUS STOP - OFFICER INITIATED ONVIEW   \n",
       "...                                                 ...   \n",
       "42731                                 PROPERTY - DAMAGE   \n",
       "26737    ASLT - IP/JO - WITH OR W/O WPNS (NO SHOOTINGS)   \n",
       "26738    WEAPN-IP/JO-GUN,DEADLY WPN (NO THRT/ASLT/DIST)   \n",
       "26740    WEAPN-IP/JO-GUN,DEADLY WPN (NO THRT/ASLT/DIST)   \n",
       "26739    ASLT - IP/JO - WITH OR W/O WPNS (NO SHOOTINGS)   \n",
       "\n",
       "                                Final Call Type Call Type  \\\n",
       "12009   --BURGLARY - NON RESIDENTIAL/COMMERCIAL       911   \n",
       "12010              --CRISIS COMPLAINT - GENERAL       911   \n",
       "36633          --WARRANT SERVICES - MISDEMEANOR       911   \n",
       "36634          --ASSAULTS - HARASSMENT, THREATS       911   \n",
       "36637  --SUSPICIOUS CIRCUM. - SUSPICIOUS PERSON    ONVIEW   \n",
       "...                                         ...       ...   \n",
       "42731                    --PROPERTY DEST (DAMG)    ONVIEW   \n",
       "26737                         --ASSAULTS, OTHER       911   \n",
       "26738       --WEAPON,PERSON WITH - OTHER WEAPON       911   \n",
       "26740       --WEAPON,PERSON WITH - OTHER WEAPON       911   \n",
       "26739              --CRISIS COMPLAINT - GENERAL       911   \n",
       "\n",
       "                             Officer Squad Arrest Flag Frisk Flag Precinct  \\\n",
       "12009              NORTH PCT 3RD W - UNION           Y          Y    North   \n",
       "12010              NORTH PCT 1ST W - UNION           N          Y    North   \n",
       "36633               WEST PCT 2ND W - DAVID           Y          N     West   \n",
       "36634          WEST PCT 1ST W - DAVID/MARY           Y          N     West   \n",
       "36637      TRAINING - FIELD TRAINING SQUAD           N          N     West   \n",
       "...                                    ...         ...        ...      ...   \n",
       "42731          WEST PCT 2ND W - D/M RELIEF           N          N     West   \n",
       "26737      TRAINING - FIELD TRAINING SQUAD           N          N    North   \n",
       "26738  NORTH PCT 1ST W - B/N RELIEF (JOHN)           N          Y    North   \n",
       "26740         NORTH PCT 3RD W - B/N RELIEF           N          Y    North   \n",
       "26739          WEST PCT 2ND W - D/M RELIEF           N          N     West   \n",
       "\n",
       "      Sector Beat Subject Known  \n",
       "12009      U   U2         First  \n",
       "12010      U   U1        Repeat  \n",
       "36633      D   D1         First  \n",
       "36634      D   D2        Repeat  \n",
       "36637      M   M1        Repeat  \n",
       "...      ...  ...           ...  \n",
       "42731      M   M2        Repeat  \n",
       "26737      N   N3         First  \n",
       "26738      N   N3        Repeat  \n",
       "26740      J   J3        Repeat  \n",
       "26739      M   M1         First  \n",
       "\n",
       "[3789 rows x 24 columns]"
      ]
     },
     "execution_count": 17,
     "metadata": {},
     "output_type": "execute_result"
    }
   ],
   "source": [
    "# Just checking that my sort worked and the index matched up\n",
    "(terry_sort[(terry_sort.duplicated(subset=['Subject ID'], keep=False)) & \n",
    "            (terry_sort['Subject ID']!='Unidentified')]).sort_values('Subject ID')"
   ]
  },
  {
   "cell_type": "code",
   "execution_count": 18,
   "metadata": {},
   "outputs": [],
   "source": [
    "# OK I'm going to reset the index for clarity and I do not need Subject ID anymore\n",
    "terry_sort.reset_index(drop=True, inplace=True)\n",
    "terry_sort.drop(columns='Subject ID', axis=1, inplace=True)"
   ]
  },
  {
   "cell_type": "code",
   "execution_count": 19,
   "metadata": {},
   "outputs": [
    {
     "data": {
      "image/png": "[encoded data removed]",
      "text/plain": [
       "<Figure size 422.425x360 with 1 Axes>"
      ]
     },
     "metadata": {
      "needs_background": "light"
     },
     "output_type": "display_data"
    }
   ],
   "source": [
    "sns.displot(terry_sort, x='Subject Known', hue_order=('Y','N'), hue='Arrest Flag', multiple='stack');"
   ]
  },
  {
   "cell_type": "markdown",
   "metadata": {
    "heading_collapsed": true
   },
   "source": [
    "### Analyze 'GO / SC Num'\n",
    "\n",
    "Parent report ID number seems irrelevant to my model.  Dropped this column."
   ]
  },
  {
   "cell_type": "code",
   "execution_count": 20,
   "metadata": {
    "hidden": true
   },
   "outputs": [
    {
     "data": {
      "text/plain": [
       "20150000190790    16\n",
       "20160000378750    16\n",
       "20180000134604    14\n",
       "20170000132836    13\n",
       "20190000441736    13\n",
       "                  ..\n",
       "20160000292906     1\n",
       "20150000281640     1\n",
       "20190000105516     1\n",
       "20200000057387     1\n",
       "20180000071981     1\n",
       "Name: GO / SC Num, Length: 35439, dtype: int64"
      ]
     },
     "execution_count": 20,
     "metadata": {},
     "output_type": "execute_result"
    }
   ],
   "source": [
    "# This field is related to the parent report id number.  There are 35439 unique values.\n",
    "# I do not see how this field could be relevent and I do not want 35439 dummy variables.\n",
    "# So I will drop this variable.\n",
    "terry_sort['GO / SC Num'].value_counts()"
   ]
  },
  {
   "cell_type": "code",
   "execution_count": 21,
   "metadata": {
    "hidden": true
   },
   "outputs": [
    {
     "data": {
      "text/html": [
       "<div>\n",
       "<style scoped>\n",
       "    .dataframe tbody tr th:only-of-type {\n",
       "        vertical-align: middle;\n",
       "    }\n",
       "\n",
       "    .dataframe tbody tr th {\n",
       "        vertical-align: top;\n",
       "    }\n",
       "\n",
       "    .dataframe thead th {\n",
       "        text-align: right;\n",
       "    }\n",
       "</style>\n",
       "<table border=\"1\" class=\"dataframe\">\n",
       "  <thead>\n",
       "    <tr style=\"text-align: right;\">\n",
       "      <th></th>\n",
       "      <th>Subject Age Group</th>\n",
       "      <th>Terry Stop ID</th>\n",
       "      <th>Stop Resolution</th>\n",
       "      <th>Weapon Type</th>\n",
       "      <th>Officer ID</th>\n",
       "      <th>Officer YOB</th>\n",
       "      <th>Officer Gender</th>\n",
       "      <th>Officer Race</th>\n",
       "      <th>Subject Perceived Race</th>\n",
       "      <th>Subject Perceived Gender</th>\n",
       "      <th>...</th>\n",
       "      <th>Initial Call Type</th>\n",
       "      <th>Final Call Type</th>\n",
       "      <th>Call Type</th>\n",
       "      <th>Officer Squad</th>\n",
       "      <th>Arrest Flag</th>\n",
       "      <th>Frisk Flag</th>\n",
       "      <th>Precinct</th>\n",
       "      <th>Sector</th>\n",
       "      <th>Beat</th>\n",
       "      <th>Subject Known</th>\n",
       "    </tr>\n",
       "  </thead>\n",
       "  <tbody>\n",
       "    <tr>\n",
       "      <th>0</th>\n",
       "      <td>1 - 17</td>\n",
       "      <td>28020</td>\n",
       "      <td>Referred for Prosecution</td>\n",
       "      <td>Lethal Cutting Instrument</td>\n",
       "      <td>4585</td>\n",
       "      <td>1955</td>\n",
       "      <td>M</td>\n",
       "      <td>Hispanic or Latino</td>\n",
       "      <td>Black or African American</td>\n",
       "      <td>Female</td>\n",
       "      <td>...</td>\n",
       "      <td>-</td>\n",
       "      <td>-</td>\n",
       "      <td>-</td>\n",
       "      <td>NaN</td>\n",
       "      <td>N</td>\n",
       "      <td>Y</td>\n",
       "      <td>East</td>\n",
       "      <td>G</td>\n",
       "      <td>G2</td>\n",
       "      <td>Unidentified</td>\n",
       "    </tr>\n",
       "    <tr>\n",
       "      <th>1</th>\n",
       "      <td>18 - 25</td>\n",
       "      <td>305901</td>\n",
       "      <td>Arrest</td>\n",
       "      <td>None</td>\n",
       "      <td>7661</td>\n",
       "      <td>1984</td>\n",
       "      <td>M</td>\n",
       "      <td>White</td>\n",
       "      <td>Black or African American</td>\n",
       "      <td>Male</td>\n",
       "      <td>...</td>\n",
       "      <td>-</td>\n",
       "      <td>-</td>\n",
       "      <td>-</td>\n",
       "      <td>NaN</td>\n",
       "      <td>N</td>\n",
       "      <td>N</td>\n",
       "      <td>West</td>\n",
       "      <td>M</td>\n",
       "      <td>M3</td>\n",
       "      <td>Unidentified</td>\n",
       "    </tr>\n",
       "    <tr>\n",
       "      <th>2</th>\n",
       "      <td>36 - 45</td>\n",
       "      <td>28092</td>\n",
       "      <td>Field Contact</td>\n",
       "      <td>None</td>\n",
       "      <td>7634</td>\n",
       "      <td>1977</td>\n",
       "      <td>M</td>\n",
       "      <td>White</td>\n",
       "      <td>Multi-Racial</td>\n",
       "      <td>Male</td>\n",
       "      <td>...</td>\n",
       "      <td>-</td>\n",
       "      <td>-</td>\n",
       "      <td>-</td>\n",
       "      <td>NaN</td>\n",
       "      <td>N</td>\n",
       "      <td>N</td>\n",
       "      <td>-</td>\n",
       "      <td>-</td>\n",
       "      <td>-</td>\n",
       "      <td>Unidentified</td>\n",
       "    </tr>\n",
       "    <tr>\n",
       "      <th>3</th>\n",
       "      <td>18 - 25</td>\n",
       "      <td>28093</td>\n",
       "      <td>Field Contact</td>\n",
       "      <td>None</td>\n",
       "      <td>7634</td>\n",
       "      <td>1977</td>\n",
       "      <td>M</td>\n",
       "      <td>White</td>\n",
       "      <td>White</td>\n",
       "      <td>Male</td>\n",
       "      <td>...</td>\n",
       "      <td>-</td>\n",
       "      <td>-</td>\n",
       "      <td>-</td>\n",
       "      <td>NaN</td>\n",
       "      <td>N</td>\n",
       "      <td>N</td>\n",
       "      <td>-</td>\n",
       "      <td>-</td>\n",
       "      <td>-</td>\n",
       "      <td>Unidentified</td>\n",
       "    </tr>\n",
       "    <tr>\n",
       "      <th>4</th>\n",
       "      <td>26 - 35</td>\n",
       "      <td>28381</td>\n",
       "      <td>Field Contact</td>\n",
       "      <td>None</td>\n",
       "      <td>7634</td>\n",
       "      <td>1977</td>\n",
       "      <td>M</td>\n",
       "      <td>White</td>\n",
       "      <td>White</td>\n",
       "      <td>Male</td>\n",
       "      <td>...</td>\n",
       "      <td>-</td>\n",
       "      <td>-</td>\n",
       "      <td>-</td>\n",
       "      <td>NaN</td>\n",
       "      <td>N</td>\n",
       "      <td>N</td>\n",
       "      <td>-</td>\n",
       "      <td>-</td>\n",
       "      <td>-</td>\n",
       "      <td>Unidentified</td>\n",
       "    </tr>\n",
       "  </tbody>\n",
       "</table>\n",
       "<p>5 rows × 22 columns</p>\n",
       "</div>"
      ],
      "text/plain": [
       "  Subject Age Group  Terry Stop ID           Stop Resolution  \\\n",
       "0            1 - 17          28020  Referred for Prosecution   \n",
       "1           18 - 25         305901                    Arrest   \n",
       "2           36 - 45          28092             Field Contact   \n",
       "3           18 - 25          28093             Field Contact   \n",
       "4           26 - 35          28381             Field Contact   \n",
       "\n",
       "                 Weapon Type Officer ID  Officer YOB Officer Gender  \\\n",
       "0  Lethal Cutting Instrument     4585           1955              M   \n",
       "1                       None     7661           1984              M   \n",
       "2                       None     7634           1977              M   \n",
       "3                       None     7634           1977              M   \n",
       "4                       None     7634           1977              M   \n",
       "\n",
       "         Officer Race     Subject Perceived Race Subject Perceived Gender  \\\n",
       "0  Hispanic or Latino  Black or African American                   Female   \n",
       "1               White  Black or African American                     Male   \n",
       "2               White               Multi-Racial                     Male   \n",
       "3               White                      White                     Male   \n",
       "4               White                      White                     Male   \n",
       "\n",
       "   ... Initial Call Type Final Call Type Call Type Officer Squad Arrest Flag  \\\n",
       "0  ...                 -               -         -           NaN           N   \n",
       "1  ...                 -               -         -           NaN           N   \n",
       "2  ...                 -               -         -           NaN           N   \n",
       "3  ...                 -               -         -           NaN           N   \n",
       "4  ...                 -               -         -           NaN           N   \n",
       "\n",
       "  Frisk Flag Precinct  Sector    Beat Subject Known  \n",
       "0          Y     East  G       G2      Unidentified  \n",
       "1          N     West  M       M3      Unidentified  \n",
       "2          N        -       -       -  Unidentified  \n",
       "3          N        -       -       -  Unidentified  \n",
       "4          N        -       -       -  Unidentified  \n",
       "\n",
       "[5 rows x 22 columns]"
      ]
     },
     "execution_count": 21,
     "metadata": {},
     "output_type": "execute_result"
    }
   ],
   "source": [
    "terry_sort.drop(columns='GO / SC Num', axis=1, inplace=True)\n",
    "terry_sort.head()"
   ]
  },
  {
   "cell_type": "markdown",
   "metadata": {
    "heading_collapsed": true
   },
   "source": [
    "### Analyze 'Terry Stop ID'\n",
    "\n",
    "Found duplicates that appear to be same subject, same stop, but a different weapon.  \n",
    "Kept the first duplicate and changed Weapon Type to Multiple.\n",
    "Then drop Terry Stop ID column."
   ]
  },
  {
   "cell_type": "code",
   "execution_count": 22,
   "metadata": {
    "hidden": true
   },
   "outputs": [
    {
     "data": {
      "text/plain": [
       "15045077325    3\n",
       "13080077761    3\n",
       "12119304761    2\n",
       "12105013403    2\n",
       "15595812669    2\n",
       "              ..\n",
       "490528         1\n",
       "8705875089     1\n",
       "13103094430    1\n",
       "154270         1\n",
       "65536          1\n",
       "Name: Terry Stop ID, Length: 45292, dtype: int64"
      ]
     },
     "execution_count": 22,
     "metadata": {},
     "output_type": "execute_result"
    }
   ],
   "source": [
    "terry_sort['Terry Stop ID'].value_counts()"
   ]
  },
  {
   "cell_type": "code",
   "execution_count": 23,
   "metadata": {
    "hidden": true
   },
   "outputs": [
    {
     "data": {
      "text/html": [
       "<div>\n",
       "<style scoped>\n",
       "    .dataframe tbody tr th:only-of-type {\n",
       "        vertical-align: middle;\n",
       "    }\n",
       "\n",
       "    .dataframe tbody tr th {\n",
       "        vertical-align: top;\n",
       "    }\n",
       "\n",
       "    .dataframe thead th {\n",
       "        text-align: right;\n",
       "    }\n",
       "</style>\n",
       "<table border=\"1\" class=\"dataframe\">\n",
       "  <thead>\n",
       "    <tr style=\"text-align: right;\">\n",
       "      <th></th>\n",
       "      <th>Subject Known</th>\n",
       "      <th>Terry Stop ID</th>\n",
       "      <th>Weapon Type</th>\n",
       "      <th>Stop Resolution</th>\n",
       "      <th>Reported Date</th>\n",
       "      <th>Arrest Flag</th>\n",
       "    </tr>\n",
       "  </thead>\n",
       "  <tbody>\n",
       "    <tr>\n",
       "      <th>35968</th>\n",
       "      <td>First</td>\n",
       "      <td>8611673538</td>\n",
       "      <td>Blunt Object/Striking Implement</td>\n",
       "      <td>Field Contact</td>\n",
       "      <td>2019-07-12T00:00:00</td>\n",
       "      <td>N</td>\n",
       "    </tr>\n",
       "    <tr>\n",
       "      <th>35969</th>\n",
       "      <td>Repeat</td>\n",
       "      <td>8611673538</td>\n",
       "      <td>Knife/Cutting/Stabbing Instrument</td>\n",
       "      <td>Field Contact</td>\n",
       "      <td>2019-07-12T00:00:00</td>\n",
       "      <td>N</td>\n",
       "    </tr>\n",
       "    <tr>\n",
       "      <th>36162</th>\n",
       "      <td>First</td>\n",
       "      <td>8677596250</td>\n",
       "      <td>Knife/Cutting/Stabbing Instrument</td>\n",
       "      <td>Offense Report</td>\n",
       "      <td>2019-07-22T00:00:00</td>\n",
       "      <td>N</td>\n",
       "    </tr>\n",
       "    <tr>\n",
       "      <th>36163</th>\n",
       "      <td>Repeat</td>\n",
       "      <td>8677596250</td>\n",
       "      <td>Taser/Stun Gun</td>\n",
       "      <td>Offense Report</td>\n",
       "      <td>2019-07-22T00:00:00</td>\n",
       "      <td>N</td>\n",
       "    </tr>\n",
       "    <tr>\n",
       "      <th>36428</th>\n",
       "      <td>First</td>\n",
       "      <td>9585545373</td>\n",
       "      <td>Firearm</td>\n",
       "      <td>Field Contact</td>\n",
       "      <td>2019-08-03T00:00:00</td>\n",
       "      <td>N</td>\n",
       "    </tr>\n",
       "    <tr>\n",
       "      <th>36429</th>\n",
       "      <td>Repeat</td>\n",
       "      <td>9585545373</td>\n",
       "      <td>Handgun</td>\n",
       "      <td>Field Contact</td>\n",
       "      <td>2019-08-03T00:00:00</td>\n",
       "      <td>N</td>\n",
       "    </tr>\n",
       "    <tr>\n",
       "      <th>38928</th>\n",
       "      <td>First</td>\n",
       "      <td>12034618758</td>\n",
       "      <td>Knife/Cutting/Stabbing Instrument</td>\n",
       "      <td>Arrest</td>\n",
       "      <td>2019-12-08T00:00:00</td>\n",
       "      <td>Y</td>\n",
       "    </tr>\n",
       "    <tr>\n",
       "      <th>38929</th>\n",
       "      <td>Repeat</td>\n",
       "      <td>12034618758</td>\n",
       "      <td>Other Firearm</td>\n",
       "      <td>Arrest</td>\n",
       "      <td>2019-12-08T00:00:00</td>\n",
       "      <td>Y</td>\n",
       "    </tr>\n",
       "    <tr>\n",
       "      <th>39126</th>\n",
       "      <td>First</td>\n",
       "      <td>12105013403</td>\n",
       "      <td>Knife/Cutting/Stabbing Instrument</td>\n",
       "      <td>Arrest</td>\n",
       "      <td>2019-12-17T00:00:00</td>\n",
       "      <td>Y</td>\n",
       "    </tr>\n",
       "    <tr>\n",
       "      <th>39127</th>\n",
       "      <td>Repeat</td>\n",
       "      <td>12105013403</td>\n",
       "      <td>Mace/Pepper Spray</td>\n",
       "      <td>Arrest</td>\n",
       "      <td>2019-12-17T00:00:00</td>\n",
       "      <td>Y</td>\n",
       "    </tr>\n",
       "    <tr>\n",
       "      <th>39341</th>\n",
       "      <td>Repeat</td>\n",
       "      <td>12119304761</td>\n",
       "      <td>Blunt Object/Striking Implement</td>\n",
       "      <td>Field Contact</td>\n",
       "      <td>2019-12-28T00:00:00</td>\n",
       "      <td>N</td>\n",
       "    </tr>\n",
       "    <tr>\n",
       "      <th>39342</th>\n",
       "      <td>Repeat</td>\n",
       "      <td>12119304761</td>\n",
       "      <td>Knife/Cutting/Stabbing Instrument</td>\n",
       "      <td>Field Contact</td>\n",
       "      <td>2019-12-28T00:00:00</td>\n",
       "      <td>N</td>\n",
       "    </tr>\n",
       "    <tr>\n",
       "      <th>40035</th>\n",
       "      <td>First</td>\n",
       "      <td>12601385662</td>\n",
       "      <td>Blunt Object/Striking Implement</td>\n",
       "      <td>Field Contact</td>\n",
       "      <td>2020-02-02T00:00:00</td>\n",
       "      <td>N</td>\n",
       "    </tr>\n",
       "    <tr>\n",
       "      <th>40036</th>\n",
       "      <td>Repeat</td>\n",
       "      <td>12601385662</td>\n",
       "      <td>Knife/Cutting/Stabbing Instrument</td>\n",
       "      <td>Field Contact</td>\n",
       "      <td>2020-02-02T00:00:00</td>\n",
       "      <td>N</td>\n",
       "    </tr>\n",
       "    <tr>\n",
       "      <th>40129</th>\n",
       "      <td>First</td>\n",
       "      <td>12608907801</td>\n",
       "      <td>Firearm</td>\n",
       "      <td>Arrest</td>\n",
       "      <td>2020-02-07T00:00:00</td>\n",
       "      <td>Y</td>\n",
       "    </tr>\n",
       "    <tr>\n",
       "      <th>40130</th>\n",
       "      <td>Repeat</td>\n",
       "      <td>12608907801</td>\n",
       "      <td>Knife/Cutting/Stabbing Instrument</td>\n",
       "      <td>Arrest</td>\n",
       "      <td>2020-02-07T00:00:00</td>\n",
       "      <td>Y</td>\n",
       "    </tr>\n",
       "    <tr>\n",
       "      <th>40595</th>\n",
       "      <td>Repeat</td>\n",
       "      <td>12686594000</td>\n",
       "      <td>Blunt Object/Striking Implement</td>\n",
       "      <td>Arrest</td>\n",
       "      <td>2020-03-03T00:00:00</td>\n",
       "      <td>Y</td>\n",
       "    </tr>\n",
       "    <tr>\n",
       "      <th>40596</th>\n",
       "      <td>Repeat</td>\n",
       "      <td>12686594000</td>\n",
       "      <td>Knife/Cutting/Stabbing Instrument</td>\n",
       "      <td>Arrest</td>\n",
       "      <td>2020-03-03T00:00:00</td>\n",
       "      <td>Y</td>\n",
       "    </tr>\n",
       "    <tr>\n",
       "      <th>40616</th>\n",
       "      <td>First</td>\n",
       "      <td>12689034912</td>\n",
       "      <td>Blunt Object/Striking Implement</td>\n",
       "      <td>Field Contact</td>\n",
       "      <td>2020-03-04T00:00:00</td>\n",
       "      <td>N</td>\n",
       "    </tr>\n",
       "    <tr>\n",
       "      <th>40617</th>\n",
       "      <td>Repeat</td>\n",
       "      <td>12689034912</td>\n",
       "      <td>Knife/Cutting/Stabbing Instrument</td>\n",
       "      <td>Field Contact</td>\n",
       "      <td>2020-03-04T00:00:00</td>\n",
       "      <td>N</td>\n",
       "    </tr>\n",
       "    <tr>\n",
       "      <th>40994</th>\n",
       "      <td>First</td>\n",
       "      <td>12781960580</td>\n",
       "      <td>Firearm</td>\n",
       "      <td>Offense Report</td>\n",
       "      <td>2020-03-21T00:00:00</td>\n",
       "      <td>N</td>\n",
       "    </tr>\n",
       "    <tr>\n",
       "      <th>40995</th>\n",
       "      <td>Repeat</td>\n",
       "      <td>12781960580</td>\n",
       "      <td>Knife/Cutting/Stabbing Instrument</td>\n",
       "      <td>Offense Report</td>\n",
       "      <td>2020-03-21T00:00:00</td>\n",
       "      <td>N</td>\n",
       "    </tr>\n",
       "    <tr>\n",
       "      <th>41505</th>\n",
       "      <td>First</td>\n",
       "      <td>12851512661</td>\n",
       "      <td>Knife/Cutting/Stabbing Instrument</td>\n",
       "      <td>Field Contact</td>\n",
       "      <td>2020-04-11T00:00:00</td>\n",
       "      <td>N</td>\n",
       "    </tr>\n",
       "    <tr>\n",
       "      <th>41506</th>\n",
       "      <td>Repeat</td>\n",
       "      <td>12851512661</td>\n",
       "      <td>Other Firearm</td>\n",
       "      <td>Field Contact</td>\n",
       "      <td>2020-04-11T00:00:00</td>\n",
       "      <td>N</td>\n",
       "    </tr>\n",
       "    <tr>\n",
       "      <th>41894</th>\n",
       "      <td>Repeat</td>\n",
       "      <td>13080077761</td>\n",
       "      <td>Blunt Object/Striking Implement</td>\n",
       "      <td>Arrest</td>\n",
       "      <td>2020-04-24T00:00:00</td>\n",
       "      <td>Y</td>\n",
       "    </tr>\n",
       "    <tr>\n",
       "      <th>41895</th>\n",
       "      <td>Repeat</td>\n",
       "      <td>13080077761</td>\n",
       "      <td>Knife/Cutting/Stabbing Instrument</td>\n",
       "      <td>Arrest</td>\n",
       "      <td>2020-04-24T00:00:00</td>\n",
       "      <td>Y</td>\n",
       "    </tr>\n",
       "    <tr>\n",
       "      <th>41896</th>\n",
       "      <td>Repeat</td>\n",
       "      <td>13080077761</td>\n",
       "      <td>Mace/Pepper Spray</td>\n",
       "      <td>Arrest</td>\n",
       "      <td>2020-04-24T00:00:00</td>\n",
       "      <td>Y</td>\n",
       "    </tr>\n",
       "    <tr>\n",
       "      <th>43080</th>\n",
       "      <td>Repeat</td>\n",
       "      <td>13645398605</td>\n",
       "      <td>Blunt Object/Striking Implement</td>\n",
       "      <td>Offense Report</td>\n",
       "      <td>2020-06-22T00:00:00</td>\n",
       "      <td>N</td>\n",
       "    </tr>\n",
       "    <tr>\n",
       "      <th>43081</th>\n",
       "      <td>Repeat</td>\n",
       "      <td>13645398605</td>\n",
       "      <td>Knife/Cutting/Stabbing Instrument</td>\n",
       "      <td>Offense Report</td>\n",
       "      <td>2020-06-22T00:00:00</td>\n",
       "      <td>N</td>\n",
       "    </tr>\n",
       "    <tr>\n",
       "      <th>43430</th>\n",
       "      <td>First</td>\n",
       "      <td>14266198833</td>\n",
       "      <td>Blunt Object/Striking Implement</td>\n",
       "      <td>Arrest</td>\n",
       "      <td>2020-07-26T00:00:00</td>\n",
       "      <td>Y</td>\n",
       "    </tr>\n",
       "    <tr>\n",
       "      <th>43431</th>\n",
       "      <td>Repeat</td>\n",
       "      <td>14266198833</td>\n",
       "      <td>Knife/Cutting/Stabbing Instrument</td>\n",
       "      <td>Arrest</td>\n",
       "      <td>2020-07-26T00:00:00</td>\n",
       "      <td>Y</td>\n",
       "    </tr>\n",
       "    <tr>\n",
       "      <th>43666</th>\n",
       "      <td>Repeat</td>\n",
       "      <td>14935106231</td>\n",
       "      <td>Knife/Cutting/Stabbing Instrument</td>\n",
       "      <td>Arrest</td>\n",
       "      <td>2020-08-18T00:00:00</td>\n",
       "      <td>Y</td>\n",
       "    </tr>\n",
       "    <tr>\n",
       "      <th>43667</th>\n",
       "      <td>Repeat</td>\n",
       "      <td>14935106231</td>\n",
       "      <td>Mace/Pepper Spray</td>\n",
       "      <td>Arrest</td>\n",
       "      <td>2020-08-18T00:00:00</td>\n",
       "      <td>Y</td>\n",
       "    </tr>\n",
       "    <tr>\n",
       "      <th>43719</th>\n",
       "      <td>First</td>\n",
       "      <td>15045077325</td>\n",
       "      <td>Blunt Object/Striking Implement</td>\n",
       "      <td>Arrest</td>\n",
       "      <td>2020-08-21T00:00:00</td>\n",
       "      <td>Y</td>\n",
       "    </tr>\n",
       "    <tr>\n",
       "      <th>43720</th>\n",
       "      <td>Repeat</td>\n",
       "      <td>15045077325</td>\n",
       "      <td>Fire/Incendiary Device</td>\n",
       "      <td>Arrest</td>\n",
       "      <td>2020-08-21T00:00:00</td>\n",
       "      <td>Y</td>\n",
       "    </tr>\n",
       "    <tr>\n",
       "      <th>43721</th>\n",
       "      <td>Repeat</td>\n",
       "      <td>15045077325</td>\n",
       "      <td>Knife/Cutting/Stabbing Instrument</td>\n",
       "      <td>Arrest</td>\n",
       "      <td>2020-08-21T00:00:00</td>\n",
       "      <td>Y</td>\n",
       "    </tr>\n",
       "    <tr>\n",
       "      <th>43764</th>\n",
       "      <td>First</td>\n",
       "      <td>15055860719</td>\n",
       "      <td>Knife/Cutting/Stabbing Instrument</td>\n",
       "      <td>Field Contact</td>\n",
       "      <td>2020-08-26T00:00:00</td>\n",
       "      <td>N</td>\n",
       "    </tr>\n",
       "    <tr>\n",
       "      <th>43765</th>\n",
       "      <td>Repeat</td>\n",
       "      <td>15055860719</td>\n",
       "      <td>Mace/Pepper Spray</td>\n",
       "      <td>Field Contact</td>\n",
       "      <td>2020-08-26T00:00:00</td>\n",
       "      <td>N</td>\n",
       "    </tr>\n",
       "    <tr>\n",
       "      <th>44049</th>\n",
       "      <td>First</td>\n",
       "      <td>15595812669</td>\n",
       "      <td>Blunt Object/Striking Implement</td>\n",
       "      <td>Offense Report</td>\n",
       "      <td>2020-09-17T00:00:00</td>\n",
       "      <td>N</td>\n",
       "    </tr>\n",
       "    <tr>\n",
       "      <th>44050</th>\n",
       "      <td>Repeat</td>\n",
       "      <td>15595812669</td>\n",
       "      <td>Knife/Cutting/Stabbing Instrument</td>\n",
       "      <td>Offense Report</td>\n",
       "      <td>2020-09-17T00:00:00</td>\n",
       "      <td>N</td>\n",
       "    </tr>\n",
       "    <tr>\n",
       "      <th>44401</th>\n",
       "      <td>First</td>\n",
       "      <td>16076863718</td>\n",
       "      <td>Firearm</td>\n",
       "      <td>Arrest</td>\n",
       "      <td>2020-10-12T00:00:00</td>\n",
       "      <td>Y</td>\n",
       "    </tr>\n",
       "    <tr>\n",
       "      <th>44402</th>\n",
       "      <td>Repeat</td>\n",
       "      <td>16076863718</td>\n",
       "      <td>Knife/Cutting/Stabbing Instrument</td>\n",
       "      <td>Arrest</td>\n",
       "      <td>2020-10-12T00:00:00</td>\n",
       "      <td>Y</td>\n",
       "    </tr>\n",
       "    <tr>\n",
       "      <th>44687</th>\n",
       "      <td>First</td>\n",
       "      <td>16677515049</td>\n",
       "      <td>Knife/Cutting/Stabbing Instrument</td>\n",
       "      <td>Field Contact</td>\n",
       "      <td>2020-10-29T00:00:00</td>\n",
       "      <td>N</td>\n",
       "    </tr>\n",
       "    <tr>\n",
       "      <th>44688</th>\n",
       "      <td>Repeat</td>\n",
       "      <td>16677515049</td>\n",
       "      <td>Taser/Stun Gun</td>\n",
       "      <td>Field Contact</td>\n",
       "      <td>2020-10-29T00:00:00</td>\n",
       "      <td>N</td>\n",
       "    </tr>\n",
       "    <tr>\n",
       "      <th>44807</th>\n",
       "      <td>First</td>\n",
       "      <td>17542218019</td>\n",
       "      <td>Knife/Cutting/Stabbing Instrument</td>\n",
       "      <td>Arrest</td>\n",
       "      <td>2020-11-05T00:00:00</td>\n",
       "      <td>Y</td>\n",
       "    </tr>\n",
       "    <tr>\n",
       "      <th>44808</th>\n",
       "      <td>Repeat</td>\n",
       "      <td>17542218019</td>\n",
       "      <td>Other Firearm</td>\n",
       "      <td>Arrest</td>\n",
       "      <td>2020-11-05T00:00:00</td>\n",
       "      <td>Y</td>\n",
       "    </tr>\n",
       "    <tr>\n",
       "      <th>45201</th>\n",
       "      <td>Repeat</td>\n",
       "      <td>18800151229</td>\n",
       "      <td>Blunt Object/Striking Implement</td>\n",
       "      <td>Field Contact</td>\n",
       "      <td>2020-12-06T00:00:00</td>\n",
       "      <td>N</td>\n",
       "    </tr>\n",
       "    <tr>\n",
       "      <th>45202</th>\n",
       "      <td>Repeat</td>\n",
       "      <td>18800151229</td>\n",
       "      <td>Knife/Cutting/Stabbing Instrument</td>\n",
       "      <td>Field Contact</td>\n",
       "      <td>2020-12-06T00:00:00</td>\n",
       "      <td>N</td>\n",
       "    </tr>\n",
       "  </tbody>\n",
       "</table>\n",
       "</div>"
      ],
      "text/plain": [
       "      Subject Known  Terry Stop ID                        Weapon Type  \\\n",
       "35968         First     8611673538    Blunt Object/Striking Implement   \n",
       "35969        Repeat     8611673538  Knife/Cutting/Stabbing Instrument   \n",
       "36162         First     8677596250  Knife/Cutting/Stabbing Instrument   \n",
       "36163        Repeat     8677596250                     Taser/Stun Gun   \n",
       "36428         First     9585545373                            Firearm   \n",
       "36429        Repeat     9585545373                            Handgun   \n",
       "38928         First    12034618758  Knife/Cutting/Stabbing Instrument   \n",
       "38929        Repeat    12034618758                      Other Firearm   \n",
       "39126         First    12105013403  Knife/Cutting/Stabbing Instrument   \n",
       "39127        Repeat    12105013403                  Mace/Pepper Spray   \n",
       "39341        Repeat    12119304761    Blunt Object/Striking Implement   \n",
       "39342        Repeat    12119304761  Knife/Cutting/Stabbing Instrument   \n",
       "40035         First    12601385662    Blunt Object/Striking Implement   \n",
       "40036        Repeat    12601385662  Knife/Cutting/Stabbing Instrument   \n",
       "40129         First    12608907801                            Firearm   \n",
       "40130        Repeat    12608907801  Knife/Cutting/Stabbing Instrument   \n",
       "40595        Repeat    12686594000    Blunt Object/Striking Implement   \n",
       "40596        Repeat    12686594000  Knife/Cutting/Stabbing Instrument   \n",
       "40616         First    12689034912    Blunt Object/Striking Implement   \n",
       "40617        Repeat    12689034912  Knife/Cutting/Stabbing Instrument   \n",
       "40994         First    12781960580                            Firearm   \n",
       "40995        Repeat    12781960580  Knife/Cutting/Stabbing Instrument   \n",
       "41505         First    12851512661  Knife/Cutting/Stabbing Instrument   \n",
       "41506        Repeat    12851512661                      Other Firearm   \n",
       "41894        Repeat    13080077761    Blunt Object/Striking Implement   \n",
       "41895        Repeat    13080077761  Knife/Cutting/Stabbing Instrument   \n",
       "41896        Repeat    13080077761                  Mace/Pepper Spray   \n",
       "43080        Repeat    13645398605    Blunt Object/Striking Implement   \n",
       "43081        Repeat    13645398605  Knife/Cutting/Stabbing Instrument   \n",
       "43430         First    14266198833    Blunt Object/Striking Implement   \n",
       "43431        Repeat    14266198833  Knife/Cutting/Stabbing Instrument   \n",
       "43666        Repeat    14935106231  Knife/Cutting/Stabbing Instrument   \n",
       "43667        Repeat    14935106231                  Mace/Pepper Spray   \n",
       "43719         First    15045077325    Blunt Object/Striking Implement   \n",
       "43720        Repeat    15045077325             Fire/Incendiary Device   \n",
       "43721        Repeat    15045077325  Knife/Cutting/Stabbing Instrument   \n",
       "43764         First    15055860719  Knife/Cutting/Stabbing Instrument   \n",
       "43765        Repeat    15055860719                  Mace/Pepper Spray   \n",
       "44049         First    15595812669    Blunt Object/Striking Implement   \n",
       "44050        Repeat    15595812669  Knife/Cutting/Stabbing Instrument   \n",
       "44401         First    16076863718                            Firearm   \n",
       "44402        Repeat    16076863718  Knife/Cutting/Stabbing Instrument   \n",
       "44687         First    16677515049  Knife/Cutting/Stabbing Instrument   \n",
       "44688        Repeat    16677515049                     Taser/Stun Gun   \n",
       "44807         First    17542218019  Knife/Cutting/Stabbing Instrument   \n",
       "44808        Repeat    17542218019                      Other Firearm   \n",
       "45201        Repeat    18800151229    Blunt Object/Striking Implement   \n",
       "45202        Repeat    18800151229  Knife/Cutting/Stabbing Instrument   \n",
       "\n",
       "      Stop Resolution        Reported Date Arrest Flag  \n",
       "35968   Field Contact  2019-07-12T00:00:00           N  \n",
       "35969   Field Contact  2019-07-12T00:00:00           N  \n",
       "36162  Offense Report  2019-07-22T00:00:00           N  \n",
       "36163  Offense Report  2019-07-22T00:00:00           N  \n",
       "36428   Field Contact  2019-08-03T00:00:00           N  \n",
       "36429   Field Contact  2019-08-03T00:00:00           N  \n",
       "38928          Arrest  2019-12-08T00:00:00           Y  \n",
       "38929          Arrest  2019-12-08T00:00:00           Y  \n",
       "39126          Arrest  2019-12-17T00:00:00           Y  \n",
       "39127          Arrest  2019-12-17T00:00:00           Y  \n",
       "39341   Field Contact  2019-12-28T00:00:00           N  \n",
       "39342   Field Contact  2019-12-28T00:00:00           N  \n",
       "40035   Field Contact  2020-02-02T00:00:00           N  \n",
       "40036   Field Contact  2020-02-02T00:00:00           N  \n",
       "40129          Arrest  2020-02-07T00:00:00           Y  \n",
       "40130          Arrest  2020-02-07T00:00:00           Y  \n",
       "40595          Arrest  2020-03-03T00:00:00           Y  \n",
       "40596          Arrest  2020-03-03T00:00:00           Y  \n",
       "40616   Field Contact  2020-03-04T00:00:00           N  \n",
       "40617   Field Contact  2020-03-04T00:00:00           N  \n",
       "40994  Offense Report  2020-03-21T00:00:00           N  \n",
       "40995  Offense Report  2020-03-21T00:00:00           N  \n",
       "41505   Field Contact  2020-04-11T00:00:00           N  \n",
       "41506   Field Contact  2020-04-11T00:00:00           N  \n",
       "41894          Arrest  2020-04-24T00:00:00           Y  \n",
       "41895          Arrest  2020-04-24T00:00:00           Y  \n",
       "41896          Arrest  2020-04-24T00:00:00           Y  \n",
       "43080  Offense Report  2020-06-22T00:00:00           N  \n",
       "43081  Offense Report  2020-06-22T00:00:00           N  \n",
       "43430          Arrest  2020-07-26T00:00:00           Y  \n",
       "43431          Arrest  2020-07-26T00:00:00           Y  \n",
       "43666          Arrest  2020-08-18T00:00:00           Y  \n",
       "43667          Arrest  2020-08-18T00:00:00           Y  \n",
       "43719          Arrest  2020-08-21T00:00:00           Y  \n",
       "43720          Arrest  2020-08-21T00:00:00           Y  \n",
       "43721          Arrest  2020-08-21T00:00:00           Y  \n",
       "43764   Field Contact  2020-08-26T00:00:00           N  \n",
       "43765   Field Contact  2020-08-26T00:00:00           N  \n",
       "44049  Offense Report  2020-09-17T00:00:00           N  \n",
       "44050  Offense Report  2020-09-17T00:00:00           N  \n",
       "44401          Arrest  2020-10-12T00:00:00           Y  \n",
       "44402          Arrest  2020-10-12T00:00:00           Y  \n",
       "44687   Field Contact  2020-10-29T00:00:00           N  \n",
       "44688   Field Contact  2020-10-29T00:00:00           N  \n",
       "44807          Arrest  2020-11-05T00:00:00           Y  \n",
       "44808          Arrest  2020-11-05T00:00:00           Y  \n",
       "45201   Field Contact  2020-12-06T00:00:00           N  \n",
       "45202   Field Contact  2020-12-06T00:00:00           N  "
      ]
     },
     "execution_count": 23,
     "metadata": {},
     "output_type": "execute_result"
    }
   ],
   "source": [
    "terry_sort[terry_sort.duplicated\n",
    "           (subset=['Terry Stop ID'], keep=False)\n",
    "          ].loc[:,['Subject Known','Terry Stop ID', 'Weapon Type', 'Stop Resolution', 'Reported Date','Arrest Flag']]\n",
    "# 48 rows of duplicates, otherwise a unique key\n",
    "# But what do these duplicates mean?\n",
    "# Same subject, same stop, same resolution, different weapons, same officer\n",
    "# It appears the officer enters a new record for each weapon found\n",
    "# But this isn't really a new arrest... it is the same subject, same officer, same stop, same arrest (or non-arrest)\n",
    "# Need to check, are the outcomes ever actually different? No\n",
    "# The outcomes are not different.  It just looks like two (or more) weapons for the same subject at the same stop.\n",
    "# What will this do to my models?\n",
    "# Can I somehow capture that 2 weapons were found?\n",
    "# My instinct says to drop these duplicates.  The stop id is not actually relevent.\n",
    "# Perhaps change the Weapon Type to include both types\n",
    "# Given that only 6% of the stops result in arrest, and half of these 2 weapon stops result in arrest, I think it is significant.\n",
    "# Since I am considering changing the weapon to to 'Multiple', let's analyze that variable first."
   ]
  },
  {
   "cell_type": "code",
   "execution_count": 24,
   "metadata": {
    "hidden": true,
    "scrolled": true
   },
   "outputs": [
    {
     "data": {
      "text/plain": [
       "(45292, 22)"
      ]
     },
     "execution_count": 24,
     "metadata": {},
     "output_type": "execute_result"
    }
   ],
   "source": [
    "# These are not really Repeat stops as my new Subject Known indicates\n",
    "# I am going to change these records Weapon Type to Multiple and then delete the duplicate record\n",
    "\n",
    "terry_sort.loc[terry_sort[terry_sort.duplicated(subset=['Terry Stop ID'], keep=False)].index,'Weapon Type'] = 'Multiple'\n",
    "terry_sort.drop_duplicates(subset=['Terry Stop ID'], keep='first', inplace=True)\n",
    "terry_sort.shape"
   ]
  },
  {
   "cell_type": "code",
   "execution_count": 25,
   "metadata": {
    "hidden": true,
    "scrolled": false
   },
   "outputs": [
    {
     "data": {
      "text/html": [
       "<div>\n",
       "<style scoped>\n",
       "    .dataframe tbody tr th:only-of-type {\n",
       "        vertical-align: middle;\n",
       "    }\n",
       "\n",
       "    .dataframe tbody tr th {\n",
       "        vertical-align: top;\n",
       "    }\n",
       "\n",
       "    .dataframe thead th {\n",
       "        text-align: right;\n",
       "    }\n",
       "</style>\n",
       "<table border=\"1\" class=\"dataframe\">\n",
       "  <thead>\n",
       "    <tr style=\"text-align: right;\">\n",
       "      <th></th>\n",
       "      <th>Subject Age Group</th>\n",
       "      <th>Stop Resolution</th>\n",
       "      <th>Weapon Type</th>\n",
       "      <th>Officer ID</th>\n",
       "      <th>Officer YOB</th>\n",
       "      <th>Officer Gender</th>\n",
       "      <th>Officer Race</th>\n",
       "      <th>Subject Perceived Race</th>\n",
       "      <th>Subject Perceived Gender</th>\n",
       "      <th>Reported Date</th>\n",
       "      <th>...</th>\n",
       "      <th>Initial Call Type</th>\n",
       "      <th>Final Call Type</th>\n",
       "      <th>Call Type</th>\n",
       "      <th>Officer Squad</th>\n",
       "      <th>Arrest Flag</th>\n",
       "      <th>Frisk Flag</th>\n",
       "      <th>Precinct</th>\n",
       "      <th>Sector</th>\n",
       "      <th>Beat</th>\n",
       "      <th>Subject Known</th>\n",
       "    </tr>\n",
       "  </thead>\n",
       "  <tbody>\n",
       "    <tr>\n",
       "      <th>45287</th>\n",
       "      <td>26 - 35</td>\n",
       "      <td>Field Contact</td>\n",
       "      <td>-</td>\n",
       "      <td>6353</td>\n",
       "      <td>1972</td>\n",
       "      <td>M</td>\n",
       "      <td>White</td>\n",
       "      <td>White</td>\n",
       "      <td>Male</td>\n",
       "      <td>2020-12-15T00:00:00</td>\n",
       "      <td>...</td>\n",
       "      <td>TRESPASS</td>\n",
       "      <td>--SUSPICIOUS CIRCUM. - SUSPICIOUS PERSON</td>\n",
       "      <td>911</td>\n",
       "      <td>WEST PCT 1ST W - DAVID/MARY</td>\n",
       "      <td>N</td>\n",
       "      <td>N</td>\n",
       "      <td>West</td>\n",
       "      <td>M</td>\n",
       "      <td>M2</td>\n",
       "      <td>First</td>\n",
       "    </tr>\n",
       "    <tr>\n",
       "      <th>45288</th>\n",
       "      <td>26 - 35</td>\n",
       "      <td>Field Contact</td>\n",
       "      <td>-</td>\n",
       "      <td>6353</td>\n",
       "      <td>1972</td>\n",
       "      <td>M</td>\n",
       "      <td>White</td>\n",
       "      <td>White</td>\n",
       "      <td>Male</td>\n",
       "      <td>2020-12-15T00:00:00</td>\n",
       "      <td>...</td>\n",
       "      <td>TRESPASS</td>\n",
       "      <td>--SUSPICIOUS CIRCUM. - SUSPICIOUS PERSON</td>\n",
       "      <td>911</td>\n",
       "      <td>WEST PCT 1ST W - DAVID/MARY</td>\n",
       "      <td>N</td>\n",
       "      <td>N</td>\n",
       "      <td>West</td>\n",
       "      <td>M</td>\n",
       "      <td>M2</td>\n",
       "      <td>First</td>\n",
       "    </tr>\n",
       "    <tr>\n",
       "      <th>45289</th>\n",
       "      <td>36 - 45</td>\n",
       "      <td>Arrest</td>\n",
       "      <td>-</td>\n",
       "      <td>8719</td>\n",
       "      <td>1996</td>\n",
       "      <td>M</td>\n",
       "      <td>Asian</td>\n",
       "      <td>Black or African American</td>\n",
       "      <td>Male</td>\n",
       "      <td>2020-12-15T00:00:00</td>\n",
       "      <td>...</td>\n",
       "      <td>FIGHT - IP - PHYSICAL (NO WEAPONS)</td>\n",
       "      <td>--ASSAULTS, OTHER</td>\n",
       "      <td>911</td>\n",
       "      <td>NORTH PCT 2ND W - L/U RELIEF</td>\n",
       "      <td>Y</td>\n",
       "      <td>N</td>\n",
       "      <td>North</td>\n",
       "      <td>U</td>\n",
       "      <td>U2</td>\n",
       "      <td>First</td>\n",
       "    </tr>\n",
       "    <tr>\n",
       "      <th>45290</th>\n",
       "      <td>18 - 25</td>\n",
       "      <td>Field Contact</td>\n",
       "      <td>-</td>\n",
       "      <td>8639</td>\n",
       "      <td>1995</td>\n",
       "      <td>M</td>\n",
       "      <td>White</td>\n",
       "      <td>Black or African American</td>\n",
       "      <td>Male</td>\n",
       "      <td>2020-12-15T00:00:00</td>\n",
       "      <td>...</td>\n",
       "      <td>SUICIDE - IP/JO SUICIDAL PERSON AND ATTEMPTS</td>\n",
       "      <td>--CRISIS COMPLAINT - GENERAL</td>\n",
       "      <td>911</td>\n",
       "      <td>WEST PCT 3RD W - QUEEN</td>\n",
       "      <td>N</td>\n",
       "      <td>N</td>\n",
       "      <td>West</td>\n",
       "      <td>Q</td>\n",
       "      <td>Q3</td>\n",
       "      <td>Repeat</td>\n",
       "    </tr>\n",
       "    <tr>\n",
       "      <th>45291</th>\n",
       "      <td>56 and Above</td>\n",
       "      <td>Field Contact</td>\n",
       "      <td>Knife/Cutting/Stabbing Instrument</td>\n",
       "      <td>8646</td>\n",
       "      <td>1996</td>\n",
       "      <td>M</td>\n",
       "      <td>White</td>\n",
       "      <td>Black or African American</td>\n",
       "      <td>Male</td>\n",
       "      <td>2020-12-15T00:00:00</td>\n",
       "      <td>...</td>\n",
       "      <td>SUSPICIOUS STOP - OFFICER INITIATED ONVIEW</td>\n",
       "      <td>SUSPICIOUS STOP - OFFICER INITIATED ONVIEW</td>\n",
       "      <td>ONVIEW</td>\n",
       "      <td>WEST PCT 3RD W - D/M RELIEF</td>\n",
       "      <td>N</td>\n",
       "      <td>Y</td>\n",
       "      <td>West</td>\n",
       "      <td>Q</td>\n",
       "      <td>Q3</td>\n",
       "      <td>First</td>\n",
       "    </tr>\n",
       "  </tbody>\n",
       "</table>\n",
       "<p>5 rows × 21 columns</p>\n",
       "</div>"
      ],
      "text/plain": [
       "      Subject Age Group Stop Resolution                        Weapon Type  \\\n",
       "45287           26 - 35   Field Contact                                  -   \n",
       "45288           26 - 35   Field Contact                                  -   \n",
       "45289           36 - 45          Arrest                                  -   \n",
       "45290           18 - 25   Field Contact                                  -   \n",
       "45291      56 and Above   Field Contact  Knife/Cutting/Stabbing Instrument   \n",
       "\n",
       "      Officer ID  Officer YOB Officer Gender Officer Race  \\\n",
       "45287     6353           1972              M        White   \n",
       "45288     6353           1972              M        White   \n",
       "45289     8719           1996              M        Asian   \n",
       "45290     8639           1995              M        White   \n",
       "45291     8646           1996              M        White   \n",
       "\n",
       "          Subject Perceived Race Subject Perceived Gender  \\\n",
       "45287                      White                     Male   \n",
       "45288                      White                     Male   \n",
       "45289  Black or African American                     Male   \n",
       "45290  Black or African American                     Male   \n",
       "45291  Black or African American                     Male   \n",
       "\n",
       "             Reported Date  ...                             Initial Call Type  \\\n",
       "45287  2020-12-15T00:00:00  ...                                      TRESPASS   \n",
       "45288  2020-12-15T00:00:00  ...                                      TRESPASS   \n",
       "45289  2020-12-15T00:00:00  ...            FIGHT - IP - PHYSICAL (NO WEAPONS)   \n",
       "45290  2020-12-15T00:00:00  ...  SUICIDE - IP/JO SUICIDAL PERSON AND ATTEMPTS   \n",
       "45291  2020-12-15T00:00:00  ...    SUSPICIOUS STOP - OFFICER INITIATED ONVIEW   \n",
       "\n",
       "                                  Final Call Type Call Type  \\\n",
       "45287    --SUSPICIOUS CIRCUM. - SUSPICIOUS PERSON       911   \n",
       "45288    --SUSPICIOUS CIRCUM. - SUSPICIOUS PERSON       911   \n",
       "45289                           --ASSAULTS, OTHER       911   \n",
       "45290                --CRISIS COMPLAINT - GENERAL       911   \n",
       "45291  SUSPICIOUS STOP - OFFICER INITIATED ONVIEW    ONVIEW   \n",
       "\n",
       "                      Officer Squad Arrest Flag Frisk Flag Precinct Sector  \\\n",
       "45287   WEST PCT 1ST W - DAVID/MARY           N          N     West      M   \n",
       "45288   WEST PCT 1ST W - DAVID/MARY           N          N     West      M   \n",
       "45289  NORTH PCT 2ND W - L/U RELIEF           Y          N    North      U   \n",
       "45290        WEST PCT 3RD W - QUEEN           N          N     West      Q   \n",
       "45291   WEST PCT 3RD W - D/M RELIEF           N          Y     West      Q   \n",
       "\n",
       "      Beat Subject Known  \n",
       "45287   M2         First  \n",
       "45288   M2         First  \n",
       "45289   U2         First  \n",
       "45290   Q3        Repeat  \n",
       "45291   Q3         First  \n",
       "\n",
       "[5 rows x 21 columns]"
      ]
     },
     "execution_count": 25,
     "metadata": {},
     "output_type": "execute_result"
    }
   ],
   "source": [
    "# Now delete the Terry Stop ID column\n",
    "terry_sort.reset_index(drop=True, inplace=True)\n",
    "terry_sort.drop(columns=['Terry Stop ID'], inplace=True)\n",
    "terry_sort.tail()"
   ]
  },
  {
   "cell_type": "markdown",
   "metadata": {
    "heading_collapsed": true
   },
   "source": [
    "### Analyze 'Weapon Type'\n",
    "\n",
    "Binned some obvious types together.  May consider just using weapon found or no weapon found."
   ]
  },
  {
   "cell_type": "code",
   "execution_count": 26,
   "metadata": {
    "hidden": true
   },
   "outputs": [
    {
     "data": {
      "text/plain": [
       "None                                 32565\n",
       "-                                    10119\n",
       "Lethal Cutting Instrument             1482\n",
       "Knife/Cutting/Stabbing Instrument      499\n",
       "Handgun                                280\n",
       "Firearm Other                          100\n",
       "Blunt Object/Striking Implement         59\n",
       "Club, Blackjack, Brass Knuckles         49\n",
       "Firearm                                 30\n",
       "Multiple                                23\n",
       "Mace/Pepper Spray                       17\n",
       "Other Firearm                           16\n",
       "Firearm (unk type)                      15\n",
       "Club                                     9\n",
       "None/Not Applicable                      7\n",
       "Rifle                                    7\n",
       "Taser/Stun Gun                           5\n",
       "Fire/Incendiary Device                   3\n",
       "Shotgun                                  3\n",
       "Automatic Handgun                        2\n",
       "Brass Knuckles                           1\n",
       "Blackjack                                1\n",
       "Name: Weapon Type, dtype: int64"
      ]
     },
     "execution_count": 26,
     "metadata": {},
     "output_type": "execute_result"
    }
   ],
   "source": [
    "terry_sort['Weapon Type'].value_counts()\n",
    "# The '-' should probably be changed to 'Unknown\" or maybe it actually means 'None'. I'm going to choose None because I \n",
    "# believe that is mostly likely what the reports meant.\n",
    "# None/Not Applicable should be combined with None\n",
    "# Firearm Other should be combined with Other Firearm\n",
    "# Should Club and Blackjack and Brass Knuckles be combined with Club, Blackjack, Brass Knuckles?\n",
    "# I need to think backward from what I would like my results to tell me.  Is it useful to know the 'Firearm' is significant, \n",
    "# but Other Firearm is not? I don't think so. Perhaps the best solution is just weapon vs no weapon.  But for now I will combine\n",
    "# some categories that seem obvious"
   ]
  },
  {
   "cell_type": "code",
   "execution_count": 27,
   "metadata": {
    "hidden": true,
    "scrolled": true
   },
   "outputs": [
    {
     "data": {
      "text/plain": [
       "None                                 42691\n",
       "Knife/Cutting/Stabbing Instrument     1981\n",
       "Handgun                                282\n",
       "Firearm                                161\n",
       "Other                                  154\n",
       "Multiple                                23\n",
       "Name: Weapon Type, dtype: int64"
      ]
     },
     "execution_count": 27,
     "metadata": {},
     "output_type": "execute_result"
    }
   ],
   "source": [
    "# Going to group some together\n",
    "weapon_dict = {'-' : 'None',\n",
    "               'None/Not Applicable' : 'None',\n",
    "               'Lethal Cutting Instrument' : 'Knife/Cutting/Stabbing Instrument',\n",
    "               'Firearm Other' : 'Firearm',\n",
    "               'Other Firearm' : 'Firearm',\n",
    "               'Blunt Object/Striking Implement' : 'Other',\n",
    "               'Club, Blackjack, Brass Knuckles' : 'Other',\n",
    "               'Club' : 'Other',\n",
    "               'Blackjack' : 'Other',\n",
    "               'Brass Knuckles' : 'Other',\n",
    "               'Mace/Pepper Spray' : 'Other',\n",
    "               'Firearm (unk type)' : 'Firearm',\n",
    "               'Rifle' : 'Other',\n",
    "               'Taser/Stun Gun' : 'Other',\n",
    "               'Fire/Incendiary Device' : 'Other',\n",
    "               'Shotgun' : 'Other',\n",
    "               'Automatic Handgun' : 'Handgun'}\n",
    "\n",
    "for k, v in weapon_dict.items():\n",
    "    terry_sort['Weapon Type'] = terry_sort['Weapon Type'].replace(to_replace = k, value = v)\n",
    "\n",
    "terry_sort['Weapon Type'].value_counts()"
   ]
  },
  {
   "cell_type": "code",
   "execution_count": 28,
   "metadata": {
    "hidden": true,
    "scrolled": true
   },
   "outputs": [
    {
     "data": {
      "image/png": "[encoded data removed]",
      "text/plain": [
       "<Figure size 432x288 with 1 Axes>"
      ]
     },
     "metadata": {
      "needs_background": "light"
     },
     "output_type": "display_data"
    }
   ],
   "source": [
    "sns.histplot(terry_sort, x='Weapon Type', hue_order=('Y','N'), hue='Arrest Flag', multiple='stack', stat='probability')\n",
    "plt.xticks(rotation=90);"
   ]
  },
  {
   "cell_type": "code",
   "execution_count": 29,
   "metadata": {
    "hidden": true
   },
   "outputs": [
    {
     "data": {
      "text/html": [
       "<div>\n",
       "<style scoped>\n",
       "    .dataframe tbody tr th:only-of-type {\n",
       "        vertical-align: middle;\n",
       "    }\n",
       "\n",
       "    .dataframe tbody tr th {\n",
       "        vertical-align: top;\n",
       "    }\n",
       "\n",
       "    .dataframe thead th {\n",
       "        text-align: right;\n",
       "    }\n",
       "</style>\n",
       "<table border=\"1\" class=\"dataframe\">\n",
       "  <thead>\n",
       "    <tr style=\"text-align: right;\">\n",
       "      <th></th>\n",
       "      <th>Subject Age Group</th>\n",
       "      <th>Stop Resolution</th>\n",
       "      <th>Weapon Type</th>\n",
       "      <th>Officer ID</th>\n",
       "      <th>Officer YOB</th>\n",
       "      <th>Officer Gender</th>\n",
       "      <th>Officer Race</th>\n",
       "      <th>Subject Perceived Race</th>\n",
       "      <th>Subject Perceived Gender</th>\n",
       "      <th>Reported Date</th>\n",
       "      <th>...</th>\n",
       "      <th>Initial Call Type</th>\n",
       "      <th>Final Call Type</th>\n",
       "      <th>Call Type</th>\n",
       "      <th>Officer Squad</th>\n",
       "      <th>Arrest Flag</th>\n",
       "      <th>Frisk Flag</th>\n",
       "      <th>Precinct</th>\n",
       "      <th>Sector</th>\n",
       "      <th>Beat</th>\n",
       "      <th>Subject Known</th>\n",
       "    </tr>\n",
       "  </thead>\n",
       "  <tbody>\n",
       "    <tr>\n",
       "      <th>34576</th>\n",
       "      <td>26 - 35</td>\n",
       "      <td>Arrest</td>\n",
       "      <td>Knife/Cutting/Stabbing Instrument</td>\n",
       "      <td>7765</td>\n",
       "      <td>1985</td>\n",
       "      <td>M</td>\n",
       "      <td>White</td>\n",
       "      <td>White</td>\n",
       "      <td>Male</td>\n",
       "      <td>2019-05-09T00:00:00</td>\n",
       "      <td>...</td>\n",
       "      <td>WEAPN - GUN,DEADLY WPN (NO THRTS/ASLT/DIST)</td>\n",
       "      <td>--WEAPON,PERSON WITH - OTHER WEAPON</td>\n",
       "      <td>ONVIEW</td>\n",
       "      <td>WEST PCT 1ST W - DAVID/MARY</td>\n",
       "      <td>Y</td>\n",
       "      <td>Y</td>\n",
       "      <td>-</td>\n",
       "      <td>-</td>\n",
       "      <td>-</td>\n",
       "      <td>First</td>\n",
       "    </tr>\n",
       "    <tr>\n",
       "      <th>34616</th>\n",
       "      <td>46 - 55</td>\n",
       "      <td>Arrest</td>\n",
       "      <td>Handgun</td>\n",
       "      <td>8507</td>\n",
       "      <td>1987</td>\n",
       "      <td>M</td>\n",
       "      <td>White</td>\n",
       "      <td>White</td>\n",
       "      <td>Male</td>\n",
       "      <td>2019-05-11T00:00:00</td>\n",
       "      <td>...</td>\n",
       "      <td>FIGHT - IP/JO - WITH WEAPONS</td>\n",
       "      <td>--ASSAULTS - HARASSMENT, THREATS</td>\n",
       "      <td>TELEPHONE OTHER, NOT 911</td>\n",
       "      <td>SOUTH PCT 2ND W - ROBERT</td>\n",
       "      <td>Y</td>\n",
       "      <td>Y</td>\n",
       "      <td>South</td>\n",
       "      <td>R</td>\n",
       "      <td>R1</td>\n",
       "      <td>First</td>\n",
       "    </tr>\n",
       "    <tr>\n",
       "      <th>34662</th>\n",
       "      <td>36 - 45</td>\n",
       "      <td>Arrest</td>\n",
       "      <td>Other</td>\n",
       "      <td>7792</td>\n",
       "      <td>1987</td>\n",
       "      <td>M</td>\n",
       "      <td>White</td>\n",
       "      <td>White</td>\n",
       "      <td>Male</td>\n",
       "      <td>2019-05-14T00:00:00</td>\n",
       "      <td>...</td>\n",
       "      <td>ROBBERY - IP/JO (INCLUDES STRONG ARM)</td>\n",
       "      <td>--ROBBERY - STRONG ARM</td>\n",
       "      <td>911</td>\n",
       "      <td>EAST PCT 2ND W - CHARLIE RELIEF</td>\n",
       "      <td>Y</td>\n",
       "      <td>Y</td>\n",
       "      <td>-</td>\n",
       "      <td>-</td>\n",
       "      <td>-</td>\n",
       "      <td>First</td>\n",
       "    </tr>\n",
       "    <tr>\n",
       "      <th>34802</th>\n",
       "      <td>1 - 17</td>\n",
       "      <td>Arrest</td>\n",
       "      <td>Knife/Cutting/Stabbing Instrument</td>\n",
       "      <td>7782</td>\n",
       "      <td>1986</td>\n",
       "      <td>M</td>\n",
       "      <td>White</td>\n",
       "      <td>Black or African American</td>\n",
       "      <td>Male</td>\n",
       "      <td>2019-05-20T00:00:00</td>\n",
       "      <td>...</td>\n",
       "      <td>THREATS (INCLS IN-PERSON/BY PHONE/IN WRITING)</td>\n",
       "      <td>--ASSAULTS, OTHER</td>\n",
       "      <td>TELEPHONE OTHER, NOT 911</td>\n",
       "      <td>EAST PCT 2ND W - CHARLIE RELIEF</td>\n",
       "      <td>Y</td>\n",
       "      <td>Y</td>\n",
       "      <td>East</td>\n",
       "      <td>G</td>\n",
       "      <td>G1</td>\n",
       "      <td>First</td>\n",
       "    </tr>\n",
       "    <tr>\n",
       "      <th>34863</th>\n",
       "      <td>18 - 25</td>\n",
       "      <td>Arrest</td>\n",
       "      <td>Handgun</td>\n",
       "      <td>7677</td>\n",
       "      <td>1983</td>\n",
       "      <td>M</td>\n",
       "      <td>White</td>\n",
       "      <td>-</td>\n",
       "      <td>Male</td>\n",
       "      <td>2019-05-23T00:00:00</td>\n",
       "      <td>...</td>\n",
       "      <td>WEAPN-IP/JO-GUN,DEADLY WPN (NO THRT/ASLT/DIST)</td>\n",
       "      <td>--ASSAULTS - HARASSMENT, THREATS</td>\n",
       "      <td>911</td>\n",
       "      <td>SOUTH PCT 2ND W - ROBERT</td>\n",
       "      <td>Y</td>\n",
       "      <td>Y</td>\n",
       "      <td>South</td>\n",
       "      <td>S</td>\n",
       "      <td>S1</td>\n",
       "      <td>First</td>\n",
       "    </tr>\n",
       "    <tr>\n",
       "      <th>...</th>\n",
       "      <td>...</td>\n",
       "      <td>...</td>\n",
       "      <td>...</td>\n",
       "      <td>...</td>\n",
       "      <td>...</td>\n",
       "      <td>...</td>\n",
       "      <td>...</td>\n",
       "      <td>...</td>\n",
       "      <td>...</td>\n",
       "      <td>...</td>\n",
       "      <td>...</td>\n",
       "      <td>...</td>\n",
       "      <td>...</td>\n",
       "      <td>...</td>\n",
       "      <td>...</td>\n",
       "      <td>...</td>\n",
       "      <td>...</td>\n",
       "      <td>...</td>\n",
       "      <td>...</td>\n",
       "      <td>...</td>\n",
       "      <td>...</td>\n",
       "    </tr>\n",
       "    <tr>\n",
       "      <th>45108</th>\n",
       "      <td>46 - 55</td>\n",
       "      <td>Arrest</td>\n",
       "      <td>Other</td>\n",
       "      <td>8597</td>\n",
       "      <td>1990</td>\n",
       "      <td>M</td>\n",
       "      <td>Asian</td>\n",
       "      <td>Unknown</td>\n",
       "      <td>Male</td>\n",
       "      <td>2020-11-28T00:00:00</td>\n",
       "      <td>...</td>\n",
       "      <td>ASLT - IP/JO - WITH OR W/O WPNS (NO SHOOTINGS)</td>\n",
       "      <td>--ASSAULTS, OTHER</td>\n",
       "      <td>911</td>\n",
       "      <td>EAST PCT 3RD W - EDWARD</td>\n",
       "      <td>Y</td>\n",
       "      <td>Y</td>\n",
       "      <td>East</td>\n",
       "      <td>E</td>\n",
       "      <td>E2</td>\n",
       "      <td>First</td>\n",
       "    </tr>\n",
       "    <tr>\n",
       "      <th>45110</th>\n",
       "      <td>56 and Above</td>\n",
       "      <td>Arrest</td>\n",
       "      <td>Knife/Cutting/Stabbing Instrument</td>\n",
       "      <td>8701</td>\n",
       "      <td>1994</td>\n",
       "      <td>M</td>\n",
       "      <td>Two or More Races</td>\n",
       "      <td>American Indian or Alaska Native</td>\n",
       "      <td>Male</td>\n",
       "      <td>2020-11-28T00:00:00</td>\n",
       "      <td>...</td>\n",
       "      <td>TRESPASS</td>\n",
       "      <td>--PROWLER - TRESPASS</td>\n",
       "      <td>911</td>\n",
       "      <td>WEST PCT 3RD W - QUEEN</td>\n",
       "      <td>Y</td>\n",
       "      <td>Y</td>\n",
       "      <td>West</td>\n",
       "      <td>Q</td>\n",
       "      <td>Q3</td>\n",
       "      <td>Repeat</td>\n",
       "    </tr>\n",
       "    <tr>\n",
       "      <th>45145</th>\n",
       "      <td>26 - 35</td>\n",
       "      <td>Arrest</td>\n",
       "      <td>Knife/Cutting/Stabbing Instrument</td>\n",
       "      <td>8719</td>\n",
       "      <td>1996</td>\n",
       "      <td>M</td>\n",
       "      <td>Asian</td>\n",
       "      <td>Black or African American</td>\n",
       "      <td>Male</td>\n",
       "      <td>2020-12-03T00:00:00</td>\n",
       "      <td>...</td>\n",
       "      <td>UNKNOWN - ANI/ALI - WRLS PHNS (INCL OPEN LINE)</td>\n",
       "      <td>--ASSAULTS - HARASSMENT, THREATS</td>\n",
       "      <td>911</td>\n",
       "      <td>NORTH PCT 2ND W - L/U RELIEF</td>\n",
       "      <td>Y</td>\n",
       "      <td>Y</td>\n",
       "      <td>North</td>\n",
       "      <td>U</td>\n",
       "      <td>U1</td>\n",
       "      <td>First</td>\n",
       "    </tr>\n",
       "    <tr>\n",
       "      <th>45170</th>\n",
       "      <td>26 - 35</td>\n",
       "      <td>Arrest</td>\n",
       "      <td>Other</td>\n",
       "      <td>8643</td>\n",
       "      <td>1989</td>\n",
       "      <td>F</td>\n",
       "      <td>White</td>\n",
       "      <td>Black or African American</td>\n",
       "      <td>Male</td>\n",
       "      <td>2020-12-05T00:00:00</td>\n",
       "      <td>...</td>\n",
       "      <td>DIST - IP/JO - DV DIST - NO ASLT</td>\n",
       "      <td>--DV - DOMESTIC VIOLENCE (ARREST DISCRETIONARY)</td>\n",
       "      <td>911</td>\n",
       "      <td>NORTH PCT 2ND W - L/U RELIEF</td>\n",
       "      <td>Y</td>\n",
       "      <td>Y</td>\n",
       "      <td>North</td>\n",
       "      <td>U</td>\n",
       "      <td>U3</td>\n",
       "      <td>Repeat</td>\n",
       "    </tr>\n",
       "    <tr>\n",
       "      <th>45202</th>\n",
       "      <td>18 - 25</td>\n",
       "      <td>Arrest</td>\n",
       "      <td>Other</td>\n",
       "      <td>8762</td>\n",
       "      <td>1978</td>\n",
       "      <td>M</td>\n",
       "      <td>White</td>\n",
       "      <td>Black or African American</td>\n",
       "      <td>Male</td>\n",
       "      <td>2020-12-08T00:00:00</td>\n",
       "      <td>...</td>\n",
       "      <td>DIST - DV - NO ASLT</td>\n",
       "      <td>--DV - DOMESTIC VIOL/ASLT (ARREST MANDATORY)</td>\n",
       "      <td>911</td>\n",
       "      <td>WEST PCT 2ND W - K/Q RELIEF</td>\n",
       "      <td>Y</td>\n",
       "      <td>Y</td>\n",
       "      <td>West</td>\n",
       "      <td>K</td>\n",
       "      <td>K3</td>\n",
       "      <td>First</td>\n",
       "    </tr>\n",
       "  </tbody>\n",
       "</table>\n",
       "<p>283 rows × 21 columns</p>\n",
       "</div>"
      ],
      "text/plain": [
       "      Subject Age Group Stop Resolution                        Weapon Type  \\\n",
       "34576           26 - 35          Arrest  Knife/Cutting/Stabbing Instrument   \n",
       "34616           46 - 55          Arrest                            Handgun   \n",
       "34662           36 - 45          Arrest                              Other   \n",
       "34802            1 - 17          Arrest  Knife/Cutting/Stabbing Instrument   \n",
       "34863           18 - 25          Arrest                            Handgun   \n",
       "...                 ...             ...                                ...   \n",
       "45108           46 - 55          Arrest                              Other   \n",
       "45110      56 and Above          Arrest  Knife/Cutting/Stabbing Instrument   \n",
       "45145           26 - 35          Arrest  Knife/Cutting/Stabbing Instrument   \n",
       "45170           26 - 35          Arrest                              Other   \n",
       "45202           18 - 25          Arrest                              Other   \n",
       "\n",
       "      Officer ID  Officer YOB Officer Gender       Officer Race  \\\n",
       "34576     7765           1985              M              White   \n",
       "34616     8507           1987              M              White   \n",
       "34662     7792           1987              M              White   \n",
       "34802     7782           1986              M              White   \n",
       "34863     7677           1983              M              White   \n",
       "...          ...          ...            ...                ...   \n",
       "45108     8597           1990              M              Asian   \n",
       "45110     8701           1994              M  Two or More Races   \n",
       "45145     8719           1996              M              Asian   \n",
       "45170     8643           1989              F              White   \n",
       "45202     8762           1978              M              White   \n",
       "\n",
       "                 Subject Perceived Race Subject Perceived Gender  \\\n",
       "34576                             White                     Male   \n",
       "34616                             White                     Male   \n",
       "34662                             White                     Male   \n",
       "34802         Black or African American                     Male   \n",
       "34863                                 -                     Male   \n",
       "...                                 ...                      ...   \n",
       "45108                           Unknown                     Male   \n",
       "45110  American Indian or Alaska Native                     Male   \n",
       "45145         Black or African American                     Male   \n",
       "45170         Black or African American                     Male   \n",
       "45202         Black or African American                     Male   \n",
       "\n",
       "             Reported Date  ...  \\\n",
       "34576  2019-05-09T00:00:00  ...   \n",
       "34616  2019-05-11T00:00:00  ...   \n",
       "34662  2019-05-14T00:00:00  ...   \n",
       "34802  2019-05-20T00:00:00  ...   \n",
       "34863  2019-05-23T00:00:00  ...   \n",
       "...                    ...  ...   \n",
       "45108  2020-11-28T00:00:00  ...   \n",
       "45110  2020-11-28T00:00:00  ...   \n",
       "45145  2020-12-03T00:00:00  ...   \n",
       "45170  2020-12-05T00:00:00  ...   \n",
       "45202  2020-12-08T00:00:00  ...   \n",
       "\n",
       "                                    Initial Call Type  \\\n",
       "34576     WEAPN - GUN,DEADLY WPN (NO THRTS/ASLT/DIST)   \n",
       "34616                    FIGHT - IP/JO - WITH WEAPONS   \n",
       "34662           ROBBERY - IP/JO (INCLUDES STRONG ARM)   \n",
       "34802   THREATS (INCLS IN-PERSON/BY PHONE/IN WRITING)   \n",
       "34863  WEAPN-IP/JO-GUN,DEADLY WPN (NO THRT/ASLT/DIST)   \n",
       "...                                               ...   \n",
       "45108  ASLT - IP/JO - WITH OR W/O WPNS (NO SHOOTINGS)   \n",
       "45110                                        TRESPASS   \n",
       "45145  UNKNOWN - ANI/ALI - WRLS PHNS (INCL OPEN LINE)   \n",
       "45170                DIST - IP/JO - DV DIST - NO ASLT   \n",
       "45202                             DIST - DV - NO ASLT   \n",
       "\n",
       "                                       Final Call Type  \\\n",
       "34576              --WEAPON,PERSON WITH - OTHER WEAPON   \n",
       "34616                 --ASSAULTS - HARASSMENT, THREATS   \n",
       "34662                           --ROBBERY - STRONG ARM   \n",
       "34802                                --ASSAULTS, OTHER   \n",
       "34863                 --ASSAULTS - HARASSMENT, THREATS   \n",
       "...                                                ...   \n",
       "45108                                --ASSAULTS, OTHER   \n",
       "45110                             --PROWLER - TRESPASS   \n",
       "45145                 --ASSAULTS - HARASSMENT, THREATS   \n",
       "45170  --DV - DOMESTIC VIOLENCE (ARREST DISCRETIONARY)   \n",
       "45202     --DV - DOMESTIC VIOL/ASLT (ARREST MANDATORY)   \n",
       "\n",
       "                      Call Type                    Officer Squad Arrest Flag  \\\n",
       "34576                    ONVIEW      WEST PCT 1ST W - DAVID/MARY           Y   \n",
       "34616  TELEPHONE OTHER, NOT 911         SOUTH PCT 2ND W - ROBERT           Y   \n",
       "34662                       911  EAST PCT 2ND W - CHARLIE RELIEF           Y   \n",
       "34802  TELEPHONE OTHER, NOT 911  EAST PCT 2ND W - CHARLIE RELIEF           Y   \n",
       "34863                       911         SOUTH PCT 2ND W - ROBERT           Y   \n",
       "...                         ...                              ...         ...   \n",
       "45108                       911          EAST PCT 3RD W - EDWARD           Y   \n",
       "45110                       911           WEST PCT 3RD W - QUEEN           Y   \n",
       "45145                       911     NORTH PCT 2ND W - L/U RELIEF           Y   \n",
       "45170                       911     NORTH PCT 2ND W - L/U RELIEF           Y   \n",
       "45202                       911      WEST PCT 2ND W - K/Q RELIEF           Y   \n",
       "\n",
       "      Frisk Flag Precinct Sector Beat Subject Known  \n",
       "34576          Y        -      -    -         First  \n",
       "34616          Y    South      R   R1         First  \n",
       "34662          Y        -      -    -         First  \n",
       "34802          Y     East      G   G1         First  \n",
       "34863          Y    South      S   S1         First  \n",
       "...          ...      ...    ...  ...           ...  \n",
       "45108          Y     East      E   E2         First  \n",
       "45110          Y     West      Q   Q3        Repeat  \n",
       "45145          Y    North      U   U1         First  \n",
       "45170          Y    North      U   U3        Repeat  \n",
       "45202          Y     West      K   K3         First  \n",
       "\n",
       "[283 rows x 21 columns]"
      ]
     },
     "execution_count": 29,
     "metadata": {},
     "output_type": "execute_result"
    }
   ],
   "source": [
    "# Only 283 cases where Arrest Flag is Y and Weapon Type is NOT None\n",
    "terry_sort[(terry_sort['Arrest Flag'] == 'Y') & (terry_sort['Weapon Type'] != 'None')]"
   ]
  },
  {
   "cell_type": "markdown",
   "metadata": {
    "heading_collapsed": true
   },
   "source": [
    "### Analyze 'Stop Resolution'\n",
    "\n",
    "I was a bit concerned that Stop Resolution is a perfect predictor for Arrest Flag, since only 2 of the Arrest Flag = Y do NOT have Stop Resolution = arrest. However, since there are so many Stop Resolutions of 'arrest' that don't lead to an arrest flag of Y, I guess the models will have to predict on other information.  I'm going to choose to leave it as is for now. "
   ]
  },
  {
   "cell_type": "code",
   "execution_count": 30,
   "metadata": {
    "hidden": true,
    "scrolled": false
   },
   "outputs": [
    {
     "data": {
      "text/plain": [
       "Field Contact               18265\n",
       "Offense Report              15194\n",
       "Arrest                      10928\n",
       "Referred for Prosecution      728\n",
       "Citation / Infraction         177\n",
       "Name: Stop Resolution, dtype: int64"
      ]
     },
     "execution_count": 30,
     "metadata": {},
     "output_type": "execute_result"
    }
   ],
   "source": [
    "terry_sort['Stop Resolution'].value_counts()"
   ]
  },
  {
   "cell_type": "code",
   "execution_count": 31,
   "metadata": {
    "hidden": true
   },
   "outputs": [
    {
     "data": {
      "text/html": [
       "<div>\n",
       "<style scoped>\n",
       "    .dataframe tbody tr th:only-of-type {\n",
       "        vertical-align: middle;\n",
       "    }\n",
       "\n",
       "    .dataframe tbody tr th {\n",
       "        vertical-align: top;\n",
       "    }\n",
       "\n",
       "    .dataframe thead th {\n",
       "        text-align: right;\n",
       "    }\n",
       "</style>\n",
       "<table border=\"1\" class=\"dataframe\">\n",
       "  <thead>\n",
       "    <tr style=\"text-align: right;\">\n",
       "      <th></th>\n",
       "      <th>Subject Age Group</th>\n",
       "      <th>Stop Resolution</th>\n",
       "      <th>Weapon Type</th>\n",
       "      <th>Officer ID</th>\n",
       "      <th>Officer YOB</th>\n",
       "      <th>Officer Gender</th>\n",
       "      <th>Officer Race</th>\n",
       "      <th>Subject Perceived Race</th>\n",
       "      <th>Subject Perceived Gender</th>\n",
       "      <th>Reported Date</th>\n",
       "      <th>...</th>\n",
       "      <th>Initial Call Type</th>\n",
       "      <th>Final Call Type</th>\n",
       "      <th>Call Type</th>\n",
       "      <th>Officer Squad</th>\n",
       "      <th>Arrest Flag</th>\n",
       "      <th>Frisk Flag</th>\n",
       "      <th>Precinct</th>\n",
       "      <th>Sector</th>\n",
       "      <th>Beat</th>\n",
       "      <th>Subject Known</th>\n",
       "    </tr>\n",
       "  </thead>\n",
       "  <tbody>\n",
       "    <tr>\n",
       "      <th>34541</th>\n",
       "      <td>26 - 35</td>\n",
       "      <td>Arrest</td>\n",
       "      <td>None</td>\n",
       "      <td>7758</td>\n",
       "      <td>1987</td>\n",
       "      <td>M</td>\n",
       "      <td>White</td>\n",
       "      <td>White</td>\n",
       "      <td>Male</td>\n",
       "      <td>2019-05-08T00:00:00</td>\n",
       "      <td>...</td>\n",
       "      <td>BURG - IP/JO - RES (INCL UNOCC STRUCTURES)</td>\n",
       "      <td>--NARCOTICS - NARS REPORT</td>\n",
       "      <td>911</td>\n",
       "      <td>EAST PCT 1ST W - E/G RELIEF (CHARLIE)</td>\n",
       "      <td>Y</td>\n",
       "      <td>N</td>\n",
       "      <td>East</td>\n",
       "      <td>E</td>\n",
       "      <td>E1</td>\n",
       "      <td>First</td>\n",
       "    </tr>\n",
       "    <tr>\n",
       "      <th>34546</th>\n",
       "      <td>56 and Above</td>\n",
       "      <td>Arrest</td>\n",
       "      <td>None</td>\n",
       "      <td>8527</td>\n",
       "      <td>1990</td>\n",
       "      <td>M</td>\n",
       "      <td>Hispanic or Latino</td>\n",
       "      <td>Black or African American</td>\n",
       "      <td>Male</td>\n",
       "      <td>2019-05-08T00:00:00</td>\n",
       "      <td>...</td>\n",
       "      <td>ASLT - IP/JO - WITH OR W/O WPNS (NO SHOOTINGS)</td>\n",
       "      <td>--ASSAULTS - HARASSMENT, THREATS</td>\n",
       "      <td>911</td>\n",
       "      <td>SOUTHWEST PCT - 1ST WATCH - F/W RELIEF</td>\n",
       "      <td>Y</td>\n",
       "      <td>N</td>\n",
       "      <td>-</td>\n",
       "      <td>-</td>\n",
       "      <td>-</td>\n",
       "      <td>First</td>\n",
       "    </tr>\n",
       "    <tr>\n",
       "      <th>34560</th>\n",
       "      <td>18 - 25</td>\n",
       "      <td>Arrest</td>\n",
       "      <td>None</td>\n",
       "      <td>7794</td>\n",
       "      <td>1991</td>\n",
       "      <td>M</td>\n",
       "      <td>White</td>\n",
       "      <td>White</td>\n",
       "      <td>Male</td>\n",
       "      <td>2019-05-09T00:00:00</td>\n",
       "      <td>...</td>\n",
       "      <td>WEAPN - GUN,DEADLY WPN (NO THRTS/ASLT/DIST)</td>\n",
       "      <td>--WEAPON, PERSON WITH - GUN</td>\n",
       "      <td>911</td>\n",
       "      <td>NORTH PCT 1ST W - LINCOLN</td>\n",
       "      <td>Y</td>\n",
       "      <td>Y</td>\n",
       "      <td>North</td>\n",
       "      <td>L</td>\n",
       "      <td>L2</td>\n",
       "      <td>First</td>\n",
       "    </tr>\n",
       "    <tr>\n",
       "      <th>34567</th>\n",
       "      <td>46 - 55</td>\n",
       "      <td>Arrest</td>\n",
       "      <td>None</td>\n",
       "      <td>7765</td>\n",
       "      <td>1985</td>\n",
       "      <td>M</td>\n",
       "      <td>White</td>\n",
       "      <td>White</td>\n",
       "      <td>Male</td>\n",
       "      <td>2019-05-09T00:00:00</td>\n",
       "      <td>...</td>\n",
       "      <td>SHOPLIFT - THEFT</td>\n",
       "      <td>--BURGLARY - NON RESIDENTIAL/COMMERCIAL</td>\n",
       "      <td>TELEPHONE OTHER, NOT 911</td>\n",
       "      <td>WEST PCT 1ST W - DAVID/MARY</td>\n",
       "      <td>Y</td>\n",
       "      <td>N</td>\n",
       "      <td>-</td>\n",
       "      <td>-</td>\n",
       "      <td>-</td>\n",
       "      <td>First</td>\n",
       "    </tr>\n",
       "    <tr>\n",
       "      <th>34576</th>\n",
       "      <td>26 - 35</td>\n",
       "      <td>Arrest</td>\n",
       "      <td>Knife/Cutting/Stabbing Instrument</td>\n",
       "      <td>7765</td>\n",
       "      <td>1985</td>\n",
       "      <td>M</td>\n",
       "      <td>White</td>\n",
       "      <td>White</td>\n",
       "      <td>Male</td>\n",
       "      <td>2019-05-09T00:00:00</td>\n",
       "      <td>...</td>\n",
       "      <td>WEAPN - GUN,DEADLY WPN (NO THRTS/ASLT/DIST)</td>\n",
       "      <td>--WEAPON,PERSON WITH - OTHER WEAPON</td>\n",
       "      <td>ONVIEW</td>\n",
       "      <td>WEST PCT 1ST W - DAVID/MARY</td>\n",
       "      <td>Y</td>\n",
       "      <td>Y</td>\n",
       "      <td>-</td>\n",
       "      <td>-</td>\n",
       "      <td>-</td>\n",
       "      <td>First</td>\n",
       "    </tr>\n",
       "    <tr>\n",
       "      <th>...</th>\n",
       "      <td>...</td>\n",
       "      <td>...</td>\n",
       "      <td>...</td>\n",
       "      <td>...</td>\n",
       "      <td>...</td>\n",
       "      <td>...</td>\n",
       "      <td>...</td>\n",
       "      <td>...</td>\n",
       "      <td>...</td>\n",
       "      <td>...</td>\n",
       "      <td>...</td>\n",
       "      <td>...</td>\n",
       "      <td>...</td>\n",
       "      <td>...</td>\n",
       "      <td>...</td>\n",
       "      <td>...</td>\n",
       "      <td>...</td>\n",
       "      <td>...</td>\n",
       "      <td>...</td>\n",
       "      <td>...</td>\n",
       "      <td>...</td>\n",
       "    </tr>\n",
       "    <tr>\n",
       "      <th>45273</th>\n",
       "      <td>36 - 45</td>\n",
       "      <td>Arrest</td>\n",
       "      <td>None</td>\n",
       "      <td>8702</td>\n",
       "      <td>1979</td>\n",
       "      <td>M</td>\n",
       "      <td>White</td>\n",
       "      <td>Unknown</td>\n",
       "      <td>Male</td>\n",
       "      <td>2020-12-14T00:00:00</td>\n",
       "      <td>...</td>\n",
       "      <td>ASLT - IP/JO - DV</td>\n",
       "      <td>--DV - DOMESTIC VIOL/ASLT (ARREST MANDATORY)</td>\n",
       "      <td>911</td>\n",
       "      <td>NORTH PCT 3RD W - B/N RELIEF</td>\n",
       "      <td>Y</td>\n",
       "      <td>Y</td>\n",
       "      <td>North</td>\n",
       "      <td>L</td>\n",
       "      <td>L1</td>\n",
       "      <td>First</td>\n",
       "    </tr>\n",
       "    <tr>\n",
       "      <th>45279</th>\n",
       "      <td>18 - 25</td>\n",
       "      <td>Arrest</td>\n",
       "      <td>None</td>\n",
       "      <td>8749</td>\n",
       "      <td>1993</td>\n",
       "      <td>M</td>\n",
       "      <td>Asian</td>\n",
       "      <td>White</td>\n",
       "      <td>Male</td>\n",
       "      <td>2020-12-14T00:00:00</td>\n",
       "      <td>...</td>\n",
       "      <td>ASLT - IP/JO - WITH OR W/O WPNS (NO SHOOTINGS)</td>\n",
       "      <td>--ASSAULTS, OTHER</td>\n",
       "      <td>911</td>\n",
       "      <td>TRAINING - FIELD TRAINING SQUAD</td>\n",
       "      <td>Y</td>\n",
       "      <td>Y</td>\n",
       "      <td>-</td>\n",
       "      <td>-</td>\n",
       "      <td>-</td>\n",
       "      <td>First</td>\n",
       "    </tr>\n",
       "    <tr>\n",
       "      <th>45283</th>\n",
       "      <td>26 - 35</td>\n",
       "      <td>Arrest</td>\n",
       "      <td>None</td>\n",
       "      <td>8759</td>\n",
       "      <td>1996</td>\n",
       "      <td>M</td>\n",
       "      <td>Asian</td>\n",
       "      <td>Black or African American</td>\n",
       "      <td>Male</td>\n",
       "      <td>2020-12-14T00:00:00</td>\n",
       "      <td>...</td>\n",
       "      <td>BURG - IP/JO - RES (INCL UNOCC STRUCTURES)</td>\n",
       "      <td>--BURGLARY - RESIDENTIAL OCCUPIED</td>\n",
       "      <td>911</td>\n",
       "      <td>TRAINING - FIELD TRAINING SQUAD</td>\n",
       "      <td>Y</td>\n",
       "      <td>Y</td>\n",
       "      <td>South</td>\n",
       "      <td>R</td>\n",
       "      <td>R2</td>\n",
       "      <td>First</td>\n",
       "    </tr>\n",
       "    <tr>\n",
       "      <th>45285</th>\n",
       "      <td>36 - 45</td>\n",
       "      <td>Arrest</td>\n",
       "      <td>None</td>\n",
       "      <td>8425</td>\n",
       "      <td>1989</td>\n",
       "      <td>M</td>\n",
       "      <td>White</td>\n",
       "      <td>White</td>\n",
       "      <td>Male</td>\n",
       "      <td>2020-12-15T00:00:00</td>\n",
       "      <td>...</td>\n",
       "      <td>WARRANT - MISD WARRANT PICKUP</td>\n",
       "      <td>--WARRANT SERVICES - MISDEMEANOR</td>\n",
       "      <td>TELEPHONE OTHER, NOT 911</td>\n",
       "      <td>WEST PCT 3RD W - KING</td>\n",
       "      <td>Y</td>\n",
       "      <td>N</td>\n",
       "      <td>West</td>\n",
       "      <td>K</td>\n",
       "      <td>K2</td>\n",
       "      <td>First</td>\n",
       "    </tr>\n",
       "    <tr>\n",
       "      <th>45289</th>\n",
       "      <td>36 - 45</td>\n",
       "      <td>Arrest</td>\n",
       "      <td>None</td>\n",
       "      <td>8719</td>\n",
       "      <td>1996</td>\n",
       "      <td>M</td>\n",
       "      <td>Asian</td>\n",
       "      <td>Black or African American</td>\n",
       "      <td>Male</td>\n",
       "      <td>2020-12-15T00:00:00</td>\n",
       "      <td>...</td>\n",
       "      <td>FIGHT - IP - PHYSICAL (NO WEAPONS)</td>\n",
       "      <td>--ASSAULTS, OTHER</td>\n",
       "      <td>911</td>\n",
       "      <td>NORTH PCT 2ND W - L/U RELIEF</td>\n",
       "      <td>Y</td>\n",
       "      <td>N</td>\n",
       "      <td>North</td>\n",
       "      <td>U</td>\n",
       "      <td>U2</td>\n",
       "      <td>First</td>\n",
       "    </tr>\n",
       "  </tbody>\n",
       "</table>\n",
       "<p>2718 rows × 21 columns</p>\n",
       "</div>"
      ],
      "text/plain": [
       "      Subject Age Group Stop Resolution                        Weapon Type  \\\n",
       "34541           26 - 35          Arrest                               None   \n",
       "34546      56 and Above          Arrest                               None   \n",
       "34560           18 - 25          Arrest                               None   \n",
       "34567           46 - 55          Arrest                               None   \n",
       "34576           26 - 35          Arrest  Knife/Cutting/Stabbing Instrument   \n",
       "...                 ...             ...                                ...   \n",
       "45273           36 - 45          Arrest                               None   \n",
       "45279           18 - 25          Arrest                               None   \n",
       "45283           26 - 35          Arrest                               None   \n",
       "45285           36 - 45          Arrest                               None   \n",
       "45289           36 - 45          Arrest                               None   \n",
       "\n",
       "      Officer ID  Officer YOB Officer Gender        Officer Race  \\\n",
       "34541     7758           1987              M               White   \n",
       "34546     8527           1990              M  Hispanic or Latino   \n",
       "34560     7794           1991              M               White   \n",
       "34567     7765           1985              M               White   \n",
       "34576     7765           1985              M               White   \n",
       "...          ...          ...            ...                 ...   \n",
       "45273     8702           1979              M               White   \n",
       "45279     8749           1993              M               Asian   \n",
       "45283     8759           1996              M               Asian   \n",
       "45285     8425           1989              M               White   \n",
       "45289     8719           1996              M               Asian   \n",
       "\n",
       "          Subject Perceived Race Subject Perceived Gender  \\\n",
       "34541                      White                     Male   \n",
       "34546  Black or African American                     Male   \n",
       "34560                      White                     Male   \n",
       "34567                      White                     Male   \n",
       "34576                      White                     Male   \n",
       "...                          ...                      ...   \n",
       "45273                    Unknown                     Male   \n",
       "45279                      White                     Male   \n",
       "45283  Black or African American                     Male   \n",
       "45285                      White                     Male   \n",
       "45289  Black or African American                     Male   \n",
       "\n",
       "             Reported Date  ...  \\\n",
       "34541  2019-05-08T00:00:00  ...   \n",
       "34546  2019-05-08T00:00:00  ...   \n",
       "34560  2019-05-09T00:00:00  ...   \n",
       "34567  2019-05-09T00:00:00  ...   \n",
       "34576  2019-05-09T00:00:00  ...   \n",
       "...                    ...  ...   \n",
       "45273  2020-12-14T00:00:00  ...   \n",
       "45279  2020-12-14T00:00:00  ...   \n",
       "45283  2020-12-14T00:00:00  ...   \n",
       "45285  2020-12-15T00:00:00  ...   \n",
       "45289  2020-12-15T00:00:00  ...   \n",
       "\n",
       "                                    Initial Call Type  \\\n",
       "34541      BURG - IP/JO - RES (INCL UNOCC STRUCTURES)   \n",
       "34546  ASLT - IP/JO - WITH OR W/O WPNS (NO SHOOTINGS)   \n",
       "34560     WEAPN - GUN,DEADLY WPN (NO THRTS/ASLT/DIST)   \n",
       "34567                                SHOPLIFT - THEFT   \n",
       "34576     WEAPN - GUN,DEADLY WPN (NO THRTS/ASLT/DIST)   \n",
       "...                                               ...   \n",
       "45273                               ASLT - IP/JO - DV   \n",
       "45279  ASLT - IP/JO - WITH OR W/O WPNS (NO SHOOTINGS)   \n",
       "45283      BURG - IP/JO - RES (INCL UNOCC STRUCTURES)   \n",
       "45285                   WARRANT - MISD WARRANT PICKUP   \n",
       "45289              FIGHT - IP - PHYSICAL (NO WEAPONS)   \n",
       "\n",
       "                                    Final Call Type                 Call Type  \\\n",
       "34541                     --NARCOTICS - NARS REPORT                       911   \n",
       "34546              --ASSAULTS - HARASSMENT, THREATS                       911   \n",
       "34560                   --WEAPON, PERSON WITH - GUN                       911   \n",
       "34567       --BURGLARY - NON RESIDENTIAL/COMMERCIAL  TELEPHONE OTHER, NOT 911   \n",
       "34576           --WEAPON,PERSON WITH - OTHER WEAPON                    ONVIEW   \n",
       "...                                             ...                       ...   \n",
       "45273  --DV - DOMESTIC VIOL/ASLT (ARREST MANDATORY)                       911   \n",
       "45279                             --ASSAULTS, OTHER                       911   \n",
       "45283             --BURGLARY - RESIDENTIAL OCCUPIED                       911   \n",
       "45285              --WARRANT SERVICES - MISDEMEANOR  TELEPHONE OTHER, NOT 911   \n",
       "45289                             --ASSAULTS, OTHER                       911   \n",
       "\n",
       "                                Officer Squad Arrest Flag Frisk Flag Precinct  \\\n",
       "34541   EAST PCT 1ST W - E/G RELIEF (CHARLIE)           Y          N     East   \n",
       "34546  SOUTHWEST PCT - 1ST WATCH - F/W RELIEF           Y          N        -   \n",
       "34560               NORTH PCT 1ST W - LINCOLN           Y          Y    North   \n",
       "34567             WEST PCT 1ST W - DAVID/MARY           Y          N        -   \n",
       "34576             WEST PCT 1ST W - DAVID/MARY           Y          Y        -   \n",
       "...                                       ...         ...        ...      ...   \n",
       "45273            NORTH PCT 3RD W - B/N RELIEF           Y          Y    North   \n",
       "45279         TRAINING - FIELD TRAINING SQUAD           Y          Y        -   \n",
       "45283         TRAINING - FIELD TRAINING SQUAD           Y          Y    South   \n",
       "45285                   WEST PCT 3RD W - KING           Y          N     West   \n",
       "45289            NORTH PCT 2ND W - L/U RELIEF           Y          N    North   \n",
       "\n",
       "      Sector Beat Subject Known  \n",
       "34541      E   E1         First  \n",
       "34546      -    -         First  \n",
       "34560      L   L2         First  \n",
       "34567      -    -         First  \n",
       "34576      -    -         First  \n",
       "...      ...  ...           ...  \n",
       "45273      L   L1         First  \n",
       "45279      -    -         First  \n",
       "45283      R   R2         First  \n",
       "45285      K   K2         First  \n",
       "45289      U   U2         First  \n",
       "\n",
       "[2718 rows x 21 columns]"
      ]
     },
     "execution_count": 31,
     "metadata": {},
     "output_type": "execute_result"
    }
   ],
   "source": [
    "terry_sort[(terry_sort['Stop Resolution']=='Arrest') & (terry_sort['Arrest Flag']=='Y')]"
   ]
  },
  {
   "cell_type": "code",
   "execution_count": 32,
   "metadata": {
    "hidden": true,
    "scrolled": true
   },
   "outputs": [
    {
     "data": {
      "text/html": [
       "<div>\n",
       "<style scoped>\n",
       "    .dataframe tbody tr th:only-of-type {\n",
       "        vertical-align: middle;\n",
       "    }\n",
       "\n",
       "    .dataframe tbody tr th {\n",
       "        vertical-align: top;\n",
       "    }\n",
       "\n",
       "    .dataframe thead th {\n",
       "        text-align: right;\n",
       "    }\n",
       "</style>\n",
       "<table border=\"1\" class=\"dataframe\">\n",
       "  <thead>\n",
       "    <tr style=\"text-align: right;\">\n",
       "      <th></th>\n",
       "      <th>Subject Age Group</th>\n",
       "      <th>Stop Resolution</th>\n",
       "      <th>Weapon Type</th>\n",
       "      <th>Officer ID</th>\n",
       "      <th>Officer YOB</th>\n",
       "      <th>Officer Gender</th>\n",
       "      <th>Officer Race</th>\n",
       "      <th>Subject Perceived Race</th>\n",
       "      <th>Subject Perceived Gender</th>\n",
       "      <th>Reported Date</th>\n",
       "      <th>...</th>\n",
       "      <th>Initial Call Type</th>\n",
       "      <th>Final Call Type</th>\n",
       "      <th>Call Type</th>\n",
       "      <th>Officer Squad</th>\n",
       "      <th>Arrest Flag</th>\n",
       "      <th>Frisk Flag</th>\n",
       "      <th>Precinct</th>\n",
       "      <th>Sector</th>\n",
       "      <th>Beat</th>\n",
       "      <th>Subject Known</th>\n",
       "    </tr>\n",
       "  </thead>\n",
       "  <tbody>\n",
       "    <tr>\n",
       "      <th>36377</th>\n",
       "      <td>56 and Above</td>\n",
       "      <td>Referred for Prosecution</td>\n",
       "      <td>None</td>\n",
       "      <td>8643</td>\n",
       "      <td>1989</td>\n",
       "      <td>F</td>\n",
       "      <td>White</td>\n",
       "      <td>White</td>\n",
       "      <td>Male</td>\n",
       "      <td>2019-08-02T00:00:00</td>\n",
       "      <td>...</td>\n",
       "      <td>PERSON IN BEHAVIORAL/EMOTIONAL CRISIS</td>\n",
       "      <td>--CRISIS COMPLAINT - GENERAL</td>\n",
       "      <td>911</td>\n",
       "      <td>TRAINING - FIELD TRAINING SQUAD</td>\n",
       "      <td>Y</td>\n",
       "      <td>N</td>\n",
       "      <td>West</td>\n",
       "      <td>M</td>\n",
       "      <td>M2</td>\n",
       "      <td>First</td>\n",
       "    </tr>\n",
       "    <tr>\n",
       "      <th>39812</th>\n",
       "      <td>36 - 45</td>\n",
       "      <td>Referred for Prosecution</td>\n",
       "      <td>None</td>\n",
       "      <td>8582</td>\n",
       "      <td>1991</td>\n",
       "      <td>M</td>\n",
       "      <td>White</td>\n",
       "      <td>Black or African American</td>\n",
       "      <td>Female</td>\n",
       "      <td>2020-01-23T00:00:00</td>\n",
       "      <td>...</td>\n",
       "      <td>DISTURBANCE, MISCELLANEOUS/OTHER</td>\n",
       "      <td>--WARRANT SERVICES - MISDEMEANOR</td>\n",
       "      <td>911</td>\n",
       "      <td>SOUTHWEST PCT 3RD W - WILLIAM</td>\n",
       "      <td>Y</td>\n",
       "      <td>N</td>\n",
       "      <td>SouthWest</td>\n",
       "      <td>W</td>\n",
       "      <td>W2</td>\n",
       "      <td>Repeat</td>\n",
       "    </tr>\n",
       "  </tbody>\n",
       "</table>\n",
       "<p>2 rows × 21 columns</p>\n",
       "</div>"
      ],
      "text/plain": [
       "      Subject Age Group           Stop Resolution Weapon Type Officer ID  \\\n",
       "36377      56 and Above  Referred for Prosecution        None     8643     \n",
       "39812           36 - 45  Referred for Prosecution        None     8582     \n",
       "\n",
       "       Officer YOB Officer Gender Officer Race     Subject Perceived Race  \\\n",
       "36377         1989              F        White                      White   \n",
       "39812         1991              M        White  Black or African American   \n",
       "\n",
       "      Subject Perceived Gender        Reported Date  ...  \\\n",
       "36377                     Male  2019-08-02T00:00:00  ...   \n",
       "39812                   Female  2020-01-23T00:00:00  ...   \n",
       "\n",
       "                           Initial Call Type  \\\n",
       "36377  PERSON IN BEHAVIORAL/EMOTIONAL CRISIS   \n",
       "39812       DISTURBANCE, MISCELLANEOUS/OTHER   \n",
       "\n",
       "                        Final Call Type Call Type  \\\n",
       "36377      --CRISIS COMPLAINT - GENERAL       911   \n",
       "39812  --WARRANT SERVICES - MISDEMEANOR       911   \n",
       "\n",
       "                         Officer Squad Arrest Flag Frisk Flag   Precinct  \\\n",
       "36377  TRAINING - FIELD TRAINING SQUAD           Y          N       West   \n",
       "39812    SOUTHWEST PCT 3RD W - WILLIAM           Y          N  SouthWest   \n",
       "\n",
       "      Sector Beat Subject Known  \n",
       "36377      M   M2         First  \n",
       "39812      W   W2        Repeat  \n",
       "\n",
       "[2 rows x 21 columns]"
      ]
     },
     "execution_count": 32,
     "metadata": {},
     "output_type": "execute_result"
    }
   ],
   "source": [
    "terry_sort[(terry_sort['Stop Resolution']!='Arrest') & (terry_sort['Arrest Flag']=='Y')]"
   ]
  },
  {
   "cell_type": "code",
   "execution_count": 33,
   "metadata": {
    "hidden": true
   },
   "outputs": [
    {
     "data": {
      "image/png": "[encoded data removed]",
      "text/plain": [
       "<Figure size 432x288 with 1 Axes>"
      ]
     },
     "metadata": {
      "needs_background": "light"
     },
     "output_type": "display_data"
    }
   ],
   "source": [
    "sns.histplot(terry_sort, x='Stop Resolution', hue_order=('Y','N'), hue='Arrest Flag', multiple='stack')\n",
    "plt.xticks(rotation=90);"
   ]
  },
  {
   "cell_type": "markdown",
   "metadata": {
    "heading_collapsed": true
   },
   "source": [
    "### Analyze 'Officer ID'\n",
    "\n",
    "Strip spaces, replace - and -9 with Unknown.  Binned top 10 and changed the rest to Other."
   ]
  },
  {
   "cell_type": "code",
   "execution_count": 34,
   "metadata": {
    "hidden": true,
    "scrolled": true
   },
   "outputs": [
    {
     "data": {
      "text/plain": [
       "array(['4585  ', '7661  ', '7634  ', ..., '8765  ', '8772  ', '8751  '],\n",
       "      dtype=object)"
      ]
     },
     "execution_count": 34,
     "metadata": {},
     "output_type": "execute_result"
    }
   ],
   "source": [
    "terry_sort['Officer ID'].unique()\n",
    "# There are 1183 unique values, with some officers generating hundreds of stops and some only one"
   ]
  },
  {
   "cell_type": "code",
   "execution_count": 35,
   "metadata": {
    "hidden": true,
    "scrolled": true
   },
   "outputs": [
    {
     "data": {
      "text/html": [
       "<div>\n",
       "<style scoped>\n",
       "    .dataframe tbody tr th:only-of-type {\n",
       "        vertical-align: middle;\n",
       "    }\n",
       "\n",
       "    .dataframe tbody tr th {\n",
       "        vertical-align: top;\n",
       "    }\n",
       "\n",
       "    .dataframe thead th {\n",
       "        text-align: right;\n",
       "    }\n",
       "</style>\n",
       "<table border=\"1\" class=\"dataframe\">\n",
       "  <thead>\n",
       "    <tr style=\"text-align: right;\">\n",
       "      <th></th>\n",
       "      <th>Subject Age Group</th>\n",
       "      <th>Stop Resolution</th>\n",
       "      <th>Weapon Type</th>\n",
       "      <th>Officer ID</th>\n",
       "      <th>Officer YOB</th>\n",
       "      <th>Officer Gender</th>\n",
       "      <th>Officer Race</th>\n",
       "      <th>Subject Perceived Race</th>\n",
       "      <th>Subject Perceived Gender</th>\n",
       "      <th>Reported Date</th>\n",
       "      <th>...</th>\n",
       "      <th>Initial Call Type</th>\n",
       "      <th>Final Call Type</th>\n",
       "      <th>Call Type</th>\n",
       "      <th>Officer Squad</th>\n",
       "      <th>Arrest Flag</th>\n",
       "      <th>Frisk Flag</th>\n",
       "      <th>Precinct</th>\n",
       "      <th>Sector</th>\n",
       "      <th>Beat</th>\n",
       "      <th>Subject Known</th>\n",
       "    </tr>\n",
       "  </thead>\n",
       "  <tbody>\n",
       "    <tr>\n",
       "      <th>427</th>\n",
       "      <td>18 - 25</td>\n",
       "      <td>Field Contact</td>\n",
       "      <td>None</td>\n",
       "      <td>-9</td>\n",
       "      <td>1900</td>\n",
       "      <td>N</td>\n",
       "      <td>Unknown</td>\n",
       "      <td>Black or African American</td>\n",
       "      <td>Male</td>\n",
       "      <td>2015-05-19T00:00:00</td>\n",
       "      <td>...</td>\n",
       "      <td>-</td>\n",
       "      <td>-</td>\n",
       "      <td>-</td>\n",
       "      <td>NaN</td>\n",
       "      <td>N</td>\n",
       "      <td>N</td>\n",
       "      <td>-</td>\n",
       "      <td>-</td>\n",
       "      <td>-</td>\n",
       "      <td>Unidentified</td>\n",
       "    </tr>\n",
       "    <tr>\n",
       "      <th>7101</th>\n",
       "      <td>36 - 45</td>\n",
       "      <td>Field Contact</td>\n",
       "      <td>None</td>\n",
       "      <td>-9</td>\n",
       "      <td>1900</td>\n",
       "      <td>N</td>\n",
       "      <td>Unknown</td>\n",
       "      <td>White</td>\n",
       "      <td>Female</td>\n",
       "      <td>2016-01-02T00:00:00</td>\n",
       "      <td>...</td>\n",
       "      <td>-</td>\n",
       "      <td>-</td>\n",
       "      <td>-</td>\n",
       "      <td>NaN</td>\n",
       "      <td>N</td>\n",
       "      <td>N</td>\n",
       "      <td>North</td>\n",
       "      <td>N</td>\n",
       "      <td>N3</td>\n",
       "      <td>Unidentified</td>\n",
       "    </tr>\n",
       "    <tr>\n",
       "      <th>12857</th>\n",
       "      <td>36 - 45</td>\n",
       "      <td>Field Contact</td>\n",
       "      <td>None</td>\n",
       "      <td>-9</td>\n",
       "      <td>1900</td>\n",
       "      <td>N</td>\n",
       "      <td>Unknown</td>\n",
       "      <td>White</td>\n",
       "      <td>Male</td>\n",
       "      <td>2016-09-14T00:00:00</td>\n",
       "      <td>...</td>\n",
       "      <td>-</td>\n",
       "      <td>-</td>\n",
       "      <td>-</td>\n",
       "      <td>NaN</td>\n",
       "      <td>N</td>\n",
       "      <td>N</td>\n",
       "      <td>-</td>\n",
       "      <td>-</td>\n",
       "      <td>-</td>\n",
       "      <td>Unidentified</td>\n",
       "    </tr>\n",
       "    <tr>\n",
       "      <th>17770</th>\n",
       "      <td>18 - 25</td>\n",
       "      <td>Field Contact</td>\n",
       "      <td>None</td>\n",
       "      <td>-9</td>\n",
       "      <td>1900</td>\n",
       "      <td>N</td>\n",
       "      <td>Unknown</td>\n",
       "      <td>Unknown</td>\n",
       "      <td>Female</td>\n",
       "      <td>2017-06-06T00:00:00</td>\n",
       "      <td>...</td>\n",
       "      <td>-</td>\n",
       "      <td>-</td>\n",
       "      <td>-</td>\n",
       "      <td>NaN</td>\n",
       "      <td>N</td>\n",
       "      <td>N</td>\n",
       "      <td>-</td>\n",
       "      <td>-</td>\n",
       "      <td>-</td>\n",
       "      <td>Unidentified</td>\n",
       "    </tr>\n",
       "    <tr>\n",
       "      <th>23085</th>\n",
       "      <td>18 - 25</td>\n",
       "      <td>Arrest</td>\n",
       "      <td>None</td>\n",
       "      <td>-9</td>\n",
       "      <td>1900</td>\n",
       "      <td>N</td>\n",
       "      <td>Unknown</td>\n",
       "      <td>White</td>\n",
       "      <td>Male</td>\n",
       "      <td>2018-02-07T00:00:00</td>\n",
       "      <td>...</td>\n",
       "      <td>-</td>\n",
       "      <td>-</td>\n",
       "      <td>-</td>\n",
       "      <td>NaN</td>\n",
       "      <td>N</td>\n",
       "      <td>N</td>\n",
       "      <td>West</td>\n",
       "      <td>Q</td>\n",
       "      <td>Q1</td>\n",
       "      <td>Unidentified</td>\n",
       "    </tr>\n",
       "    <tr>\n",
       "      <th>35225</th>\n",
       "      <td>36 - 45</td>\n",
       "      <td>Field Contact</td>\n",
       "      <td>None</td>\n",
       "      <td>-</td>\n",
       "      <td>1900</td>\n",
       "      <td>N</td>\n",
       "      <td>Unknown</td>\n",
       "      <td>Black or African American</td>\n",
       "      <td>Male</td>\n",
       "      <td>2019-06-06T00:00:00</td>\n",
       "      <td>...</td>\n",
       "      <td>-</td>\n",
       "      <td>-</td>\n",
       "      <td>-</td>\n",
       "      <td>NaN</td>\n",
       "      <td>N</td>\n",
       "      <td>Y</td>\n",
       "      <td>South</td>\n",
       "      <td>S</td>\n",
       "      <td>S1</td>\n",
       "      <td>First</td>\n",
       "    </tr>\n",
       "    <tr>\n",
       "      <th>35904</th>\n",
       "      <td>36 - 45</td>\n",
       "      <td>Field Contact</td>\n",
       "      <td>None</td>\n",
       "      <td>-</td>\n",
       "      <td>1900</td>\n",
       "      <td>N</td>\n",
       "      <td>Unknown</td>\n",
       "      <td>-</td>\n",
       "      <td>Female</td>\n",
       "      <td>2019-07-09T00:00:00</td>\n",
       "      <td>...</td>\n",
       "      <td>-</td>\n",
       "      <td>-</td>\n",
       "      <td>-</td>\n",
       "      <td>NaN</td>\n",
       "      <td>N</td>\n",
       "      <td>N</td>\n",
       "      <td>West</td>\n",
       "      <td>Q</td>\n",
       "      <td>Q2</td>\n",
       "      <td>First</td>\n",
       "    </tr>\n",
       "    <tr>\n",
       "      <th>35995</th>\n",
       "      <td>46 - 55</td>\n",
       "      <td>Field Contact</td>\n",
       "      <td>None</td>\n",
       "      <td>-</td>\n",
       "      <td>1900</td>\n",
       "      <td>N</td>\n",
       "      <td>Unknown</td>\n",
       "      <td>Black or African American</td>\n",
       "      <td>Male</td>\n",
       "      <td>2019-07-13T00:00:00</td>\n",
       "      <td>...</td>\n",
       "      <td>-</td>\n",
       "      <td>-</td>\n",
       "      <td>-</td>\n",
       "      <td>NaN</td>\n",
       "      <td>N</td>\n",
       "      <td>N</td>\n",
       "      <td>West</td>\n",
       "      <td>M</td>\n",
       "      <td>M1</td>\n",
       "      <td>First</td>\n",
       "    </tr>\n",
       "    <tr>\n",
       "      <th>36138</th>\n",
       "      <td>36 - 45</td>\n",
       "      <td>Field Contact</td>\n",
       "      <td>None</td>\n",
       "      <td>-</td>\n",
       "      <td>1900</td>\n",
       "      <td>N</td>\n",
       "      <td>Unknown</td>\n",
       "      <td>White</td>\n",
       "      <td>Male</td>\n",
       "      <td>2019-07-21T00:00:00</td>\n",
       "      <td>...</td>\n",
       "      <td>-</td>\n",
       "      <td>-</td>\n",
       "      <td>-</td>\n",
       "      <td>NaN</td>\n",
       "      <td>N</td>\n",
       "      <td>N</td>\n",
       "      <td>West</td>\n",
       "      <td>Q</td>\n",
       "      <td>Q1</td>\n",
       "      <td>First</td>\n",
       "    </tr>\n",
       "    <tr>\n",
       "      <th>36238</th>\n",
       "      <td>Unknown</td>\n",
       "      <td>Field Contact</td>\n",
       "      <td>None</td>\n",
       "      <td>-</td>\n",
       "      <td>1900</td>\n",
       "      <td>N</td>\n",
       "      <td>Unknown</td>\n",
       "      <td>-</td>\n",
       "      <td>-</td>\n",
       "      <td>2019-07-27T00:00:00</td>\n",
       "      <td>...</td>\n",
       "      <td>-</td>\n",
       "      <td>-</td>\n",
       "      <td>-</td>\n",
       "      <td>NaN</td>\n",
       "      <td>N</td>\n",
       "      <td>Y</td>\n",
       "      <td>West</td>\n",
       "      <td>K</td>\n",
       "      <td>K3</td>\n",
       "      <td>Unidentified</td>\n",
       "    </tr>\n",
       "    <tr>\n",
       "      <th>36239</th>\n",
       "      <td>Unknown</td>\n",
       "      <td>Field Contact</td>\n",
       "      <td>None</td>\n",
       "      <td>-</td>\n",
       "      <td>1900</td>\n",
       "      <td>N</td>\n",
       "      <td>Unknown</td>\n",
       "      <td>-</td>\n",
       "      <td>-</td>\n",
       "      <td>2019-07-27T00:00:00</td>\n",
       "      <td>...</td>\n",
       "      <td>-</td>\n",
       "      <td>-</td>\n",
       "      <td>-</td>\n",
       "      <td>NaN</td>\n",
       "      <td>N</td>\n",
       "      <td>Y</td>\n",
       "      <td>West</td>\n",
       "      <td>K</td>\n",
       "      <td>K3</td>\n",
       "      <td>Unidentified</td>\n",
       "    </tr>\n",
       "    <tr>\n",
       "      <th>36240</th>\n",
       "      <td>Unknown</td>\n",
       "      <td>Field Contact</td>\n",
       "      <td>None</td>\n",
       "      <td>-</td>\n",
       "      <td>1900</td>\n",
       "      <td>N</td>\n",
       "      <td>Unknown</td>\n",
       "      <td>-</td>\n",
       "      <td>-</td>\n",
       "      <td>2019-07-27T00:00:00</td>\n",
       "      <td>...</td>\n",
       "      <td>-</td>\n",
       "      <td>-</td>\n",
       "      <td>-</td>\n",
       "      <td>NaN</td>\n",
       "      <td>N</td>\n",
       "      <td>Y</td>\n",
       "      <td>West</td>\n",
       "      <td>K</td>\n",
       "      <td>K3</td>\n",
       "      <td>Unidentified</td>\n",
       "    </tr>\n",
       "    <tr>\n",
       "      <th>36666</th>\n",
       "      <td>26 - 35</td>\n",
       "      <td>Arrest</td>\n",
       "      <td>None</td>\n",
       "      <td>-</td>\n",
       "      <td>1900</td>\n",
       "      <td>N</td>\n",
       "      <td>Unknown</td>\n",
       "      <td>White</td>\n",
       "      <td>Female</td>\n",
       "      <td>2019-08-15T00:00:00</td>\n",
       "      <td>...</td>\n",
       "      <td>-</td>\n",
       "      <td>-</td>\n",
       "      <td>-</td>\n",
       "      <td>NaN</td>\n",
       "      <td>Y</td>\n",
       "      <td>N</td>\n",
       "      <td>North</td>\n",
       "      <td>B</td>\n",
       "      <td>B1</td>\n",
       "      <td>First</td>\n",
       "    </tr>\n",
       "    <tr>\n",
       "      <th>37177</th>\n",
       "      <td>Unknown</td>\n",
       "      <td>Field Contact</td>\n",
       "      <td>None</td>\n",
       "      <td>-</td>\n",
       "      <td>1900</td>\n",
       "      <td>N</td>\n",
       "      <td>Unknown</td>\n",
       "      <td>White</td>\n",
       "      <td>Male</td>\n",
       "      <td>2019-09-10T00:00:00</td>\n",
       "      <td>...</td>\n",
       "      <td>-</td>\n",
       "      <td>-</td>\n",
       "      <td>-</td>\n",
       "      <td>NaN</td>\n",
       "      <td>N</td>\n",
       "      <td>N</td>\n",
       "      <td>East</td>\n",
       "      <td>E</td>\n",
       "      <td>E3</td>\n",
       "      <td>Unidentified</td>\n",
       "    </tr>\n",
       "    <tr>\n",
       "      <th>37420</th>\n",
       "      <td>56 and Above</td>\n",
       "      <td>Field Contact</td>\n",
       "      <td>None</td>\n",
       "      <td>-</td>\n",
       "      <td>1900</td>\n",
       "      <td>N</td>\n",
       "      <td>Unknown</td>\n",
       "      <td>-</td>\n",
       "      <td>Male</td>\n",
       "      <td>2019-09-22T00:00:00</td>\n",
       "      <td>...</td>\n",
       "      <td>-</td>\n",
       "      <td>-</td>\n",
       "      <td>-</td>\n",
       "      <td>NaN</td>\n",
       "      <td>N</td>\n",
       "      <td>N</td>\n",
       "      <td>East</td>\n",
       "      <td>E</td>\n",
       "      <td>E3</td>\n",
       "      <td>First</td>\n",
       "    </tr>\n",
       "    <tr>\n",
       "      <th>37421</th>\n",
       "      <td>46 - 55</td>\n",
       "      <td>Field Contact</td>\n",
       "      <td>None</td>\n",
       "      <td>-</td>\n",
       "      <td>1900</td>\n",
       "      <td>N</td>\n",
       "      <td>Unknown</td>\n",
       "      <td>White</td>\n",
       "      <td>Male</td>\n",
       "      <td>2019-09-22T00:00:00</td>\n",
       "      <td>...</td>\n",
       "      <td>-</td>\n",
       "      <td>-</td>\n",
       "      <td>-</td>\n",
       "      <td>NaN</td>\n",
       "      <td>N</td>\n",
       "      <td>N</td>\n",
       "      <td>East</td>\n",
       "      <td>E</td>\n",
       "      <td>E3</td>\n",
       "      <td>First</td>\n",
       "    </tr>\n",
       "    <tr>\n",
       "      <th>37515</th>\n",
       "      <td>46 - 55</td>\n",
       "      <td>Field Contact</td>\n",
       "      <td>None</td>\n",
       "      <td>-</td>\n",
       "      <td>1900</td>\n",
       "      <td>N</td>\n",
       "      <td>Unknown</td>\n",
       "      <td>White</td>\n",
       "      <td>Male</td>\n",
       "      <td>2019-09-29T00:00:00</td>\n",
       "      <td>...</td>\n",
       "      <td>-</td>\n",
       "      <td>-</td>\n",
       "      <td>-</td>\n",
       "      <td>NaN</td>\n",
       "      <td>N</td>\n",
       "      <td>N</td>\n",
       "      <td>West</td>\n",
       "      <td>M</td>\n",
       "      <td>M3</td>\n",
       "      <td>First</td>\n",
       "    </tr>\n",
       "    <tr>\n",
       "      <th>37541</th>\n",
       "      <td>36 - 45</td>\n",
       "      <td>Field Contact</td>\n",
       "      <td>None</td>\n",
       "      <td>-</td>\n",
       "      <td>1900</td>\n",
       "      <td>N</td>\n",
       "      <td>Unknown</td>\n",
       "      <td>-</td>\n",
       "      <td>Female</td>\n",
       "      <td>2019-09-30T00:00:00</td>\n",
       "      <td>...</td>\n",
       "      <td>-</td>\n",
       "      <td>-</td>\n",
       "      <td>-</td>\n",
       "      <td>NaN</td>\n",
       "      <td>N</td>\n",
       "      <td>N</td>\n",
       "      <td>West</td>\n",
       "      <td>K</td>\n",
       "      <td>K2</td>\n",
       "      <td>First</td>\n",
       "    </tr>\n",
       "    <tr>\n",
       "      <th>37967</th>\n",
       "      <td>46 - 55</td>\n",
       "      <td>Offense Report</td>\n",
       "      <td>None</td>\n",
       "      <td>-</td>\n",
       "      <td>1900</td>\n",
       "      <td>N</td>\n",
       "      <td>Unknown</td>\n",
       "      <td>American Indian or Alaska Native</td>\n",
       "      <td>Female</td>\n",
       "      <td>2019-10-23T00:00:00</td>\n",
       "      <td>...</td>\n",
       "      <td>-</td>\n",
       "      <td>-</td>\n",
       "      <td>-</td>\n",
       "      <td>NaN</td>\n",
       "      <td>N</td>\n",
       "      <td>N</td>\n",
       "      <td>West</td>\n",
       "      <td>Q</td>\n",
       "      <td>Q2</td>\n",
       "      <td>First</td>\n",
       "    </tr>\n",
       "    <tr>\n",
       "      <th>37969</th>\n",
       "      <td>26 - 35</td>\n",
       "      <td>Arrest</td>\n",
       "      <td>None</td>\n",
       "      <td>-</td>\n",
       "      <td>1900</td>\n",
       "      <td>N</td>\n",
       "      <td>Unknown</td>\n",
       "      <td>White</td>\n",
       "      <td>Male</td>\n",
       "      <td>2019-10-23T00:00:00</td>\n",
       "      <td>...</td>\n",
       "      <td>-</td>\n",
       "      <td>-</td>\n",
       "      <td>-</td>\n",
       "      <td>NaN</td>\n",
       "      <td>Y</td>\n",
       "      <td>N</td>\n",
       "      <td>West</td>\n",
       "      <td>Q</td>\n",
       "      <td>Q2</td>\n",
       "      <td>First</td>\n",
       "    </tr>\n",
       "    <tr>\n",
       "      <th>37985</th>\n",
       "      <td>46 - 55</td>\n",
       "      <td>Field Contact</td>\n",
       "      <td>None</td>\n",
       "      <td>-</td>\n",
       "      <td>1900</td>\n",
       "      <td>N</td>\n",
       "      <td>Unknown</td>\n",
       "      <td>-</td>\n",
       "      <td>Male</td>\n",
       "      <td>2019-10-24T00:00:00</td>\n",
       "      <td>...</td>\n",
       "      <td>-</td>\n",
       "      <td>-</td>\n",
       "      <td>-</td>\n",
       "      <td>NaN</td>\n",
       "      <td>N</td>\n",
       "      <td>N</td>\n",
       "      <td>West</td>\n",
       "      <td>D</td>\n",
       "      <td>D1</td>\n",
       "      <td>First</td>\n",
       "    </tr>\n",
       "    <tr>\n",
       "      <th>38066</th>\n",
       "      <td>36 - 45</td>\n",
       "      <td>Field Contact</td>\n",
       "      <td>None</td>\n",
       "      <td>-</td>\n",
       "      <td>1900</td>\n",
       "      <td>N</td>\n",
       "      <td>Unknown</td>\n",
       "      <td>-</td>\n",
       "      <td>Female</td>\n",
       "      <td>2019-10-28T00:00:00</td>\n",
       "      <td>...</td>\n",
       "      <td>-</td>\n",
       "      <td>-</td>\n",
       "      <td>-</td>\n",
       "      <td>NaN</td>\n",
       "      <td>N</td>\n",
       "      <td>N</td>\n",
       "      <td>West</td>\n",
       "      <td>M</td>\n",
       "      <td>M3</td>\n",
       "      <td>First</td>\n",
       "    </tr>\n",
       "    <tr>\n",
       "      <th>38090</th>\n",
       "      <td>18 - 25</td>\n",
       "      <td>Offense Report</td>\n",
       "      <td>None</td>\n",
       "      <td>-</td>\n",
       "      <td>1900</td>\n",
       "      <td>N</td>\n",
       "      <td>Unknown</td>\n",
       "      <td>American Indian or Alaska Native</td>\n",
       "      <td>Female</td>\n",
       "      <td>2019-10-29T00:00:00</td>\n",
       "      <td>...</td>\n",
       "      <td>-</td>\n",
       "      <td>-</td>\n",
       "      <td>-</td>\n",
       "      <td>NaN</td>\n",
       "      <td>N</td>\n",
       "      <td>N</td>\n",
       "      <td>West</td>\n",
       "      <td>M</td>\n",
       "      <td>M3</td>\n",
       "      <td>First</td>\n",
       "    </tr>\n",
       "    <tr>\n",
       "      <th>38135</th>\n",
       "      <td>26 - 35</td>\n",
       "      <td>Field Contact</td>\n",
       "      <td>None</td>\n",
       "      <td>-</td>\n",
       "      <td>1900</td>\n",
       "      <td>N</td>\n",
       "      <td>Unknown</td>\n",
       "      <td>White</td>\n",
       "      <td>Male</td>\n",
       "      <td>2019-11-02T00:00:00</td>\n",
       "      <td>...</td>\n",
       "      <td>-</td>\n",
       "      <td>-</td>\n",
       "      <td>-</td>\n",
       "      <td>NaN</td>\n",
       "      <td>N</td>\n",
       "      <td>N</td>\n",
       "      <td>West</td>\n",
       "      <td>D</td>\n",
       "      <td>D3</td>\n",
       "      <td>First</td>\n",
       "    </tr>\n",
       "    <tr>\n",
       "      <th>38321</th>\n",
       "      <td>36 - 45</td>\n",
       "      <td>Field Contact</td>\n",
       "      <td>None</td>\n",
       "      <td>-</td>\n",
       "      <td>1900</td>\n",
       "      <td>N</td>\n",
       "      <td>Unknown</td>\n",
       "      <td>White</td>\n",
       "      <td>Male</td>\n",
       "      <td>2019-11-10T00:00:00</td>\n",
       "      <td>...</td>\n",
       "      <td>-</td>\n",
       "      <td>-</td>\n",
       "      <td>-</td>\n",
       "      <td>NaN</td>\n",
       "      <td>N</td>\n",
       "      <td>N</td>\n",
       "      <td>West</td>\n",
       "      <td>D</td>\n",
       "      <td>D1</td>\n",
       "      <td>First</td>\n",
       "    </tr>\n",
       "    <tr>\n",
       "      <th>38324</th>\n",
       "      <td>26 - 35</td>\n",
       "      <td>Field Contact</td>\n",
       "      <td>None</td>\n",
       "      <td>-</td>\n",
       "      <td>1900</td>\n",
       "      <td>N</td>\n",
       "      <td>Unknown</td>\n",
       "      <td>White</td>\n",
       "      <td>Male</td>\n",
       "      <td>2019-11-10T00:00:00</td>\n",
       "      <td>...</td>\n",
       "      <td>-</td>\n",
       "      <td>-</td>\n",
       "      <td>-</td>\n",
       "      <td>NaN</td>\n",
       "      <td>N</td>\n",
       "      <td>N</td>\n",
       "      <td>West</td>\n",
       "      <td>D</td>\n",
       "      <td>D1</td>\n",
       "      <td>First</td>\n",
       "    </tr>\n",
       "    <tr>\n",
       "      <th>38570</th>\n",
       "      <td>36 - 45</td>\n",
       "      <td>Field Contact</td>\n",
       "      <td>None</td>\n",
       "      <td>-</td>\n",
       "      <td>1900</td>\n",
       "      <td>N</td>\n",
       "      <td>Unknown</td>\n",
       "      <td>White</td>\n",
       "      <td>Male</td>\n",
       "      <td>2019-11-22T00:00:00</td>\n",
       "      <td>...</td>\n",
       "      <td>-</td>\n",
       "      <td>-</td>\n",
       "      <td>-</td>\n",
       "      <td>NaN</td>\n",
       "      <td>N</td>\n",
       "      <td>N</td>\n",
       "      <td>West</td>\n",
       "      <td>M</td>\n",
       "      <td>M3</td>\n",
       "      <td>Repeat</td>\n",
       "    </tr>\n",
       "    <tr>\n",
       "      <th>38571</th>\n",
       "      <td>36 - 45</td>\n",
       "      <td>Field Contact</td>\n",
       "      <td>None</td>\n",
       "      <td>-</td>\n",
       "      <td>1900</td>\n",
       "      <td>N</td>\n",
       "      <td>Unknown</td>\n",
       "      <td>White</td>\n",
       "      <td>Female</td>\n",
       "      <td>2019-11-22T00:00:00</td>\n",
       "      <td>...</td>\n",
       "      <td>-</td>\n",
       "      <td>-</td>\n",
       "      <td>-</td>\n",
       "      <td>NaN</td>\n",
       "      <td>N</td>\n",
       "      <td>N</td>\n",
       "      <td>West</td>\n",
       "      <td>M</td>\n",
       "      <td>M3</td>\n",
       "      <td>Repeat</td>\n",
       "    </tr>\n",
       "    <tr>\n",
       "      <th>38691</th>\n",
       "      <td>18 - 25</td>\n",
       "      <td>Field Contact</td>\n",
       "      <td>None</td>\n",
       "      <td>-</td>\n",
       "      <td>1900</td>\n",
       "      <td>N</td>\n",
       "      <td>Unknown</td>\n",
       "      <td>White</td>\n",
       "      <td>Female</td>\n",
       "      <td>2019-11-27T00:00:00</td>\n",
       "      <td>...</td>\n",
       "      <td>-</td>\n",
       "      <td>-</td>\n",
       "      <td>-</td>\n",
       "      <td>NaN</td>\n",
       "      <td>N</td>\n",
       "      <td>N</td>\n",
       "      <td>West</td>\n",
       "      <td>M</td>\n",
       "      <td>M3</td>\n",
       "      <td>Repeat</td>\n",
       "    </tr>\n",
       "  </tbody>\n",
       "</table>\n",
       "<p>29 rows × 21 columns</p>\n",
       "</div>"
      ],
      "text/plain": [
       "      Subject Age Group Stop Resolution Weapon Type Officer ID  Officer YOB  \\\n",
       "427             18 - 25   Field Contact        None         -9         1900   \n",
       "7101            36 - 45   Field Contact        None         -9         1900   \n",
       "12857           36 - 45   Field Contact        None         -9         1900   \n",
       "17770           18 - 25   Field Contact        None         -9         1900   \n",
       "23085           18 - 25          Arrest        None         -9         1900   \n",
       "35225           36 - 45   Field Contact        None          -         1900   \n",
       "35904           36 - 45   Field Contact        None          -         1900   \n",
       "35995           46 - 55   Field Contact        None          -         1900   \n",
       "36138           36 - 45   Field Contact        None          -         1900   \n",
       "36238           Unknown   Field Contact        None          -         1900   \n",
       "36239           Unknown   Field Contact        None          -         1900   \n",
       "36240           Unknown   Field Contact        None          -         1900   \n",
       "36666           26 - 35          Arrest        None          -         1900   \n",
       "37177           Unknown   Field Contact        None          -         1900   \n",
       "37420      56 and Above   Field Contact        None          -         1900   \n",
       "37421           46 - 55   Field Contact        None          -         1900   \n",
       "37515           46 - 55   Field Contact        None          -         1900   \n",
       "37541           36 - 45   Field Contact        None          -         1900   \n",
       "37967           46 - 55  Offense Report        None          -         1900   \n",
       "37969           26 - 35          Arrest        None          -         1900   \n",
       "37985           46 - 55   Field Contact        None          -         1900   \n",
       "38066           36 - 45   Field Contact        None          -         1900   \n",
       "38090           18 - 25  Offense Report        None          -         1900   \n",
       "38135           26 - 35   Field Contact        None          -         1900   \n",
       "38321           36 - 45   Field Contact        None          -         1900   \n",
       "38324           26 - 35   Field Contact        None          -         1900   \n",
       "38570           36 - 45   Field Contact        None          -         1900   \n",
       "38571           36 - 45   Field Contact        None          -         1900   \n",
       "38691           18 - 25   Field Contact        None          -         1900   \n",
       "\n",
       "      Officer Gender Officer Race            Subject Perceived Race  \\\n",
       "427                N      Unknown         Black or African American   \n",
       "7101               N      Unknown                             White   \n",
       "12857              N      Unknown                             White   \n",
       "17770              N      Unknown                           Unknown   \n",
       "23085              N      Unknown                             White   \n",
       "35225              N      Unknown         Black or African American   \n",
       "35904              N      Unknown                                 -   \n",
       "35995              N      Unknown         Black or African American   \n",
       "36138              N      Unknown                             White   \n",
       "36238              N      Unknown                                 -   \n",
       "36239              N      Unknown                                 -   \n",
       "36240              N      Unknown                                 -   \n",
       "36666              N      Unknown                             White   \n",
       "37177              N      Unknown                             White   \n",
       "37420              N      Unknown                                 -   \n",
       "37421              N      Unknown                             White   \n",
       "37515              N      Unknown                             White   \n",
       "37541              N      Unknown                                 -   \n",
       "37967              N      Unknown  American Indian or Alaska Native   \n",
       "37969              N      Unknown                             White   \n",
       "37985              N      Unknown                                 -   \n",
       "38066              N      Unknown                                 -   \n",
       "38090              N      Unknown  American Indian or Alaska Native   \n",
       "38135              N      Unknown                             White   \n",
       "38321              N      Unknown                             White   \n",
       "38324              N      Unknown                             White   \n",
       "38570              N      Unknown                             White   \n",
       "38571              N      Unknown                             White   \n",
       "38691              N      Unknown                             White   \n",
       "\n",
       "      Subject Perceived Gender        Reported Date  ... Initial Call Type  \\\n",
       "427                       Male  2015-05-19T00:00:00  ...                 -   \n",
       "7101                    Female  2016-01-02T00:00:00  ...                 -   \n",
       "12857                     Male  2016-09-14T00:00:00  ...                 -   \n",
       "17770                   Female  2017-06-06T00:00:00  ...                 -   \n",
       "23085                     Male  2018-02-07T00:00:00  ...                 -   \n",
       "35225                     Male  2019-06-06T00:00:00  ...                 -   \n",
       "35904                   Female  2019-07-09T00:00:00  ...                 -   \n",
       "35995                     Male  2019-07-13T00:00:00  ...                 -   \n",
       "36138                     Male  2019-07-21T00:00:00  ...                 -   \n",
       "36238                        -  2019-07-27T00:00:00  ...                 -   \n",
       "36239                        -  2019-07-27T00:00:00  ...                 -   \n",
       "36240                        -  2019-07-27T00:00:00  ...                 -   \n",
       "36666                   Female  2019-08-15T00:00:00  ...                 -   \n",
       "37177                     Male  2019-09-10T00:00:00  ...                 -   \n",
       "37420                     Male  2019-09-22T00:00:00  ...                 -   \n",
       "37421                     Male  2019-09-22T00:00:00  ...                 -   \n",
       "37515                     Male  2019-09-29T00:00:00  ...                 -   \n",
       "37541                   Female  2019-09-30T00:00:00  ...                 -   \n",
       "37967                   Female  2019-10-23T00:00:00  ...                 -   \n",
       "37969                     Male  2019-10-23T00:00:00  ...                 -   \n",
       "37985                     Male  2019-10-24T00:00:00  ...                 -   \n",
       "38066                   Female  2019-10-28T00:00:00  ...                 -   \n",
       "38090                   Female  2019-10-29T00:00:00  ...                 -   \n",
       "38135                     Male  2019-11-02T00:00:00  ...                 -   \n",
       "38321                     Male  2019-11-10T00:00:00  ...                 -   \n",
       "38324                     Male  2019-11-10T00:00:00  ...                 -   \n",
       "38570                     Male  2019-11-22T00:00:00  ...                 -   \n",
       "38571                   Female  2019-11-22T00:00:00  ...                 -   \n",
       "38691                   Female  2019-11-27T00:00:00  ...                 -   \n",
       "\n",
       "      Final Call Type Call Type Officer Squad Arrest Flag Frisk Flag Precinct  \\\n",
       "427                 -         -           NaN           N          N        -   \n",
       "7101                -         -           NaN           N          N    North   \n",
       "12857               -         -           NaN           N          N        -   \n",
       "17770               -         -           NaN           N          N        -   \n",
       "23085               -         -           NaN           N          N     West   \n",
       "35225               -         -           NaN           N          Y    South   \n",
       "35904               -         -           NaN           N          N     West   \n",
       "35995               -         -           NaN           N          N     West   \n",
       "36138               -         -           NaN           N          N     West   \n",
       "36238               -         -           NaN           N          Y     West   \n",
       "36239               -         -           NaN           N          Y     West   \n",
       "36240               -         -           NaN           N          Y     West   \n",
       "36666               -         -           NaN           Y          N    North   \n",
       "37177               -         -           NaN           N          N     East   \n",
       "37420               -         -           NaN           N          N     East   \n",
       "37421               -         -           NaN           N          N     East   \n",
       "37515               -         -           NaN           N          N     West   \n",
       "37541               -         -           NaN           N          N     West   \n",
       "37967               -         -           NaN           N          N     West   \n",
       "37969               -         -           NaN           Y          N     West   \n",
       "37985               -         -           NaN           N          N     West   \n",
       "38066               -         -           NaN           N          N     West   \n",
       "38090               -         -           NaN           N          N     West   \n",
       "38135               -         -           NaN           N          N     West   \n",
       "38321               -         -           NaN           N          N     West   \n",
       "38324               -         -           NaN           N          N     West   \n",
       "38570               -         -           NaN           N          N     West   \n",
       "38571               -         -           NaN           N          N     West   \n",
       "38691               -         -           NaN           N          N     West   \n",
       "\n",
       "       Sector    Beat Subject Known  \n",
       "427         -       -  Unidentified  \n",
       "7101   N       N3      Unidentified  \n",
       "12857       -       -  Unidentified  \n",
       "17770       -       -  Unidentified  \n",
       "23085  Q       Q1      Unidentified  \n",
       "35225       S      S1         First  \n",
       "35904       Q      Q2         First  \n",
       "35995       M      M1         First  \n",
       "36138       Q      Q1         First  \n",
       "36238       K      K3  Unidentified  \n",
       "36239       K      K3  Unidentified  \n",
       "36240       K      K3  Unidentified  \n",
       "36666       B      B1         First  \n",
       "37177       E      E3  Unidentified  \n",
       "37420       E      E3         First  \n",
       "37421       E      E3         First  \n",
       "37515       M      M3         First  \n",
       "37541       K      K2         First  \n",
       "37967       Q      Q2         First  \n",
       "37969       Q      Q2         First  \n",
       "37985       D      D1         First  \n",
       "38066       M      M3         First  \n",
       "38090       M      M3         First  \n",
       "38135       D      D3         First  \n",
       "38321       D      D1         First  \n",
       "38324       D      D1         First  \n",
       "38570       M      M3        Repeat  \n",
       "38571       M      M3        Repeat  \n",
       "38691       M      M3        Repeat  \n",
       "\n",
       "[29 rows x 21 columns]"
      ]
     },
     "execution_count": 35,
     "metadata": {},
     "output_type": "execute_result"
    }
   ],
   "source": [
    "# I noticed some value of -9.  Let's look at them.\n",
    "indices=[]\n",
    "for i,x in enumerate(terry_sort['Officer ID']):\n",
    "    if x.startswith('-'):\n",
    "        indices.append(i)\n",
    "\n",
    "terry_sort.iloc[indices,:]"
   ]
  },
  {
   "cell_type": "code",
   "execution_count": 36,
   "metadata": {
    "hidden": true,
    "scrolled": true
   },
   "outputs": [
    {
     "data": {
      "text/html": [
       "<div>\n",
       "<style scoped>\n",
       "    .dataframe tbody tr th:only-of-type {\n",
       "        vertical-align: middle;\n",
       "    }\n",
       "\n",
       "    .dataframe tbody tr th {\n",
       "        vertical-align: top;\n",
       "    }\n",
       "\n",
       "    .dataframe thead th {\n",
       "        text-align: right;\n",
       "    }\n",
       "</style>\n",
       "<table border=\"1\" class=\"dataframe\">\n",
       "  <thead>\n",
       "    <tr style=\"text-align: right;\">\n",
       "      <th></th>\n",
       "      <th>Subject Age Group</th>\n",
       "      <th>Stop Resolution</th>\n",
       "      <th>Weapon Type</th>\n",
       "      <th>Officer ID</th>\n",
       "      <th>Officer YOB</th>\n",
       "      <th>Officer Gender</th>\n",
       "      <th>Officer Race</th>\n",
       "      <th>Subject Perceived Race</th>\n",
       "      <th>Subject Perceived Gender</th>\n",
       "      <th>Reported Date</th>\n",
       "      <th>...</th>\n",
       "      <th>Initial Call Type</th>\n",
       "      <th>Final Call Type</th>\n",
       "      <th>Call Type</th>\n",
       "      <th>Officer Squad</th>\n",
       "      <th>Arrest Flag</th>\n",
       "      <th>Frisk Flag</th>\n",
       "      <th>Precinct</th>\n",
       "      <th>Sector</th>\n",
       "      <th>Beat</th>\n",
       "      <th>Subject Known</th>\n",
       "    </tr>\n",
       "  </thead>\n",
       "  <tbody>\n",
       "    <tr>\n",
       "      <th>30</th>\n",
       "      <td>26 - 35</td>\n",
       "      <td>Arrest</td>\n",
       "      <td>None</td>\n",
       "      <td>5143</td>\n",
       "      <td>1957</td>\n",
       "      <td>M</td>\n",
       "      <td>Black or African American</td>\n",
       "      <td>Black or African American</td>\n",
       "      <td>Male</td>\n",
       "      <td>2015-03-19T00:00:00</td>\n",
       "      <td>...</td>\n",
       "      <td>ROBBERY - IP/JO (INCLUDES STRONG ARM)</td>\n",
       "      <td>--ROBBERY - STRONG ARM</td>\n",
       "      <td>911</td>\n",
       "      <td>NaN</td>\n",
       "      <td>N</td>\n",
       "      <td>Y</td>\n",
       "      <td>East</td>\n",
       "      <td>C</td>\n",
       "      <td>C1</td>\n",
       "      <td>Unidentified</td>\n",
       "    </tr>\n",
       "    <tr>\n",
       "      <th>90</th>\n",
       "      <td>26 - 35</td>\n",
       "      <td>Field Contact</td>\n",
       "      <td>None</td>\n",
       "      <td>4320</td>\n",
       "      <td>1956</td>\n",
       "      <td>M</td>\n",
       "      <td>White</td>\n",
       "      <td>Black or African American</td>\n",
       "      <td>Male</td>\n",
       "      <td>2015-04-01T00:00:00</td>\n",
       "      <td>...</td>\n",
       "      <td>-</td>\n",
       "      <td>-</td>\n",
       "      <td>-</td>\n",
       "      <td>NaN</td>\n",
       "      <td>N</td>\n",
       "      <td>N</td>\n",
       "      <td>-</td>\n",
       "      <td>-</td>\n",
       "      <td>-</td>\n",
       "      <td>Unidentified</td>\n",
       "    </tr>\n",
       "    <tr>\n",
       "      <th>603</th>\n",
       "      <td>26 - 35</td>\n",
       "      <td>Field Contact</td>\n",
       "      <td>None</td>\n",
       "      <td>7448</td>\n",
       "      <td>1972</td>\n",
       "      <td>M</td>\n",
       "      <td>White</td>\n",
       "      <td>Black or African American</td>\n",
       "      <td>Male</td>\n",
       "      <td>2015-05-24T00:00:00</td>\n",
       "      <td>...</td>\n",
       "      <td>-</td>\n",
       "      <td>-</td>\n",
       "      <td>-</td>\n",
       "      <td>WEST PCT 2ND W - KING BEATS</td>\n",
       "      <td>N</td>\n",
       "      <td>N</td>\n",
       "      <td>Southwest</td>\n",
       "      <td>W</td>\n",
       "      <td>W3</td>\n",
       "      <td>Unidentified</td>\n",
       "    </tr>\n",
       "    <tr>\n",
       "      <th>764</th>\n",
       "      <td>26 - 35</td>\n",
       "      <td>Field Contact</td>\n",
       "      <td>None</td>\n",
       "      <td>5712</td>\n",
       "      <td>1961</td>\n",
       "      <td>M</td>\n",
       "      <td>White</td>\n",
       "      <td>White</td>\n",
       "      <td>Male</td>\n",
       "      <td>2015-05-28T00:00:00</td>\n",
       "      <td>...</td>\n",
       "      <td>-</td>\n",
       "      <td>-</td>\n",
       "      <td>-</td>\n",
       "      <td>EAST PCT 3RD W - CHARLIE</td>\n",
       "      <td>N</td>\n",
       "      <td>Y</td>\n",
       "      <td>-</td>\n",
       "      <td>-</td>\n",
       "      <td>-</td>\n",
       "      <td>Unidentified</td>\n",
       "    </tr>\n",
       "    <tr>\n",
       "      <th>823</th>\n",
       "      <td>26 - 35</td>\n",
       "      <td>Field Contact</td>\n",
       "      <td>None</td>\n",
       "      <td>5458</td>\n",
       "      <td>1966</td>\n",
       "      <td>M</td>\n",
       "      <td>White</td>\n",
       "      <td>White</td>\n",
       "      <td>Male</td>\n",
       "      <td>2015-05-29T00:00:00</td>\n",
       "      <td>...</td>\n",
       "      <td>-</td>\n",
       "      <td>-</td>\n",
       "      <td>-</td>\n",
       "      <td>NaN</td>\n",
       "      <td>N</td>\n",
       "      <td>N</td>\n",
       "      <td>-</td>\n",
       "      <td>-</td>\n",
       "      <td>-</td>\n",
       "      <td>Unidentified</td>\n",
       "    </tr>\n",
       "    <tr>\n",
       "      <th>...</th>\n",
       "      <td>...</td>\n",
       "      <td>...</td>\n",
       "      <td>...</td>\n",
       "      <td>...</td>\n",
       "      <td>...</td>\n",
       "      <td>...</td>\n",
       "      <td>...</td>\n",
       "      <td>...</td>\n",
       "      <td>...</td>\n",
       "      <td>...</td>\n",
       "      <td>...</td>\n",
       "      <td>...</td>\n",
       "      <td>...</td>\n",
       "      <td>...</td>\n",
       "      <td>...</td>\n",
       "      <td>...</td>\n",
       "      <td>...</td>\n",
       "      <td>...</td>\n",
       "      <td>...</td>\n",
       "      <td>...</td>\n",
       "      <td>...</td>\n",
       "    </tr>\n",
       "    <tr>\n",
       "      <th>42286</th>\n",
       "      <td>26 - 35</td>\n",
       "      <td>Offense Report</td>\n",
       "      <td>None</td>\n",
       "      <td>8732</td>\n",
       "      <td>1992</td>\n",
       "      <td>M</td>\n",
       "      <td>Two or More Races</td>\n",
       "      <td>Unknown</td>\n",
       "      <td>Male</td>\n",
       "      <td>2020-05-08T00:00:00</td>\n",
       "      <td>...</td>\n",
       "      <td>DISTURBANCE, MISCELLANEOUS/OTHER</td>\n",
       "      <td>--DISTURBANCE - OTHER</td>\n",
       "      <td>911</td>\n",
       "      <td>TRAINING - FIELD TRAINING SQUAD</td>\n",
       "      <td>N</td>\n",
       "      <td>N</td>\n",
       "      <td>SouthWest</td>\n",
       "      <td>F</td>\n",
       "      <td>F2</td>\n",
       "      <td>First</td>\n",
       "    </tr>\n",
       "    <tr>\n",
       "      <th>42506</th>\n",
       "      <td>46 - 55</td>\n",
       "      <td>Arrest</td>\n",
       "      <td>None</td>\n",
       "      <td>6735</td>\n",
       "      <td>1968</td>\n",
       "      <td>M</td>\n",
       "      <td>White</td>\n",
       "      <td>Black or African American</td>\n",
       "      <td>Male</td>\n",
       "      <td>2020-05-16T00:00:00</td>\n",
       "      <td>...</td>\n",
       "      <td>ASLT - IP/JO - DV</td>\n",
       "      <td>--DV - DOMESTIC VIOL/ASLT (ARREST MANDATORY)</td>\n",
       "      <td>911</td>\n",
       "      <td>SOUTHWEST PCT 1ST W - WILLIAM</td>\n",
       "      <td>Y</td>\n",
       "      <td>Y</td>\n",
       "      <td>SouthWest</td>\n",
       "      <td>W</td>\n",
       "      <td>W2</td>\n",
       "      <td>First</td>\n",
       "    </tr>\n",
       "    <tr>\n",
       "      <th>42909</th>\n",
       "      <td>26 - 35</td>\n",
       "      <td>Field Contact</td>\n",
       "      <td>None</td>\n",
       "      <td>6421</td>\n",
       "      <td>1972</td>\n",
       "      <td>F</td>\n",
       "      <td>White</td>\n",
       "      <td>American Indian or Alaska Native</td>\n",
       "      <td>Female</td>\n",
       "      <td>2020-06-06T00:00:00</td>\n",
       "      <td>...</td>\n",
       "      <td>DUI - DRIVING UNDER INFLUENCE</td>\n",
       "      <td>--SUSPICIOUS CIRCUM. - SUSPICIOUS PERSON</td>\n",
       "      <td>TELEPHONE OTHER, NOT 911</td>\n",
       "      <td>NORTH PCT 3RD W - JOHN RELIEF</td>\n",
       "      <td>N</td>\n",
       "      <td>N</td>\n",
       "      <td>-</td>\n",
       "      <td>-</td>\n",
       "      <td>-</td>\n",
       "      <td>First</td>\n",
       "    </tr>\n",
       "    <tr>\n",
       "      <th>42987</th>\n",
       "      <td>18 - 25</td>\n",
       "      <td>Offense Report</td>\n",
       "      <td>None</td>\n",
       "      <td>8715</td>\n",
       "      <td>1994</td>\n",
       "      <td>M</td>\n",
       "      <td>White</td>\n",
       "      <td>-</td>\n",
       "      <td>Male</td>\n",
       "      <td>2020-06-14T00:00:00</td>\n",
       "      <td>...</td>\n",
       "      <td>SUSPICIOUS PERSON, VEHICLE OR INCIDENT</td>\n",
       "      <td>--SUSPICIOUS CIRCUM. - SUSPICIOUS PERSON</td>\n",
       "      <td>ONVIEW</td>\n",
       "      <td>TRAINING - FIELD TRAINING SQUAD</td>\n",
       "      <td>N</td>\n",
       "      <td>N</td>\n",
       "      <td>FK ERROR</td>\n",
       "      <td>-</td>\n",
       "      <td>99</td>\n",
       "      <td>First</td>\n",
       "    </tr>\n",
       "    <tr>\n",
       "      <th>43565</th>\n",
       "      <td>18 - 25</td>\n",
       "      <td>Arrest</td>\n",
       "      <td>None</td>\n",
       "      <td>8745</td>\n",
       "      <td>1991</td>\n",
       "      <td>M</td>\n",
       "      <td>Black or African American</td>\n",
       "      <td>White</td>\n",
       "      <td>Male</td>\n",
       "      <td>2020-08-08T00:00:00</td>\n",
       "      <td>...</td>\n",
       "      <td>SUSPICIOUS PERSON, VEHICLE OR INCIDENT</td>\n",
       "      <td>--WARRANT SERVICES - FELONY</td>\n",
       "      <td>911</td>\n",
       "      <td>TRAINING - FIELD TRAINING SQUAD</td>\n",
       "      <td>Y</td>\n",
       "      <td>N</td>\n",
       "      <td>East</td>\n",
       "      <td>C</td>\n",
       "      <td>C1</td>\n",
       "      <td>Repeat</td>\n",
       "    </tr>\n",
       "  </tbody>\n",
       "</table>\n",
       "<p>79 rows × 21 columns</p>\n",
       "</div>"
      ],
      "text/plain": [
       "      Subject Age Group Stop Resolution Weapon Type Officer ID  Officer YOB  \\\n",
       "30              26 - 35          Arrest        None     5143           1957   \n",
       "90              26 - 35   Field Contact        None     4320           1956   \n",
       "603             26 - 35   Field Contact        None     7448           1972   \n",
       "764             26 - 35   Field Contact        None     5712           1961   \n",
       "823             26 - 35   Field Contact        None     5458           1966   \n",
       "...                 ...             ...         ...        ...          ...   \n",
       "42286           26 - 35  Offense Report        None     8732           1992   \n",
       "42506           46 - 55          Arrest        None     6735           1968   \n",
       "42909           26 - 35   Field Contact        None     6421           1972   \n",
       "42987           18 - 25  Offense Report        None     8715           1994   \n",
       "43565           18 - 25          Arrest        None     8745           1991   \n",
       "\n",
       "      Officer Gender               Officer Race  \\\n",
       "30                 M  Black or African American   \n",
       "90                 M                      White   \n",
       "603                M                      White   \n",
       "764                M                      White   \n",
       "823                M                      White   \n",
       "...              ...                        ...   \n",
       "42286              M          Two or More Races   \n",
       "42506              M                      White   \n",
       "42909              F                      White   \n",
       "42987              M                      White   \n",
       "43565              M  Black or African American   \n",
       "\n",
       "                 Subject Perceived Race Subject Perceived Gender  \\\n",
       "30            Black or African American                     Male   \n",
       "90            Black or African American                     Male   \n",
       "603           Black or African American                     Male   \n",
       "764                               White                     Male   \n",
       "823                               White                     Male   \n",
       "...                                 ...                      ...   \n",
       "42286                           Unknown                     Male   \n",
       "42506         Black or African American                     Male   \n",
       "42909  American Indian or Alaska Native                   Female   \n",
       "42987                                 -                     Male   \n",
       "43565                             White                     Male   \n",
       "\n",
       "             Reported Date  ...                       Initial Call Type  \\\n",
       "30     2015-03-19T00:00:00  ...   ROBBERY - IP/JO (INCLUDES STRONG ARM)   \n",
       "90     2015-04-01T00:00:00  ...                                       -   \n",
       "603    2015-05-24T00:00:00  ...                                       -   \n",
       "764    2015-05-28T00:00:00  ...                                       -   \n",
       "823    2015-05-29T00:00:00  ...                                       -   \n",
       "...                    ...  ...                                     ...   \n",
       "42286  2020-05-08T00:00:00  ...        DISTURBANCE, MISCELLANEOUS/OTHER   \n",
       "42506  2020-05-16T00:00:00  ...                       ASLT - IP/JO - DV   \n",
       "42909  2020-06-06T00:00:00  ...           DUI - DRIVING UNDER INFLUENCE   \n",
       "42987  2020-06-14T00:00:00  ...  SUSPICIOUS PERSON, VEHICLE OR INCIDENT   \n",
       "43565  2020-08-08T00:00:00  ...  SUSPICIOUS PERSON, VEHICLE OR INCIDENT   \n",
       "\n",
       "                                    Final Call Type                 Call Type  \\\n",
       "30                           --ROBBERY - STRONG ARM                       911   \n",
       "90                                                -                         -   \n",
       "603                                               -                         -   \n",
       "764                                               -                         -   \n",
       "823                                               -                         -   \n",
       "...                                             ...                       ...   \n",
       "42286                         --DISTURBANCE - OTHER                       911   \n",
       "42506  --DV - DOMESTIC VIOL/ASLT (ARREST MANDATORY)                       911   \n",
       "42909      --SUSPICIOUS CIRCUM. - SUSPICIOUS PERSON  TELEPHONE OTHER, NOT 911   \n",
       "42987      --SUSPICIOUS CIRCUM. - SUSPICIOUS PERSON                    ONVIEW   \n",
       "43565                   --WARRANT SERVICES - FELONY                       911   \n",
       "\n",
       "                         Officer Squad Arrest Flag Frisk Flag   Precinct  \\\n",
       "30                                 NaN           N          Y       East   \n",
       "90                                 NaN           N          N          -   \n",
       "603        WEST PCT 2ND W - KING BEATS           N          N  Southwest   \n",
       "764           EAST PCT 3RD W - CHARLIE           N          Y          -   \n",
       "823                                NaN           N          N          -   \n",
       "...                                ...         ...        ...        ...   \n",
       "42286  TRAINING - FIELD TRAINING SQUAD           N          N  SouthWest   \n",
       "42506    SOUTHWEST PCT 1ST W - WILLIAM           Y          Y  SouthWest   \n",
       "42909    NORTH PCT 3RD W - JOHN RELIEF           N          N          -   \n",
       "42987  TRAINING - FIELD TRAINING SQUAD           N          N   FK ERROR   \n",
       "43565  TRAINING - FIELD TRAINING SQUAD           Y          N       East   \n",
       "\n",
       "       Sector    Beat Subject Known  \n",
       "30     C       C1      Unidentified  \n",
       "90          -       -  Unidentified  \n",
       "603    W       W3      Unidentified  \n",
       "764         -       -  Unidentified  \n",
       "823         -       -  Unidentified  \n",
       "...       ...     ...           ...  \n",
       "42286       F      F2         First  \n",
       "42506       W      W2         First  \n",
       "42909       -       -         First  \n",
       "42987       -      99         First  \n",
       "43565       C      C1        Repeat  \n",
       "\n",
       "[79 rows x 21 columns]"
      ]
     },
     "execution_count": 36,
     "metadata": {},
     "output_type": "execute_result"
    }
   ],
   "source": [
    "terry_sort[~terry_sort.duplicated(subset = 'Officer ID', keep=False)]\n",
    "# 79 Officer IDs only occur once"
   ]
  },
  {
   "cell_type": "code",
   "execution_count": 37,
   "metadata": {
    "hidden": true,
    "scrolled": true
   },
   "outputs": [],
   "source": [
    "terry_sort['Officer ID'] = terry_sort['Officer ID'].map(lambda x: x.strip())\n",
    "terry_sort['Officer ID'] = terry_sort['Officer ID'].replace(to_replace='-',value='Unknown')\n",
    "terry_sort['Officer ID'] = terry_sort['Officer ID'].replace(to_replace='-9',value='Unknown')\n",
    "top_ten = terry_sort['Officer ID'].value_counts()[:10].index.tolist()"
   ]
  },
  {
   "cell_type": "code",
   "execution_count": 38,
   "metadata": {
    "hidden": true
   },
   "outputs": [],
   "source": [
    "# Bin into top 10 and then Other\n",
    "Officer_Bin =[]\n",
    "for i in range(len(terry_sort)):\n",
    "    if terry_sort.iloc[i]['Officer ID'] not in top_ten:\n",
    "        Officer_Bin.append('Other')\n",
    "    else:\n",
    "        Officer_Bin.append(terry_sort.iloc[i]['Officer ID'])\n",
    "        \n",
    "terry_sort['Officer_Bin'] = Officer_Bin        "
   ]
  },
  {
   "cell_type": "code",
   "execution_count": 39,
   "metadata": {
    "hidden": true,
    "scrolled": true
   },
   "outputs": [
    {
     "data": {
      "text/plain": [
       "Other    42314\n",
       "7456       405\n",
       "7634       341\n",
       "7773       309\n",
       "7765       305\n",
       "7758       301\n",
       "7690       291\n",
       "7774       284\n",
       "7792       264\n",
       "8302       240\n",
       "7713       238\n",
       "Name: Officer_Bin, dtype: int64"
      ]
     },
     "execution_count": 39,
     "metadata": {},
     "output_type": "execute_result"
    }
   ],
   "source": [
    "terry_sort['Officer_Bin'].value_counts()"
   ]
  },
  {
   "cell_type": "code",
   "execution_count": 40,
   "metadata": {
    "hidden": true
   },
   "outputs": [],
   "source": [
    "terry_sort.drop(columns='Officer ID', inplace=True)"
   ]
  },
  {
   "cell_type": "markdown",
   "metadata": {
    "heading_collapsed": true
   },
   "source": [
    "### Analyze 'Officer YOB'\n",
    "\n",
    "Bin into decades in 'Officer DOB' with datatype category. Values of 1900 obviously mean unknown so I don't feel the need to change them."
   ]
  },
  {
   "cell_type": "code",
   "execution_count": 41,
   "metadata": {
    "hidden": true,
    "scrolled": true
   },
   "outputs": [
    {
     "data": {
      "text/plain": [
       "1986    3185\n",
       "1987    2900\n",
       "1984    2681\n",
       "1991    2623\n",
       "1985    2433\n",
       "1992    2296\n",
       "1990    2157\n",
       "1988    1998\n",
       "1989    1928\n",
       "1982    1824\n",
       "1983    1675\n",
       "1979    1457\n",
       "1981    1379\n",
       "1993    1350\n",
       "1971    1215\n",
       "1978    1128\n",
       "1995    1002\n",
       "1976     987\n",
       "1977     983\n",
       "1973     901\n",
       "1994     831\n",
       "1980     789\n",
       "1967     707\n",
       "1968     621\n",
       "1970     582\n",
       "1974     548\n",
       "1996     533\n",
       "1969     532\n",
       "1975     521\n",
       "1962     452\n",
       "1972     419\n",
       "1965     415\n",
       "1964     411\n",
       "1997     338\n",
       "1963     256\n",
       "1966     223\n",
       "1958     218\n",
       "1961     208\n",
       "1959     174\n",
       "1960     161\n",
       "1900      64\n",
       "1954      44\n",
       "1957      43\n",
       "1953      32\n",
       "1955      21\n",
       "1956      17\n",
       "1948      11\n",
       "1952       9\n",
       "1949       5\n",
       "1998       2\n",
       "1946       2\n",
       "1951       1\n",
       "Name: Officer YOB, dtype: int64"
      ]
     },
     "execution_count": 41,
     "metadata": {},
     "output_type": "execute_result"
    }
   ],
   "source": [
    "terry_sort['Officer YOB'].value_counts() # 52 unique years\n",
    "\n",
    "# I don't imagine the specific year is valuable.  For convenience I will bin into decades."
   ]
  },
  {
   "cell_type": "code",
   "execution_count": 42,
   "metadata": {
    "hidden": true
   },
   "outputs": [],
   "source": [
    "terry_sort['Officer DOB'] = terry_sort['Officer YOB'].map(lambda x:((x-1900)//10)*10).astype('category')"
   ]
  },
  {
   "cell_type": "code",
   "execution_count": 43,
   "metadata": {
    "hidden": true
   },
   "outputs": [
    {
     "data": {
      "text/plain": [
       "80    20792\n",
       "90    11132\n",
       "70     8741\n",
       "60     3986\n",
       "50      559\n",
       "0        64\n",
       "40       18\n",
       "Name: Officer DOB, dtype: int64"
      ]
     },
     "execution_count": 43,
     "metadata": {},
     "output_type": "execute_result"
    }
   ],
   "source": [
    "terry_sort['Officer DOB'].value_counts() # Hmm. We had 64 officers born in 1900?"
   ]
  },
  {
   "cell_type": "code",
   "execution_count": 44,
   "metadata": {
    "hidden": true,
    "scrolled": true
   },
   "outputs": [
    {
     "data": {
      "text/html": [
       "<div>\n",
       "<style scoped>\n",
       "    .dataframe tbody tr th:only-of-type {\n",
       "        vertical-align: middle;\n",
       "    }\n",
       "\n",
       "    .dataframe tbody tr th {\n",
       "        vertical-align: top;\n",
       "    }\n",
       "\n",
       "    .dataframe thead th {\n",
       "        text-align: right;\n",
       "    }\n",
       "</style>\n",
       "<table border=\"1\" class=\"dataframe\">\n",
       "  <thead>\n",
       "    <tr style=\"text-align: right;\">\n",
       "      <th></th>\n",
       "      <th>Subject Age Group</th>\n",
       "      <th>Stop Resolution</th>\n",
       "      <th>Weapon Type</th>\n",
       "      <th>Officer YOB</th>\n",
       "      <th>Officer Gender</th>\n",
       "      <th>Officer Race</th>\n",
       "      <th>Subject Perceived Race</th>\n",
       "      <th>Subject Perceived Gender</th>\n",
       "      <th>Reported Date</th>\n",
       "      <th>Reported Time</th>\n",
       "      <th>...</th>\n",
       "      <th>Call Type</th>\n",
       "      <th>Officer Squad</th>\n",
       "      <th>Arrest Flag</th>\n",
       "      <th>Frisk Flag</th>\n",
       "      <th>Precinct</th>\n",
       "      <th>Sector</th>\n",
       "      <th>Beat</th>\n",
       "      <th>Subject Known</th>\n",
       "      <th>Officer_Bin</th>\n",
       "      <th>Officer DOB</th>\n",
       "    </tr>\n",
       "  </thead>\n",
       "  <tbody>\n",
       "    <tr>\n",
       "      <th>427</th>\n",
       "      <td>18 - 25</td>\n",
       "      <td>Field Contact</td>\n",
       "      <td>None</td>\n",
       "      <td>1900</td>\n",
       "      <td>N</td>\n",
       "      <td>Unknown</td>\n",
       "      <td>Black or African American</td>\n",
       "      <td>Male</td>\n",
       "      <td>2015-05-19T00:00:00</td>\n",
       "      <td>20:50:00</td>\n",
       "      <td>...</td>\n",
       "      <td>-</td>\n",
       "      <td>NaN</td>\n",
       "      <td>N</td>\n",
       "      <td>N</td>\n",
       "      <td>-</td>\n",
       "      <td>-</td>\n",
       "      <td>-</td>\n",
       "      <td>Unidentified</td>\n",
       "      <td>Other</td>\n",
       "      <td>0</td>\n",
       "    </tr>\n",
       "    <tr>\n",
       "      <th>7101</th>\n",
       "      <td>36 - 45</td>\n",
       "      <td>Field Contact</td>\n",
       "      <td>None</td>\n",
       "      <td>1900</td>\n",
       "      <td>N</td>\n",
       "      <td>Unknown</td>\n",
       "      <td>White</td>\n",
       "      <td>Female</td>\n",
       "      <td>2016-01-02T00:00:00</td>\n",
       "      <td>07:05:00</td>\n",
       "      <td>...</td>\n",
       "      <td>-</td>\n",
       "      <td>NaN</td>\n",
       "      <td>N</td>\n",
       "      <td>N</td>\n",
       "      <td>North</td>\n",
       "      <td>N</td>\n",
       "      <td>N3</td>\n",
       "      <td>Unidentified</td>\n",
       "      <td>Other</td>\n",
       "      <td>0</td>\n",
       "    </tr>\n",
       "    <tr>\n",
       "      <th>12857</th>\n",
       "      <td>36 - 45</td>\n",
       "      <td>Field Contact</td>\n",
       "      <td>None</td>\n",
       "      <td>1900</td>\n",
       "      <td>N</td>\n",
       "      <td>Unknown</td>\n",
       "      <td>White</td>\n",
       "      <td>Male</td>\n",
       "      <td>2016-09-14T00:00:00</td>\n",
       "      <td>21:33:00</td>\n",
       "      <td>...</td>\n",
       "      <td>-</td>\n",
       "      <td>NaN</td>\n",
       "      <td>N</td>\n",
       "      <td>N</td>\n",
       "      <td>-</td>\n",
       "      <td>-</td>\n",
       "      <td>-</td>\n",
       "      <td>Unidentified</td>\n",
       "      <td>Other</td>\n",
       "      <td>0</td>\n",
       "    </tr>\n",
       "    <tr>\n",
       "      <th>17770</th>\n",
       "      <td>18 - 25</td>\n",
       "      <td>Field Contact</td>\n",
       "      <td>None</td>\n",
       "      <td>1900</td>\n",
       "      <td>N</td>\n",
       "      <td>Unknown</td>\n",
       "      <td>Unknown</td>\n",
       "      <td>Female</td>\n",
       "      <td>2017-06-06T00:00:00</td>\n",
       "      <td>07:43:00</td>\n",
       "      <td>...</td>\n",
       "      <td>-</td>\n",
       "      <td>NaN</td>\n",
       "      <td>N</td>\n",
       "      <td>N</td>\n",
       "      <td>-</td>\n",
       "      <td>-</td>\n",
       "      <td>-</td>\n",
       "      <td>Unidentified</td>\n",
       "      <td>Other</td>\n",
       "      <td>0</td>\n",
       "    </tr>\n",
       "    <tr>\n",
       "      <th>23085</th>\n",
       "      <td>18 - 25</td>\n",
       "      <td>Arrest</td>\n",
       "      <td>None</td>\n",
       "      <td>1900</td>\n",
       "      <td>N</td>\n",
       "      <td>Unknown</td>\n",
       "      <td>White</td>\n",
       "      <td>Male</td>\n",
       "      <td>2018-02-07T00:00:00</td>\n",
       "      <td>04:11:00</td>\n",
       "      <td>...</td>\n",
       "      <td>-</td>\n",
       "      <td>NaN</td>\n",
       "      <td>N</td>\n",
       "      <td>N</td>\n",
       "      <td>West</td>\n",
       "      <td>Q</td>\n",
       "      <td>Q1</td>\n",
       "      <td>Unidentified</td>\n",
       "      <td>Other</td>\n",
       "      <td>0</td>\n",
       "    </tr>\n",
       "    <tr>\n",
       "      <th>...</th>\n",
       "      <td>...</td>\n",
       "      <td>...</td>\n",
       "      <td>...</td>\n",
       "      <td>...</td>\n",
       "      <td>...</td>\n",
       "      <td>...</td>\n",
       "      <td>...</td>\n",
       "      <td>...</td>\n",
       "      <td>...</td>\n",
       "      <td>...</td>\n",
       "      <td>...</td>\n",
       "      <td>...</td>\n",
       "      <td>...</td>\n",
       "      <td>...</td>\n",
       "      <td>...</td>\n",
       "      <td>...</td>\n",
       "      <td>...</td>\n",
       "      <td>...</td>\n",
       "      <td>...</td>\n",
       "      <td>...</td>\n",
       "      <td>...</td>\n",
       "    </tr>\n",
       "    <tr>\n",
       "      <th>44760</th>\n",
       "      <td>36 - 45</td>\n",
       "      <td>Field Contact</td>\n",
       "      <td>None</td>\n",
       "      <td>1900</td>\n",
       "      <td>M</td>\n",
       "      <td>Unknown</td>\n",
       "      <td>White</td>\n",
       "      <td>Male</td>\n",
       "      <td>2020-11-03T00:00:00</td>\n",
       "      <td>20:50:19</td>\n",
       "      <td>...</td>\n",
       "      <td>911</td>\n",
       "      <td>TRAINING - FIELD TRAINING SQUAD</td>\n",
       "      <td>N</td>\n",
       "      <td>N</td>\n",
       "      <td>West</td>\n",
       "      <td>D</td>\n",
       "      <td>D2</td>\n",
       "      <td>Repeat</td>\n",
       "      <td>Other</td>\n",
       "      <td>0</td>\n",
       "    </tr>\n",
       "    <tr>\n",
       "      <th>44918</th>\n",
       "      <td>36 - 45</td>\n",
       "      <td>Field Contact</td>\n",
       "      <td>None</td>\n",
       "      <td>1900</td>\n",
       "      <td>M</td>\n",
       "      <td>Unknown</td>\n",
       "      <td>Black or African American</td>\n",
       "      <td>Male</td>\n",
       "      <td>2020-11-14T00:00:00</td>\n",
       "      <td>22:39:46</td>\n",
       "      <td>...</td>\n",
       "      <td>911</td>\n",
       "      <td>EAST PCT 2ND W - EDWARD</td>\n",
       "      <td>N</td>\n",
       "      <td>N</td>\n",
       "      <td>East</td>\n",
       "      <td>E</td>\n",
       "      <td>E3</td>\n",
       "      <td>First</td>\n",
       "      <td>Other</td>\n",
       "      <td>0</td>\n",
       "    </tr>\n",
       "    <tr>\n",
       "      <th>44925</th>\n",
       "      <td>18 - 25</td>\n",
       "      <td>Offense Report</td>\n",
       "      <td>Knife/Cutting/Stabbing Instrument</td>\n",
       "      <td>1900</td>\n",
       "      <td>M</td>\n",
       "      <td>Unknown</td>\n",
       "      <td>Black or African American</td>\n",
       "      <td>Male</td>\n",
       "      <td>2020-11-15T00:00:00</td>\n",
       "      <td>14:20:35</td>\n",
       "      <td>...</td>\n",
       "      <td>911</td>\n",
       "      <td>EAST PCT 2ND W - EDWARD</td>\n",
       "      <td>N</td>\n",
       "      <td>Y</td>\n",
       "      <td>East</td>\n",
       "      <td>E</td>\n",
       "      <td>E2</td>\n",
       "      <td>First</td>\n",
       "      <td>Other</td>\n",
       "      <td>0</td>\n",
       "    </tr>\n",
       "    <tr>\n",
       "      <th>45093</th>\n",
       "      <td>26 - 35</td>\n",
       "      <td>Field Contact</td>\n",
       "      <td>Knife/Cutting/Stabbing Instrument</td>\n",
       "      <td>1900</td>\n",
       "      <td>M</td>\n",
       "      <td>Unknown</td>\n",
       "      <td>White</td>\n",
       "      <td>Male</td>\n",
       "      <td>2020-11-27T00:00:00</td>\n",
       "      <td>09:56:46</td>\n",
       "      <td>...</td>\n",
       "      <td>911</td>\n",
       "      <td>EAST PCT 2ND W - EDWARD</td>\n",
       "      <td>N</td>\n",
       "      <td>Y</td>\n",
       "      <td>East</td>\n",
       "      <td>E</td>\n",
       "      <td>E1</td>\n",
       "      <td>Repeat</td>\n",
       "      <td>Other</td>\n",
       "      <td>0</td>\n",
       "    </tr>\n",
       "    <tr>\n",
       "      <th>45137</th>\n",
       "      <td>26 - 35</td>\n",
       "      <td>Field Contact</td>\n",
       "      <td>None</td>\n",
       "      <td>1900</td>\n",
       "      <td>M</td>\n",
       "      <td>Unknown</td>\n",
       "      <td>Black or African American</td>\n",
       "      <td>Male</td>\n",
       "      <td>2020-12-02T00:00:00</td>\n",
       "      <td>11:54:24</td>\n",
       "      <td>...</td>\n",
       "      <td>911</td>\n",
       "      <td>EAST PCT 2ND W - EDWARD</td>\n",
       "      <td>N</td>\n",
       "      <td>N</td>\n",
       "      <td>East</td>\n",
       "      <td>E</td>\n",
       "      <td>E2</td>\n",
       "      <td>Repeat</td>\n",
       "      <td>Other</td>\n",
       "      <td>0</td>\n",
       "    </tr>\n",
       "  </tbody>\n",
       "</table>\n",
       "<p>64 rows × 22 columns</p>\n",
       "</div>"
      ],
      "text/plain": [
       "      Subject Age Group Stop Resolution                        Weapon Type  \\\n",
       "427             18 - 25   Field Contact                               None   \n",
       "7101            36 - 45   Field Contact                               None   \n",
       "12857           36 - 45   Field Contact                               None   \n",
       "17770           18 - 25   Field Contact                               None   \n",
       "23085           18 - 25          Arrest                               None   \n",
       "...                 ...             ...                                ...   \n",
       "44760           36 - 45   Field Contact                               None   \n",
       "44918           36 - 45   Field Contact                               None   \n",
       "44925           18 - 25  Offense Report  Knife/Cutting/Stabbing Instrument   \n",
       "45093           26 - 35   Field Contact  Knife/Cutting/Stabbing Instrument   \n",
       "45137           26 - 35   Field Contact                               None   \n",
       "\n",
       "       Officer YOB Officer Gender Officer Race     Subject Perceived Race  \\\n",
       "427           1900              N      Unknown  Black or African American   \n",
       "7101          1900              N      Unknown                      White   \n",
       "12857         1900              N      Unknown                      White   \n",
       "17770         1900              N      Unknown                    Unknown   \n",
       "23085         1900              N      Unknown                      White   \n",
       "...            ...            ...          ...                        ...   \n",
       "44760         1900              M      Unknown                      White   \n",
       "44918         1900              M      Unknown  Black or African American   \n",
       "44925         1900              M      Unknown  Black or African American   \n",
       "45093         1900              M      Unknown                      White   \n",
       "45137         1900              M      Unknown  Black or African American   \n",
       "\n",
       "      Subject Perceived Gender        Reported Date Reported Time  ...  \\\n",
       "427                       Male  2015-05-19T00:00:00      20:50:00  ...   \n",
       "7101                    Female  2016-01-02T00:00:00      07:05:00  ...   \n",
       "12857                     Male  2016-09-14T00:00:00      21:33:00  ...   \n",
       "17770                   Female  2017-06-06T00:00:00      07:43:00  ...   \n",
       "23085                     Male  2018-02-07T00:00:00      04:11:00  ...   \n",
       "...                        ...                  ...           ...  ...   \n",
       "44760                     Male  2020-11-03T00:00:00      20:50:19  ...   \n",
       "44918                     Male  2020-11-14T00:00:00      22:39:46  ...   \n",
       "44925                     Male  2020-11-15T00:00:00      14:20:35  ...   \n",
       "45093                     Male  2020-11-27T00:00:00      09:56:46  ...   \n",
       "45137                     Male  2020-12-02T00:00:00      11:54:24  ...   \n",
       "\n",
       "      Call Type                    Officer Squad Arrest Flag Frisk Flag  \\\n",
       "427           -                              NaN           N          N   \n",
       "7101          -                              NaN           N          N   \n",
       "12857         -                              NaN           N          N   \n",
       "17770         -                              NaN           N          N   \n",
       "23085         -                              NaN           N          N   \n",
       "...         ...                              ...         ...        ...   \n",
       "44760       911  TRAINING - FIELD TRAINING SQUAD           N          N   \n",
       "44918       911          EAST PCT 2ND W - EDWARD           N          N   \n",
       "44925       911          EAST PCT 2ND W - EDWARD           N          Y   \n",
       "45093       911          EAST PCT 2ND W - EDWARD           N          Y   \n",
       "45137       911          EAST PCT 2ND W - EDWARD           N          N   \n",
       "\n",
       "      Precinct  Sector    Beat Subject Known Officer_Bin Officer DOB  \n",
       "427          -       -       -  Unidentified       Other           0  \n",
       "7101     North  N       N3      Unidentified       Other           0  \n",
       "12857        -       -       -  Unidentified       Other           0  \n",
       "17770        -       -       -  Unidentified       Other           0  \n",
       "23085     West  Q       Q1      Unidentified       Other           0  \n",
       "...        ...     ...     ...           ...         ...         ...  \n",
       "44760     West       D      D2        Repeat       Other           0  \n",
       "44918     East       E      E3         First       Other           0  \n",
       "44925     East       E      E2         First       Other           0  \n",
       "45093     East       E      E1        Repeat       Other           0  \n",
       "45137     East       E      E2        Repeat       Other           0  \n",
       "\n",
       "[64 rows x 22 columns]"
      ]
     },
     "execution_count": 44,
     "metadata": {},
     "output_type": "execute_result"
    }
   ],
   "source": [
    "terry_sort[terry_sort['Officer DOB'] == 0] # Mostly occurs when Officer ID = '-9' or '-'"
   ]
  },
  {
   "cell_type": "code",
   "execution_count": 45,
   "metadata": {
    "hidden": true
   },
   "outputs": [],
   "source": [
    "terry_sort.drop(columns='Officer YOB', axis=1, inplace=True)"
   ]
  },
  {
   "cell_type": "code",
   "execution_count": 46,
   "metadata": {
    "hidden": true,
    "scrolled": true
   },
   "outputs": [
    {
     "name": "stdout",
     "output_type": "stream",
     "text": [
      "<class 'pandas.core.frame.DataFrame'>\n",
      "RangeIndex: 45292 entries, 0 to 45291\n",
      "Data columns (total 21 columns):\n",
      " #   Column                    Non-Null Count  Dtype   \n",
      "---  ------                    --------------  -----   \n",
      " 0   Subject Age Group         45292 non-null  object  \n",
      " 1   Stop Resolution           45292 non-null  object  \n",
      " 2   Weapon Type               45292 non-null  object  \n",
      " 3   Officer Gender            45292 non-null  object  \n",
      " 4   Officer Race              45292 non-null  object  \n",
      " 5   Subject Perceived Race    45292 non-null  object  \n",
      " 6   Subject Perceived Gender  45292 non-null  object  \n",
      " 7   Reported Date             45292 non-null  object  \n",
      " 8   Reported Time             45292 non-null  object  \n",
      " 9   Initial Call Type         45292 non-null  object  \n",
      " 10  Final Call Type           45292 non-null  object  \n",
      " 11  Call Type                 45292 non-null  object  \n",
      " 12  Officer Squad             44689 non-null  object  \n",
      " 13  Arrest Flag               45292 non-null  object  \n",
      " 14  Frisk Flag                45292 non-null  object  \n",
      " 15  Precinct                  45292 non-null  object  \n",
      " 16  Sector                    45292 non-null  object  \n",
      " 17  Beat                      45292 non-null  object  \n",
      " 18  Subject Known             45292 non-null  object  \n",
      " 19  Officer_Bin               45292 non-null  object  \n",
      " 20  Officer DOB               45292 non-null  category\n",
      "dtypes: category(1), object(20)\n",
      "memory usage: 7.0+ MB\n"
     ]
    }
   ],
   "source": [
    "terry_sort.info()"
   ]
  },
  {
   "cell_type": "markdown",
   "metadata": {
    "heading_collapsed": true
   },
   "source": [
    "### Analyze 'Officer Gender'\n",
    "\n",
    "Fine as is... values M, F, N."
   ]
  },
  {
   "cell_type": "code",
   "execution_count": 47,
   "metadata": {
    "hidden": true
   },
   "outputs": [
    {
     "data": {
      "text/plain": [
       "M    40097\n",
       "F     5166\n",
       "N       29\n",
       "Name: Officer Gender, dtype: int64"
      ]
     },
     "execution_count": 47,
     "metadata": {},
     "output_type": "execute_result"
    }
   ],
   "source": [
    "terry_sort['Officer Gender'].value_counts()"
   ]
  },
  {
   "cell_type": "markdown",
   "metadata": {
    "heading_collapsed": true
   },
   "source": [
    "### Analyze 'Officer Race'\n",
    "\n",
    "Fine as is."
   ]
  },
  {
   "cell_type": "code",
   "execution_count": 48,
   "metadata": {
    "hidden": true
   },
   "outputs": [
    {
     "data": {
      "text/plain": [
       "White                            34402\n",
       "Hispanic or Latino                2581\n",
       "Two or More Races                 2522\n",
       "Asian                             1895\n",
       "Black or African American         1802\n",
       "Not Specified                     1271\n",
       "Nat Hawaiian/Oth Pac Islander      441\n",
       "American Indian/Alaska Native      314\n",
       "Unknown                             64\n",
       "Name: Officer Race, dtype: int64"
      ]
     },
     "execution_count": 48,
     "metadata": {},
     "output_type": "execute_result"
    }
   ],
   "source": [
    "terry_sort['Officer Race'].value_counts()"
   ]
  },
  {
   "cell_type": "markdown",
   "metadata": {
    "heading_collapsed": true
   },
   "source": [
    "### Analyze 'Subject Perceived Race'\n",
    "\n",
    "Changed '-' to 'Unknown'"
   ]
  },
  {
   "cell_type": "code",
   "execution_count": 49,
   "metadata": {
    "hidden": true,
    "scrolled": true
   },
   "outputs": [
    {
     "data": {
      "text/plain": [
       "White                                        22127\n",
       "Black or African American                    13495\n",
       "Unknown                                       2423\n",
       "-                                             1797\n",
       "Hispanic                                      1684\n",
       "Asian                                         1449\n",
       "American Indian or Alaska Native              1313\n",
       "Multi-Racial                                   809\n",
       "Other                                          152\n",
       "Native Hawaiian or Other Pacific Islander       43\n",
       "Name: Subject Perceived Race, dtype: int64"
      ]
     },
     "execution_count": 49,
     "metadata": {},
     "output_type": "execute_result"
    }
   ],
   "source": [
    "terry_sort['Subject Perceived Race'].value_counts()"
   ]
  },
  {
   "cell_type": "code",
   "execution_count": 50,
   "metadata": {
    "hidden": true
   },
   "outputs": [],
   "source": [
    "terry_sort['Subject Perceived Race'] = terry_sort['Subject Perceived Race'].replace(to_replace = '-', value = 'Unknown')"
   ]
  },
  {
   "cell_type": "code",
   "execution_count": 51,
   "metadata": {
    "hidden": true
   },
   "outputs": [
    {
     "data": {
      "text/plain": [
       "White                                        22127\n",
       "Black or African American                    13495\n",
       "Unknown                                       4220\n",
       "Hispanic                                      1684\n",
       "Asian                                         1449\n",
       "American Indian or Alaska Native              1313\n",
       "Multi-Racial                                   809\n",
       "Other                                          152\n",
       "Native Hawaiian or Other Pacific Islander       43\n",
       "Name: Subject Perceived Race, dtype: int64"
      ]
     },
     "execution_count": 51,
     "metadata": {},
     "output_type": "execute_result"
    }
   ],
   "source": [
    "terry_sort['Subject Perceived Race'].value_counts()"
   ]
  },
  {
   "cell_type": "markdown",
   "metadata": {
    "heading_collapsed": true
   },
   "source": [
    "### Analyze 'Subject Perceived Gender'\n",
    "\n",
    "Grouped together Unknown, Unable to Determine, and '-'"
   ]
  },
  {
   "cell_type": "code",
   "execution_count": 52,
   "metadata": {
    "hidden": true,
    "scrolled": true
   },
   "outputs": [
    {
     "data": {
      "text/plain": [
       "Male                                                         35427\n",
       "Female                                                        9245\n",
       "Unable to Determine                                            326\n",
       "-                                                              269\n",
       "Unknown                                                         21\n",
       "Gender Diverse (gender non-conforming and/or transgender)        4\n",
       "Name: Subject Perceived Gender, dtype: int64"
      ]
     },
     "execution_count": 52,
     "metadata": {},
     "output_type": "execute_result"
    }
   ],
   "source": [
    "terry_sort['Subject Perceived Gender'].value_counts()"
   ]
  },
  {
   "cell_type": "code",
   "execution_count": 53,
   "metadata": {
    "hidden": true
   },
   "outputs": [
    {
     "data": {
      "text/plain": [
       "Male                                                         35427\n",
       "Female                                                        9245\n",
       "Unknown                                                        616\n",
       "Gender Diverse (gender non-conforming and/or transgender)        4\n",
       "Name: Subject Perceived Gender, dtype: int64"
      ]
     },
     "execution_count": 53,
     "metadata": {},
     "output_type": "execute_result"
    }
   ],
   "source": [
    "# Going to group some together\n",
    "gender_dict = {'-' : 'Unknown',\n",
    "               'Unable to Determine' : 'Unknown'}\n",
    "\n",
    "for k, v in gender_dict.items():\n",
    "    terry_sort['Subject Perceived Gender'] = terry_sort['Subject Perceived Gender'].replace(to_replace = k, value = v)\n",
    "\n",
    "terry_sort['Subject Perceived Gender'].value_counts()"
   ]
  },
  {
   "cell_type": "markdown",
   "metadata": {
    "heading_collapsed": true
   },
   "source": [
    "### Analyze 'Reported Date'\n",
    "\n",
    "I don't see a particular date as being more likely to get arrested.  However, maybe certain days of the week, or certain months, or even certain years.  I will break these out, and include an ordinal value of Date."
   ]
  },
  {
   "cell_type": "code",
   "execution_count": 54,
   "metadata": {
    "hidden": true,
    "scrolled": true
   },
   "outputs": [
    {
     "data": {
      "text/plain": [
       "2015-10-01T00:00:00    101\n",
       "2015-09-29T00:00:00     66\n",
       "2015-05-28T00:00:00     57\n",
       "2015-07-18T00:00:00     55\n",
       "2019-04-26T00:00:00     54\n",
       "                      ... \n",
       "2015-03-28T00:00:00      1\n",
       "2015-05-10T00:00:00      1\n",
       "2015-03-31T00:00:00      1\n",
       "2015-05-13T00:00:00      1\n",
       "2015-05-06T00:00:00      1\n",
       "Name: Reported Date, Length: 2102, dtype: int64"
      ]
     },
     "execution_count": 54,
     "metadata": {},
     "output_type": "execute_result"
    }
   ],
   "source": [
    "terry_sort['Reported Date'].value_counts()"
   ]
  },
  {
   "cell_type": "code",
   "execution_count": 55,
   "metadata": {
    "hidden": true,
    "scrolled": true
   },
   "outputs": [
    {
     "data": {
      "text/plain": [
       "2015-10-01    101\n",
       "2015-09-29     66\n",
       "2015-05-28     57\n",
       "2015-07-18     55\n",
       "2019-04-26     54\n",
       "             ... \n",
       "2015-05-10      1\n",
       "2015-03-28      1\n",
       "2015-03-15      1\n",
       "2015-03-24      1\n",
       "2015-04-28      1\n",
       "Name: Date, Length: 2102, dtype: int64"
      ]
     },
     "execution_count": 55,
     "metadata": {},
     "output_type": "execute_result"
    }
   ],
   "source": [
    "terry_sort[\"Date\"] = terry_sort[\"Reported Date\"].map(lambda date: datetime.strptime(date[:10], '%Y-%m-%d'))\n",
    "terry_sort['Date'].value_counts()"
   ]
  },
  {
   "cell_type": "code",
   "execution_count": 56,
   "metadata": {
    "hidden": true
   },
   "outputs": [
    {
     "data": {
      "text/html": [
       "<div>\n",
       "<style scoped>\n",
       "    .dataframe tbody tr th:only-of-type {\n",
       "        vertical-align: middle;\n",
       "    }\n",
       "\n",
       "    .dataframe tbody tr th {\n",
       "        vertical-align: top;\n",
       "    }\n",
       "\n",
       "    .dataframe thead th {\n",
       "        text-align: right;\n",
       "    }\n",
       "</style>\n",
       "<table border=\"1\" class=\"dataframe\">\n",
       "  <thead>\n",
       "    <tr style=\"text-align: right;\">\n",
       "      <th></th>\n",
       "      <th>Subject Age Group</th>\n",
       "      <th>Stop Resolution</th>\n",
       "      <th>Weapon Type</th>\n",
       "      <th>Officer Gender</th>\n",
       "      <th>Officer Race</th>\n",
       "      <th>Subject Perceived Race</th>\n",
       "      <th>Subject Perceived Gender</th>\n",
       "      <th>Reported Time</th>\n",
       "      <th>Initial Call Type</th>\n",
       "      <th>Final Call Type</th>\n",
       "      <th>...</th>\n",
       "      <th>Precinct</th>\n",
       "      <th>Sector</th>\n",
       "      <th>Beat</th>\n",
       "      <th>Subject Known</th>\n",
       "      <th>Officer_Bin</th>\n",
       "      <th>Officer DOB</th>\n",
       "      <th>Date</th>\n",
       "      <th>Month</th>\n",
       "      <th>Year</th>\n",
       "      <th>Day</th>\n",
       "    </tr>\n",
       "  </thead>\n",
       "  <tbody>\n",
       "    <tr>\n",
       "      <th>0</th>\n",
       "      <td>1 - 17</td>\n",
       "      <td>Referred for Prosecution</td>\n",
       "      <td>Knife/Cutting/Stabbing Instrument</td>\n",
       "      <td>M</td>\n",
       "      <td>Hispanic or Latino</td>\n",
       "      <td>Black or African American</td>\n",
       "      <td>Female</td>\n",
       "      <td>16:10:00</td>\n",
       "      <td>-</td>\n",
       "      <td>-</td>\n",
       "      <td>...</td>\n",
       "      <td>East</td>\n",
       "      <td>G</td>\n",
       "      <td>G2</td>\n",
       "      <td>Unidentified</td>\n",
       "      <td>Other</td>\n",
       "      <td>50</td>\n",
       "      <td>735672</td>\n",
       "      <td>3</td>\n",
       "      <td>2015</td>\n",
       "      <td>Sunday</td>\n",
       "    </tr>\n",
       "    <tr>\n",
       "      <th>1</th>\n",
       "      <td>18 - 25</td>\n",
       "      <td>Arrest</td>\n",
       "      <td>None</td>\n",
       "      <td>M</td>\n",
       "      <td>White</td>\n",
       "      <td>Black or African American</td>\n",
       "      <td>Male</td>\n",
       "      <td>01:13:00</td>\n",
       "      <td>-</td>\n",
       "      <td>-</td>\n",
       "      <td>...</td>\n",
       "      <td>West</td>\n",
       "      <td>M</td>\n",
       "      <td>M3</td>\n",
       "      <td>Unidentified</td>\n",
       "      <td>Other</td>\n",
       "      <td>80</td>\n",
       "      <td>735673</td>\n",
       "      <td>3</td>\n",
       "      <td>2015</td>\n",
       "      <td>Monday</td>\n",
       "    </tr>\n",
       "    <tr>\n",
       "      <th>2</th>\n",
       "      <td>36 - 45</td>\n",
       "      <td>Field Contact</td>\n",
       "      <td>None</td>\n",
       "      <td>M</td>\n",
       "      <td>White</td>\n",
       "      <td>Multi-Racial</td>\n",
       "      <td>Male</td>\n",
       "      <td>05:49:00</td>\n",
       "      <td>-</td>\n",
       "      <td>-</td>\n",
       "      <td>...</td>\n",
       "      <td>-</td>\n",
       "      <td>-</td>\n",
       "      <td>-</td>\n",
       "      <td>Unidentified</td>\n",
       "      <td>7634</td>\n",
       "      <td>70</td>\n",
       "      <td>735673</td>\n",
       "      <td>3</td>\n",
       "      <td>2015</td>\n",
       "      <td>Monday</td>\n",
       "    </tr>\n",
       "    <tr>\n",
       "      <th>3</th>\n",
       "      <td>18 - 25</td>\n",
       "      <td>Field Contact</td>\n",
       "      <td>None</td>\n",
       "      <td>M</td>\n",
       "      <td>White</td>\n",
       "      <td>White</td>\n",
       "      <td>Male</td>\n",
       "      <td>05:55:00</td>\n",
       "      <td>-</td>\n",
       "      <td>-</td>\n",
       "      <td>...</td>\n",
       "      <td>-</td>\n",
       "      <td>-</td>\n",
       "      <td>-</td>\n",
       "      <td>Unidentified</td>\n",
       "      <td>7634</td>\n",
       "      <td>70</td>\n",
       "      <td>735673</td>\n",
       "      <td>3</td>\n",
       "      <td>2015</td>\n",
       "      <td>Monday</td>\n",
       "    </tr>\n",
       "    <tr>\n",
       "      <th>4</th>\n",
       "      <td>26 - 35</td>\n",
       "      <td>Field Contact</td>\n",
       "      <td>None</td>\n",
       "      <td>M</td>\n",
       "      <td>White</td>\n",
       "      <td>White</td>\n",
       "      <td>Male</td>\n",
       "      <td>10:38:00</td>\n",
       "      <td>-</td>\n",
       "      <td>-</td>\n",
       "      <td>...</td>\n",
       "      <td>-</td>\n",
       "      <td>-</td>\n",
       "      <td>-</td>\n",
       "      <td>Unidentified</td>\n",
       "      <td>7634</td>\n",
       "      <td>70</td>\n",
       "      <td>735674</td>\n",
       "      <td>3</td>\n",
       "      <td>2015</td>\n",
       "      <td>Tuesday</td>\n",
       "    </tr>\n",
       "  </tbody>\n",
       "</table>\n",
       "<p>5 rows × 24 columns</p>\n",
       "</div>"
      ],
      "text/plain": [
       "  Subject Age Group           Stop Resolution  \\\n",
       "0            1 - 17  Referred for Prosecution   \n",
       "1           18 - 25                    Arrest   \n",
       "2           36 - 45             Field Contact   \n",
       "3           18 - 25             Field Contact   \n",
       "4           26 - 35             Field Contact   \n",
       "\n",
       "                         Weapon Type Officer Gender        Officer Race  \\\n",
       "0  Knife/Cutting/Stabbing Instrument              M  Hispanic or Latino   \n",
       "1                               None              M               White   \n",
       "2                               None              M               White   \n",
       "3                               None              M               White   \n",
       "4                               None              M               White   \n",
       "\n",
       "      Subject Perceived Race Subject Perceived Gender Reported Time  \\\n",
       "0  Black or African American                   Female      16:10:00   \n",
       "1  Black or African American                     Male      01:13:00   \n",
       "2               Multi-Racial                     Male      05:49:00   \n",
       "3                      White                     Male      05:55:00   \n",
       "4                      White                     Male      10:38:00   \n",
       "\n",
       "  Initial Call Type Final Call Type  ... Precinct  Sector    Beat  \\\n",
       "0                 -               -  ...     East  G       G2       \n",
       "1                 -               -  ...     West  M       M3       \n",
       "2                 -               -  ...        -       -       -   \n",
       "3                 -               -  ...        -       -       -   \n",
       "4                 -               -  ...        -       -       -   \n",
       "\n",
       "  Subject Known Officer_Bin Officer DOB    Date Month  Year      Day  \n",
       "0  Unidentified       Other          50  735672     3  2015   Sunday  \n",
       "1  Unidentified       Other          80  735673     3  2015   Monday  \n",
       "2  Unidentified        7634          70  735673     3  2015   Monday  \n",
       "3  Unidentified        7634          70  735673     3  2015   Monday  \n",
       "4  Unidentified        7634          70  735674     3  2015  Tuesday  \n",
       "\n",
       "[5 rows x 24 columns]"
      ]
     },
     "execution_count": 56,
     "metadata": {},
     "output_type": "execute_result"
    }
   ],
   "source": [
    "terry_sort['Month'] = terry_sort['Date'].map(lambda date: date.month).astype(str)\n",
    "terry_sort['Year'] = terry_sort['Date'].map(lambda date: date.year).astype(str)\n",
    "terry_sort['Day'] = terry_sort['Date'].map(lambda date: date.day_name())\n",
    "terry_sort['Date'] = terry_sort['Date'].map(datetime.toordinal)\n",
    "terry_sort.drop(columns=['Reported Date'], inplace=True)\n",
    "terry_sort.head()"
   ]
  },
  {
   "cell_type": "code",
   "execution_count": 57,
   "metadata": {
    "hidden": true,
    "scrolled": true
   },
   "outputs": [
    {
     "name": "stdout",
     "output_type": "stream",
     "text": [
      "<class 'pandas.core.frame.DataFrame'>\n",
      "RangeIndex: 45292 entries, 0 to 45291\n",
      "Data columns (total 24 columns):\n",
      " #   Column                    Non-Null Count  Dtype   \n",
      "---  ------                    --------------  -----   \n",
      " 0   Subject Age Group         45292 non-null  object  \n",
      " 1   Stop Resolution           45292 non-null  object  \n",
      " 2   Weapon Type               45292 non-null  object  \n",
      " 3   Officer Gender            45292 non-null  object  \n",
      " 4   Officer Race              45292 non-null  object  \n",
      " 5   Subject Perceived Race    45292 non-null  object  \n",
      " 6   Subject Perceived Gender  45292 non-null  object  \n",
      " 7   Reported Time             45292 non-null  object  \n",
      " 8   Initial Call Type         45292 non-null  object  \n",
      " 9   Final Call Type           45292 non-null  object  \n",
      " 10  Call Type                 45292 non-null  object  \n",
      " 11  Officer Squad             44689 non-null  object  \n",
      " 12  Arrest Flag               45292 non-null  object  \n",
      " 13  Frisk Flag                45292 non-null  object  \n",
      " 14  Precinct                  45292 non-null  object  \n",
      " 15  Sector                    45292 non-null  object  \n",
      " 16  Beat                      45292 non-null  object  \n",
      " 17  Subject Known             45292 non-null  object  \n",
      " 18  Officer_Bin               45292 non-null  object  \n",
      " 19  Officer DOB               45292 non-null  category\n",
      " 20  Date                      45292 non-null  int64   \n",
      " 21  Month                     45292 non-null  object  \n",
      " 22  Year                      45292 non-null  object  \n",
      " 23  Day                       45292 non-null  object  \n",
      "dtypes: category(1), int64(1), object(22)\n",
      "memory usage: 8.0+ MB\n"
     ]
    }
   ],
   "source": [
    "terry_sort.info()"
   ]
  },
  {
   "cell_type": "code",
   "execution_count": 58,
   "metadata": {
    "hidden": true
   },
   "outputs": [
    {
     "data": {
      "text/plain": [
       "2018    8883\n",
       "2019    8242\n",
       "2016    7715\n",
       "2017    7488\n",
       "2015    7059\n",
       "2020    5905\n",
       "Name: Year, dtype: int64"
      ]
     },
     "execution_count": 58,
     "metadata": {},
     "output_type": "execute_result"
    }
   ],
   "source": [
    "terry_sort.Year.value_counts()"
   ]
  },
  {
   "cell_type": "markdown",
   "metadata": {
    "heading_collapsed": true
   },
   "source": [
    "### Analyze 'Reported Time'\n",
    "\n",
    "Given that the Reported Time could be anywhere up to 10 hours after the occurrence, I choose to drop this column."
   ]
  },
  {
   "cell_type": "code",
   "execution_count": 59,
   "metadata": {
    "hidden": true,
    "scrolled": true
   },
   "outputs": [
    {
     "data": {
      "text/plain": [
       "02:56:00    51\n",
       "17:00:00    51\n",
       "19:18:00    51\n",
       "03:13:00    50\n",
       "18:51:00    50\n",
       "            ..\n",
       "18:22:08     1\n",
       "21:10:48     1\n",
       "12:44:45     1\n",
       "15:06:59     1\n",
       "11:55:43     1\n",
       "Name: Reported Time, Length: 11362, dtype: int64"
      ]
     },
     "execution_count": 59,
     "metadata": {},
     "output_type": "execute_result"
    }
   ],
   "source": [
    "terry_sort['Reported Time'].value_counts()"
   ]
  },
  {
   "cell_type": "code",
   "execution_count": 60,
   "metadata": {
    "hidden": true
   },
   "outputs": [],
   "source": [
    "terry_sort.drop(columns=['Reported Time'], inplace=True)"
   ]
  },
  {
   "cell_type": "markdown",
   "metadata": {
    "heading_collapsed": true
   },
   "source": [
    "### Analyze 'Initial Call Type'\n",
    "\n",
    "166 unique values, changed - to Unknown.  \n",
    "\n",
    "There are exactly 13071 missing values here and exactly the same missing from Initial Call Type and Call Type.  Seems like these were added as a required field in the reporting at some point or these records were all merged over from another system.  \n",
    "\n",
    "There are too many to model on so I will just use 'Call Type'."
   ]
  },
  {
   "cell_type": "code",
   "execution_count": 61,
   "metadata": {
    "hidden": true,
    "scrolled": true
   },
   "outputs": [
    {
     "data": {
      "text/plain": [
       "-                                                 13071\n",
       "SUSPICIOUS STOP - OFFICER INITIATED ONVIEW         2977\n",
       "SUSPICIOUS PERSON, VEHICLE OR INCIDENT             2846\n",
       "DISTURBANCE, MISCELLANEOUS/OTHER                   2324\n",
       "ASLT - IP/JO - WITH OR W/O WPNS (NO SHOOTINGS)     1913\n",
       "                                                  ...  \n",
       "REQUEST TO WATCH                                      1\n",
       "ORDER - ASSIST DV VIC W/SRVC OF COURT ORDER           1\n",
       "PHONE - OBSCENE OR NUISANCE PHONE CALLS               1\n",
       "HARBOR - WATER EMERGENCIES                            1\n",
       "ALARM - ATM MACHINE, FREE STANDING                    1\n",
       "Name: Initial Call Type, Length: 166, dtype: int64"
      ]
     },
     "execution_count": 61,
     "metadata": {},
     "output_type": "execute_result"
    }
   ],
   "source": [
    "terry_sort['Initial Call Type'].value_counts()"
   ]
  },
  {
   "cell_type": "code",
   "execution_count": 62,
   "metadata": {
    "hidden": true,
    "scrolled": true
   },
   "outputs": [
    {
     "data": {
      "text/plain": [
       "Unknown                                           13071\n",
       "SUSPICIOUS STOP - OFFICER INITIATED ONVIEW         2977\n",
       "SUSPICIOUS PERSON, VEHICLE OR INCIDENT             2846\n",
       "DISTURBANCE, MISCELLANEOUS/OTHER                   2324\n",
       "ASLT - IP/JO - WITH OR W/O WPNS (NO SHOOTINGS)     1913\n",
       "                                                  ...  \n",
       "REQUEST TO WATCH                                      1\n",
       "ALARM - RESIDENTIAL - SILENT/AUD PANIC/DURESS         1\n",
       "ORDER - ASSIST DV VIC W/SRVC OF COURT ORDER           1\n",
       "KNOWN KIDNAPPNG                                       1\n",
       "DEMONSTRATIONS                                        1\n",
       "Name: Initial Call Type, Length: 166, dtype: int64"
      ]
     },
     "execution_count": 62,
     "metadata": {},
     "output_type": "execute_result"
    }
   ],
   "source": [
    "terry_sort['Initial Call Type'] = terry_sort['Initial Call Type'].replace(to_replace='-',value='Unknown')\n",
    "terry_sort['Initial Call Type'].value_counts()"
   ]
  },
  {
   "cell_type": "code",
   "execution_count": 63,
   "metadata": {
    "hidden": true,
    "scrolled": false
   },
   "outputs": [
    {
     "data": {
      "text/plain": [
       "Unknown                                           13071\n",
       "SUSPICIOUS STOP - OFFICER INITIATED ONVIEW         2977\n",
       "SUSPICIOUS PERSON, VEHICLE OR INCIDENT             2846\n",
       "DISTURBANCE, MISCELLANEOUS/OTHER                   2324\n",
       "ASLT - IP/JO - WITH OR W/O WPNS (NO SHOOTINGS)     1913\n",
       "TRESPASS                                           1798\n",
       "THEFT (DOES NOT INCLUDE SHOPLIFT OR SVCS)          1345\n",
       "SHOPLIFT - THEFT                                   1261\n",
       "FIGHT - IP - PHYSICAL (NO WEAPONS)                 1232\n",
       "WEAPN-IP/JO-GUN,DEADLY WPN (NO THRT/ASLT/DIST)     1098\n",
       "Name: Initial Call Type, dtype: int64"
      ]
     },
     "execution_count": 63,
     "metadata": {},
     "output_type": "execute_result"
    }
   ],
   "source": [
    "terry_sort['Initial Call Type'].value_counts()[:10]"
   ]
  },
  {
   "cell_type": "code",
   "execution_count": 64,
   "metadata": {
    "hidden": true,
    "scrolled": false
   },
   "outputs": [
    {
     "data": {
      "text/html": [
       "<div>\n",
       "<style scoped>\n",
       "    .dataframe tbody tr th:only-of-type {\n",
       "        vertical-align: middle;\n",
       "    }\n",
       "\n",
       "    .dataframe tbody tr th {\n",
       "        vertical-align: top;\n",
       "    }\n",
       "\n",
       "    .dataframe thead th {\n",
       "        text-align: right;\n",
       "    }\n",
       "</style>\n",
       "<table border=\"1\" class=\"dataframe\">\n",
       "  <thead>\n",
       "    <tr style=\"text-align: right;\">\n",
       "      <th></th>\n",
       "      <th>Subject Age Group</th>\n",
       "      <th>Stop Resolution</th>\n",
       "      <th>Weapon Type</th>\n",
       "      <th>Officer Gender</th>\n",
       "      <th>Officer Race</th>\n",
       "      <th>Subject Perceived Race</th>\n",
       "      <th>Subject Perceived Gender</th>\n",
       "      <th>Initial Call Type</th>\n",
       "      <th>Final Call Type</th>\n",
       "      <th>Call Type</th>\n",
       "      <th>...</th>\n",
       "      <th>Precinct</th>\n",
       "      <th>Sector</th>\n",
       "      <th>Beat</th>\n",
       "      <th>Subject Known</th>\n",
       "      <th>Officer_Bin</th>\n",
       "      <th>Officer DOB</th>\n",
       "      <th>Date</th>\n",
       "      <th>Month</th>\n",
       "      <th>Year</th>\n",
       "      <th>Day</th>\n",
       "    </tr>\n",
       "  </thead>\n",
       "  <tbody>\n",
       "    <tr>\n",
       "      <th>0</th>\n",
       "      <td>1 - 17</td>\n",
       "      <td>Referred for Prosecution</td>\n",
       "      <td>Knife/Cutting/Stabbing Instrument</td>\n",
       "      <td>M</td>\n",
       "      <td>Hispanic or Latino</td>\n",
       "      <td>Black or African American</td>\n",
       "      <td>Female</td>\n",
       "      <td>Unknown</td>\n",
       "      <td>-</td>\n",
       "      <td>-</td>\n",
       "      <td>...</td>\n",
       "      <td>East</td>\n",
       "      <td>G</td>\n",
       "      <td>G2</td>\n",
       "      <td>Unidentified</td>\n",
       "      <td>Other</td>\n",
       "      <td>50</td>\n",
       "      <td>735672</td>\n",
       "      <td>3</td>\n",
       "      <td>2015</td>\n",
       "      <td>Sunday</td>\n",
       "    </tr>\n",
       "    <tr>\n",
       "      <th>1</th>\n",
       "      <td>18 - 25</td>\n",
       "      <td>Arrest</td>\n",
       "      <td>None</td>\n",
       "      <td>M</td>\n",
       "      <td>White</td>\n",
       "      <td>Black or African American</td>\n",
       "      <td>Male</td>\n",
       "      <td>Unknown</td>\n",
       "      <td>-</td>\n",
       "      <td>-</td>\n",
       "      <td>...</td>\n",
       "      <td>West</td>\n",
       "      <td>M</td>\n",
       "      <td>M3</td>\n",
       "      <td>Unidentified</td>\n",
       "      <td>Other</td>\n",
       "      <td>80</td>\n",
       "      <td>735673</td>\n",
       "      <td>3</td>\n",
       "      <td>2015</td>\n",
       "      <td>Monday</td>\n",
       "    </tr>\n",
       "    <tr>\n",
       "      <th>2</th>\n",
       "      <td>36 - 45</td>\n",
       "      <td>Field Contact</td>\n",
       "      <td>None</td>\n",
       "      <td>M</td>\n",
       "      <td>White</td>\n",
       "      <td>Multi-Racial</td>\n",
       "      <td>Male</td>\n",
       "      <td>Unknown</td>\n",
       "      <td>-</td>\n",
       "      <td>-</td>\n",
       "      <td>...</td>\n",
       "      <td>-</td>\n",
       "      <td>-</td>\n",
       "      <td>-</td>\n",
       "      <td>Unidentified</td>\n",
       "      <td>7634</td>\n",
       "      <td>70</td>\n",
       "      <td>735673</td>\n",
       "      <td>3</td>\n",
       "      <td>2015</td>\n",
       "      <td>Monday</td>\n",
       "    </tr>\n",
       "    <tr>\n",
       "      <th>3</th>\n",
       "      <td>18 - 25</td>\n",
       "      <td>Field Contact</td>\n",
       "      <td>None</td>\n",
       "      <td>M</td>\n",
       "      <td>White</td>\n",
       "      <td>White</td>\n",
       "      <td>Male</td>\n",
       "      <td>Unknown</td>\n",
       "      <td>-</td>\n",
       "      <td>-</td>\n",
       "      <td>...</td>\n",
       "      <td>-</td>\n",
       "      <td>-</td>\n",
       "      <td>-</td>\n",
       "      <td>Unidentified</td>\n",
       "      <td>7634</td>\n",
       "      <td>70</td>\n",
       "      <td>735673</td>\n",
       "      <td>3</td>\n",
       "      <td>2015</td>\n",
       "      <td>Monday</td>\n",
       "    </tr>\n",
       "    <tr>\n",
       "      <th>4</th>\n",
       "      <td>26 - 35</td>\n",
       "      <td>Field Contact</td>\n",
       "      <td>None</td>\n",
       "      <td>M</td>\n",
       "      <td>White</td>\n",
       "      <td>White</td>\n",
       "      <td>Male</td>\n",
       "      <td>Unknown</td>\n",
       "      <td>-</td>\n",
       "      <td>-</td>\n",
       "      <td>...</td>\n",
       "      <td>-</td>\n",
       "      <td>-</td>\n",
       "      <td>-</td>\n",
       "      <td>Unidentified</td>\n",
       "      <td>7634</td>\n",
       "      <td>70</td>\n",
       "      <td>735674</td>\n",
       "      <td>3</td>\n",
       "      <td>2015</td>\n",
       "      <td>Tuesday</td>\n",
       "    </tr>\n",
       "    <tr>\n",
       "      <th>...</th>\n",
       "      <td>...</td>\n",
       "      <td>...</td>\n",
       "      <td>...</td>\n",
       "      <td>...</td>\n",
       "      <td>...</td>\n",
       "      <td>...</td>\n",
       "      <td>...</td>\n",
       "      <td>...</td>\n",
       "      <td>...</td>\n",
       "      <td>...</td>\n",
       "      <td>...</td>\n",
       "      <td>...</td>\n",
       "      <td>...</td>\n",
       "      <td>...</td>\n",
       "      <td>...</td>\n",
       "      <td>...</td>\n",
       "      <td>...</td>\n",
       "      <td>...</td>\n",
       "      <td>...</td>\n",
       "      <td>...</td>\n",
       "      <td>...</td>\n",
       "    </tr>\n",
       "    <tr>\n",
       "      <th>45257</th>\n",
       "      <td>36 - 45</td>\n",
       "      <td>Field Contact</td>\n",
       "      <td>None</td>\n",
       "      <td>F</td>\n",
       "      <td>Two or More Races</td>\n",
       "      <td>Unknown</td>\n",
       "      <td>Male</td>\n",
       "      <td>Unknown</td>\n",
       "      <td>-</td>\n",
       "      <td>-</td>\n",
       "      <td>...</td>\n",
       "      <td>North</td>\n",
       "      <td>N</td>\n",
       "      <td>N2</td>\n",
       "      <td>First</td>\n",
       "      <td>Other</td>\n",
       "      <td>90</td>\n",
       "      <td>737771</td>\n",
       "      <td>12</td>\n",
       "      <td>2020</td>\n",
       "      <td>Saturday</td>\n",
       "    </tr>\n",
       "    <tr>\n",
       "      <th>45260</th>\n",
       "      <td>18 - 25</td>\n",
       "      <td>Field Contact</td>\n",
       "      <td>None</td>\n",
       "      <td>M</td>\n",
       "      <td>White</td>\n",
       "      <td>White</td>\n",
       "      <td>Female</td>\n",
       "      <td>Unknown</td>\n",
       "      <td>-</td>\n",
       "      <td>-</td>\n",
       "      <td>...</td>\n",
       "      <td>East</td>\n",
       "      <td>G</td>\n",
       "      <td>G1</td>\n",
       "      <td>First</td>\n",
       "      <td>Other</td>\n",
       "      <td>80</td>\n",
       "      <td>737771</td>\n",
       "      <td>12</td>\n",
       "      <td>2020</td>\n",
       "      <td>Saturday</td>\n",
       "    </tr>\n",
       "    <tr>\n",
       "      <th>45261</th>\n",
       "      <td>26 - 35</td>\n",
       "      <td>Field Contact</td>\n",
       "      <td>None</td>\n",
       "      <td>M</td>\n",
       "      <td>White</td>\n",
       "      <td>Unknown</td>\n",
       "      <td>Male</td>\n",
       "      <td>Unknown</td>\n",
       "      <td>-</td>\n",
       "      <td>-</td>\n",
       "      <td>...</td>\n",
       "      <td>North</td>\n",
       "      <td>N</td>\n",
       "      <td>N2</td>\n",
       "      <td>First</td>\n",
       "      <td>Other</td>\n",
       "      <td>80</td>\n",
       "      <td>737771</td>\n",
       "      <td>12</td>\n",
       "      <td>2020</td>\n",
       "      <td>Saturday</td>\n",
       "    </tr>\n",
       "    <tr>\n",
       "      <th>45264</th>\n",
       "      <td>Unknown</td>\n",
       "      <td>Field Contact</td>\n",
       "      <td>None</td>\n",
       "      <td>M</td>\n",
       "      <td>White</td>\n",
       "      <td>Black or African American</td>\n",
       "      <td>Female</td>\n",
       "      <td>Unknown</td>\n",
       "      <td>-</td>\n",
       "      <td>-</td>\n",
       "      <td>...</td>\n",
       "      <td>South</td>\n",
       "      <td>S</td>\n",
       "      <td>S3</td>\n",
       "      <td>Unidentified</td>\n",
       "      <td>Other</td>\n",
       "      <td>80</td>\n",
       "      <td>737771</td>\n",
       "      <td>12</td>\n",
       "      <td>2020</td>\n",
       "      <td>Saturday</td>\n",
       "    </tr>\n",
       "    <tr>\n",
       "      <th>45275</th>\n",
       "      <td>18 - 25</td>\n",
       "      <td>Field Contact</td>\n",
       "      <td>None</td>\n",
       "      <td>M</td>\n",
       "      <td>White</td>\n",
       "      <td>White</td>\n",
       "      <td>Male</td>\n",
       "      <td>Unknown</td>\n",
       "      <td>-</td>\n",
       "      <td>-</td>\n",
       "      <td>...</td>\n",
       "      <td>West</td>\n",
       "      <td>K</td>\n",
       "      <td>K2</td>\n",
       "      <td>Repeat</td>\n",
       "      <td>Other</td>\n",
       "      <td>70</td>\n",
       "      <td>737773</td>\n",
       "      <td>12</td>\n",
       "      <td>2020</td>\n",
       "      <td>Monday</td>\n",
       "    </tr>\n",
       "  </tbody>\n",
       "</table>\n",
       "<p>13071 rows × 23 columns</p>\n",
       "</div>"
      ],
      "text/plain": [
       "      Subject Age Group           Stop Resolution  \\\n",
       "0                1 - 17  Referred for Prosecution   \n",
       "1               18 - 25                    Arrest   \n",
       "2               36 - 45             Field Contact   \n",
       "3               18 - 25             Field Contact   \n",
       "4               26 - 35             Field Contact   \n",
       "...                 ...                       ...   \n",
       "45257           36 - 45             Field Contact   \n",
       "45260           18 - 25             Field Contact   \n",
       "45261           26 - 35             Field Contact   \n",
       "45264           Unknown             Field Contact   \n",
       "45275           18 - 25             Field Contact   \n",
       "\n",
       "                             Weapon Type Officer Gender        Officer Race  \\\n",
       "0      Knife/Cutting/Stabbing Instrument              M  Hispanic or Latino   \n",
       "1                                   None              M               White   \n",
       "2                                   None              M               White   \n",
       "3                                   None              M               White   \n",
       "4                                   None              M               White   \n",
       "...                                  ...            ...                 ...   \n",
       "45257                               None              F   Two or More Races   \n",
       "45260                               None              M               White   \n",
       "45261                               None              M               White   \n",
       "45264                               None              M               White   \n",
       "45275                               None              M               White   \n",
       "\n",
       "          Subject Perceived Race Subject Perceived Gender Initial Call Type  \\\n",
       "0      Black or African American                   Female           Unknown   \n",
       "1      Black or African American                     Male           Unknown   \n",
       "2                   Multi-Racial                     Male           Unknown   \n",
       "3                          White                     Male           Unknown   \n",
       "4                          White                     Male           Unknown   \n",
       "...                          ...                      ...               ...   \n",
       "45257                    Unknown                     Male           Unknown   \n",
       "45260                      White                   Female           Unknown   \n",
       "45261                    Unknown                     Male           Unknown   \n",
       "45264  Black or African American                   Female           Unknown   \n",
       "45275                      White                     Male           Unknown   \n",
       "\n",
       "      Final Call Type Call Type  ... Precinct  Sector    Beat Subject Known  \\\n",
       "0                   -         -  ...     East  G       G2      Unidentified   \n",
       "1                   -         -  ...     West  M       M3      Unidentified   \n",
       "2                   -         -  ...        -       -       -  Unidentified   \n",
       "3                   -         -  ...        -       -       -  Unidentified   \n",
       "4                   -         -  ...        -       -       -  Unidentified   \n",
       "...               ...       ...  ...      ...     ...     ...           ...   \n",
       "45257               -         -  ...    North       N      N2         First   \n",
       "45260               -         -  ...     East       G      G1         First   \n",
       "45261               -         -  ...    North       N      N2         First   \n",
       "45264               -         -  ...    South       S      S3  Unidentified   \n",
       "45275               -         -  ...     West       K      K2        Repeat   \n",
       "\n",
       "      Officer_Bin Officer DOB    Date Month  Year       Day  \n",
       "0           Other          50  735672     3  2015    Sunday  \n",
       "1           Other          80  735673     3  2015    Monday  \n",
       "2            7634          70  735673     3  2015    Monday  \n",
       "3            7634          70  735673     3  2015    Monday  \n",
       "4            7634          70  735674     3  2015   Tuesday  \n",
       "...           ...         ...     ...   ...   ...       ...  \n",
       "45257       Other          90  737771    12  2020  Saturday  \n",
       "45260       Other          80  737771    12  2020  Saturday  \n",
       "45261       Other          80  737771    12  2020  Saturday  \n",
       "45264       Other          80  737771    12  2020  Saturday  \n",
       "45275       Other          70  737773    12  2020    Monday  \n",
       "\n",
       "[13071 rows x 23 columns]"
      ]
     },
     "execution_count": 64,
     "metadata": {},
     "output_type": "execute_result"
    }
   ],
   "source": [
    "terry_sort[(terry_sort['Initial Call Type'] == 'Unknown') & (terry_sort['Call Type'] != 'Unknown')]"
   ]
  },
  {
   "cell_type": "code",
   "execution_count": 65,
   "metadata": {
    "hidden": true
   },
   "outputs": [],
   "source": [
    "terry_sort.drop(columns='Initial Call Type', inplace=True)"
   ]
  },
  {
   "cell_type": "markdown",
   "metadata": {
    "heading_collapsed": true
   },
   "source": [
    "### Analyze 'Final Call Type'\n",
    "\n",
    "205 unique values, changed - to Unknown.  There are too many to model on so I will just use 'Call Type'."
   ]
  },
  {
   "cell_type": "code",
   "execution_count": 66,
   "metadata": {
    "hidden": true,
    "scrolled": true
   },
   "outputs": [
    {
     "data": {
      "text/plain": [
       "-                                                    13071\n",
       "--SUSPICIOUS CIRCUM. - SUSPICIOUS PERSON              3535\n",
       "--PROWLER - TRESPASS                                  3175\n",
       "--DISTURBANCE - OTHER                                 2577\n",
       "--ASSAULTS, OTHER                                     2200\n",
       "                                                     ...  \n",
       "FIGHT - VERBAL/ORAL (NO WEAPONS)                         1\n",
       "NARCOTICS - FOUND                                        1\n",
       "PEACE-STANDBY TO ASSURE (NO COURT ORDR SVC)              1\n",
       "--PREMISE CHECKS - REQUEST TO WATCH                      1\n",
       "--COMMERCIAL SEXUAL EXPLOITATION OF MINORS (CSEC)        1\n",
       "Name: Final Call Type, Length: 205, dtype: int64"
      ]
     },
     "execution_count": 66,
     "metadata": {},
     "output_type": "execute_result"
    }
   ],
   "source": [
    "terry_sort['Final Call Type'].value_counts()"
   ]
  },
  {
   "cell_type": "code",
   "execution_count": 67,
   "metadata": {
    "hidden": true,
    "scrolled": true
   },
   "outputs": [
    {
     "data": {
      "text/plain": [
       "Unknown                                              13071\n",
       "--SUSPICIOUS CIRCUM. - SUSPICIOUS PERSON              3535\n",
       "--PROWLER - TRESPASS                                  3175\n",
       "--DISTURBANCE - OTHER                                 2577\n",
       "--ASSAULTS, OTHER                                     2200\n",
       "                                                     ...  \n",
       "FIGHT - VERBAL/ORAL (NO WEAPONS)                         1\n",
       "NARCOTICS - FOUND                                        1\n",
       "PEACE-STANDBY TO ASSURE (NO COURT ORDR SVC)              1\n",
       "--PREMISE CHECKS - REQUEST TO WATCH                      1\n",
       "--COMMERCIAL SEXUAL EXPLOITATION OF MINORS (CSEC)        1\n",
       "Name: Final Call Type, Length: 205, dtype: int64"
      ]
     },
     "execution_count": 67,
     "metadata": {},
     "output_type": "execute_result"
    }
   ],
   "source": [
    "terry_sort['Final Call Type'] = terry_sort['Final Call Type'].replace(to_replace='-',value='Unknown')\n",
    "terry_sort['Final Call Type'].value_counts()"
   ]
  },
  {
   "cell_type": "code",
   "execution_count": 68,
   "metadata": {
    "hidden": true
   },
   "outputs": [],
   "source": [
    "terry_sort.drop(columns='Final Call Type', inplace=True)"
   ]
  },
  {
   "cell_type": "markdown",
   "metadata": {
    "heading_collapsed": true
   },
   "source": [
    "### Analyze 'Call Type'\n",
    "\n",
    "7 unique values, changed - to Unknown"
   ]
  },
  {
   "cell_type": "code",
   "execution_count": 69,
   "metadata": {
    "hidden": true,
    "scrolled": true
   },
   "outputs": [
    {
     "data": {
      "text/plain": [
       "911                              20138\n",
       "-                                13071\n",
       "ONVIEW                            8616\n",
       "TELEPHONE OTHER, NOT 911          3160\n",
       "ALARM CALL (NOT POLICE ALARM)      299\n",
       "TEXT MESSAGE                         7\n",
       "SCHEDULED EVENT (RECURRING)          1\n",
       "Name: Call Type, dtype: int64"
      ]
     },
     "execution_count": 69,
     "metadata": {},
     "output_type": "execute_result"
    }
   ],
   "source": [
    "terry_sort['Call Type'].value_counts()"
   ]
  },
  {
   "cell_type": "code",
   "execution_count": 70,
   "metadata": {
    "hidden": true,
    "scrolled": true
   },
   "outputs": [
    {
     "data": {
      "text/plain": [
       "911                              20138\n",
       "Unknown                          13071\n",
       "ONVIEW                            8616\n",
       "TELEPHONE OTHER, NOT 911          3160\n",
       "ALARM CALL (NOT POLICE ALARM)      299\n",
       "TEXT MESSAGE                         7\n",
       "SCHEDULED EVENT (RECURRING)          1\n",
       "Name: Call Type, dtype: int64"
      ]
     },
     "execution_count": 70,
     "metadata": {},
     "output_type": "execute_result"
    }
   ],
   "source": [
    "terry_sort['Call Type'] = terry_sort['Call Type'].replace(to_replace='-',value='Unknown')\n",
    "terry_sort['Call Type'].value_counts()"
   ]
  },
  {
   "cell_type": "code",
   "execution_count": 71,
   "metadata": {
    "hidden": true
   },
   "outputs": [
    {
     "data": {
      "image/png": "[encoded data removed]",
      "text/plain": [
       "<Figure size 432x288 with 1 Axes>"
      ]
     },
     "metadata": {
      "needs_background": "light"
     },
     "output_type": "display_data"
    }
   ],
   "source": [
    "sns.histplot(terry_sort, x='Call Type', hue_order=('Y','N'), hue='Arrest Flag', multiple='stack', stat='probability')\n",
    "plt.xticks(rotation=90);"
   ]
  },
  {
   "cell_type": "markdown",
   "metadata": {
    "heading_collapsed": true
   },
   "source": [
    "### Analyze 'Officer Squad'\n",
    "\n",
    "Replace nan values with Unknown, 170 unique values.  Binned into Training, Unknown, and Other. Training was most common."
   ]
  },
  {
   "cell_type": "code",
   "execution_count": 72,
   "metadata": {
    "hidden": true,
    "scrolled": true
   },
   "outputs": [
    {
     "data": {
      "text/plain": [
       "array([nan, 'EAST PCT 3RD W - E/G RELIEF',\n",
       "       'EAST PCT 1ST W - EDWARD (CHARLIE)',\n",
       "       'TRAINING - FIELD TRAINING SQUAD', 'EAST PCT 3RD W - GEORGE',\n",
       "       'EAST PCT 3RD W - EDWARD', 'SOUTH PCT 3RD W - ROBERT',\n",
       "       'SOUTH PCT 1ST W - ROBERT', 'NORTH PCT 1ST W - UNION',\n",
       "       'EAST PCT 1ST W - E/G RELIEF (CHARLIE)', 'WEST PCT 2ND W - MARY',\n",
       "       'NORTH PCT 2ND W - BOY', 'WEST PCT 2ND W - QUEEN',\n",
       "       'SOUTHWEST PCT 2ND WATCH - F/W RELIEF', 'SOUTH PCT OPS - DAY ACT',\n",
       "       'NORTH PCT 2ND W - L/U RELIEF', 'NORTH PCT 3RD W - B/N RELIEF',\n",
       "       'WEST PCT 3RD W - MARY', 'SOUTH PCT 3RD W - OCEAN',\n",
       "       'WEST PCT 3RD W - KING', 'NORTH PCT 1ST W - LINCOLN',\n",
       "       'SOUTH PCT 1ST W - R/S RELIEF', 'NORTH PCT 2ND W - JOHN RELIEF',\n",
       "       'WEST PCT 2ND W - K/Q RELIEF', 'NORTH PCT 2ND W - LINCOLN',\n",
       "       'WEST PCT 2ND W - DAVID BEATS', 'WEST PCT 2ND W - D/M RELIEF',\n",
       "       'NORTH PCT 2ND W - NORA', 'EAST PCT 3RD WATCH - CHARLIE RELIEF',\n",
       "       'SOUTHWEST PCT 2ND W - FRANK', 'EAST PCT 2ND W - E/G RELIEF',\n",
       "       'SOUTH PCT 3RD W - R/S RELIEF', 'WEST PCT 3RD W - QUEEN',\n",
       "       'WEST PCT 3RD W - DAVID', 'WEST PCT 3RD W - D/M RELIEF',\n",
       "       'SOUTH PCT 2ND W - R/S RELIEF', 'NORTH PCT 3RD W - L/U RELIEF',\n",
       "       'NORTH PCT 1ST W - NORA (JOHN)', 'WEST PCT 2ND W - SPECIAL BEATS',\n",
       "       'NORTH PCT 1ST W - L/U RELIEF', 'SOUTH PCT 3RD W - SAM',\n",
       "       'WEST PCT 1ST W - DAVID/MARY', 'SOUTH PCT 1ST W - SAM',\n",
       "       'NORTH PCT 2ND WATCH - NORTH BEATS', 'SOUTH PCT OPS - NIGHT ACT',\n",
       "       'WEST PCT OPS - ACT NIGHT', 'WEST PCT 3RD W - K/Q RELIEF',\n",
       "       'EAST PCT 2ND W - CHARLIE', 'SOUTH PCT 2ND W - ROBERT',\n",
       "       'NORTH PCT 2ND W - UNION', 'SOUTH PCT OPS - CPT',\n",
       "       'COMMUNITY OUTREACH - YOUTH VIOLENCE -SCHOOLS DETAIL',\n",
       "       'NORTH PCT OPS - ACT DAY', 'NORTH PCT 1ST W - B/N RELIEF (JOHN)',\n",
       "       'NORTH PCT 2ND WATCH - B/N RELIEF', 'WEST PCT 2ND W - MARY BEATS',\n",
       "       'NORTH PCT 3RD W - BOY', 'NORTH PCT 3RD W - UNION',\n",
       "       'NORTH PCT 3RD W - NORA', 'WEST PCT 3RD W - DAVID BEATS',\n",
       "       'NORTH PCT 3RD W - LINCOLN', 'EAST PCT 2ND W - GEORGE',\n",
       "       'EAST PCT 2ND W - CHARLIE RELIEF', 'WEST PCT 2ND W - KING',\n",
       "       'SOUTH PCT 2ND W - SAM', 'SOUTH PCT 2ND W - OCEAN',\n",
       "       'NORTH PCT 1ST W - BOY (JOHN)', 'WEST PCT 2ND W - KING BEATS',\n",
       "       'SOUTH PCT 2ND W - OCEAN RELIEF', 'SOUTHWEST PCT 2ND W - WILLIAM',\n",
       "       'EAST PCT 1ST W - GEORGE (CHARLIE)', 'WEST PCT 2ND W - DAVID',\n",
       "       'EAST PCT 2ND W - EDWARD', 'EAST PCT 3RD W - CHARLIE',\n",
       "       'NORTH PCT 3RD W - JOHN RELIEF', 'SOUTHWEST PCT 1ST W - WILLIAM',\n",
       "       'WEST PCT 1ST W - KING/QUEEN', 'SOUTHWEST PCT OPS - CPT',\n",
       "       'GANG SQUAD B', 'NORTH PCT 3RD W - JOHN', 'EAST PCT OPS - CPT',\n",
       "       'SOUTHWEST PCT 1ST W - FRANK', 'SOUTHWEST PCT 3RD W - WILLIAM',\n",
       "       'EAST PCT OPS - NIGHT ACT', 'WEST PCT 1ST W - KQ/DM RELIEF',\n",
       "       'NORTH PCT 2ND W - JOHN', 'SOUTHWEST PCT 3RD W - FRANK',\n",
       "       'WEST PCT OPS - CPT', 'SAU SQUAD A',\n",
       "       'TRAF - MOTORCYCLE UNIT - T4 SQUAD', 'TRAF - DUI SQUAD',\n",
       "       'CRISIS INTERVENTION COORDINATION SQUAD',\n",
       "       'MAJOR CRIMES TASK FORCE', 'EAST PCT 2ND W - BEATS',\n",
       "       'CANINE - SQUAD C', 'SOUTHWEST PCT OPS - NIGHT ACT',\n",
       "       'SOUTHWEST PCT - 3RD WATCH - F/W RELIEF',\n",
       "       'COMMUNITY OUTREACH - SPECIAL PROJECTS DETAIL', 'GANG SQUAD C',\n",
       "       'SOUTH PCT 3RD W - OCEAN RELIEF', 'GANG SQUAD A',\n",
       "       'PUBLIC AFFAIRS SQUAD', 'DV SQUAD A - INVESTIGATIONS',\n",
       "       'HARBOR - SQUAD A', 'TRAF - PM ENFORCEMENT',\n",
       "       'CRISIS RESPONSE SQUAD', 'BURG/THEFT/JUV - SOUTH',\n",
       "       'WEST PCT OPS - SEA CTR', 'NORTH PCT OPS - CPT',\n",
       "       'SWAT - DAY SQUAD 2', 'SOUTHWEST PCT - 1ST WATCH - F/W RELIEF',\n",
       "       'NARC - PROACTIVE SQUAD C', 'ZOLD CRIME ANALYSIS UNIT - ANALYSTS',\n",
       "       'HR - HUMAN RESOURCES  - DEPT UNAVAIL PERSONNEL',\n",
       "       'OPS BUREAU - SPECIAL ASSIGNMENTS', 'BURG/THEFT/JUV - WEST',\n",
       "       'TRAF - AM ENFORCEMENT', 'AUTO THEFT', 'BURG/THEFT/JUV - NORTH',\n",
       "       'BURG/THEFT/JUV - EAST', 'TRAF - COLLISION INVESTIGATION',\n",
       "       'NORTH PCT 2ND W - PCT SUPPORT', 'WEST PCT OPS - MOUNTED PATROL',\n",
       "       'SWAT - DAY SQUAD 1', 'TRAF - MOTORCYCLE UNIT - T2 SQUAD',\n",
       "       'SWAT - NIGHT SQUAD 1', 'CANINE - NIGHT SQUAD',\n",
       "       'SWAT - NIGHT SQUAD 2', 'SOUTH PCT 2ND W - SAM BEATS',\n",
       "       'SOUTHWEST PCT 2ND W - SOUTHWEST BEATS',\n",
       "       'EAST PCT 3RD W - EAST BEATS',\n",
       "       'TRAINING - LEARNING MANAGEMENT SYSTEM', 'CANINE - DAY SQUAD',\n",
       "       'VICE - GENERAL INVESTIGATIONS SQUAD', 'PAWN DETAIL',\n",
       "       'JOINT ENFORCEMENT TEAM (JET)', 'DV SQUAD C - ELDER ABUSE',\n",
       "       'WEST PCT OPS - BURG/THEFT', 'SOUTH PCT 1ST W - OCEAN',\n",
       "       'CANINE - SQUAD A',\n",
       "       'COMMUNITY OUTREACH - YOUTH VIOLENCE-SCHOOLS DETAIL',\n",
       "       'SOUTH PCT OPS - BURG/THEFT', 'JOINT ENFORCEMENT TEAM',\n",
       "       'EAST PCT OPS - BURG/THEFT', 'ROBBERY SQUAD B',\n",
       "       'COMMUNITY OUTREACH UNIT', 'ROBBERY SQUAD A',\n",
       "       'HR - DEPARTMENT UNAVAILABLE PERSONNEL',\n",
       "       'SOUTHWEST PCT OPS - DAY ACT', 'NAVIGATION TEAM - SQUAD B',\n",
       "       'NAVIGATION TEAM - SQUAD A', 'SOUTHWEST PCT OPS - BURG/THEFT',\n",
       "       'NORTH PCT OPS - BURG/THEFT', 'HR - BLEA - ACADEMY RECRUITS',\n",
       "       'COMM - INTERNET AND TELEPHONE REPORTING (ITRU)',\n",
       "       'RECORDS - DAY SHIFT', 'TRAINING - ADVANCED - SQUAD C',\n",
       "       'SAU SQUAD B', 'HARBOR - SQUAD D', 'DV SQUAD D - ORDER SERVICE',\n",
       "       'CRG - SQUAD 82A', 'CRG - SQUAD 82D', 'CRG - SQUAD 82E',\n",
       "       'CRG - SQUAD 81B', 'CRG - SQUAD 81A', 'CRG - SQUAD 81C',\n",
       "       'CRG - SQUAD 81E', 'CRG - SQUAD 81D', 'CRG - SQUAD 82C',\n",
       "       'CRG - SQUAD 82B'], dtype=object)"
      ]
     },
     "execution_count": 72,
     "metadata": {},
     "output_type": "execute_result"
    }
   ],
   "source": [
    "terry_sort['Officer Squad'].unique()"
   ]
  },
  {
   "cell_type": "code",
   "execution_count": 73,
   "metadata": {
    "hidden": true
   },
   "outputs": [],
   "source": [
    "terry_sort['Officer Squad'].fillna('Unknown', inplace=True)"
   ]
  },
  {
   "cell_type": "code",
   "execution_count": 74,
   "metadata": {
    "hidden": true,
    "scrolled": false
   },
   "outputs": [
    {
     "data": {
      "text/plain": [
       "TRAINING - FIELD TRAINING SQUAD          4791\n",
       "WEST PCT 1ST W - DAVID/MARY              1498\n",
       "WEST PCT 2ND W - D/M RELIEF               979\n",
       "SOUTHWEST PCT 2ND W - FRANK               916\n",
       "NORTH PCT 2ND WATCH - NORTH BEATS         885\n",
       "WEST PCT 3RD W - DAVID                    804\n",
       "WEST PCT 1ST W - KING/QUEEN               797\n",
       "EAST PCT 3RD W - E/G RELIEF               789\n",
       "WEST PCT 1ST W - KQ/DM RELIEF             788\n",
       "EAST PCT 1ST W - E/G RELIEF (CHARLIE)     751\n",
       "EAST PCT 3RD W - EDWARD                   727\n",
       "NORTH PCT 2ND W - NORA                    717\n",
       "NORTH PCT 3RD W - B/N RELIEF              695\n",
       "WEST PCT 2ND W - KING                     687\n",
       "EAST PCT 2ND W - CHARLIE RELIEF           671\n",
       "WEST PCT 3RD W - KING                     667\n",
       "SOUTH PCT 1ST W - R/S RELIEF              650\n",
       "WEST PCT 2ND W - MARY BEATS               631\n",
       "WEST PCT 3RD W - MARY                     614\n",
       "Unknown                                   603\n",
       "NORTH PCT 3RD W - NORA                    603\n",
       "WEST PCT 3RD W - QUEEN                    587\n",
       "WEST PCT 2ND W - K/Q RELIEF               566\n",
       "NORTH PCT 2ND W - JOHN RELIEF             566\n",
       "NORTH PCT 1ST W - LINCOLN                 565\n",
       "NORTH PCT 3RD W - UNION                   551\n",
       "WEST PCT 3RD W - D/M RELIEF               543\n",
       "SOUTHWEST PCT 2ND W - WILLIAM             540\n",
       "WEST PCT 3RD W - K/Q RELIEF               528\n",
       "SOUTH PCT 1ST W - SAM                     525\n",
       "Name: Officer Squad, dtype: int64"
      ]
     },
     "execution_count": 74,
     "metadata": {},
     "output_type": "execute_result"
    }
   ],
   "source": [
    "terry_sort['Officer Squad'].value_counts()[:30]"
   ]
  },
  {
   "cell_type": "code",
   "execution_count": 75,
   "metadata": {
    "hidden": true,
    "scrolled": true
   },
   "outputs": [
    {
     "data": {
      "text/html": [
       "<div>\n",
       "<style scoped>\n",
       "    .dataframe tbody tr th:only-of-type {\n",
       "        vertical-align: middle;\n",
       "    }\n",
       "\n",
       "    .dataframe tbody tr th {\n",
       "        vertical-align: top;\n",
       "    }\n",
       "\n",
       "    .dataframe thead th {\n",
       "        text-align: right;\n",
       "    }\n",
       "</style>\n",
       "<table border=\"1\" class=\"dataframe\">\n",
       "  <thead>\n",
       "    <tr style=\"text-align: right;\">\n",
       "      <th></th>\n",
       "      <th>Officer Squad</th>\n",
       "      <th>Precinct</th>\n",
       "    </tr>\n",
       "  </thead>\n",
       "  <tbody>\n",
       "    <tr>\n",
       "      <th>0</th>\n",
       "      <td>Unknown</td>\n",
       "      <td>East</td>\n",
       "    </tr>\n",
       "    <tr>\n",
       "      <th>1</th>\n",
       "      <td>Unknown</td>\n",
       "      <td>West</td>\n",
       "    </tr>\n",
       "    <tr>\n",
       "      <th>2</th>\n",
       "      <td>Unknown</td>\n",
       "      <td>-</td>\n",
       "    </tr>\n",
       "    <tr>\n",
       "      <th>3</th>\n",
       "      <td>Unknown</td>\n",
       "      <td>-</td>\n",
       "    </tr>\n",
       "    <tr>\n",
       "      <th>4</th>\n",
       "      <td>Unknown</td>\n",
       "      <td>-</td>\n",
       "    </tr>\n",
       "    <tr>\n",
       "      <th>...</th>\n",
       "      <td>...</td>\n",
       "      <td>...</td>\n",
       "    </tr>\n",
       "    <tr>\n",
       "      <th>45187</th>\n",
       "      <td>EAST PCT 2ND W - E/G RELIEF</td>\n",
       "      <td>East</td>\n",
       "    </tr>\n",
       "    <tr>\n",
       "      <th>45188</th>\n",
       "      <td>WEST PCT 2ND W - DAVID BEATS</td>\n",
       "      <td>West</td>\n",
       "    </tr>\n",
       "    <tr>\n",
       "      <th>45189</th>\n",
       "      <td>SOUTH PCT 2ND W - ROBERT</td>\n",
       "      <td>-</td>\n",
       "    </tr>\n",
       "    <tr>\n",
       "      <th>45190</th>\n",
       "      <td>CRG - SQUAD 81A</td>\n",
       "      <td>West</td>\n",
       "    </tr>\n",
       "    <tr>\n",
       "      <th>45191</th>\n",
       "      <td>NORTH PCT 3RD W - UNION</td>\n",
       "      <td>North</td>\n",
       "    </tr>\n",
       "  </tbody>\n",
       "</table>\n",
       "<p>45192 rows × 2 columns</p>\n",
       "</div>"
      ],
      "text/plain": [
       "                      Officer Squad Precinct\n",
       "0                           Unknown     East\n",
       "1                           Unknown     West\n",
       "2                           Unknown        -\n",
       "3                           Unknown        -\n",
       "4                           Unknown        -\n",
       "...                             ...      ...\n",
       "45187   EAST PCT 2ND W - E/G RELIEF     East\n",
       "45188  WEST PCT 2ND W - DAVID BEATS     West\n",
       "45189      SOUTH PCT 2ND W - ROBERT        -\n",
       "45190               CRG - SQUAD 81A     West\n",
       "45191       NORTH PCT 3RD W - UNION    North\n",
       "\n",
       "[45192 rows x 2 columns]"
      ]
     },
     "execution_count": 75,
     "metadata": {},
     "output_type": "execute_result"
    }
   ],
   "source": [
    "terry_sort[['Officer Squad','Precinct']][:-100]"
   ]
  },
  {
   "cell_type": "code",
   "execution_count": 76,
   "metadata": {
    "hidden": true
   },
   "outputs": [],
   "source": [
    "# It seems to me like most Squads begin with the Precinct except for the Training - Field Training Squad.\n",
    "# Rather than just deleting the squad, I think binning into Field Training, Other, and Unknown will give us good info.\n",
    "\n",
    "# Bin into top 10 and then Other\n",
    "Squad_Bin =[]\n",
    "for i in range(len(terry_sort)):\n",
    "    if terry_sort.iloc[i]['Officer Squad'] == 'Unknown':\n",
    "        Squad_Bin.append('Unknown')\n",
    "    elif terry_sort.iloc[i]['Officer Squad'] == 'TRAINING - FIELD TRAINING SQUAD':\n",
    "        Squad_Bin.append('Training')\n",
    "    else:\n",
    "        Squad_Bin.append('Other')\n",
    "        \n",
    "terry_sort['Squad_Bin'] = Squad_Bin     "
   ]
  },
  {
   "cell_type": "code",
   "execution_count": 77,
   "metadata": {
    "hidden": true
   },
   "outputs": [],
   "source": [
    "terry_sort.drop(columns=('Officer Squad'), inplace=True)"
   ]
  },
  {
   "cell_type": "code",
   "execution_count": 78,
   "metadata": {
    "hidden": true,
    "scrolled": true
   },
   "outputs": [
    {
     "data": {
      "image/png": "[encoded data removed]",
      "text/plain": [
       "<Figure size 432x288 with 1 Axes>"
      ]
     },
     "metadata": {
      "needs_background": "light"
     },
     "output_type": "display_data"
    }
   ],
   "source": [
    "sns.histplot(terry_sort, x='Squad_Bin', hue_order=('Y','N'), hue='Arrest Flag', multiple='stack');"
   ]
  },
  {
   "cell_type": "markdown",
   "metadata": {
    "heading_collapsed": true
   },
   "source": [
    "### Analyze 'Arrest Flag'\n",
    "\n",
    "Target variable.  Fine as is... values N, Y.  Need to address class imbalance."
   ]
  },
  {
   "cell_type": "code",
   "execution_count": 79,
   "metadata": {
    "hidden": true,
    "scrolled": false
   },
   "outputs": [
    {
     "data": {
      "text/plain": [
       "N    42572\n",
       "Y     2720\n",
       "Name: Arrest Flag, dtype: int64"
      ]
     },
     "execution_count": 79,
     "metadata": {},
     "output_type": "execute_result"
    }
   ],
   "source": [
    "terry_sort['Arrest Flag'].value_counts() # Definite class imbalance, may need to address"
   ]
  },
  {
   "cell_type": "code",
   "execution_count": 80,
   "metadata": {
    "hidden": true
   },
   "outputs": [
    {
     "data": {
      "image/png": "[encoded data removed]",
      "text/plain": [
       "<Figure size 432x288 with 1 Axes>"
      ]
     },
     "metadata": {
      "needs_background": "light"
     },
     "output_type": "display_data"
    }
   ],
   "source": [
    "sns.histplot(terry_sort, x='Arrest Flag');"
   ]
  },
  {
   "cell_type": "markdown",
   "metadata": {
    "heading_collapsed": true
   },
   "source": [
    "### Analyze 'Frisk Flag'\n",
    "\n",
    "Changed - to Unknown.  Values N, Y, Unknown"
   ]
  },
  {
   "cell_type": "code",
   "execution_count": 81,
   "metadata": {
    "hidden": true,
    "scrolled": true
   },
   "outputs": [
    {
     "data": {
      "text/plain": [
       "N    34749\n",
       "Y    10065\n",
       "-      478\n",
       "Name: Frisk Flag, dtype: int64"
      ]
     },
     "execution_count": 81,
     "metadata": {},
     "output_type": "execute_result"
    }
   ],
   "source": [
    "terry_sort['Frisk Flag'].value_counts()"
   ]
  },
  {
   "cell_type": "code",
   "execution_count": 82,
   "metadata": {
    "hidden": true
   },
   "outputs": [],
   "source": [
    "terry_sort['Frisk Flag'] = terry_sort['Frisk Flag'].replace(to_replace='-',value='Unknown')"
   ]
  },
  {
   "cell_type": "code",
   "execution_count": 83,
   "metadata": {
    "hidden": true,
    "scrolled": true
   },
   "outputs": [
    {
     "data": {
      "text/plain": [
       "N          34749\n",
       "Y          10065\n",
       "Unknown      478\n",
       "Name: Frisk Flag, dtype: int64"
      ]
     },
     "execution_count": 83,
     "metadata": {},
     "output_type": "execute_result"
    }
   ],
   "source": [
    "terry_sort['Frisk Flag'].value_counts()"
   ]
  },
  {
   "cell_type": "code",
   "execution_count": 84,
   "metadata": {
    "hidden": true
   },
   "outputs": [
    {
     "data": {
      "image/png": "[encoded data removed]",
      "text/plain": [
       "<Figure size 432x288 with 1 Axes>"
      ]
     },
     "metadata": {
      "needs_background": "light"
     },
     "output_type": "display_data"
    }
   ],
   "source": [
    "sns.histplot(terry_sort, x='Frisk Flag', hue_order=('Y','N'), hue='Arrest Flag', multiple='stack')\n",
    "plt.xticks(rotation=90);"
   ]
  },
  {
   "cell_type": "markdown",
   "metadata": {
    "heading_collapsed": true
   },
   "source": [
    "### Analyze 'Precinct'\n",
    "\n",
    "Change - to Unknown, combine Southwest and SouthWest. Eight values including error."
   ]
  },
  {
   "cell_type": "code",
   "execution_count": 85,
   "metadata": {
    "hidden": true,
    "scrolled": true
   },
   "outputs": [
    {
     "data": {
      "text/plain": [
       "West         10749\n",
       "North         9962\n",
       "-             9752\n",
       "East          5991\n",
       "South         5413\n",
       "Southwest     2320\n",
       "SouthWest      860\n",
       "Unknown        200\n",
       "OOJ             30\n",
       "FK ERROR        15\n",
       "Name: Precinct, dtype: int64"
      ]
     },
     "execution_count": 85,
     "metadata": {},
     "output_type": "execute_result"
    }
   ],
   "source": [
    "terry_sort['Precinct'].value_counts()"
   ]
  },
  {
   "cell_type": "code",
   "execution_count": 86,
   "metadata": {
    "hidden": true,
    "scrolled": true
   },
   "outputs": [
    {
     "data": {
      "text/plain": [
       "West         10749\n",
       "North         9962\n",
       "Unknown       9952\n",
       "East          5991\n",
       "South         5413\n",
       "Southwest     3180\n",
       "OOJ             30\n",
       "FK ERROR        15\n",
       "Name: Precinct, dtype: int64"
      ]
     },
     "execution_count": 86,
     "metadata": {},
     "output_type": "execute_result"
    }
   ],
   "source": [
    "terry_sort['Precinct'] = terry_sort['Precinct'].replace(to_replace='-',value='Unknown')\n",
    "terry_sort['Precinct'] = terry_sort['Precinct'].replace(to_replace='SouthWest',value='Southwest')\n",
    "terry_sort['Precinct'].value_counts()"
   ]
  },
  {
   "cell_type": "code",
   "execution_count": 87,
   "metadata": {
    "hidden": true
   },
   "outputs": [
    {
     "data": {
      "image/png": "[encoded data removed]",
      "text/plain": [
       "<Figure size 432x288 with 1 Axes>"
      ]
     },
     "metadata": {
      "needs_background": "light"
     },
     "output_type": "display_data"
    }
   ],
   "source": [
    "# Interesting amount of Arrests in the West precinct\n",
    "\n",
    "sns.histplot(terry_sort, x='Precinct', hue_order=('Y','N'), hue='Arrest Flag', multiple='stack', stat='probability')\n",
    "plt.xticks(rotation=90);"
   ]
  },
  {
   "cell_type": "markdown",
   "metadata": {},
   "source": [
    "### Analyze 'Sector'\n",
    "\n",
    "Strip spaces and replace - with Unknown. Left with under 20 values. Too many to work with, will drop."
   ]
  },
  {
   "cell_type": "code",
   "execution_count": 88,
   "metadata": {},
   "outputs": [
    {
     "data": {
      "text/plain": [
       "-         9950\n",
       "E         2337\n",
       "M         2270\n",
       "N         2191\n",
       "K         1762\n",
       "B         1658\n",
       "L         1639\n",
       "K         1520\n",
       "D         1512\n",
       "R         1455\n",
       "F         1378\n",
       "S         1348\n",
       "U         1302\n",
       "O         1161\n",
       "J         1119\n",
       "G         1087\n",
       "M         1065\n",
       "C         1037\n",
       "D          996\n",
       "Q          967\n",
       "W          941\n",
       "E          823\n",
       "Q          653\n",
       "N          605\n",
       "O          523\n",
       "F          515\n",
       "R          499\n",
       "S          428\n",
       "B          409\n",
       "G          389\n",
       "U          386\n",
       "J          349\n",
       "W          345\n",
       "C          317\n",
       "L          303\n",
       "99          53\n",
       "Name: Sector, dtype: int64"
      ]
     },
     "execution_count": 88,
     "metadata": {},
     "output_type": "execute_result"
    }
   ],
   "source": [
    "terry_sort['Sector'].value_counts()"
   ]
  },
  {
   "cell_type": "code",
   "execution_count": 89,
   "metadata": {
    "scrolled": true
   },
   "outputs": [
    {
     "data": {
      "text/plain": [
       "Unknown    9950\n",
       "M          3335\n",
       "K          3282\n",
       "E          3160\n",
       "N          2796\n",
       "D          2508\n",
       "B          2067\n",
       "R          1954\n",
       "L          1942\n",
       "F          1893\n",
       "S          1776\n",
       "U          1688\n",
       "O          1684\n",
       "Q          1620\n",
       "G          1476\n",
       "J          1468\n",
       "C          1354\n",
       "W          1286\n",
       "99           53\n",
       "Name: Sector, dtype: int64"
      ]
     },
     "execution_count": 89,
     "metadata": {},
     "output_type": "execute_result"
    }
   ],
   "source": [
    "terry_sort['Sector'] = terry_sort['Sector'].replace(to_replace='-',value='Unknown')\n",
    "terry_sort['Sector'] = terry_sort['Sector'].map(lambda x: x.strip())\n",
    "terry_sort['Sector'].value_counts()"
   ]
  },
  {
   "cell_type": "code",
   "execution_count": 90,
   "metadata": {
    "scrolled": true
   },
   "outputs": [
    {
     "data": {
      "image/png": "[encoded data removed]",
      "text/plain": [
       "<Figure size 432x288 with 1 Axes>"
      ]
     },
     "metadata": {
      "needs_background": "light"
     },
     "output_type": "display_data"
    }
   ],
   "source": [
    "sns.histplot(terry_sort, x='Sector', hue_order=('Y','N'), hue='Arrest Flag', multiple='stack', stat='probability')\n",
    "plt.xticks(rotation=90);"
   ]
  },
  {
   "cell_type": "code",
   "execution_count": 91,
   "metadata": {},
   "outputs": [],
   "source": [
    "#terry_sort.drop(columns=('Sector'), inplace = True)"
   ]
  },
  {
   "cell_type": "markdown",
   "metadata": {
    "heading_collapsed": true
   },
   "source": [
    "### Analyze 'Beat'\n",
    "\n",
    "Strip spaces and replace - with Unknown.  I think this is getting very granular in the data.  Perhaps if a particular Precinct and Sector are significant to the models then we can also look at Beat.  But for now I think it just complicates the model too much so I will drop it."
   ]
  },
  {
   "cell_type": "code",
   "execution_count": 92,
   "metadata": {
    "hidden": true
   },
   "outputs": [
    {
     "data": {
      "text/plain": [
       "-         9897\n",
       "N3        1175\n",
       "E2        1092\n",
       "M2         852\n",
       "K3         846\n",
       "          ... \n",
       "N1          67\n",
       "99          53\n",
       "99          27\n",
       "OOJ         20\n",
       "S            2\n",
       "Name: Beat, Length: 107, dtype: int64"
      ]
     },
     "execution_count": 92,
     "metadata": {},
     "output_type": "execute_result"
    }
   ],
   "source": [
    "terry_sort['Beat'].value_counts()"
   ]
  },
  {
   "cell_type": "code",
   "execution_count": 93,
   "metadata": {
    "hidden": true,
    "scrolled": true
   },
   "outputs": [
    {
     "data": {
      "text/plain": [
       "array(['G2', 'M3', 'Unknown', 'E3', 'G3', 'E2', 'K3', 'C2', 'C3', 'C1',\n",
       "       'E1', 'J2', 'G1', 'W2', 'U2', 'Q2', 'K1', 'B3', 'R3', 'S3', 'M1',\n",
       "       'M2', 'S2', 'O3', 'N2', 'N1', 'F2', 'Q3', 'S1', 'O1', 'U1', 'F3',\n",
       "       'J1', 'J3', 'Q1', 'L3', 'B2', 'B1', 'L1', 'D3', 'R2', 'N3', 'D2',\n",
       "       'D1', 'R1', 'K2', 'F1', 'W1', 'L2', 'W3', 'O2', 'U3', '99', 'S',\n",
       "       'OOJ'], dtype=object)"
      ]
     },
     "execution_count": 93,
     "metadata": {},
     "output_type": "execute_result"
    }
   ],
   "source": [
    "terry_sort['Beat'] = terry_sort['Beat'].replace(to_replace='-',value='Unknown')\n",
    "terry_sort['Beat'] = terry_sort['Beat'].map(lambda x: x.strip())\n",
    "terry_sort['Beat'].unique()"
   ]
  },
  {
   "cell_type": "code",
   "execution_count": 94,
   "metadata": {
    "hidden": true
   },
   "outputs": [
    {
     "data": {
      "image/png": "[encoded data removed]",
      "text/plain": [
       "<Figure size 432x288 with 1 Axes>"
      ]
     },
     "metadata": {
      "needs_background": "light"
     },
     "output_type": "display_data"
    }
   ],
   "source": [
    "# Don't see an obvious standout values\n",
    "sns.histplot(terry_sort, x='Beat', hue_order=('Y','N'), hue='Arrest Flag', multiple='stack', stat='probability')\n",
    "plt.xticks(rotation=90);"
   ]
  },
  {
   "cell_type": "code",
   "execution_count": 95,
   "metadata": {
    "hidden": true
   },
   "outputs": [],
   "source": [
    "terry_sort.drop(columns='Beat', inplace=True)"
   ]
  },
  {
   "cell_type": "markdown",
   "metadata": {},
   "source": [
    "## Rename variables and visualize relationships"
   ]
  },
  {
   "cell_type": "code",
   "execution_count": 96,
   "metadata": {},
   "outputs": [
    {
     "data": {
      "text/plain": [
       "Index(['Subject_Age_Group', 'Stop_Resolution', 'Weapon_Type', 'Officer_Gender',\n",
       "       'Officer_Race', 'Subject_Perceived_Race', 'Subject_Perceived_Gender',\n",
       "       'Call_Type', 'Arrest_Flag', 'Frisk_Flag', 'Precinct', 'Sector',\n",
       "       'Subject_Known', 'Officer_Bin', 'Officer_DOB', 'Date', 'Month', 'Year',\n",
       "       'Day', 'Squad_Bin'],\n",
       "      dtype='object')"
      ]
     },
     "execution_count": 96,
     "metadata": {},
     "output_type": "execute_result"
    }
   ],
   "source": [
    "# First let's fix all of the variable names so they don't have spaces\n",
    "terry_sort.columns = terry_sort.columns.str.replace(' ', '_')\n",
    "terry_sort.columns"
   ]
  },
  {
   "cell_type": "code",
   "execution_count": 97,
   "metadata": {
    "scrolled": false
   },
   "outputs": [
    {
     "name": "stdout",
     "output_type": "stream",
     "text": [
      "<class 'pandas.core.frame.DataFrame'>\n",
      "RangeIndex: 45292 entries, 0 to 45291\n",
      "Data columns (total 20 columns):\n",
      " #   Column                    Non-Null Count  Dtype   \n",
      "---  ------                    --------------  -----   \n",
      " 0   Subject_Age_Group         45292 non-null  object  \n",
      " 1   Stop_Resolution           45292 non-null  object  \n",
      " 2   Weapon_Type               45292 non-null  object  \n",
      " 3   Officer_Gender            45292 non-null  object  \n",
      " 4   Officer_Race              45292 non-null  object  \n",
      " 5   Subject_Perceived_Race    45292 non-null  object  \n",
      " 6   Subject_Perceived_Gender  45292 non-null  object  \n",
      " 7   Call_Type                 45292 non-null  object  \n",
      " 8   Arrest_Flag               45292 non-null  object  \n",
      " 9   Frisk_Flag                45292 non-null  object  \n",
      " 10  Precinct                  45292 non-null  object  \n",
      " 11  Sector                    45292 non-null  object  \n",
      " 12  Subject_Known             45292 non-null  object  \n",
      " 13  Officer_Bin               45292 non-null  object  \n",
      " 14  Officer_DOB               45292 non-null  category\n",
      " 15  Date                      45292 non-null  int64   \n",
      " 16  Month                     45292 non-null  object  \n",
      " 17  Year                      45292 non-null  object  \n",
      " 18  Day                       45292 non-null  object  \n",
      " 19  Squad_Bin                 45292 non-null  object  \n",
      "dtypes: category(1), int64(1), object(18)\n",
      "memory usage: 6.6+ MB\n"
     ]
    }
   ],
   "source": [
    "terry_sort.info()"
   ]
  },
  {
   "cell_type": "code",
   "execution_count": 98,
   "metadata": {
    "scrolled": false
   },
   "outputs": [
    {
     "data": {
      "image/png": "[encoded data removed]",
      "text/plain": [
       "<Figure size 1440x1440 with 20 Axes>"
      ]
     },
     "metadata": {
      "needs_background": "light"
     },
     "output_type": "display_data"
    }
   ],
   "source": [
    "fig, axes = plt.subplots(nrows=5, ncols=4,figsize=(20,20))\n",
    "plt.title('Graphs')\n",
    "y = terry_sort['Arrest_Flag']\n",
    "for n in range(len(terry_sort.columns)):\n",
    "    row=(n)//4\n",
    "    col=n%4\n",
    "    ax=axes[row][col]\n",
    "    x=terry_sort.iloc[:,n]\n",
    "    ax.hist(x)\n",
    "    ax.set_title(terry_sort.columns.values[n])\n",
    "# plt.savefig('images/initial_distributions.png')\n",
    "plt.show()"
   ]
  },
  {
   "cell_type": "code",
   "execution_count": 99,
   "metadata": {
    "scrolled": false
   },
   "outputs": [
    {
     "data": {
      "image/png": "[encoded data removed]",
      "text/plain": [
       "<Figure size 425.425x360 with 1 Axes>"
      ]
     },
     "metadata": {
      "needs_background": "light"
     },
     "output_type": "display_data"
    }
   ],
   "source": [
    "# Examining Stop Resolution again.  I think it may be a confounding variable. Will probably have to remove it.\n",
    "sns.displot(terry_sort, x='Stop_Resolution', hue='Arrest_Flag', multiple='stack')\n",
    "plt.xticks(rotation=90);"
   ]
  },
  {
   "cell_type": "code",
   "execution_count": 100,
   "metadata": {
    "scrolled": false
   },
   "outputs": [
    {
     "data": {
      "image/png": "[encoded data removed]",
      "text/plain": [
       "<Figure size 720x360 with 2 Axes>"
      ]
     },
     "metadata": {
      "needs_background": "light"
     },
     "output_type": "display_data"
    }
   ],
   "source": [
    "sns.displot(terry_sort, x='Stop_Resolution', col='Arrest_Flag', multiple='dodge')\n",
    "plt.xticks(rotation=90);"
   ]
  },
  {
   "cell_type": "code",
   "execution_count": 101,
   "metadata": {},
   "outputs": [],
   "source": [
    "# Then change our target variable to binary encoding (0 or 1 instead of N or Y)\n",
    "terry_sort['Arrest_Flag']=terry_sort['Arrest_Flag'].replace(to_replace = 'Y', value = 1).replace(to_replace = 'N', value = 0)\n",
    "y = terry_sort['Arrest_Flag']"
   ]
  },
  {
   "cell_type": "code",
   "execution_count": 102,
   "metadata": {},
   "outputs": [
    {
     "data": {
      "text/plain": [
       "Index(['Subject_Age_Group', 'Stop_Resolution', 'Weapon_Type', 'Officer_Gender',\n",
       "       'Officer_Race', 'Subject_Perceived_Race', 'Subject_Perceived_Gender',\n",
       "       'Call_Type', 'Arrest_Flag', 'Frisk_Flag', 'Precinct', 'Sector',\n",
       "       'Subject_Known', 'Officer_Bin', 'Officer_DOB', 'Date', 'Month', 'Year',\n",
       "       'Day', 'Squad_Bin'],\n",
       "      dtype='object')"
      ]
     },
     "execution_count": 102,
     "metadata": {},
     "output_type": "execute_result"
    }
   ],
   "source": [
    "terry_sort.columns"
   ]
  },
  {
   "cell_type": "code",
   "execution_count": 103,
   "metadata": {},
   "outputs": [
    {
     "ename": "LinAlgError",
     "evalue": "SVD did not converge",
     "output_type": "error",
     "traceback": [
      "\u001b[1;31m---------------------------------------------------------------------------\u001b[0m",
      "\u001b[1;31mLinAlgError\u001b[0m                               Traceback (most recent call last)",
      "\u001b[1;32m<ipython-input-103-fd99366ae62b>\u001b[0m in \u001b[0;36m<module>\u001b[1;34m\u001b[0m\n\u001b[0;32m      3\u001b[0m \u001b[1;33m\u001b[0m\u001b[0m\n\u001b[0;32m      4\u001b[0m \u001b[0mformula\u001b[0m \u001b[1;33m=\u001b[0m \u001b[1;34m'Arrest_Flag ~ C(Subject_Age_Group) + C(Sector) + C(Weapon_Type) + C(Subject_Perceived_Race) + C(Subject_Perceived_Gender) + C(Call_Type) + C(Frisk_Flag) + C(Subject_Known) + C(Officer_DOB) + Date + C(Month) + C(Day) + C(Year) + C(Officer_Race) + C(Officer_Gender) + C(Stop_Resolution) + C(Squad_Bin) + C(Officer_Bin) + C(Precinct)'\u001b[0m\u001b[1;33m\u001b[0m\u001b[1;33m\u001b[0m\u001b[0m\n\u001b[1;32m----> 5\u001b[1;33m \u001b[0mlm\u001b[0m \u001b[1;33m=\u001b[0m \u001b[0mols\u001b[0m\u001b[1;33m(\u001b[0m\u001b[0mformula\u001b[0m\u001b[1;33m,\u001b[0m \u001b[0mterry_sort\u001b[0m\u001b[1;33m)\u001b[0m\u001b[1;33m.\u001b[0m\u001b[0mfit\u001b[0m\u001b[1;33m(\u001b[0m\u001b[1;33m)\u001b[0m\u001b[1;33m\u001b[0m\u001b[1;33m\u001b[0m\u001b[0m\n\u001b[0m\u001b[0;32m      6\u001b[0m \u001b[0mtable\u001b[0m \u001b[1;33m=\u001b[0m \u001b[0msm\u001b[0m\u001b[1;33m.\u001b[0m\u001b[0mstats\u001b[0m\u001b[1;33m.\u001b[0m\u001b[0manova_lm\u001b[0m\u001b[1;33m(\u001b[0m\u001b[0mlm\u001b[0m\u001b[1;33m,\u001b[0m \u001b[0mtyp\u001b[0m\u001b[1;33m=\u001b[0m\u001b[1;36m2\u001b[0m\u001b[1;33m)\u001b[0m\u001b[1;33m\u001b[0m\u001b[1;33m\u001b[0m\u001b[0m\n\u001b[0;32m      7\u001b[0m \u001b[0mprint\u001b[0m\u001b[1;33m(\u001b[0m\u001b[0mtable\u001b[0m\u001b[1;33m)\u001b[0m\u001b[1;33m\u001b[0m\u001b[1;33m\u001b[0m\u001b[0m\n",
      "\u001b[1;32m~\\anaconda3\\envs\\learn-env\\lib\\site-packages\\statsmodels\\regression\\linear_model.py\u001b[0m in \u001b[0;36mfit\u001b[1;34m(self, method, cov_type, cov_kwds, use_t, **kwargs)\u001b[0m\n\u001b[0;32m    303\u001b[0m                     hasattr(self, 'rank')):\n\u001b[0;32m    304\u001b[0m \u001b[1;33m\u001b[0m\u001b[0m\n\u001b[1;32m--> 305\u001b[1;33m                 \u001b[0mself\u001b[0m\u001b[1;33m.\u001b[0m\u001b[0mpinv_wexog\u001b[0m\u001b[1;33m,\u001b[0m \u001b[0msingular_values\u001b[0m \u001b[1;33m=\u001b[0m \u001b[0mpinv_extended\u001b[0m\u001b[1;33m(\u001b[0m\u001b[0mself\u001b[0m\u001b[1;33m.\u001b[0m\u001b[0mwexog\u001b[0m\u001b[1;33m)\u001b[0m\u001b[1;33m\u001b[0m\u001b[1;33m\u001b[0m\u001b[0m\n\u001b[0m\u001b[0;32m    306\u001b[0m                 self.normalized_cov_params = np.dot(\n\u001b[0;32m    307\u001b[0m                     self.pinv_wexog, np.transpose(self.pinv_wexog))\n",
      "\u001b[1;32m~\\anaconda3\\envs\\learn-env\\lib\\site-packages\\statsmodels\\tools\\tools.py\u001b[0m in \u001b[0;36mpinv_extended\u001b[1;34m(x, rcond)\u001b[0m\n\u001b[0;32m    405\u001b[0m     \u001b[0mx\u001b[0m \u001b[1;33m=\u001b[0m \u001b[0mnp\u001b[0m\u001b[1;33m.\u001b[0m\u001b[0masarray\u001b[0m\u001b[1;33m(\u001b[0m\u001b[0mx\u001b[0m\u001b[1;33m)\u001b[0m\u001b[1;33m\u001b[0m\u001b[1;33m\u001b[0m\u001b[0m\n\u001b[0;32m    406\u001b[0m     \u001b[0mx\u001b[0m \u001b[1;33m=\u001b[0m \u001b[0mx\u001b[0m\u001b[1;33m.\u001b[0m\u001b[0mconjugate\u001b[0m\u001b[1;33m(\u001b[0m\u001b[1;33m)\u001b[0m\u001b[1;33m\u001b[0m\u001b[1;33m\u001b[0m\u001b[0m\n\u001b[1;32m--> 407\u001b[1;33m     \u001b[0mu\u001b[0m\u001b[1;33m,\u001b[0m \u001b[0ms\u001b[0m\u001b[1;33m,\u001b[0m \u001b[0mvt\u001b[0m \u001b[1;33m=\u001b[0m \u001b[0mnp\u001b[0m\u001b[1;33m.\u001b[0m\u001b[0mlinalg\u001b[0m\u001b[1;33m.\u001b[0m\u001b[0msvd\u001b[0m\u001b[1;33m(\u001b[0m\u001b[0mx\u001b[0m\u001b[1;33m,\u001b[0m \u001b[1;32mFalse\u001b[0m\u001b[1;33m)\u001b[0m\u001b[1;33m\u001b[0m\u001b[1;33m\u001b[0m\u001b[0m\n\u001b[0m\u001b[0;32m    408\u001b[0m     \u001b[0ms_orig\u001b[0m \u001b[1;33m=\u001b[0m \u001b[0mnp\u001b[0m\u001b[1;33m.\u001b[0m\u001b[0mcopy\u001b[0m\u001b[1;33m(\u001b[0m\u001b[0ms\u001b[0m\u001b[1;33m)\u001b[0m\u001b[1;33m\u001b[0m\u001b[1;33m\u001b[0m\u001b[0m\n\u001b[0;32m    409\u001b[0m     \u001b[0mm\u001b[0m \u001b[1;33m=\u001b[0m \u001b[0mu\u001b[0m\u001b[1;33m.\u001b[0m\u001b[0mshape\u001b[0m\u001b[1;33m[\u001b[0m\u001b[1;36m0\u001b[0m\u001b[1;33m]\u001b[0m\u001b[1;33m\u001b[0m\u001b[1;33m\u001b[0m\u001b[0m\n",
      "\u001b[1;32m<__array_function__ internals>\u001b[0m in \u001b[0;36msvd\u001b[1;34m(*args, **kwargs)\u001b[0m\n",
      "\u001b[1;32m~\\anaconda3\\envs\\learn-env\\lib\\site-packages\\numpy\\linalg\\linalg.py\u001b[0m in \u001b[0;36msvd\u001b[1;34m(a, full_matrices, compute_uv, hermitian)\u001b[0m\n\u001b[0;32m   1624\u001b[0m \u001b[1;33m\u001b[0m\u001b[0m\n\u001b[0;32m   1625\u001b[0m         \u001b[0msignature\u001b[0m \u001b[1;33m=\u001b[0m \u001b[1;34m'D->DdD'\u001b[0m \u001b[1;32mif\u001b[0m \u001b[0misComplexType\u001b[0m\u001b[1;33m(\u001b[0m\u001b[0mt\u001b[0m\u001b[1;33m)\u001b[0m \u001b[1;32melse\u001b[0m \u001b[1;34m'd->ddd'\u001b[0m\u001b[1;33m\u001b[0m\u001b[1;33m\u001b[0m\u001b[0m\n\u001b[1;32m-> 1626\u001b[1;33m         \u001b[0mu\u001b[0m\u001b[1;33m,\u001b[0m \u001b[0ms\u001b[0m\u001b[1;33m,\u001b[0m \u001b[0mvh\u001b[0m \u001b[1;33m=\u001b[0m \u001b[0mgufunc\u001b[0m\u001b[1;33m(\u001b[0m\u001b[0ma\u001b[0m\u001b[1;33m,\u001b[0m \u001b[0msignature\u001b[0m\u001b[1;33m=\u001b[0m\u001b[0msignature\u001b[0m\u001b[1;33m,\u001b[0m \u001b[0mextobj\u001b[0m\u001b[1;33m=\u001b[0m\u001b[0mextobj\u001b[0m\u001b[1;33m)\u001b[0m\u001b[1;33m\u001b[0m\u001b[1;33m\u001b[0m\u001b[0m\n\u001b[0m\u001b[0;32m   1627\u001b[0m         \u001b[0mu\u001b[0m \u001b[1;33m=\u001b[0m \u001b[0mu\u001b[0m\u001b[1;33m.\u001b[0m\u001b[0mastype\u001b[0m\u001b[1;33m(\u001b[0m\u001b[0mresult_t\u001b[0m\u001b[1;33m,\u001b[0m \u001b[0mcopy\u001b[0m\u001b[1;33m=\u001b[0m\u001b[1;32mFalse\u001b[0m\u001b[1;33m)\u001b[0m\u001b[1;33m\u001b[0m\u001b[1;33m\u001b[0m\u001b[0m\n\u001b[0;32m   1628\u001b[0m         \u001b[0ms\u001b[0m \u001b[1;33m=\u001b[0m \u001b[0ms\u001b[0m\u001b[1;33m.\u001b[0m\u001b[0mastype\u001b[0m\u001b[1;33m(\u001b[0m\u001b[0m_realType\u001b[0m\u001b[1;33m(\u001b[0m\u001b[0mresult_t\u001b[0m\u001b[1;33m)\u001b[0m\u001b[1;33m,\u001b[0m \u001b[0mcopy\u001b[0m\u001b[1;33m=\u001b[0m\u001b[1;32mFalse\u001b[0m\u001b[1;33m)\u001b[0m\u001b[1;33m\u001b[0m\u001b[1;33m\u001b[0m\u001b[0m\n",
      "\u001b[1;32m~\\anaconda3\\envs\\learn-env\\lib\\site-packages\\numpy\\linalg\\linalg.py\u001b[0m in \u001b[0;36m_raise_linalgerror_svd_nonconvergence\u001b[1;34m(err, flag)\u001b[0m\n\u001b[0;32m    104\u001b[0m \u001b[1;33m\u001b[0m\u001b[0m\n\u001b[0;32m    105\u001b[0m \u001b[1;32mdef\u001b[0m \u001b[0m_raise_linalgerror_svd_nonconvergence\u001b[0m\u001b[1;33m(\u001b[0m\u001b[0merr\u001b[0m\u001b[1;33m,\u001b[0m \u001b[0mflag\u001b[0m\u001b[1;33m)\u001b[0m\u001b[1;33m:\u001b[0m\u001b[1;33m\u001b[0m\u001b[1;33m\u001b[0m\u001b[0m\n\u001b[1;32m--> 106\u001b[1;33m     \u001b[1;32mraise\u001b[0m \u001b[0mLinAlgError\u001b[0m\u001b[1;33m(\u001b[0m\u001b[1;34m\"SVD did not converge\"\u001b[0m\u001b[1;33m)\u001b[0m\u001b[1;33m\u001b[0m\u001b[1;33m\u001b[0m\u001b[0m\n\u001b[0m\u001b[0;32m    107\u001b[0m \u001b[1;33m\u001b[0m\u001b[0m\n\u001b[0;32m    108\u001b[0m \u001b[1;32mdef\u001b[0m \u001b[0m_raise_linalgerror_lstsq\u001b[0m\u001b[1;33m(\u001b[0m\u001b[0merr\u001b[0m\u001b[1;33m,\u001b[0m \u001b[0mflag\u001b[0m\u001b[1;33m)\u001b[0m\u001b[1;33m:\u001b[0m\u001b[1;33m\u001b[0m\u001b[1;33m\u001b[0m\u001b[0m\n",
      "\u001b[1;31mLinAlgError\u001b[0m: SVD did not converge"
     ]
    }
   ],
   "source": [
    "import statsmodels.api as sm\n",
    "from statsmodels.formula.api import ols\n",
    "\n",
    "formula = 'Arrest_Flag ~ C(Subject_Age_Group) + C(Sector) + C(Weapon_Type) + C(Subject_Perceived_Race) + C(Subject_Perceived_Gender) + C(Call_Type) + C(Frisk_Flag) + C(Subject_Known) + C(Officer_DOB) + Date + C(Month) + C(Day) + C(Year) + C(Officer_Race) + C(Officer_Gender) + C(Stop_Resolution) + C(Squad_Bin) + C(Officer_Bin) + C(Precinct)'\n",
    "lm = ols(formula, terry_sort).fit()\n",
    "table = sm.stats.anova_lm(lm, typ=2)\n",
    "print(table)"
   ]
  },
  {
   "cell_type": "code",
   "execution_count": null,
   "metadata": {
    "scrolled": true
   },
   "outputs": [],
   "source": [
    "# Making a smaller subset of data in case my df is too big and unweildy\n",
    "current_years = terry_sort[(terry_sort['Year']=='2020') | (terry_sort['Year']=='2019')]\n",
    "current_years.shape\n",
    "early_years = terry_sort[(terry_sort['Year']=='2015') | (terry_sort['Year']=='2016')]\n",
    "early_years.shape"
   ]
  },
  {
   "cell_type": "markdown",
   "metadata": {
    "heading_collapsed": true
   },
   "source": [
    "## Train, test, split\n",
    "**Output** - X_train, X_test, y_train, y_test, train_df, test_df"
   ]
  },
  {
   "cell_type": "code",
   "execution_count": null,
   "metadata": {
    "hidden": true
   },
   "outputs": [],
   "source": [
    "X = terry_sort.drop(columns='Arrest_Flag')\n",
    "y = terry_sort['Arrest_Flag']\n",
    "X_train, X_test, y_train, y_test = train_test_split(X, y, random_state=17)\n",
    "train_df = pd.concat([X_train, y_train], axis=1) \n",
    "test_df = pd.concat([X_test, y_test], axis=1)\n",
    "\n",
    "print('X_train: ', X_train.shape, '\\nX_test: ', X_test.shape)"
   ]
  },
  {
   "cell_type": "markdown",
   "metadata": {
    "heading_collapsed": true
   },
   "source": [
    "## Perform SMOTE for class imbalance\n",
    "**Output** - X_train_resampled, y_train_resampled  (still X_test and y_test)"
   ]
  },
  {
   "cell_type": "code",
   "execution_count": null,
   "metadata": {
    "hidden": true
   },
   "outputs": [],
   "source": [
    "X_train.columns # Column 14 is our one numerical column, the rest are categorical"
   ]
  },
  {
   "cell_type": "code",
   "execution_count": null,
   "metadata": {
    "hidden": true
   },
   "outputs": [],
   "source": [
    "#  One of the labs did SMOTE before the train test split.  I think maybe it is better to do after the split so I am\n",
    "#   not making any changes to my test data.  However, I have learned to do it before to OHE or my dummy variables may\n",
    "# get incorrect values.\n",
    "from imblearn.over_sampling import SMOTENC\n",
    "# Previous original class distribution\n",
    "print('Original class distribution: \\n')\n",
    "print(y.value_counts())\n",
    "\n",
    "smote = SMOTENC(random_state=10, categorical_features=[0,1,2,3,4,5,6,7,8,9,10,11,12,14,15,16,17])\n",
    "X_train_resampled, y_train_resampled = smote.fit_resample(X_train, y_train) \n",
    "# Preview synthetic sample class distribution\n",
    "print('-----------------------------------------')\n",
    "print('Synthetic sample class distribution: \\n')\n",
    "print(pd.Series(y_train_resampled).value_counts()) "
   ]
  },
  {
   "cell_type": "code",
   "execution_count": null,
   "metadata": {
    "hidden": true,
    "scrolled": true
   },
   "outputs": [],
   "source": [
    "X_train_resampled.Year.value_counts()"
   ]
  },
  {
   "cell_type": "code",
   "execution_count": null,
   "metadata": {
    "hidden": true,
    "scrolled": true
   },
   "outputs": [],
   "source": [
    "X_train_resampled.Weapon_Type.value_counts()"
   ]
  },
  {
   "cell_type": "code",
   "execution_count": null,
   "metadata": {
    "hidden": true,
    "scrolled": true
   },
   "outputs": [],
   "source": [
    "X_train_resampled.Date.value_counts()"
   ]
  },
  {
   "cell_type": "code",
   "execution_count": null,
   "metadata": {
    "hidden": true,
    "scrolled": true
   },
   "outputs": [],
   "source": [
    "X_test.Date.isna().value_counts()"
   ]
  },
  {
   "cell_type": "code",
   "execution_count": null,
   "metadata": {
    "hidden": true
   },
   "outputs": [],
   "source": [
    "X_test"
   ]
  },
  {
   "cell_type": "markdown",
   "metadata": {
    "heading_collapsed": true
   },
   "source": [
    "## Get dummy variables for categoricals (OHE)\n",
    "**Output** - X_train_encoded, X_test_encoded dataframes (still y_train_resampled and y_test)"
   ]
  },
  {
   "cell_type": "code",
   "execution_count": null,
   "metadata": {
    "hidden": true,
    "scrolled": false
   },
   "outputs": [],
   "source": [
    "enc = OneHotEncoder(sparse=False)\n",
    "X_cat = X.drop(columns='Date')\n",
    "enc.fit(X_cat)  # Need to fit on train and test together because there are some Officer_ID values in the test set that aren't in train\n",
    "X_train_code = enc.transform(X_train_resampled.drop(columns='Date'))\n",
    "X_test_code = enc.transform(X_test.drop(columns='Date'))"
   ]
  },
  {
   "cell_type": "code",
   "execution_count": null,
   "metadata": {
    "hidden": true,
    "scrolled": false
   },
   "outputs": [],
   "source": [
    "# The transforms are not dataframe yet and we have to add back in the continuous column of Date\n",
    "X_train_encoded = pd.DataFrame(X_train_code, columns=enc.get_feature_names(X_cat.columns), index=X_train_resampled.index)\n",
    "X_train_encoded['Date'] = X_train_resampled.Date\n",
    "X_test_encoded = pd.DataFrame(X_test_code, columns=enc.get_feature_names(X_cat.columns), index=X_test.index)\n",
    "X_test_encoded['Date'] = X_test.Date\n",
    "X_test_encoded.head()"
   ]
  },
  {
   "cell_type": "code",
   "execution_count": null,
   "metadata": {
    "hidden": true
   },
   "outputs": [],
   "source": [
    "# Checking that the df looks right\n",
    "X_train_resampled.iloc[0]"
   ]
  },
  {
   "cell_type": "code",
   "execution_count": null,
   "metadata": {
    "hidden": true,
    "scrolled": false
   },
   "outputs": [],
   "source": [
    "y_train_resampled.value_counts()"
   ]
  },
  {
   "cell_type": "code",
   "execution_count": null,
   "metadata": {
    "hidden": true,
    "scrolled": true
   },
   "outputs": [],
   "source": [
    "X_train_encoded.shape"
   ]
  },
  {
   "cell_type": "code",
   "execution_count": null,
   "metadata": {
    "hidden": true,
    "scrolled": false
   },
   "outputs": [],
   "source": [
    "X_train_encoded.columns[0:100]"
   ]
  },
  {
   "cell_type": "code",
   "execution_count": null,
   "metadata": {
    "hidden": true,
    "scrolled": true
   },
   "outputs": [],
   "source": [
    "X_train_encoded.columns # Some column names have spaces and special characters now.  May have to address."
   ]
  },
  {
   "cell_type": "code",
   "execution_count": null,
   "metadata": {
    "hidden": true,
    "scrolled": true
   },
   "outputs": [],
   "source": [
    "X_train_encoded.Year_2019.value_counts() # just 0s and 1s, unlike when I ohe before resampling"
   ]
  },
  {
   "cell_type": "code",
   "execution_count": null,
   "metadata": {
    "hidden": true,
    "scrolled": true
   },
   "outputs": [],
   "source": [
    "# let's fix all of the variable names so they don't have spaces\n",
    "X_train_encoded.columns = X_train_encoded.columns.str.replace(' ', '_')\n",
    "X_train_encoded.columns = X_train_encoded.columns.str.replace('-', '_')\n",
    "X_train_encoded.columns = X_train_encoded.columns.str.replace('/', '_')\n",
    "X_train_encoded.columns"
   ]
  },
  {
   "cell_type": "code",
   "execution_count": null,
   "metadata": {
    "hidden": true
   },
   "outputs": [],
   "source": [
    "# let's fix all of the variable names so they don't have spaces\n",
    "X_test_encoded.columns = X_test_encoded.columns.str.replace(' ', '_')\n",
    "X_test_encoded.columns = X_test_encoded.columns.str.replace('-', '_')\n",
    "X_test_encoded.columns = X_test_encoded.columns.str.replace('/', '_')\n",
    "X_test_encoded.columns"
   ]
  },
  {
   "cell_type": "markdown",
   "metadata": {
    "heading_collapsed": true
   },
   "source": [
    "## Scale Variables\n",
    "\n",
    "Output - scaler, scaled_X_train, scaled_X_test (still y_train_resampled and y_test)"
   ]
  },
  {
   "cell_type": "code",
   "execution_count": null,
   "metadata": {
    "hidden": true
   },
   "outputs": [],
   "source": [
    "X_train_encoded.Date.value_counts()"
   ]
  },
  {
   "cell_type": "code",
   "execution_count": null,
   "metadata": {
    "hidden": true
   },
   "outputs": [],
   "source": [
    "# Instantiate StandardScaler\n",
    "scaler = StandardScaler()\n",
    "\n",
    "# Transform the training and test sets\n",
    "scaled_data_train = scaler.fit_transform(X_train_encoded)\n",
    "scaled_data_test = scaler.transform(X_test_encoded)\n",
    "\n",
    "# Convert into a DataFrame\n",
    "scaled_X_train = pd.DataFrame(scaled_data_train, columns=X_train_encoded.columns)\n",
    "scaled_X_test = pd.DataFrame(scaled_data_test, columns=X_train_encoded.columns)\n",
    "scaled_X_test.head()"
   ]
  },
  {
   "cell_type": "code",
   "execution_count": null,
   "metadata": {
    "hidden": true
   },
   "outputs": [],
   "source": [
    "'''Although it doesn't look as pretty, this has no negative effect on the model. Each 1 and 0 have been\n",
    "replaced with corresponding decimal values, but each binary column still only contains 2 values, meaning\n",
    "the overall information content of each column has not changed.'''\n",
    "scaled_X_train['Subject_Age_Group_56_and_Above'].value_counts()"
   ]
  },
  {
   "cell_type": "code",
   "execution_count": null,
   "metadata": {
    "hidden": true,
    "scrolled": true
   },
   "outputs": [],
   "source": [
    "scaled_X_train.Date.value_counts()"
   ]
  },
  {
   "cell_type": "code",
   "execution_count": null,
   "metadata": {
    "hidden": true
   },
   "outputs": [],
   "source": [
    "scaled_X_test.isna().sum().sum()"
   ]
  },
  {
   "cell_type": "markdown",
   "metadata": {},
   "source": [
    "## Define model metrics\n",
    "\n",
    "**Output** - print_roc(), print_confusion_matrices(), print_metrics()"
   ]
  },
  {
   "cell_type": "markdown",
   "metadata": {},
   "source": [
    "> This seems like a good place to look at what a false positive and false negative would be.  I have coded an arrest as the positive case.  So a false positive is predicting an arrest when no arrest was made.  A false negative would be predicting NO arrest when an arrest was made.  This model won't be used to predict future cases of Terry Stops, it is just to analyze past decisions.  Therefore, I think the most important metric will be accuracy.  How accurately did my model predict the actual data that I was given?  This will give us the most useful information about how the decisions appear to have been influenced by the variables examined."
   ]
  },
  {
   "cell_type": "code",
   "execution_count": null,
   "metadata": {},
   "outputs": [],
   "source": [
    "def print_roc(false_positive_rate, true_positive_rate):    \n",
    "    roc_auc = auc(false_positive_rate, true_positive_rate)\n",
    "    print('AUC: {}'.format(auc(false_positive_rate, true_positive_rate)))\n",
    "    print('----------------------------------------------')\n",
    "    plt.plot(false_positive_rate, true_positive_rate, color='blue', lw=2, label='ROC curve')\n",
    "    plt.plot([0, 1], [0, 1], color='navy', lw=2, linestyle='--')\n",
    "    plt.xlim([0.0, 1.0])\n",
    "    plt.ylim([0.0, 1.05])\n",
    "    plt.yticks([i/10.0 for i in range(11)])\n",
    "    plt.xticks([i/10.0 for i in range(11)])\n",
    "    plt.xlabel('False Positive Rate')\n",
    "    plt.ylabel('True Positive Rate')\n",
    "    plt.title('Receiver operating characteristic (ROC) Curve')\n",
    "    plt.legend(loc='lower right')\n",
    "    plt.show()"
   ]
  },
  {
   "cell_type": "code",
   "execution_count": null,
   "metadata": {},
   "outputs": [],
   "source": [
    "def print_confusion_matrices(model, X_train, X_test, y_train, y_test, y_train_preds, y_test_preds):\n",
    "    print('\\nTRAIN Confusion Matrix')\n",
    "    print('----------------')\n",
    "    plot_confusion_matrix(model, X_train, y_train, values_format='.8g')\n",
    "    print(\"Number of mislabeled training points out of a total {} points : {}, percentage = {:.4%}\"\n",
    "          .format(X_train.shape[0], (y_train != y_train_preds).sum(), (y_train != y_train_preds).sum()/X_train.shape[0]))\n",
    "    plt.show()\n",
    "    print('\\nTEST Confusion Matrix')\n",
    "    print('----------------')\n",
    "    plot_confusion_matrix(model, X_test, y_test, values_format='.4g')\n",
    "    print(\"Number of mislabeled test points out of a total {} points : {}, percentage = {:.4%}\"\n",
    "          .format(X_test.shape[0], (y_test != y_test_preds).sum(), (y_test != y_test_preds).sum()/X_test.shape[0]))\n",
    "    plt.show()"
   ]
  },
  {
   "cell_type": "code",
   "execution_count": null,
   "metadata": {},
   "outputs": [],
   "source": [
    "def print_metrics(model, X_train, X_test, y_train, y_test, y_train_preds, y_test_preds):\n",
    "    \n",
    "    # Print scores\n",
    "    print(\"Precision Score: Train {0:.5f}, Test {1:.5f}\"\n",
    "          .format(precision_score(y_train, y_train_preds), precision_score(y_test, y_test_preds)))\n",
    "    print(\"Recall Score:\\t Train {0:.5f}, Test {1:.5f}\"\n",
    "          .format(recall_score(y_train, y_train_preds), recall_score(y_test, y_test_preds)))\n",
    "    print(\"Accuracy Score:\\t Train {0:.5f}, Test {1:.5f}\"\n",
    "          .format(accuracy_score(y_train, y_train_preds), accuracy_score(y_test, y_test_preds)))\n",
    "    print(\"F1 Score:\\t Train {0:.5f}, Test {1:.5f}\"\n",
    "          .format(f1_score(y_train, y_train_preds), f1_score(y_test, y_test_preds)))\n",
    "    print('----------------')\n",
    "    \n",
    "    # Create and print train & test confusion matrices \n",
    "    print_confusion_matrices(model, X_train, X_test, y_train, y_test, y_train_preds, y_test_preds)\n",
    "    print('----------------')  \n",
    "    \n",
    "    # print classification report\n",
    "    print(classification_report(y_test, y_test_preds))\n",
    "    \n",
    "    # Check the AUC for predictions\n",
    "    if str(model)[:3] == 'Log':\n",
    "        y_score = model.fit(X_train, y_train).decision_function(X_test)\n",
    "        false_positive_rate, true_positive_rate, thresholds = roc_curve(y_test, y_score)\n",
    "        print_roc(false_positive_rate, true_positive_rate)\n",
    "        print('----------------')\n",
    "    \n",
    "    if str(model)[:3] == 'Dec':\n",
    "        false_positive_rate, true_positive_rate, thresholds = roc_curve(y_test, y_test_preds)\n",
    "        roc_auc = auc(false_positive_rate, true_positive_rate)\n",
    "        print('\\nAUC is :{0}'.format(round(roc_auc, 2)))\n",
    "        fig, axes = plt.subplots(nrows = 1,ncols = 1, figsize = (12,12), dpi=500)\n",
    "        tree.plot_tree(model, feature_names = X_train.columns, \n",
    "               class_names=np.unique(y).astype('str'),\n",
    "               filled = True)\n",
    "        plt.show()\n",
    "    "
   ]
  },
  {
   "cell_type": "code",
   "execution_count": null,
   "metadata": {},
   "outputs": [],
   "source": [
    "def run_model(model, X_train, X_test, y_train, y_test):\n",
    "    \n",
    "#     model_metrics['model']=[]\n",
    "    \n",
    "    tic = time.time()\n",
    "    model.fit(X_train, y_train)\n",
    "    \n",
    "    # Calculate train and test predictions\n",
    "    y_test_preds = model.predict(X_test)\n",
    "    y_train_preds = model.predict(X_train)\n",
    "    \n",
    "    toc = time.time()\n",
    "    run_time = toc-tic\n",
    "    print('Run time: ', run_time)\n",
    "    print_metrics(model, X_train, X_test, y_train, y_test, y_train_preds, y_test_preds)"
   ]
  },
  {
   "cell_type": "code",
   "execution_count": null,
   "metadata": {},
   "outputs": [],
   "source": [
    "def plot_feature_importances(model, X_train):\n",
    "    n_features = X_train.shape[1]\n",
    "    plt.figure(figsize=(8,8))\n",
    "    plt.barh(range(n_features), model.feature_importances_, align='center') \n",
    "    plt.yticks(np.arange(n_features), X_train.columns.values) \n",
    "    plt.xlabel('Feature importance')\n",
    "    plt.ylabel('Feature')"
   ]
  },
  {
   "cell_type": "markdown",
   "metadata": {
    "heading_collapsed": true
   },
   "source": [
    "## Logistic Regression\n",
    "\n",
    "**Output** - logreg1, logreg2"
   ]
  },
  {
   "cell_type": "markdown",
   "metadata": {
    "hidden": true
   },
   "source": [
    "### Initial Logistic Regression model\n",
    "<pre>\n",
    "Precision Score: Train 0.98840, Test 0.95781  \n",
    "Recall Score:    Train 0.98978, Test 0.94715  \n",
    "Accuracy Score:  Train 0.98908, Test 0.98077  \n",
    "F1 Score:        Train 0.98909, Test 0.95245\n",
    "</pre>"
   ]
  },
  {
   "cell_type": "code",
   "execution_count": null,
   "metadata": {
    "hidden": true
   },
   "outputs": [],
   "source": [
    "logreg1 = LogisticRegression(fit_intercept=False, C=1e20, solver='lbfgs')\n",
    "\n",
    "run_model(logreg1, scaled_X_train, scaled_X_test, y_train_resampled, y_test)\n",
    "\n",
    "print(cross_val_score(logreg1,scaled_X_train,y_train_resampled))"
   ]
  },
  {
   "cell_type": "markdown",
   "metadata": {
    "heading_collapsed": true,
    "hidden": true
   },
   "source": [
    "### Logistic Regression with solver saga (faster for large datasets)\n",
    "<pre>\n",
    "Precision Score: Train 0.92243, Test 0.92820  \n",
    "Recall Score:    Train 0.98651, Test 0.98887  \n",
    "Accuracy Score:  Train 0.98181, Test 0.98219  \n",
    "F1 Score:        Train 0.95339, Test 0.95758\n",
    "</pre>"
   ]
  },
  {
   "cell_type": "code",
   "execution_count": null,
   "metadata": {
    "hidden": true
   },
   "outputs": [],
   "source": [
    "logreg2 = LogisticRegression(fit_intercept=False, C=1e20, penalty='elasticnet', solver='saga', l1_ratio=.50)\n",
    "\n",
    "run_model(logreg2, scaled_X_train, scaled_X_test, y_train_resampled, y_test)"
   ]
  },
  {
   "cell_type": "markdown",
   "metadata": {
    "heading_collapsed": true
   },
   "source": [
    "## KNN models\n",
    "**Output** - knn1 - knn3, find_best_k()\n",
    "\n",
    "Ran on ohe and scaled data"
   ]
  },
  {
   "cell_type": "markdown",
   "metadata": {
    "heading_collapsed": true,
    "hidden": true
   },
   "source": [
    "### Initial KNN (default of 5)\n",
    "<pre>\n",
    "Precision Score: Train 0.66926, Test 0.30212  \n",
    "Recall Score:    Train 0.99919, Test 0.99166  \n",
    "Accuracy Score:  Train 0.75270, Test 0.53265  \n",
    "F1 Score:        Train 0.80160, Test 0.46314\n",
    "</pre>"
   ]
  },
  {
   "cell_type": "code",
   "execution_count": null,
   "metadata": {
    "hidden": true
   },
   "outputs": [],
   "source": [
    "knn1 = KNeighborsClassifier()\n",
    "\n",
    "run_model(knn1, scaled_X_train, scaled_X_test, y_train_resampled, y_test)"
   ]
  },
  {
   "cell_type": "code",
   "execution_count": null,
   "metadata": {
    "hidden": true
   },
   "outputs": [],
   "source": [
    "def find_best_k(X_train, X_test, y_train, y_test, min_k=1, max_k=25):\n",
    "    best_k = 0\n",
    "    best_score = 0.0\n",
    "    tic = time.time()\n",
    "    for k in range(min_k, max_k+1, 2):\n",
    "        knn = KNeighborsClassifier(n_neighbors=k)\n",
    "        knn.fit(X_train, y_train)\n",
    "        preds = knn.predict(X_test)\n",
    "        f1 = f1_score(y_test, preds)\n",
    "        if f1 > best_score:\n",
    "            best_k = k\n",
    "            best_score = f1\n",
    "    toc = time.time()\n",
    "    run_time = toc-tic\n",
    "    print('Run time: ', run_time)\n",
    "    print(\"Best Value for k: {}\".format(best_k))\n",
    "    print(\"F1-Score: {}\".format(best_score))"
   ]
  },
  {
   "cell_type": "code",
   "execution_count": null,
   "metadata": {
    "hidden": true,
    "scrolled": true
   },
   "outputs": [],
   "source": [
    "find_best_k(scaled_X_train, scaled_X_test, y_train_resampled, y_test)"
   ]
  },
  {
   "cell_type": "markdown",
   "metadata": {
    "heading_collapsed": true,
    "hidden": true
   },
   "source": [
    "### KNN with calculated best k of 25\n",
    "<pre>\n",
    "Precision Score: Train 0.69146, Test 0.65816\n",
    "Recall Score:    Train 0.37635, Test 0.36027\n",
    "Accuracy Score:  Train 0.82444, Test 0.81853\n",
    "F1 Score:        Train 0.48741, Test 0.46565\n",
    "</pre>"
   ]
  },
  {
   "cell_type": "code",
   "execution_count": null,
   "metadata": {
    "hidden": true
   },
   "outputs": [],
   "source": [
    "knn2 = KNeighborsClassifier(n_neighbors=25, weights='uniform', algorithm='auto', \n",
    "                           leaf_size=30, p=2, metric='minkowski', metric_params=None, n_jobs=None)\n",
    "knn2.fit(scaled_X_train, y_train)\n",
    "\n",
    "print_metrics(knn2, scaled_X_train, scaled_X_test, y_train, y_test)"
   ]
  },
  {
   "cell_type": "markdown",
   "metadata": {
    "heading_collapsed": true,
    "hidden": true
   },
   "source": [
    "### KNN with calculated best k of 25, weights = 'distance'\n",
    "<pre>\n",
    "Precision Score: Train 0.99980, Test 0.64590\n",
    "Recall Score:    Train 0.99880, Test 0.35905\n",
    "Accuracy Score:  Train 0.99969, Test 0.81613\n",
    "F1 Score:        Train 0.99930, Test 0.46154\n",
    "</pre>"
   ]
  },
  {
   "cell_type": "code",
   "execution_count": null,
   "metadata": {
    "hidden": true
   },
   "outputs": [],
   "source": [
    "knn3 = KNeighborsClassifier(n_neighbors=25, weights='distance', algorithm='auto', \n",
    "                           leaf_size=30, p=2, metric='minkowski', metric_params=None, n_jobs=None)\n",
    "knn3.fit(scaled_X_train, y_train)\n",
    "\n",
    "print_metrics(knn3, scaled_X_train, scaled_X_test, y_train, y_test)"
   ]
  },
  {
   "cell_type": "markdown",
   "metadata": {
    "heading_collapsed": true
   },
   "source": [
    "## Bayes Classification\n",
    "\n",
    "**Output** - gnb1-4\n",
    "\n",
    "Ran on ohe data **but not scaled** data, scaling won't affect probabilities"
   ]
  },
  {
   "cell_type": "markdown",
   "metadata": {
    "hidden": true
   },
   "source": [
    "### Initial Gaussian Naive Bayes  \n",
    "<pre>\n",
    "Precision Score: Train 1.00000, Test 1.00000  \n",
    "Recall Score:    Train 0.97501, Test 0.85675  \n",
    "Accuracy Score:  Train 0.99529, Test 0.97088  \n",
    "F1 Score:        Train 0.98735, Test 0.92285\n",
    "</pre>"
   ]
  },
  {
   "cell_type": "code",
   "execution_count": null,
   "metadata": {
    "hidden": true
   },
   "outputs": [],
   "source": [
    "gnb1 = GaussianNB()\n",
    "\n",
    "run_model(gnb1, X_train_encoded, X_test_encoded, y_train_resampled, y_test)"
   ]
  },
  {
   "cell_type": "markdown",
   "metadata": {
    "heading_collapsed": true,
    "hidden": true
   },
   "source": [
    "### Gaussian Naive Bayes on class balanced data (SMOTE)  \n",
    "<pre>\n",
    "Precision Score: Train 1.00000, Test 1.00000  \n",
    "Recall Score:    Train 0.93762, Test 0.59388  \n",
    "Accuracy Score:  Train 0.96881, Test 0.91744  \n",
    "F1 Score:        Train 0.96781, Test 0.74520\n",
    "</pre>"
   ]
  },
  {
   "cell_type": "code",
   "execution_count": null,
   "metadata": {
    "hidden": true
   },
   "outputs": [],
   "source": [
    "gnb2 = GaussianNB() # trying out the SMOTE data\n",
    "gnb2.fit(X_train_resampled, y_train_resampled)\n",
    "\n",
    "print_metrics(gnb2, X_train_resampled, X_test, y_train_resampled, y_test)"
   ]
  },
  {
   "cell_type": "markdown",
   "metadata": {
    "heading_collapsed": true,
    "hidden": true
   },
   "source": [
    "### Bernoulli Naive Bayes\n",
    "\n",
    "Can't seem to run ComplementNB, CategoricalNB, or MultinomialNB because of negative values.  Need to understand how to choose which model.\n",
    "<pre>\n",
    "Precision Score: Train 0.48894, Test 0.47371\n",
    "Recall Score:    Train 0.51363, Test 0.50911\n",
    "Accuracy Score:  Train 0.77307, Test 0.76813\n",
    "F1 Score:        Train 0.50098, Test 0.49078\n",
    "</pre>"
   ]
  },
  {
   "cell_type": "code",
   "execution_count": null,
   "metadata": {
    "hidden": true
   },
   "outputs": [],
   "source": [
    "gnb3 = BernoulliNB() \n",
    "gnb3.fit(X_train, y_train)\n",
    "\n",
    "print_metrics(gnb3, X_train, X_test, y_train, y_test)"
   ]
  },
  {
   "cell_type": "markdown",
   "metadata": {
    "heading_collapsed": true,
    "hidden": true
   },
   "source": [
    "### Bernoulli Naive Bayes on SMOTE data\n",
    "<pre>\n",
    "Precision Score: Train 0.85860, Test 0.54216\n",
    "Recall Score:    Train 0.70326, Test 0.47266\n",
    "Accuracy Score:  Train 0.79372, Test 0.79667\n",
    "F1 Score:        Train 0.77320, Test 0.50503\n",
    "</pre>"
   ]
  },
  {
   "cell_type": "code",
   "execution_count": null,
   "metadata": {
    "hidden": true
   },
   "outputs": [],
   "source": [
    "gnb4 = BernoulliNB() \n",
    "gnb4.fit(X_train_resampled, y_train_resampled)\n",
    "\n",
    "print_metrics(gnb4, X_train_resampled, X_test, y_train_resampled, y_test)"
   ]
  },
  {
   "cell_type": "markdown",
   "metadata": {},
   "source": [
    "## Decision Tree\n",
    "**Output** - dt1 - dt7, plot_feature_performances()\n",
    "\n",
    "Ran on ohe data  * **but not scaled** * data"
   ]
  },
  {
   "cell_type": "markdown",
   "metadata": {},
   "source": [
    "### Initial Decision Tree\n",
    "<pre>\n",
    "Precision Score: Train 0.99980, Test 0.39812\n",
    "Recall Score:    Train 0.99880, Test 0.41069\n",
    "Accuracy Score:  Train 0.99969, Test 0.73440\n",
    "F1 Score:        Train 0.99930, Test 0.40431\n",
    "</pre>"
   ]
  },
  {
   "cell_type": "code",
   "execution_count": null,
   "metadata": {},
   "outputs": [],
   "source": [
    "dt1 = DecisionTreeClassifier(criterion='entropy', random_state=10) # try with default GINI impurity next time\n",
    "\n",
    "run_model(dt1, X_train_encoded, X_test_encoded, y_train_resampled, y_test)"
   ]
  },
  {
   "cell_type": "markdown",
   "metadata": {},
   "source": [
    "### Decision Tree with Gini instead of Entropy\n",
    "<pre>\n",
    "Precision Score: Train 0.99980, Test 0.39200\n",
    "Recall Score:    Train 0.99880, Test 0.42892\n",
    "Accuracy Score:  Train 0.99969, Test 0.72867\n",
    "F1 Score:        Train 0.99930, Test 0.40963\n",
    "</pre>"
   ]
  },
  {
   "cell_type": "code",
   "execution_count": null,
   "metadata": {},
   "outputs": [],
   "source": [
    "dt2 = DecisionTreeClassifier(random_state=10) # with GINI default\n",
    "\n",
    "run_model(dt2, X_train_encoded, X_test_encoded, y_train_resampled, y_test)"
   ]
  },
  {
   "cell_type": "markdown",
   "metadata": {},
   "source": [
    "### Decision Tree with Max Depth\n",
    "Optimal Max_depth = 4  \n",
    "<pre>\n",
    "Precision Score: Train 0.67785, Test 0.66152\n",
    "Recall Score:    Train 0.36433, Test 0.36452\n",
    "Accuracy Score:  Train 0.82062, Test 0.81960\n",
    "F1 Score:        Train 0.47393, Test 0.47004\n",
    "</pre>"
   ]
  },
  {
   "cell_type": "code",
   "execution_count": null,
   "metadata": {},
   "outputs": [],
   "source": [
    "# Identify the optimal tree depth for given data\n",
    "max_depths = np.linspace(1, 32, 2, endpoint=True)\n",
    "train_results = []\n",
    "test_results = []\n",
    "for max_depth in max_depths:\n",
    "   dt3 = DecisionTreeClassifier(criterion='entropy', max_depth=max_depth, random_state=10)\n",
    "   dt3.fit(X_train_encoded, y_train_resampled)\n",
    "   dt3_train_preds = dt3.predict(X_train_encoded)\n",
    "   false_positive_rate, true_positive_rate, thresholds = roc_curve(y_train_resampled, dt3_train_preds)\n",
    "   roc_auc = auc(false_positive_rate, true_positive_rate)\n",
    "   # Add auc score to previous train results\n",
    "   train_results.append(roc_auc)\n",
    "   dt3_preds = dt3.predict(X_test_encoded)\n",
    "   false_positive_rate, true_positive_rate, thresholds = roc_curve(y_test, dt3_preds)\n",
    "   roc_auc = auc(false_positive_rate, true_positive_rate)\n",
    "   # Add auc score to previous test results\n",
    "   test_results.append(roc_auc)\n",
    "\n",
    "plt.figure(figsize=(12,6))\n",
    "plt.plot(max_depths, train_results, 'b', label='Train AUC')\n",
    "plt.plot(max_depths, test_results, 'r', label='Test AUC')\n",
    "plt.ylabel('AUC score')\n",
    "plt.xlabel('Tree depth')\n",
    "plt.legend()\n",
    "plt.show()"
   ]
  },
  {
   "cell_type": "code",
   "execution_count": null,
   "metadata": {},
   "outputs": [],
   "source": [
    "# Training error decreases with increasing tree depth - clear sign of overfitting \n",
    "# Test error increases after depth=3 - nothing more to learn from deeper trees (some fluctuations, but not stable)\n",
    "# Optimal value seen here is 4"
   ]
  },
  {
   "cell_type": "code",
   "execution_count": null,
   "metadata": {},
   "outputs": [],
   "source": [
    "# Create the classifier, fit it on the training data and make predictions on the test set\n",
    "dt3 = DecisionTreeClassifier(criterion='entropy', max_depth=4, random_state=10) \n",
    "dt3.fit(X_train, y_train)\n",
    "\n",
    "print_metrics(dt3, X_train, X_test, y_train, y_test)"
   ]
  },
  {
   "cell_type": "markdown",
   "metadata": {
    "heading_collapsed": true
   },
   "source": [
    "### Decision Tree with Min Samples Split\n",
    "Optimal min_samples_split = 0.4  \n",
    "<pre>\n",
    "Precision Score: Train 0.69407, Test 0.68333\n",
    "Recall Score:    Train 0.27916, Test 0.27400\n",
    "Accuracy Score:  Train 0.81284, Test 0.81280\n",
    "F1 Score:        Train 0.39817, Test 0.39115\n",
    "</pre>"
   ]
  },
  {
   "cell_type": "code",
   "execution_count": null,
   "metadata": {
    "hidden": true
   },
   "outputs": [],
   "source": [
    "# Identify the optimal min-samples-split for given data\n",
    "min_samples_splits = np.linspace(0.1, 1.0, 10, endpoint=True)\n",
    "train_results = []\n",
    "test_results = []\n",
    "for min_samples_split in min_samples_splits:\n",
    "   dt4 = DecisionTreeClassifier(criterion='entropy', min_samples_split=min_samples_split, random_state=10)\n",
    "   dt4.fit(X_train, y_train)\n",
    "   dt4_train_preds = dt4.predict(X_train)\n",
    "   false_positive_rate, true_positive_rate, thresholds = roc_curve(y_train, dt4_train_preds)\n",
    "   roc_auc = auc(false_positive_rate, true_positive_rate)\n",
    "   train_results.append(roc_auc)\n",
    "   dt4_preds = dt4.predict(X_test)\n",
    "   false_positive_rate, true_positive_rate, thresholds = roc_curve(y_test, dt4_preds)\n",
    "   roc_auc = auc(false_positive_rate, true_positive_rate)\n",
    "   test_results.append(roc_auc)\n",
    "\n",
    "plt.figure(figsize=(12,6))\n",
    "plt.plot(min_samples_splits, train_results, 'b', label='Train AUC')\n",
    "plt.plot(min_samples_splits, test_results, 'r', label='Test AUC')\n",
    "plt.xlabel('Min. Sample splits')\n",
    "plt.legend()\n",
    "plt.show()"
   ]
  },
  {
   "cell_type": "code",
   "execution_count": null,
   "metadata": {
    "hidden": true
   },
   "outputs": [],
   "source": [
    "# AUC for both test and train data stabilizes at 0.4\n",
    "# Further increase in minimum sample split does not improve learning "
   ]
  },
  {
   "cell_type": "code",
   "execution_count": null,
   "metadata": {
    "hidden": true
   },
   "outputs": [],
   "source": [
    "# Create the classifier, fit it on the training data and make predictions on the test set\n",
    "dt4 = DecisionTreeClassifier(criterion='entropy', min_samples_split=0.4, random_state=10) \n",
    "dt4.fit(X_train, y_train)\n",
    "\n",
    "print_metrics(dt4, X_train, X_test, y_train, y_test)"
   ]
  },
  {
   "cell_type": "markdown",
   "metadata": {
    "heading_collapsed": true
   },
   "source": [
    "### Decision Tree with Min Samples Leaf\n",
    "Optimal min_samples_leaf = 0.10  \n",
    "<pre>\n",
    "Precision Score: Train 0.55267, Test 0.56684\n",
    "Recall Score:    Train 0.32806, Test 0.33232\n",
    "Accuracy Score:  Train 0.79209, Test 0.79773\n",
    "F1 Score:        Train 0.41172, Test 0.41900\n",
    "</pre>"
   ]
  },
  {
   "cell_type": "code",
   "execution_count": null,
   "metadata": {
    "hidden": true
   },
   "outputs": [],
   "source": [
    "# Calculate the optimal value for minimum sample leafs\n",
    "min_samples_leafs = np.linspace(0.1, 0.5, 5, endpoint=True)\n",
    "train_results = []\n",
    "test_results = []\n",
    "for min_samples_leaf in min_samples_leafs:\n",
    "   dt5 = DecisionTreeClassifier(criterion='entropy', min_samples_leaf=min_samples_leaf, random_state=10)\n",
    "   dt5.fit(X_train, y_train)\n",
    "   train_pred = dt5.predict(X_train)\n",
    "   false_positive_rate, true_positive_rate, thresholds = roc_curve(y_train, train_pred)\n",
    "   roc_auc = auc(false_positive_rate, true_positive_rate)\n",
    "   train_results.append(roc_auc)\n",
    "   y_pred = dt5.predict(X_test)\n",
    "   false_positive_rate, true_positive_rate, thresholds = roc_curve(y_test, y_pred)\n",
    "   roc_auc = auc(false_positive_rate, true_positive_rate)\n",
    "   test_results.append(roc_auc)\n",
    "    \n",
    "plt.figure(figsize=(12,6))    \n",
    "plt.plot(min_samples_leafs, train_results, 'b', label='Train AUC')\n",
    "plt.plot(min_samples_leafs, test_results, 'r', label='Test AUC')\n",
    "plt.ylabel('AUC score')\n",
    "plt.xlabel('Min. Sample Leafs')\n",
    "plt.legend()\n",
    "plt.show()"
   ]
  },
  {
   "cell_type": "code",
   "execution_count": null,
   "metadata": {
    "hidden": true
   },
   "outputs": [],
   "source": [
    "# AUC gives best value at 0.1 for both test and training sets \n",
    "# Setting a higher minimum per leaf restricts our model too much\n",
    "# The accuracy drops down if we continue to increase the parameter value "
   ]
  },
  {
   "cell_type": "code",
   "execution_count": null,
   "metadata": {
    "hidden": true
   },
   "outputs": [],
   "source": [
    "# Create the classifier, fit it on the training data and make predictions on the test set\n",
    "dt5 = DecisionTreeClassifier(criterion='entropy', min_samples_leaf=0.10, random_state=10) \n",
    "dt5.fit(X_train, y_train)\n",
    "\n",
    "print_metrics(dt5, X_train, X_test, y_train, y_test)"
   ]
  },
  {
   "cell_type": "markdown",
   "metadata": {
    "heading_collapsed": true
   },
   "source": [
    "### Decision Tree with Max Features\n",
    "Optimal max_features = 46  \n",
    "<pre>\n",
    "Precision Score: Train 0.99980, Test 0.41353\n",
    "Recall Score:    Train 0.99880, Test 0.42710\n",
    "Accuracy Score:  Train 0.99969, Test 0.74133\n",
    "F1 Score:        Train 0.99930, Test 0.42020\n",
    "</pre>"
   ]
  },
  {
   "cell_type": "code",
   "execution_count": null,
   "metadata": {
    "hidden": true
   },
   "outputs": [],
   "source": [
    "max_features = list(range(1, X_train.shape[1]))\n",
    "train_results = []\n",
    "test_results = []\n",
    "for max_feature in max_features:\n",
    "   dt6 = DecisionTreeClassifier(criterion='entropy', max_features=max_feature, random_state=10)\n",
    "   dt6.fit(X_train, y_train)\n",
    "   train_pred = dt6.predict(X_train)\n",
    "   false_positive_rate, true_positive_rate, thresholds = roc_curve(y_train, train_pred)\n",
    "   roc_auc = auc(false_positive_rate, true_positive_rate)\n",
    "   train_results.append(roc_auc)\n",
    "   y_pred = dt6.predict(X_test)\n",
    "   false_positive_rate, true_positive_rate, thresholds = roc_curve(y_test, y_pred)\n",
    "   roc_auc = auc(false_positive_rate, true_positive_rate)\n",
    "   test_results.append(roc_auc)\n",
    "\n",
    "plt.figure(figsize=(12,6))\n",
    "plt.plot(max_features, train_results, 'b', label='Train AUC')\n",
    "plt.plot(max_features, test_results, 'r', label='Test AUC')\n",
    "plt.ylabel('AUC score')\n",
    "plt.xlabel('max features')\n",
    "plt.legend()\n",
    "plt.show()"
   ]
  },
  {
   "cell_type": "code",
   "execution_count": null,
   "metadata": {
    "hidden": true
   },
   "outputs": [],
   "source": [
    "# No clear effect on the training dataset - flat AUC \n",
    "# Some fluctuations in test AUC but not definitive enough to make a judgement\n",
    "# Highest AUC value seen at 45"
   ]
  },
  {
   "cell_type": "code",
   "execution_count": null,
   "metadata": {
    "hidden": true
   },
   "outputs": [],
   "source": [
    "dt6 = DecisionTreeClassifier(criterion='entropy', max_features=46, random_state=10) \n",
    "dt6.fit(X_train, y_train)\n",
    "\n",
    "print_metrics(dt6, X_train, X_test, y_train, y_test)"
   ]
  },
  {
   "cell_type": "markdown",
   "metadata": {},
   "source": [
    "### Decision Tree with All Optimal Parameters\n",
    "Optimal Max_depth = 4  \n",
    "Optimal min_samples_split = 0.4  \n",
    "Optimal min_samples_leaf = 0.10  \n",
    "Optimal max_features = 46  \n",
    "<pre>\n",
    "Precision Score: Train 0.55267, Test 0.56684\n",
    "Recall Score:    Train 0.32806, Test 0.33232\n",
    "Accuracy Score:  Train 0.79209, Test 0.79773\n",
    "F1 Score:        Train 0.41172, Test 0.41900\n",
    "</pre>"
   ]
  },
  {
   "cell_type": "code",
   "execution_count": null,
   "metadata": {},
   "outputs": [],
   "source": [
    "# Create the classifier, fit it on the training data and make predictions on the test set\n",
    "dt7 = DecisionTreeClassifier(criterion='entropy', max_depth=4, min_samples_split=0.4, \n",
    "                              min_samples_leaf=0.10, max_features=46, random_state=10) \n",
    "dt7.fit(X_train, y_train)\n",
    "\n",
    "print_metrics(dt7, X_train, X_test, y_train, y_test)"
   ]
  },
  {
   "cell_type": "code",
   "execution_count": null,
   "metadata": {},
   "outputs": [],
   "source": [
    "# Max Depth appears to have had the best impact on our model"
   ]
  },
  {
   "cell_type": "code",
   "execution_count": null,
   "metadata": {},
   "outputs": [],
   "source": [
    "plot_feature_importances(dt7, X_train)"
   ]
  },
  {
   "cell_type": "markdown",
   "metadata": {},
   "source": [
    "## Ensemble Methods\n",
    "**Output** - bagged_tree, forest, rf_tree_1\n",
    "\n",
    "Ran on ohe data  * **but not scaled** * data"
   ]
  },
  {
   "cell_type": "markdown",
   "metadata": {},
   "source": [
    "### Bagged Tree\n",
    "<pre>\n",
    "Precision Score: Train 0.70514, Test 0.68254\n",
    "Recall Score:    Train 0.34890, Test 0.33961\n",
    "Accuracy Score:  Train 0.82324, Test 0.82040\n",
    "F1 Score:        Train 0.46682, Test 0.45355\n",
    "</pre>"
   ]
  },
  {
   "cell_type": "code",
   "execution_count": null,
   "metadata": {},
   "outputs": [],
   "source": [
    "bagged_tree =  BaggingClassifier(DecisionTreeClassifier(criterion='gini', max_depth=5), n_estimators=20)\n",
    "\n",
    "run_model(bagged_tree, X_train_encoded, X_test_encoded, y_train_resampled, y_test)"
   ]
  },
  {
   "cell_type": "markdown",
   "metadata": {},
   "source": [
    "### Random Forest\n",
    "<pre>\n",
    "Precision Score: Train 0.72932, Test 0.70556\n",
    "Recall Score:    Train 0.23327, Test 0.23147\n",
    "Accuracy Score:  Train 0.81076, Test 0.81013\n",
    "F1 Score:        Train 0.35348, Test 0.34858\n",
    "</pre>"
   ]
  },
  {
   "cell_type": "code",
   "execution_count": null,
   "metadata": {},
   "outputs": [],
   "source": [
    "forest = RandomForestClassifier(n_estimators=100, max_depth= 5)\n",
    "\n",
    "run_model(forest, X_train_encoded, X_test_encoded, y_train_resampled, y_test)"
   ]
  },
  {
   "cell_type": "code",
   "execution_count": null,
   "metadata": {},
   "outputs": [],
   "source": [
    "plot_feature_importances(forest, X_train_encoded)"
   ]
  },
  {
   "cell_type": "code",
   "execution_count": null,
   "metadata": {},
   "outputs": [],
   "source": [
    "rf_tree_1 = forest.estimators_[0]\n",
    "plot_feature_importances(rf_tree_1, X_train_encoded)"
   ]
  },
  {
   "cell_type": "markdown",
   "metadata": {
    "heading_collapsed": true
   },
   "source": [
    "## Grid Search\n",
    "**Output** - gs_clf, gs_tree, gs_param_grid, dt_gs_training_score, dt_gs_testing_score, rf_clf, mean_rf_cv_score, rf_param_grid, rf_grid_search, dt_score, rf_score \n",
    "\n",
    "\n",
    "Ran on ohe data  * **but not scaled** * data"
   ]
  },
  {
   "cell_type": "markdown",
   "metadata": {
    "heading_collapsed": true,
    "hidden": true
   },
   "source": [
    "### Grid Search with Decision Tree\n",
    "Optimal criterion = 'entropy'  \n",
    "Optimal min_samples_split = 0.1  \n",
    "Optimal max_depth = 10    \n",
    "<pre>\n",
    "Precision Score: Train 0.69008, Test 0.67181\n",
    "Recall Score:    Train 0.30120, Test 0.29101\n",
    "Accuracy Score:  Train 0.81502, Test 0.81320\n",
    "F1 Score:        Train 0.41936, Test 0.40610\n",
    "</pre>"
   ]
  },
  {
   "cell_type": "code",
   "execution_count": null,
   "metadata": {
    "hidden": true
   },
   "outputs": [],
   "source": [
    "gs_clf = DecisionTreeClassifier()\n",
    "\n",
    "gs_param_grid = {\n",
    "    'criterion': ['gini', 'entropy'],\n",
    "    'max_depth': [2, 5, 10, 20],\n",
    "    'min_samples_split': [.1, .3, .7, .9]\n",
    "}\n",
    "\n",
    "gs_tree = GridSearchCV(gs_clf, gs_param_grid, cv=3, return_train_score=True)\n",
    "gs_tree.fit(X_train, y_train)\n",
    "\n",
    "# Mean training score\n",
    "dt_gs_training_score = np.mean(gs_tree.cv_results_['mean_train_score'])\n",
    "\n",
    "# Mean test score\n",
    "dt_gs_testing_score = gs_tree.score(X_test, y_test)\n",
    "\n",
    "print(f\"Mean Training Score: {dt_gs_training_score :.2%}\")\n",
    "print(f\"Mean Test Score: {dt_gs_testing_score :.2%}\")\n",
    "print(\"Best Parameter Combination Found During Grid Search:\")\n",
    "\n",
    "gs_tree.best_params_"
   ]
  },
  {
   "cell_type": "code",
   "execution_count": null,
   "metadata": {
    "hidden": true
   },
   "outputs": [],
   "source": [
    "print_metrics(gs_tree, X_train, X_test, y_train, y_test)"
   ]
  },
  {
   "cell_type": "markdown",
   "metadata": {
    "heading_collapsed": true,
    "hidden": true
   },
   "source": [
    "### Grid Search with Random Forest\n",
    "Optimal criterion = 'gini'  \n",
    "Optimal min_samples_split = 5\n",
    "Optimal min_samples_leaf = 3\n",
    "Optimal max_depth = 10    \n",
    "Optimal num_estimators = 100\n",
    "<pre>\n",
    "Precision Score: Train 0.77800, Test 0.67933\n",
    "Recall Score:    Train 0.39118, Test 0.34751\n",
    "Accuracy Score:  Train 0.84022, Test 0.82080\n",
    "F1 Score:        Train 0.52060, Test 0.45981\n",
    "</pre>"
   ]
  },
  {
   "cell_type": "code",
   "execution_count": null,
   "metadata": {
    "hidden": true
   },
   "outputs": [],
   "source": [
    "rf_clf = RandomForestClassifier()\n",
    "mean_rf_cv_score = np.mean(cross_val_score(rf_clf, X_train, y_train, cv=3))\n",
    "\n",
    "print(f\"Mean Cross Validation Score for Random Forest Classifier: {mean_rf_cv_score :.2%}\")"
   ]
  },
  {
   "cell_type": "code",
   "execution_count": null,
   "metadata": {
    "hidden": true
   },
   "outputs": [],
   "source": [
    "rf_param_grid = {\n",
    "    'n_estimators': [10, 30, 100],\n",
    "    'criterion': ['gini', 'entropy'],\n",
    "    'max_depth': [None, 2, 6, 10],\n",
    "    'min_samples_split': [5, 10],\n",
    "    'min_samples_leaf': [3, 6]\n",
    "}"
   ]
  },
  {
   "cell_type": "code",
   "execution_count": null,
   "metadata": {
    "hidden": true
   },
   "outputs": [],
   "source": [
    "rf_grid_search = GridSearchCV(rf_clf, rf_param_grid, cv=3)\n",
    "rf_grid_search.fit(X_train, y_train)\n",
    "\n",
    "print(f\"Training Accuracy: {rf_grid_search.best_score_ :.2%}\")\n",
    "print(\"\")\n",
    "print(f\"Optimal Parameters: {rf_grid_search.best_params_}\")"
   ]
  },
  {
   "cell_type": "code",
   "execution_count": null,
   "metadata": {
    "hidden": true
   },
   "outputs": [],
   "source": [
    "dt_score = gs_tree.score(X_test, y_test)\n",
    "rf_score = rf_grid_search.score(X_test, y_test)\n",
    "\n",
    "print('Decision tree grid search: ', dt_score)\n",
    "print('Random forest grid search: ', rf_score)"
   ]
  },
  {
   "cell_type": "code",
   "execution_count": null,
   "metadata": {
    "hidden": true
   },
   "outputs": [],
   "source": [
    "print_metrics(rf_grid_search, X_train, X_test, y_train, y_test)"
   ]
  },
  {
   "cell_type": "markdown",
   "metadata": {
    "heading_collapsed": true
   },
   "source": [
    "## Boosting Models\n",
    "**Output** - xgb_clf, grid_xgb, xgb_train_preds, xgb_test_preds, training_accuracy, test_accuracy, xgb_param_grid, grid_xgb_train_preds, grid_xgb_test_preds, xgb_best_parameters, adaboost_clf, gbt_clf\n",
    "\n",
    "Ran on ohe data  * **but not scaled** * data"
   ]
  },
  {
   "cell_type": "markdown",
   "metadata": {
    "heading_collapsed": true,
    "hidden": true
   },
   "source": [
    "### AdaBoost\n",
    "<pre>\n",
    "Precision Score: Train 0.68087, Test 0.69027\n",
    "Recall Score:    Train 0.33307, Test 0.33171\n",
    "Accuracy Score:  Train 0.81747, Test 0.82067\n",
    "F1 Score:        Train 0.44732, Test 0.44809\n",
    "</pre>"
   ]
  },
  {
   "cell_type": "code",
   "execution_count": null,
   "metadata": {
    "hidden": true
   },
   "outputs": [],
   "source": [
    "adaboost_clf = AdaBoostClassifier(random_state=42)\n",
    "adaboost_clf.fit(X_train, y_train)\n",
    "\n",
    "print_metrics(adaboost_clf, X_train, X_test, y_train, y_test)"
   ]
  },
  {
   "cell_type": "code",
   "execution_count": null,
   "metadata": {
    "hidden": true
   },
   "outputs": [],
   "source": [
    "print('Mean Adaboost Cross-Val Score (k=5):')\n",
    "print(cross_val_score(adaboost_clf, X, y, cv=5).mean())"
   ]
  },
  {
   "cell_type": "markdown",
   "metadata": {
    "heading_collapsed": true,
    "hidden": true
   },
   "source": [
    "### GradientBoost\n",
    "<pre>\n",
    "Precision Score: Train 0.70564, Test 0.67200\n",
    "Recall Score:    Train 0.37134, Test 0.35723\n",
    "Accuracy Score:  Train 0.82622, Test 0.82067\n",
    "F1 Score:        Train 0.48661, Test 0.46648\n",
    "</pre>"
   ]
  },
  {
   "cell_type": "code",
   "execution_count": null,
   "metadata": {
    "hidden": true
   },
   "outputs": [],
   "source": [
    "gbt_clf = GradientBoostingClassifier(random_state=42)\n",
    "gbt_clf.fit(X_train, y_train)\n",
    "\n",
    "\n",
    "print_metrics(gbt_clf, X_train, X_test, y_train, y_test)"
   ]
  },
  {
   "cell_type": "code",
   "execution_count": null,
   "metadata": {
    "hidden": true
   },
   "outputs": [],
   "source": [
    "print('Mean GBT Cross-Val Score (k=5):')\n",
    "print(cross_val_score(gbt_clf, X, y, cv=5).mean())"
   ]
  },
  {
   "cell_type": "markdown",
   "metadata": {
    "heading_collapsed": true,
    "hidden": true
   },
   "source": [
    "### Initial XGBoost\n",
    "<pre>\n",
    "Precision Score: Train 0.70337, Test 0.67795\n",
    "Recall Score:    Train 0.36353, Test 0.35298\n",
    "Accuracy Score:  Train 0.82484, Test 0.82120\n",
    "F1 Score:        Train 0.47932, Test 0.46424\n",
    "</pre>"
   ]
  },
  {
   "cell_type": "code",
   "execution_count": null,
   "metadata": {
    "hidden": true
   },
   "outputs": [],
   "source": [
    "xgb_clf = XGBClassifier()\n",
    "xgb_clf.fit(X_train, y_train)\n",
    "\n",
    "# Predict on training and test sets\n",
    "xgb_train_preds = xgb_clf.predict(X_train)\n",
    "xgb_test_preds = xgb_clf.predict(X_test)\n",
    "\n",
    "# Accuracy of training and test sets\n",
    "xgb_training_accuracy = accuracy_score(y_train, xgb_train_preds)\n",
    "xgb_test_accuracy = accuracy_score(y_test, xgb_test_preds)\n",
    "\n",
    "print('Training Accuracy: {:.4}%'.format(xgb_training_accuracy * 100))\n",
    "print('Validation accuracy: {:.4}%'.format(xgb_test_accuracy * 100))\n",
    "print('------------------')\n",
    "print_metrics(xgb_clf, X_train, X_test, y_train, y_test)"
   ]
  },
  {
   "cell_type": "markdown",
   "metadata": {
    "hidden": true
   },
   "source": [
    "### XGBoost with grid search\n",
    "Grid Search found the following optimal parameters:  \n",
    "learning_rate: 0.1  \n",
    "max_depth: 6  \n",
    "min_child_weight: 1  \n",
    "n_estimators: 100  \n",
    "subsample: 0.7  \n",
    "<pre>\n",
    "Precision Score: Train 0.79205, Test 0.65733\n",
    "Recall Score:    Train 0.43507, Test 0.35662\n",
    "Accuracy Score:  Train 0.84938, Test 0.81800\n",
    "F1 Score:        Train 0.56163, Test 0.46239\n",
    "</pre>"
   ]
  },
  {
   "cell_type": "code",
   "execution_count": null,
   "metadata": {
    "hidden": true
   },
   "outputs": [],
   "source": [
    "xgb_param_grid = {\n",
    "    'learning_rate': [0.1, 0.2],\n",
    "    'max_depth': [6],\n",
    "    'min_child_weight': [1, 2],\n",
    "    'subsample': [0.5, 0.7],\n",
    "    'n_estimators': [100],\n",
    "}"
   ]
  },
  {
   "cell_type": "code",
   "execution_count": null,
   "metadata": {
    "hidden": true
   },
   "outputs": [],
   "source": [
    "grid_xgb = GridSearchCV(xgb_clf, xgb_param_grid, scoring='accuracy', cv=None, n_jobs=1)\n",
    "grid_xgb.fit(X_train, y_train)\n",
    "\n",
    "xgb_best_parameters = grid_xgb.best_params_\n",
    "\n",
    "print('Grid Search found the following optimal parameters: ')\n",
    "for param_name in sorted(xgb_best_parameters.keys()):\n",
    "    print('%s: %r' % (param_name, xgb_best_parameters[param_name]))\n",
    "\n",
    "grid_xgb_train_preds = grid_xgb.predict(X_train)\n",
    "grid_xgb_test_preds = grid_xgb.predict(X_test)\n",
    "grid_xgb_training_accuracy = accuracy_score(y_train, grid_xgb_train_preds)\n",
    "grid_xgb_test_accuracy = accuracy_score(y_test, grid_xgb_test_preds)\n",
    "\n",
    "print('')\n",
    "print('Training Accuracy: {:.4}%'.format(grid_xgb_training_accuracy * 100))\n",
    "print('Validation accuracy: {:.4}%'.format(grid_xgb_test_accuracy * 100))"
   ]
  },
  {
   "cell_type": "code",
   "execution_count": null,
   "metadata": {
    "hidden": true
   },
   "outputs": [],
   "source": [
    "print_metrics(grid_xgb, X_train, X_test, y_train, y_test)"
   ]
  },
  {
   "cell_type": "markdown",
   "metadata": {
    "heading_collapsed": true
   },
   "source": [
    "## Support Vector Classification"
   ]
  },
  {
   "cell_type": "code",
   "execution_count": null,
   "metadata": {
    "hidden": true
   },
   "outputs": [],
   "source": [
    "from sklearn.svm import SVC  \n",
    "from time import time\n",
    "tic = time()\n",
    "svclassifier = SVC(kernel='rbf', C=1000)  \n",
    "svclassifier.fit(X_train, y_train) \n",
    "y_pred = svclassifier.predict(X_test)\n",
    "toc = time()\n",
    "print(\"run time is {} seconds\".format(toc-tic))"
   ]
  },
  {
   "cell_type": "code",
   "execution_count": null,
   "metadata": {
    "hidden": true
   },
   "outputs": [],
   "source": [
    "print_metrics(svclassifier, X_train, X_test, y_train, y_test)"
   ]
  },
  {
   "cell_type": "markdown",
   "metadata": {
    "heading_collapsed": true
   },
   "source": [
    "## Pipeline"
   ]
  },
  {
   "cell_type": "code",
   "execution_count": null,
   "metadata": {
    "hidden": true
   },
   "outputs": [],
   "source": [
    "from sklearn.pipeline import Pipeline\n",
    "scaled_pipeline_1 = Pipeline([('ss', StandardScaler()), \n",
    "                              ('svc', SVC(kernel='rbf', C=1000))])\n",
    "scaled_pipeline_1.fit(X_train, y_train)\n",
    "scaled_pipeline_1.score(X_test, y_test)"
   ]
  },
  {
   "cell_type": "code",
   "execution_count": null,
   "metadata": {
    "hidden": true
   },
   "outputs": [],
   "source": [
    "scaled_pipeline_2 = Pipeline([('ss', StandardScaler()), \n",
    "                              ('RF', RandomForestClassifier(random_state=123))])\n",
    "\n",
    "grid = [{'RF__max_depth': [4, 5], \n",
    "         'RF__min_samples_split': [5, 10], \n",
    "         'RF__min_samples_leaf': [3, 5]}]"
   ]
  },
  {
   "cell_type": "code",
   "execution_count": null,
   "metadata": {
    "hidden": true
   },
   "outputs": [],
   "source": [
    "gridsearch = GridSearchCV(estimator=scaled_pipeline_2, \n",
    "                          param_grid=grid, \n",
    "                          scoring='accuracy', \n",
    "                          cv=5)\n",
    "\n",
    "gridsearch.fit(X_train, y_train)\n",
    "gridsearch.score(X_test, y_test)"
   ]
  },
  {
   "cell_type": "code",
   "execution_count": null,
   "metadata": {
    "hidden": true
   },
   "outputs": [],
   "source": [
    "gridsearch.best_params_"
   ]
  },
  {
   "cell_type": "code",
   "execution_count": null,
   "metadata": {
    "hidden": true
   },
   "outputs": [],
   "source": [
    "scaled_pipeline_3 = Pipeline([('ss', StandardScaler()), \n",
    "                              ('RF', RandomForestClassifier(max_depth=5,\n",
    "                                                           min_samples_leaf=3,\n",
    "                                                           min_samples_split=5))])\n",
    "scaled_pipeline_3.fit(X_train, y_train)"
   ]
  },
  {
   "cell_type": "code",
   "execution_count": null,
   "metadata": {
    "hidden": true
   },
   "outputs": [],
   "source": [
    "print_metrics(scaled_pipeline_3, X_train, X_test, y_train, y_test)"
   ]
  },
  {
   "cell_type": "code",
   "execution_count": null,
   "metadata": {
    "hidden": true
   },
   "outputs": [],
   "source": [
    "scaled_pipeline_3['RF'].feature_importances_"
   ]
  }
 ],
 "metadata": {
  "kernelspec": {
   "display_name": "learn-env",
   "language": "python",
   "name": "learn-env"
  },
  "language_info": {
   "codemirror_mode": {
    "name": "ipython",
    "version": 3
   },
   "file_extension": ".py",
   "mimetype": "text/x-python",
   "name": "python",
   "nbconvert_exporter": "python",
   "pygments_lexer": "ipython3",
   "version": "3.8.5"
  },
  "toc": {
   "base_numbering": 1,
   "nav_menu": {},
   "number_sections": false,
   "sideBar": true,
   "skip_h1_title": false,
   "title_cell": "Table of Contents",
   "title_sidebar": "Contents",
   "toc_cell": false,
   "toc_position": {
    "height": "calc(100% - 180px)",
    "left": "10px",
    "top": "150px",
    "width": "296px"
   },
   "toc_section_display": true,
   "toc_window_display": true
  },
  "varInspector": {
   "cols": {
    "lenName": 16,
    "lenType": 16,
    "lenVar": 40
   },
   "kernels_config": {
    "python": {
     "delete_cmd_postfix": "",
     "delete_cmd_prefix": "del ",
     "library": "var_list.py",
     "varRefreshCmd": "print(var_dic_list())"
    },
    "r": {
     "delete_cmd_postfix": ") ",
     "delete_cmd_prefix": "rm(",
     "library": "var_list.r",
     "varRefreshCmd": "cat(var_dic_list()) "
    }
   },
   "types_to_exclude": [
    "module",
    "function",
    "builtin_function_or_method",
    "instance",
    "_Feature"
   ],
   "window_display": false
  }
 },
 "nbformat": 4,
 "nbformat_minor": 4
}
